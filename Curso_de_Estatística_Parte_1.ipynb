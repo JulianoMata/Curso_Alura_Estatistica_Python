{
  "cells": [
    {
      "cell_type": "markdown",
      "metadata": {
        "id": "view-in-github",
        "colab_type": "text"
      },
      "source": [
        "<a href=\"https://colab.research.google.com/github/JulianoMata/Curso_Alura_Estatistica_Python/blob/main/Curso_de_Estat%C3%ADstica_Parte_1.ipynb\" target=\"_parent\"><img src=\"https://colab.research.google.com/assets/colab-badge.svg\" alt=\"Open In Colab\"/></a>"
      ]
    },
    {
      "cell_type": "markdown",
      "metadata": {
        "id": "WvMflodMjQKe"
      },
      "source": [
        "***\n",
        "# <font color=green size=10>CURSO DE ESTATÍSTICA - PARTE 1</font>\n",
        "***"
      ]
    },
    {
      "cell_type": "markdown",
      "metadata": {
        "id": "cVgsZ_E3jQKg"
      },
      "source": [
        "# <font color=green>1 CONHECENDO OS DADOS</font>\n",
        "***"
      ]
    },
    {
      "cell_type": "markdown",
      "metadata": {
        "id": "TDjqYYNojQKh"
      },
      "source": [
        "## <font color=green>1.1 Dataset do projeto</font>\n",
        "***"
      ]
    },
    {
      "cell_type": "markdown",
      "metadata": {
        "id": "iN1gIbaKjQKh"
      },
      "source": [
        "### Pesquisa Nacional por Amostra de Domicílios - 2015\n",
        "\n",
        "A <b>Pesquisa Nacional por Amostra de Domicílios - PNAD</b> investiga anualmente, de forma permanente, características gerais da população, de educação, trabalho, rendimento e habitação e outras, com periodicidade variável, de acordo com as necessidades de informação para o país, como as características sobre migração, fecundidade, nupcialidade, saúde, segurança alimentar, entre outros temas. O levantamento dessas estatísticas constitui, ao longo dos 49 anos de realização da pesquisa, um importante instrumento para formulação, validação e avaliação de políticas orientadas para o desenvolvimento socioeconômico e a melhoria das condições de vida no Brasil."
      ]
    },
    {
      "cell_type": "markdown",
      "metadata": {
        "id": "U6V7br1RjQKi"
      },
      "source": [
        "### Fonte dos Dados\n",
        "\n",
        "https://ww2.ibge.gov.br/home/estatistica/populacao/trabalhoerendimento/pnad2015/microdados.shtm"
      ]
    },
    {
      "cell_type": "markdown",
      "metadata": {
        "id": "r0Fe_qnzjQKj"
      },
      "source": [
        "### Variáveis utilizadas\n",
        "\n",
        "> ### Renda\n",
        "> ***\n",
        "\n",
        "Rendimento mensal do trabalho principal para pessoas de 10 anos ou mais de idade.\n",
        "\n",
        "> ### Idade\n",
        "> ***\n",
        "\n",
        "Idade do morador na data de referência em anos.\n",
        "\n",
        "> ### Altura (elaboração própria)\n",
        "> ***\n",
        "\n",
        "Altura do morador em metros.\n",
        "\n",
        "> ### UF\n",
        "> ***\n",
        "\n",
        "|Código|Descrição|\n",
        "|---|---|\n",
        "|11|Rondônia|\n",
        "|12|Acre|\n",
        "|13|Amazonas|\n",
        "|14|Roraima|\n",
        "|15|Pará|\n",
        "|16|Amapá|\n",
        "|17|Tocantins|\n",
        "|21|Maranhão|\n",
        "|22|Piauí|\n",
        "|23|Ceará|\n",
        "|24|Rio Grande do Norte|\n",
        "|25|Paraíba|\n",
        "|26|Pernambuco|\n",
        "|27|Alagoas|\n",
        "|28|Sergipe|\n",
        "|29|Bahia|\n",
        "|31|Minas Gerais|\n",
        "|32|Espírito Santo|\n",
        "|33|Rio de Janeiro|\n",
        "|35|São Paulo|\n",
        "|41|Paraná|\n",
        "|42|Santa Catarina|\n",
        "|43|Rio Grande do Sul|\n",
        "|50|Mato Grosso do Sul|\n",
        "|51|Mato Grosso|\n",
        "|52|Goiás|\n",
        "|53|Distrito Federal|\n",
        "\n",
        "> ### Sexo\t\n",
        "> ***\n",
        "\n",
        "|Código|Descrição|\n",
        "|---|---|\n",
        "|0|Masculino|\n",
        "|1|Feminino|\n",
        "\n",
        "> ### Anos de Estudo\n",
        "> ***\n",
        "\n",
        "|Código|Descrição|\n",
        "|---|---|\n",
        "|1|Sem instrução e menos de 1 ano|\n",
        "|2|1 ano|\n",
        "|3|2 anos|\n",
        "|4|3 anos|\n",
        "|5|4 anos|\n",
        "|6|5 anos|\n",
        "|7|6 anos|\n",
        "|8|7 anos|\n",
        "|9|8 anos|\n",
        "|10|9 anos|\n",
        "|11|10 anos|\n",
        "|12|11 anos|\n",
        "|13|12 anos|\n",
        "|14|13 anos|\n",
        "|15|14 anos|\n",
        "|16|15 anos ou mais|\n",
        "|17|Não determinados| \n",
        "||Não aplicável|\n",
        "\n",
        "> ### Cor\n",
        "> ***\n",
        "\n",
        "|Código|Descrição|\n",
        "|---|---|\n",
        "|0|Indígena|\n",
        "|2|Branca|\n",
        "|4|Preta|\n",
        "|6|Amarela|\n",
        "|8|Parda|\n",
        "|9|Sem declaração|"
      ]
    },
    {
      "cell_type": "markdown",
      "metadata": {
        "id": "OK1IQH5cX7Gb"
      },
      "source": [
        "#### <font color='red'>Observação</font>\n",
        "***\n",
        "> Os seguintes tratamentos foram realizados nos dados originais:\n",
        "> 1. Foram eliminados os registros onde a <b>Renda</b> era inválida (999 999 999 999);\n",
        "> 2. Foram eliminados os registros onde a <b>Renda</b> era missing;\n",
        "> 3. Foram considerados somente os registros das <b>Pessoas de Referência</b> de cada domicílio (responsável pelo domicílio)."
      ]
    },
    {
      "cell_type": "markdown",
      "metadata": {
        "id": "8Rw70V6ojQKk"
      },
      "source": [
        "### Importando pandas e lendo o dataset do projeto\n",
        "\n",
        "https://pandas.pydata.org/"
      ]
    },
    {
      "cell_type": "code",
      "execution_count": 472,
      "metadata": {
        "id": "8QgOpE-wjQKl"
      },
      "outputs": [],
      "source": [
        "import pandas as pd\n",
        "import numpy as np\n",
        "import matplotlib.pyplot as plt\n",
        "import seaborn as sns\n",
        "import scipy as sp"
      ]
    },
    {
      "cell_type": "code",
      "execution_count": 473,
      "metadata": {
        "id": "ufRZ7TLwjQKo",
        "colab": {
          "base_uri": "https://localhost:8080/"
        },
        "outputId": "06cf2844-75a8-4f98-ca0d-824454b33a7a"
      },
      "outputs": [
        {
          "output_type": "stream",
          "name": "stdout",
          "text": [
            "Versão do pandas -> 1.3.5\n",
            "Versão do numpy -> 1.21.6\n",
            "Versão do seaborn -> 0.11.2\n",
            "Versão do scipy -> 1.4.1\n"
          ]
        }
      ],
      "source": [
        "#Verificando versão das bibliotecas\n",
        "print('Versão do pandas -> %s' % pd.__version__)\n",
        "print('Versão do numpy -> %s' % np.__version__)\n",
        "print('Versão do seaborn -> %s' % sns.__version__)\n",
        "print('Versão do scipy -> %s' % sp.__version__)"
      ]
    },
    {
      "cell_type": "code",
      "source": [
        "# Caso haja conflito instale a versão esta versão:\n",
        "# !pip install pandas == '0.21.0'"
      ],
      "metadata": {
        "id": "nkCHbFKOOClJ"
      },
      "execution_count": 474,
      "outputs": []
    },
    {
      "cell_type": "code",
      "source": [
        "dados = pd.set_option('max_rows', 100) # determina quantidade de linhas a ser exibida\n",
        "dados = pd.read_csv('dados.csv')"
      ],
      "metadata": {
        "id": "RrbSA65LRWOM"
      },
      "execution_count": 475,
      "outputs": []
    },
    {
      "cell_type": "code",
      "source": [
        "type(dados)"
      ],
      "metadata": {
        "id": "gxKQvHeuRkWc",
        "colab": {
          "base_uri": "https://localhost:8080/"
        },
        "outputId": "7ba28249-8c1e-463a-b4ee-b75ab13a40d7"
      },
      "execution_count": 476,
      "outputs": [
        {
          "output_type": "execute_result",
          "data": {
            "text/plain": [
              "pandas.core.frame.DataFrame"
            ]
          },
          "metadata": {},
          "execution_count": 476
        }
      ]
    },
    {
      "cell_type": "code",
      "source": [
        "dados.head()"
      ],
      "metadata": {
        "id": "hbKQqjNJRwJ4",
        "colab": {
          "base_uri": "https://localhost:8080/",
          "height": 206
        },
        "outputId": "c19c4e7d-0221-4509-a317-5bb4c952abe5"
      },
      "execution_count": 477,
      "outputs": [
        {
          "output_type": "execute_result",
          "data": {
            "text/plain": [
              "   UF  Sexo  Idade  Cor  Anos de Estudo  Renda    Altura\n",
              "0  11     0     23    8              12    800  1.603808\n",
              "1  11     1     23    2              12   1150  1.739790\n",
              "2  11     1     35    8              15    880  1.760444\n",
              "3  11     0     46    2               6   3500  1.783158\n",
              "4  11     1     47    8               9    150  1.690631"
            ],
            "text/html": [
              "\n",
              "  <div id=\"df-1d9adc2b-17ef-4581-8873-43c208de422f\">\n",
              "    <div class=\"colab-df-container\">\n",
              "      <div>\n",
              "<style scoped>\n",
              "    .dataframe tbody tr th:only-of-type {\n",
              "        vertical-align: middle;\n",
              "    }\n",
              "\n",
              "    .dataframe tbody tr th {\n",
              "        vertical-align: top;\n",
              "    }\n",
              "\n",
              "    .dataframe thead th {\n",
              "        text-align: right;\n",
              "    }\n",
              "</style>\n",
              "<table border=\"1\" class=\"dataframe\">\n",
              "  <thead>\n",
              "    <tr style=\"text-align: right;\">\n",
              "      <th></th>\n",
              "      <th>UF</th>\n",
              "      <th>Sexo</th>\n",
              "      <th>Idade</th>\n",
              "      <th>Cor</th>\n",
              "      <th>Anos de Estudo</th>\n",
              "      <th>Renda</th>\n",
              "      <th>Altura</th>\n",
              "    </tr>\n",
              "  </thead>\n",
              "  <tbody>\n",
              "    <tr>\n",
              "      <th>0</th>\n",
              "      <td>11</td>\n",
              "      <td>0</td>\n",
              "      <td>23</td>\n",
              "      <td>8</td>\n",
              "      <td>12</td>\n",
              "      <td>800</td>\n",
              "      <td>1.603808</td>\n",
              "    </tr>\n",
              "    <tr>\n",
              "      <th>1</th>\n",
              "      <td>11</td>\n",
              "      <td>1</td>\n",
              "      <td>23</td>\n",
              "      <td>2</td>\n",
              "      <td>12</td>\n",
              "      <td>1150</td>\n",
              "      <td>1.739790</td>\n",
              "    </tr>\n",
              "    <tr>\n",
              "      <th>2</th>\n",
              "      <td>11</td>\n",
              "      <td>1</td>\n",
              "      <td>35</td>\n",
              "      <td>8</td>\n",
              "      <td>15</td>\n",
              "      <td>880</td>\n",
              "      <td>1.760444</td>\n",
              "    </tr>\n",
              "    <tr>\n",
              "      <th>3</th>\n",
              "      <td>11</td>\n",
              "      <td>0</td>\n",
              "      <td>46</td>\n",
              "      <td>2</td>\n",
              "      <td>6</td>\n",
              "      <td>3500</td>\n",
              "      <td>1.783158</td>\n",
              "    </tr>\n",
              "    <tr>\n",
              "      <th>4</th>\n",
              "      <td>11</td>\n",
              "      <td>1</td>\n",
              "      <td>47</td>\n",
              "      <td>8</td>\n",
              "      <td>9</td>\n",
              "      <td>150</td>\n",
              "      <td>1.690631</td>\n",
              "    </tr>\n",
              "  </tbody>\n",
              "</table>\n",
              "</div>\n",
              "      <button class=\"colab-df-convert\" onclick=\"convertToInteractive('df-1d9adc2b-17ef-4581-8873-43c208de422f')\"\n",
              "              title=\"Convert this dataframe to an interactive table.\"\n",
              "              style=\"display:none;\">\n",
              "        \n",
              "  <svg xmlns=\"http://www.w3.org/2000/svg\" height=\"24px\"viewBox=\"0 0 24 24\"\n",
              "       width=\"24px\">\n",
              "    <path d=\"M0 0h24v24H0V0z\" fill=\"none\"/>\n",
              "    <path d=\"M18.56 5.44l.94 2.06.94-2.06 2.06-.94-2.06-.94-.94-2.06-.94 2.06-2.06.94zm-11 1L8.5 8.5l.94-2.06 2.06-.94-2.06-.94L8.5 2.5l-.94 2.06-2.06.94zm10 10l.94 2.06.94-2.06 2.06-.94-2.06-.94-.94-2.06-.94 2.06-2.06.94z\"/><path d=\"M17.41 7.96l-1.37-1.37c-.4-.4-.92-.59-1.43-.59-.52 0-1.04.2-1.43.59L10.3 9.45l-7.72 7.72c-.78.78-.78 2.05 0 2.83L4 21.41c.39.39.9.59 1.41.59.51 0 1.02-.2 1.41-.59l7.78-7.78 2.81-2.81c.8-.78.8-2.07 0-2.86zM5.41 20L4 18.59l7.72-7.72 1.47 1.35L5.41 20z\"/>\n",
              "  </svg>\n",
              "      </button>\n",
              "      \n",
              "  <style>\n",
              "    .colab-df-container {\n",
              "      display:flex;\n",
              "      flex-wrap:wrap;\n",
              "      gap: 12px;\n",
              "    }\n",
              "\n",
              "    .colab-df-convert {\n",
              "      background-color: #E8F0FE;\n",
              "      border: none;\n",
              "      border-radius: 50%;\n",
              "      cursor: pointer;\n",
              "      display: none;\n",
              "      fill: #1967D2;\n",
              "      height: 32px;\n",
              "      padding: 0 0 0 0;\n",
              "      width: 32px;\n",
              "    }\n",
              "\n",
              "    .colab-df-convert:hover {\n",
              "      background-color: #E2EBFA;\n",
              "      box-shadow: 0px 1px 2px rgba(60, 64, 67, 0.3), 0px 1px 3px 1px rgba(60, 64, 67, 0.15);\n",
              "      fill: #174EA6;\n",
              "    }\n",
              "\n",
              "    [theme=dark] .colab-df-convert {\n",
              "      background-color: #3B4455;\n",
              "      fill: #D2E3FC;\n",
              "    }\n",
              "\n",
              "    [theme=dark] .colab-df-convert:hover {\n",
              "      background-color: #434B5C;\n",
              "      box-shadow: 0px 1px 3px 1px rgba(0, 0, 0, 0.15);\n",
              "      filter: drop-shadow(0px 1px 2px rgba(0, 0, 0, 0.3));\n",
              "      fill: #FFFFFF;\n",
              "    }\n",
              "  </style>\n",
              "\n",
              "      <script>\n",
              "        const buttonEl =\n",
              "          document.querySelector('#df-1d9adc2b-17ef-4581-8873-43c208de422f button.colab-df-convert');\n",
              "        buttonEl.style.display =\n",
              "          google.colab.kernel.accessAllowed ? 'block' : 'none';\n",
              "\n",
              "        async function convertToInteractive(key) {\n",
              "          const element = document.querySelector('#df-1d9adc2b-17ef-4581-8873-43c208de422f');\n",
              "          const dataTable =\n",
              "            await google.colab.kernel.invokeFunction('convertToInteractive',\n",
              "                                                     [key], {});\n",
              "          if (!dataTable) return;\n",
              "\n",
              "          const docLinkHtml = 'Like what you see? Visit the ' +\n",
              "            '<a target=\"_blank\" href=https://colab.research.google.com/notebooks/data_table.ipynb>data table notebook</a>'\n",
              "            + ' to learn more about interactive tables.';\n",
              "          element.innerHTML = '';\n",
              "          dataTable['output_type'] = 'display_data';\n",
              "          await google.colab.output.renderOutput(dataTable, element);\n",
              "          const docLink = document.createElement('div');\n",
              "          docLink.innerHTML = docLinkHtml;\n",
              "          element.appendChild(docLink);\n",
              "        }\n",
              "      </script>\n",
              "    </div>\n",
              "  </div>\n",
              "  "
            ]
          },
          "metadata": {},
          "execution_count": 477
        }
      ]
    },
    {
      "cell_type": "markdown",
      "metadata": {
        "id": "E3Mx0tVqjQKs"
      },
      "source": [
        "## <font color=green>1.2 Tipos de dados</font>\n",
        "***"
      ]
    },
    {
      "cell_type": "markdown",
      "metadata": {
        "id": "oB4TCBFojQKt"
      },
      "source": [
        "### Variáveis qualitativas ordinais\n",
        "\n",
        "► Variáveis que podem ser ordenadas ou hierarquizardas"
      ]
    },
    {
      "cell_type": "code",
      "execution_count": 478,
      "metadata": {
        "id": "NtQZNGNbjQKt",
        "colab": {
          "base_uri": "https://localhost:8080/"
        },
        "outputId": "ba9a38d4-d665-484e-8be6-560a291a3aa0"
      },
      "outputs": [
        {
          "output_type": "execute_result",
          "data": {
            "text/plain": [
              "[1, 2, 3, 4, 5, 6, 7, 8, 9, 10, 11, 12, 13, 14, 15, 16, 17]"
            ]
          },
          "metadata": {},
          "execution_count": 478
        }
      ],
      "source": [
        "sorted(dados['Anos de Estudo'].unique())"
      ]
    },
    {
      "cell_type": "markdown",
      "metadata": {
        "id": "i2mCIMyojQKv"
      },
      "source": [
        "### Variáveis qualitativas nominais\n",
        "\n",
        "► Variáveis que não podem ser ordenadas ou hierarquizardas"
      ]
    },
    {
      "cell_type": "code",
      "execution_count": 479,
      "metadata": {
        "id": "NODtY5IxjQKw",
        "scrolled": true,
        "colab": {
          "base_uri": "https://localhost:8080/"
        },
        "outputId": "24454c33-c5d7-4cb5-e10f-b3be740f62cb"
      },
      "outputs": [
        {
          "output_type": "execute_result",
          "data": {
            "text/plain": [
              "[11,\n",
              " 12,\n",
              " 13,\n",
              " 14,\n",
              " 15,\n",
              " 16,\n",
              " 17,\n",
              " 21,\n",
              " 22,\n",
              " 23,\n",
              " 24,\n",
              " 25,\n",
              " 26,\n",
              " 27,\n",
              " 28,\n",
              " 29,\n",
              " 31,\n",
              " 32,\n",
              " 33,\n",
              " 35,\n",
              " 41,\n",
              " 42,\n",
              " 43,\n",
              " 50,\n",
              " 51,\n",
              " 52,\n",
              " 53]"
            ]
          },
          "metadata": {},
          "execution_count": 479
        }
      ],
      "source": [
        "sorted(dados['UF'].unique())"
      ]
    },
    {
      "cell_type": "code",
      "execution_count": 480,
      "metadata": {
        "id": "NURfft2QjQKy",
        "colab": {
          "base_uri": "https://localhost:8080/"
        },
        "outputId": "9c5c4238-603c-4f9f-ba79-ef8465adbec9"
      },
      "outputs": [
        {
          "output_type": "execute_result",
          "data": {
            "text/plain": [
              "[0, 1]"
            ]
          },
          "metadata": {},
          "execution_count": 480
        }
      ],
      "source": [
        "sorted(dados['Sexo'].unique())"
      ]
    },
    {
      "cell_type": "code",
      "execution_count": 481,
      "metadata": {
        "id": "6VwGyqxMjQK1",
        "colab": {
          "base_uri": "https://localhost:8080/"
        },
        "outputId": "d18b2163-851f-441d-c364-7564e8a64906"
      },
      "outputs": [
        {
          "output_type": "execute_result",
          "data": {
            "text/plain": [
              "[0, 2, 4, 6, 8]"
            ]
          },
          "metadata": {},
          "execution_count": 481
        }
      ],
      "source": [
        "sorted(dados['Cor'].unique())"
      ]
    },
    {
      "cell_type": "markdown",
      "metadata": {
        "id": "FQhi81LsjQK5"
      },
      "source": [
        "### Variáveis quantitativas discretas\n",
        "\n",
        "► Variáveis que representam uma contagem onde os valores possíveis formam um conjunto finito ou enumerável."
      ]
    },
    {
      "cell_type": "code",
      "execution_count": 482,
      "metadata": {
        "id": "sr4JXeZkjQK5",
        "colab": {
          "base_uri": "https://localhost:8080/"
        },
        "outputId": "6ebe7452-5aec-4008-ca10-527b9719849c"
      },
      "outputs": [
        {
          "output_type": "stream",
          "name": "stdout",
          "text": [
            "De 13 até 99 anos\n"
          ]
        }
      ],
      "source": [
        "print('De %s até %s anos' % (dados.Idade.min(), dados.Idade.max()))"
      ]
    },
    {
      "cell_type": "code",
      "source": [
        "# Outra forma de printar\n",
        "print(f\"De {dados['Idade'].min()} até {dados['Idade'].max()} metros\")"
      ],
      "metadata": {
        "id": "PMEQoCdsiHsj",
        "colab": {
          "base_uri": "https://localhost:8080/"
        },
        "outputId": "f6a59be3-731f-4eb9-e7fd-22f2bde73be5"
      },
      "execution_count": 483,
      "outputs": [
        {
          "output_type": "stream",
          "name": "stdout",
          "text": [
            "De 13 até 99 metros\n"
          ]
        }
      ]
    },
    {
      "cell_type": "markdown",
      "metadata": {
        "id": "7mMXLTukjQK-"
      },
      "source": [
        "#### <font color='red'>Observação</font>\n",
        "***\n",
        "> A variável idade pode ser classificada de três formas distintas:\n",
        "> 1. <b>QUANTITATIVA DISCRETA</b> - quando representa anos completos (números inteiros);\n",
        "> 2. <b>QUANTITATIVA CONTÍNUA</b> - quando representa a idade exata, sendo representado por frações de anos; e\n",
        "> 3. <b>QUALITATIVA ORDINAL</b> - quando representa faixas de idade."
      ]
    },
    {
      "cell_type": "markdown",
      "metadata": {
        "id": "J0L2OkaQjQK7"
      },
      "source": [
        "### Variáveis quantitativas contínuas\n",
        "\n",
        "► Variáveis que representam uma contagem ou mensuração que assumem valores em uma escala contínua (números reais)."
      ]
    },
    {
      "cell_type": "code",
      "execution_count": 484,
      "metadata": {
        "id": "jOW-bGyRjQK8",
        "colab": {
          "base_uri": "https://localhost:8080/"
        },
        "outputId": "1b346a54-e249-45f3-fcae-7740ce4f7e80"
      },
      "outputs": [
        {
          "output_type": "stream",
          "name": "stdout",
          "text": [
            "De 1.339244614 até 2.028496765 metros\n"
          ]
        }
      ],
      "source": [
        "print('De %s até %s metros' % (dados['Altura'].min(), dados['Altura'].max()))"
      ]
    },
    {
      "cell_type": "code",
      "source": [
        "# Outra forma de printar\n",
        "print(f\"De {dados['Altura'].min()} até {dados['Altura'].max()} metros\")"
      ],
      "metadata": {
        "id": "NHr9JYELhMLE",
        "colab": {
          "base_uri": "https://localhost:8080/"
        },
        "outputId": "b664ee4f-170e-454b-90fd-f0fcc187d3c7"
      },
      "execution_count": 485,
      "outputs": [
        {
          "output_type": "stream",
          "name": "stdout",
          "text": [
            "De 1.339244614 até 2.028496765 metros\n"
          ]
        }
      ]
    },
    {
      "cell_type": "markdown",
      "metadata": {
        "id": "d_LW5gMIjQK_"
      },
      "source": [
        "### Classificação de uma variável\n",
        "<img src='https://caelum-online-public.s3.amazonaws.com/1177-estatistica-parte1/01/img001.png' width='70%'>"
      ]
    },
    {
      "cell_type": "markdown",
      "metadata": {
        "id": "PNIg_4VEjQK_"
      },
      "source": [
        "# <font color=green>2 DISTRIBUIÇÃO DE FREQUÊNCIAS</font>\n",
        "***\n",
        "\n",
        "O primeiro passo em um trabalho de análise é o conhecimento do comportamento das variáveis envolvidas no estudo. Utilizando técnicas estatísticas como as análises das <b>DISTRIBUIÇÕES DE FREQUÊNCIAS</b> e <b>HISTOGRAMAS</b> podemos avaliar melhor a forma como os fenômenos em estudo se distribuem."
      ]
    },
    {
      "cell_type": "markdown",
      "metadata": {
        "id": "JhpyjkEFjQLA"
      },
      "source": [
        "## <font color=green>2.1 Distribuição de frequências para variáveis qualitativas</font>\n",
        "***"
      ]
    },
    {
      "cell_type": "markdown",
      "metadata": {
        "id": "SsN3ikjqjQLB"
      },
      "source": [
        "### Método 1"
      ]
    },
    {
      "cell_type": "markdown",
      "metadata": {
        "id": "dj_v0M44X7G3"
      },
      "source": [
        "https://pandas.pydata.org/pandas-docs/version/0.22/generated/pandas.Series.value_counts.html"
      ]
    },
    {
      "cell_type": "code",
      "execution_count": 486,
      "metadata": {
        "id": "cA4gUboZjQLB",
        "colab": {
          "base_uri": "https://localhost:8080/"
        },
        "outputId": "bd04df04-9685-42f3-cdd8-54598318285f"
      },
      "outputs": [
        {
          "output_type": "execute_result",
          "data": {
            "text/plain": [
              "0    53250\n",
              "1    23590\n",
              "Name: Sexo, dtype: int64"
            ]
          },
          "metadata": {},
          "execution_count": 486
        }
      ],
      "source": [
        "dados['Sexo'].value_counts()"
      ]
    },
    {
      "cell_type": "code",
      "execution_count": 487,
      "metadata": {
        "id": "iy4-ijknjQLD",
        "colab": {
          "base_uri": "https://localhost:8080/"
        },
        "outputId": "48c7ec66-f29b-44b4-cb83-15ddeb9f943d"
      },
      "outputs": [
        {
          "output_type": "execute_result",
          "data": {
            "text/plain": [
              "0    69.299844\n",
              "1    30.700156\n",
              "Name: Sexo, dtype: float64"
            ]
          },
          "metadata": {},
          "execution_count": 487
        }
      ],
      "source": [
        "dados['Sexo'].value_counts(normalize = True) * 100"
      ]
    },
    {
      "cell_type": "code",
      "execution_count": 488,
      "metadata": {
        "id": "qfkiLcFijQLG"
      },
      "outputs": [],
      "source": [
        "frequencia = dados['Sexo'].value_counts()"
      ]
    },
    {
      "cell_type": "code",
      "execution_count": 489,
      "metadata": {
        "id": "t4uFMt6fjQLI"
      },
      "outputs": [],
      "source": [
        "percentual = dados['Sexo'].value_counts(normalize = True) * 100"
      ]
    },
    {
      "cell_type": "code",
      "execution_count": 490,
      "metadata": {
        "id": "zUGfju86jQLM",
        "colab": {
          "base_uri": "https://localhost:8080/",
          "height": 112
        },
        "outputId": "8c50f3e4-d71d-4621-b5ab-ca03ff86d59d"
      },
      "outputs": [
        {
          "output_type": "execute_result",
          "data": {
            "text/plain": [
              "   Frequência  Porcentagem (%)\n",
              "0       53250        69.299844\n",
              "1       23590        30.700156"
            ],
            "text/html": [
              "\n",
              "  <div id=\"df-ac063d25-8c2c-4f98-8dfa-70b02cc8c4b3\">\n",
              "    <div class=\"colab-df-container\">\n",
              "      <div>\n",
              "<style scoped>\n",
              "    .dataframe tbody tr th:only-of-type {\n",
              "        vertical-align: middle;\n",
              "    }\n",
              "\n",
              "    .dataframe tbody tr th {\n",
              "        vertical-align: top;\n",
              "    }\n",
              "\n",
              "    .dataframe thead th {\n",
              "        text-align: right;\n",
              "    }\n",
              "</style>\n",
              "<table border=\"1\" class=\"dataframe\">\n",
              "  <thead>\n",
              "    <tr style=\"text-align: right;\">\n",
              "      <th></th>\n",
              "      <th>Frequência</th>\n",
              "      <th>Porcentagem (%)</th>\n",
              "    </tr>\n",
              "  </thead>\n",
              "  <tbody>\n",
              "    <tr>\n",
              "      <th>0</th>\n",
              "      <td>53250</td>\n",
              "      <td>69.299844</td>\n",
              "    </tr>\n",
              "    <tr>\n",
              "      <th>1</th>\n",
              "      <td>23590</td>\n",
              "      <td>30.700156</td>\n",
              "    </tr>\n",
              "  </tbody>\n",
              "</table>\n",
              "</div>\n",
              "      <button class=\"colab-df-convert\" onclick=\"convertToInteractive('df-ac063d25-8c2c-4f98-8dfa-70b02cc8c4b3')\"\n",
              "              title=\"Convert this dataframe to an interactive table.\"\n",
              "              style=\"display:none;\">\n",
              "        \n",
              "  <svg xmlns=\"http://www.w3.org/2000/svg\" height=\"24px\"viewBox=\"0 0 24 24\"\n",
              "       width=\"24px\">\n",
              "    <path d=\"M0 0h24v24H0V0z\" fill=\"none\"/>\n",
              "    <path d=\"M18.56 5.44l.94 2.06.94-2.06 2.06-.94-2.06-.94-.94-2.06-.94 2.06-2.06.94zm-11 1L8.5 8.5l.94-2.06 2.06-.94-2.06-.94L8.5 2.5l-.94 2.06-2.06.94zm10 10l.94 2.06.94-2.06 2.06-.94-2.06-.94-.94-2.06-.94 2.06-2.06.94z\"/><path d=\"M17.41 7.96l-1.37-1.37c-.4-.4-.92-.59-1.43-.59-.52 0-1.04.2-1.43.59L10.3 9.45l-7.72 7.72c-.78.78-.78 2.05 0 2.83L4 21.41c.39.39.9.59 1.41.59.51 0 1.02-.2 1.41-.59l7.78-7.78 2.81-2.81c.8-.78.8-2.07 0-2.86zM5.41 20L4 18.59l7.72-7.72 1.47 1.35L5.41 20z\"/>\n",
              "  </svg>\n",
              "      </button>\n",
              "      \n",
              "  <style>\n",
              "    .colab-df-container {\n",
              "      display:flex;\n",
              "      flex-wrap:wrap;\n",
              "      gap: 12px;\n",
              "    }\n",
              "\n",
              "    .colab-df-convert {\n",
              "      background-color: #E8F0FE;\n",
              "      border: none;\n",
              "      border-radius: 50%;\n",
              "      cursor: pointer;\n",
              "      display: none;\n",
              "      fill: #1967D2;\n",
              "      height: 32px;\n",
              "      padding: 0 0 0 0;\n",
              "      width: 32px;\n",
              "    }\n",
              "\n",
              "    .colab-df-convert:hover {\n",
              "      background-color: #E2EBFA;\n",
              "      box-shadow: 0px 1px 2px rgba(60, 64, 67, 0.3), 0px 1px 3px 1px rgba(60, 64, 67, 0.15);\n",
              "      fill: #174EA6;\n",
              "    }\n",
              "\n",
              "    [theme=dark] .colab-df-convert {\n",
              "      background-color: #3B4455;\n",
              "      fill: #D2E3FC;\n",
              "    }\n",
              "\n",
              "    [theme=dark] .colab-df-convert:hover {\n",
              "      background-color: #434B5C;\n",
              "      box-shadow: 0px 1px 3px 1px rgba(0, 0, 0, 0.15);\n",
              "      filter: drop-shadow(0px 1px 2px rgba(0, 0, 0, 0.3));\n",
              "      fill: #FFFFFF;\n",
              "    }\n",
              "  </style>\n",
              "\n",
              "      <script>\n",
              "        const buttonEl =\n",
              "          document.querySelector('#df-ac063d25-8c2c-4f98-8dfa-70b02cc8c4b3 button.colab-df-convert');\n",
              "        buttonEl.style.display =\n",
              "          google.colab.kernel.accessAllowed ? 'block' : 'none';\n",
              "\n",
              "        async function convertToInteractive(key) {\n",
              "          const element = document.querySelector('#df-ac063d25-8c2c-4f98-8dfa-70b02cc8c4b3');\n",
              "          const dataTable =\n",
              "            await google.colab.kernel.invokeFunction('convertToInteractive',\n",
              "                                                     [key], {});\n",
              "          if (!dataTable) return;\n",
              "\n",
              "          const docLinkHtml = 'Like what you see? Visit the ' +\n",
              "            '<a target=\"_blank\" href=https://colab.research.google.com/notebooks/data_table.ipynb>data table notebook</a>'\n",
              "            + ' to learn more about interactive tables.';\n",
              "          element.innerHTML = '';\n",
              "          dataTable['output_type'] = 'display_data';\n",
              "          await google.colab.output.renderOutput(dataTable, element);\n",
              "          const docLink = document.createElement('div');\n",
              "          docLink.innerHTML = docLinkHtml;\n",
              "          element.appendChild(docLink);\n",
              "        }\n",
              "      </script>\n",
              "    </div>\n",
              "  </div>\n",
              "  "
            ]
          },
          "metadata": {},
          "execution_count": 490
        }
      ],
      "source": [
        "dist_freq_qualitativas = pd.DataFrame({'Frequência' : frequencia, 'Porcentagem (%)' : percentual})\n",
        "dist_freq_qualitativas"
      ]
    },
    {
      "cell_type": "code",
      "execution_count": 491,
      "metadata": {
        "id": "kPOYfijijQLO"
      },
      "outputs": [],
      "source": [
        "dist_freq_qualitativas.rename(index = {0: 'Masculino', 1: 'Feminino'}, inplace = True)\n",
        "dist_freq_qualitativas.rename_axis('Sexo', axis = 'columns', inplace = True)"
      ]
    },
    {
      "cell_type": "code",
      "execution_count": 492,
      "metadata": {
        "id": "tMS-VSk3jQLQ",
        "colab": {
          "base_uri": "https://localhost:8080/",
          "height": 112
        },
        "outputId": "be147e85-997c-4331-9843-e570c5996449"
      },
      "outputs": [
        {
          "output_type": "execute_result",
          "data": {
            "text/plain": [
              "Sexo       Frequência  Porcentagem (%)\n",
              "Masculino       53250        69.299844\n",
              "Feminino        23590        30.700156"
            ],
            "text/html": [
              "\n",
              "  <div id=\"df-c7ef4d80-1bc7-455d-ac0b-a2b630de235c\">\n",
              "    <div class=\"colab-df-container\">\n",
              "      <div>\n",
              "<style scoped>\n",
              "    .dataframe tbody tr th:only-of-type {\n",
              "        vertical-align: middle;\n",
              "    }\n",
              "\n",
              "    .dataframe tbody tr th {\n",
              "        vertical-align: top;\n",
              "    }\n",
              "\n",
              "    .dataframe thead th {\n",
              "        text-align: right;\n",
              "    }\n",
              "</style>\n",
              "<table border=\"1\" class=\"dataframe\">\n",
              "  <thead>\n",
              "    <tr style=\"text-align: right;\">\n",
              "      <th>Sexo</th>\n",
              "      <th>Frequência</th>\n",
              "      <th>Porcentagem (%)</th>\n",
              "    </tr>\n",
              "  </thead>\n",
              "  <tbody>\n",
              "    <tr>\n",
              "      <th>Masculino</th>\n",
              "      <td>53250</td>\n",
              "      <td>69.299844</td>\n",
              "    </tr>\n",
              "    <tr>\n",
              "      <th>Feminino</th>\n",
              "      <td>23590</td>\n",
              "      <td>30.700156</td>\n",
              "    </tr>\n",
              "  </tbody>\n",
              "</table>\n",
              "</div>\n",
              "      <button class=\"colab-df-convert\" onclick=\"convertToInteractive('df-c7ef4d80-1bc7-455d-ac0b-a2b630de235c')\"\n",
              "              title=\"Convert this dataframe to an interactive table.\"\n",
              "              style=\"display:none;\">\n",
              "        \n",
              "  <svg xmlns=\"http://www.w3.org/2000/svg\" height=\"24px\"viewBox=\"0 0 24 24\"\n",
              "       width=\"24px\">\n",
              "    <path d=\"M0 0h24v24H0V0z\" fill=\"none\"/>\n",
              "    <path d=\"M18.56 5.44l.94 2.06.94-2.06 2.06-.94-2.06-.94-.94-2.06-.94 2.06-2.06.94zm-11 1L8.5 8.5l.94-2.06 2.06-.94-2.06-.94L8.5 2.5l-.94 2.06-2.06.94zm10 10l.94 2.06.94-2.06 2.06-.94-2.06-.94-.94-2.06-.94 2.06-2.06.94z\"/><path d=\"M17.41 7.96l-1.37-1.37c-.4-.4-.92-.59-1.43-.59-.52 0-1.04.2-1.43.59L10.3 9.45l-7.72 7.72c-.78.78-.78 2.05 0 2.83L4 21.41c.39.39.9.59 1.41.59.51 0 1.02-.2 1.41-.59l7.78-7.78 2.81-2.81c.8-.78.8-2.07 0-2.86zM5.41 20L4 18.59l7.72-7.72 1.47 1.35L5.41 20z\"/>\n",
              "  </svg>\n",
              "      </button>\n",
              "      \n",
              "  <style>\n",
              "    .colab-df-container {\n",
              "      display:flex;\n",
              "      flex-wrap:wrap;\n",
              "      gap: 12px;\n",
              "    }\n",
              "\n",
              "    .colab-df-convert {\n",
              "      background-color: #E8F0FE;\n",
              "      border: none;\n",
              "      border-radius: 50%;\n",
              "      cursor: pointer;\n",
              "      display: none;\n",
              "      fill: #1967D2;\n",
              "      height: 32px;\n",
              "      padding: 0 0 0 0;\n",
              "      width: 32px;\n",
              "    }\n",
              "\n",
              "    .colab-df-convert:hover {\n",
              "      background-color: #E2EBFA;\n",
              "      box-shadow: 0px 1px 2px rgba(60, 64, 67, 0.3), 0px 1px 3px 1px rgba(60, 64, 67, 0.15);\n",
              "      fill: #174EA6;\n",
              "    }\n",
              "\n",
              "    [theme=dark] .colab-df-convert {\n",
              "      background-color: #3B4455;\n",
              "      fill: #D2E3FC;\n",
              "    }\n",
              "\n",
              "    [theme=dark] .colab-df-convert:hover {\n",
              "      background-color: #434B5C;\n",
              "      box-shadow: 0px 1px 3px 1px rgba(0, 0, 0, 0.15);\n",
              "      filter: drop-shadow(0px 1px 2px rgba(0, 0, 0, 0.3));\n",
              "      fill: #FFFFFF;\n",
              "    }\n",
              "  </style>\n",
              "\n",
              "      <script>\n",
              "        const buttonEl =\n",
              "          document.querySelector('#df-c7ef4d80-1bc7-455d-ac0b-a2b630de235c button.colab-df-convert');\n",
              "        buttonEl.style.display =\n",
              "          google.colab.kernel.accessAllowed ? 'block' : 'none';\n",
              "\n",
              "        async function convertToInteractive(key) {\n",
              "          const element = document.querySelector('#df-c7ef4d80-1bc7-455d-ac0b-a2b630de235c');\n",
              "          const dataTable =\n",
              "            await google.colab.kernel.invokeFunction('convertToInteractive',\n",
              "                                                     [key], {});\n",
              "          if (!dataTable) return;\n",
              "\n",
              "          const docLinkHtml = 'Like what you see? Visit the ' +\n",
              "            '<a target=\"_blank\" href=https://colab.research.google.com/notebooks/data_table.ipynb>data table notebook</a>'\n",
              "            + ' to learn more about interactive tables.';\n",
              "          element.innerHTML = '';\n",
              "          dataTable['output_type'] = 'display_data';\n",
              "          await google.colab.output.renderOutput(dataTable, element);\n",
              "          const docLink = document.createElement('div');\n",
              "          docLink.innerHTML = docLinkHtml;\n",
              "          element.appendChild(docLink);\n",
              "        }\n",
              "      </script>\n",
              "    </div>\n",
              "  </div>\n",
              "  "
            ]
          },
          "metadata": {},
          "execution_count": 492
        }
      ],
      "source": [
        "dist_freq_qualitativas"
      ]
    },
    {
      "cell_type": "markdown",
      "metadata": {
        "id": "D82ocp_djQLR"
      },
      "source": [
        "### Método 2"
      ]
    },
    {
      "cell_type": "markdown",
      "metadata": {
        "id": "rLbfeA_UX7HF"
      },
      "source": [
        "https://pandas.pydata.org/pandas-docs/version/0.22/generated/pandas.crosstab.html"
      ]
    },
    {
      "cell_type": "code",
      "execution_count": 493,
      "metadata": {
        "id": "d8XMZiEfjQLS"
      },
      "outputs": [],
      "source": [
        "sexo = {0: 'Masculino',\n",
        "        1: 'Feminino'}\n",
        "\n",
        "cor = {0: 'Indígena',\n",
        "        2: 'Branca',\n",
        "        4: 'Preta',\n",
        "        6: 'Amarela',\n",
        "        8: 'Parda',\n",
        "        9: 'Sem declaração'}"
      ]
    },
    {
      "cell_type": "code",
      "execution_count": 494,
      "metadata": {
        "id": "YLCyOKYcjQLU",
        "colab": {
          "base_uri": "https://localhost:8080/",
          "height": 143
        },
        "outputId": "d2494072-c10d-44d4-ac99-5c6aed83fc81"
      },
      "outputs": [
        {
          "output_type": "execute_result",
          "data": {
            "text/plain": [
              "Cor        Indígena  Branca  Preta  Amarela  Parda\n",
              "Sexo                                              \n",
              "Masculino       256   22194   5502      235  25063\n",
              "Feminino        101    9621   2889      117  10862"
            ],
            "text/html": [
              "\n",
              "  <div id=\"df-84d5d6fe-85b5-481f-8536-f577eab47eaa\">\n",
              "    <div class=\"colab-df-container\">\n",
              "      <div>\n",
              "<style scoped>\n",
              "    .dataframe tbody tr th:only-of-type {\n",
              "        vertical-align: middle;\n",
              "    }\n",
              "\n",
              "    .dataframe tbody tr th {\n",
              "        vertical-align: top;\n",
              "    }\n",
              "\n",
              "    .dataframe thead th {\n",
              "        text-align: right;\n",
              "    }\n",
              "</style>\n",
              "<table border=\"1\" class=\"dataframe\">\n",
              "  <thead>\n",
              "    <tr style=\"text-align: right;\">\n",
              "      <th>Cor</th>\n",
              "      <th>Indígena</th>\n",
              "      <th>Branca</th>\n",
              "      <th>Preta</th>\n",
              "      <th>Amarela</th>\n",
              "      <th>Parda</th>\n",
              "    </tr>\n",
              "    <tr>\n",
              "      <th>Sexo</th>\n",
              "      <th></th>\n",
              "      <th></th>\n",
              "      <th></th>\n",
              "      <th></th>\n",
              "      <th></th>\n",
              "    </tr>\n",
              "  </thead>\n",
              "  <tbody>\n",
              "    <tr>\n",
              "      <th>Masculino</th>\n",
              "      <td>256</td>\n",
              "      <td>22194</td>\n",
              "      <td>5502</td>\n",
              "      <td>235</td>\n",
              "      <td>25063</td>\n",
              "    </tr>\n",
              "    <tr>\n",
              "      <th>Feminino</th>\n",
              "      <td>101</td>\n",
              "      <td>9621</td>\n",
              "      <td>2889</td>\n",
              "      <td>117</td>\n",
              "      <td>10862</td>\n",
              "    </tr>\n",
              "  </tbody>\n",
              "</table>\n",
              "</div>\n",
              "      <button class=\"colab-df-convert\" onclick=\"convertToInteractive('df-84d5d6fe-85b5-481f-8536-f577eab47eaa')\"\n",
              "              title=\"Convert this dataframe to an interactive table.\"\n",
              "              style=\"display:none;\">\n",
              "        \n",
              "  <svg xmlns=\"http://www.w3.org/2000/svg\" height=\"24px\"viewBox=\"0 0 24 24\"\n",
              "       width=\"24px\">\n",
              "    <path d=\"M0 0h24v24H0V0z\" fill=\"none\"/>\n",
              "    <path d=\"M18.56 5.44l.94 2.06.94-2.06 2.06-.94-2.06-.94-.94-2.06-.94 2.06-2.06.94zm-11 1L8.5 8.5l.94-2.06 2.06-.94-2.06-.94L8.5 2.5l-.94 2.06-2.06.94zm10 10l.94 2.06.94-2.06 2.06-.94-2.06-.94-.94-2.06-.94 2.06-2.06.94z\"/><path d=\"M17.41 7.96l-1.37-1.37c-.4-.4-.92-.59-1.43-.59-.52 0-1.04.2-1.43.59L10.3 9.45l-7.72 7.72c-.78.78-.78 2.05 0 2.83L4 21.41c.39.39.9.59 1.41.59.51 0 1.02-.2 1.41-.59l7.78-7.78 2.81-2.81c.8-.78.8-2.07 0-2.86zM5.41 20L4 18.59l7.72-7.72 1.47 1.35L5.41 20z\"/>\n",
              "  </svg>\n",
              "      </button>\n",
              "      \n",
              "  <style>\n",
              "    .colab-df-container {\n",
              "      display:flex;\n",
              "      flex-wrap:wrap;\n",
              "      gap: 12px;\n",
              "    }\n",
              "\n",
              "    .colab-df-convert {\n",
              "      background-color: #E8F0FE;\n",
              "      border: none;\n",
              "      border-radius: 50%;\n",
              "      cursor: pointer;\n",
              "      display: none;\n",
              "      fill: #1967D2;\n",
              "      height: 32px;\n",
              "      padding: 0 0 0 0;\n",
              "      width: 32px;\n",
              "    }\n",
              "\n",
              "    .colab-df-convert:hover {\n",
              "      background-color: #E2EBFA;\n",
              "      box-shadow: 0px 1px 2px rgba(60, 64, 67, 0.3), 0px 1px 3px 1px rgba(60, 64, 67, 0.15);\n",
              "      fill: #174EA6;\n",
              "    }\n",
              "\n",
              "    [theme=dark] .colab-df-convert {\n",
              "      background-color: #3B4455;\n",
              "      fill: #D2E3FC;\n",
              "    }\n",
              "\n",
              "    [theme=dark] .colab-df-convert:hover {\n",
              "      background-color: #434B5C;\n",
              "      box-shadow: 0px 1px 3px 1px rgba(0, 0, 0, 0.15);\n",
              "      filter: drop-shadow(0px 1px 2px rgba(0, 0, 0, 0.3));\n",
              "      fill: #FFFFFF;\n",
              "    }\n",
              "  </style>\n",
              "\n",
              "      <script>\n",
              "        const buttonEl =\n",
              "          document.querySelector('#df-84d5d6fe-85b5-481f-8536-f577eab47eaa button.colab-df-convert');\n",
              "        buttonEl.style.display =\n",
              "          google.colab.kernel.accessAllowed ? 'block' : 'none';\n",
              "\n",
              "        async function convertToInteractive(key) {\n",
              "          const element = document.querySelector('#df-84d5d6fe-85b5-481f-8536-f577eab47eaa');\n",
              "          const dataTable =\n",
              "            await google.colab.kernel.invokeFunction('convertToInteractive',\n",
              "                                                     [key], {});\n",
              "          if (!dataTable) return;\n",
              "\n",
              "          const docLinkHtml = 'Like what you see? Visit the ' +\n",
              "            '<a target=\"_blank\" href=https://colab.research.google.com/notebooks/data_table.ipynb>data table notebook</a>'\n",
              "            + ' to learn more about interactive tables.';\n",
              "          element.innerHTML = '';\n",
              "          dataTable['output_type'] = 'display_data';\n",
              "          await google.colab.output.renderOutput(dataTable, element);\n",
              "          const docLink = document.createElement('div');\n",
              "          docLink.innerHTML = docLinkHtml;\n",
              "          element.appendChild(docLink);\n",
              "        }\n",
              "      </script>\n",
              "    </div>\n",
              "  </div>\n",
              "  "
            ]
          },
          "metadata": {},
          "execution_count": 494
        }
      ],
      "source": [
        "frequencia = pd.crosstab(dados['Sexo'],\n",
        "                         dados['Cor'])\n",
        "frequencia.rename(index = sexo, inplace = True)\n",
        "frequencia.rename(columns = cor, inplace = True)\n",
        "frequencia"
      ]
    },
    {
      "cell_type": "code",
      "execution_count": 495,
      "metadata": {
        "id": "nrDtcf5gjQLV",
        "colab": {
          "base_uri": "https://localhost:8080/",
          "height": 143
        },
        "outputId": "85fc4758-2e96-4dd4-8e43-9d1e360d7de7"
      },
      "outputs": [
        {
          "output_type": "execute_result",
          "data": {
            "text/plain": [
              "Cor        Indígena     Branca     Preta   Amarela      Parda\n",
              "Sexo                                                         \n",
              "Masculino  0.333160  28.883394  7.160333  0.305830  32.617126\n",
              "Feminino   0.131442  12.520822  3.759761  0.152264  14.135867"
            ],
            "text/html": [
              "\n",
              "  <div id=\"df-9340087c-cc0e-42c3-afae-9d7f35891b82\">\n",
              "    <div class=\"colab-df-container\">\n",
              "      <div>\n",
              "<style scoped>\n",
              "    .dataframe tbody tr th:only-of-type {\n",
              "        vertical-align: middle;\n",
              "    }\n",
              "\n",
              "    .dataframe tbody tr th {\n",
              "        vertical-align: top;\n",
              "    }\n",
              "\n",
              "    .dataframe thead th {\n",
              "        text-align: right;\n",
              "    }\n",
              "</style>\n",
              "<table border=\"1\" class=\"dataframe\">\n",
              "  <thead>\n",
              "    <tr style=\"text-align: right;\">\n",
              "      <th>Cor</th>\n",
              "      <th>Indígena</th>\n",
              "      <th>Branca</th>\n",
              "      <th>Preta</th>\n",
              "      <th>Amarela</th>\n",
              "      <th>Parda</th>\n",
              "    </tr>\n",
              "    <tr>\n",
              "      <th>Sexo</th>\n",
              "      <th></th>\n",
              "      <th></th>\n",
              "      <th></th>\n",
              "      <th></th>\n",
              "      <th></th>\n",
              "    </tr>\n",
              "  </thead>\n",
              "  <tbody>\n",
              "    <tr>\n",
              "      <th>Masculino</th>\n",
              "      <td>0.333160</td>\n",
              "      <td>28.883394</td>\n",
              "      <td>7.160333</td>\n",
              "      <td>0.305830</td>\n",
              "      <td>32.617126</td>\n",
              "    </tr>\n",
              "    <tr>\n",
              "      <th>Feminino</th>\n",
              "      <td>0.131442</td>\n",
              "      <td>12.520822</td>\n",
              "      <td>3.759761</td>\n",
              "      <td>0.152264</td>\n",
              "      <td>14.135867</td>\n",
              "    </tr>\n",
              "  </tbody>\n",
              "</table>\n",
              "</div>\n",
              "      <button class=\"colab-df-convert\" onclick=\"convertToInteractive('df-9340087c-cc0e-42c3-afae-9d7f35891b82')\"\n",
              "              title=\"Convert this dataframe to an interactive table.\"\n",
              "              style=\"display:none;\">\n",
              "        \n",
              "  <svg xmlns=\"http://www.w3.org/2000/svg\" height=\"24px\"viewBox=\"0 0 24 24\"\n",
              "       width=\"24px\">\n",
              "    <path d=\"M0 0h24v24H0V0z\" fill=\"none\"/>\n",
              "    <path d=\"M18.56 5.44l.94 2.06.94-2.06 2.06-.94-2.06-.94-.94-2.06-.94 2.06-2.06.94zm-11 1L8.5 8.5l.94-2.06 2.06-.94-2.06-.94L8.5 2.5l-.94 2.06-2.06.94zm10 10l.94 2.06.94-2.06 2.06-.94-2.06-.94-.94-2.06-.94 2.06-2.06.94z\"/><path d=\"M17.41 7.96l-1.37-1.37c-.4-.4-.92-.59-1.43-.59-.52 0-1.04.2-1.43.59L10.3 9.45l-7.72 7.72c-.78.78-.78 2.05 0 2.83L4 21.41c.39.39.9.59 1.41.59.51 0 1.02-.2 1.41-.59l7.78-7.78 2.81-2.81c.8-.78.8-2.07 0-2.86zM5.41 20L4 18.59l7.72-7.72 1.47 1.35L5.41 20z\"/>\n",
              "  </svg>\n",
              "      </button>\n",
              "      \n",
              "  <style>\n",
              "    .colab-df-container {\n",
              "      display:flex;\n",
              "      flex-wrap:wrap;\n",
              "      gap: 12px;\n",
              "    }\n",
              "\n",
              "    .colab-df-convert {\n",
              "      background-color: #E8F0FE;\n",
              "      border: none;\n",
              "      border-radius: 50%;\n",
              "      cursor: pointer;\n",
              "      display: none;\n",
              "      fill: #1967D2;\n",
              "      height: 32px;\n",
              "      padding: 0 0 0 0;\n",
              "      width: 32px;\n",
              "    }\n",
              "\n",
              "    .colab-df-convert:hover {\n",
              "      background-color: #E2EBFA;\n",
              "      box-shadow: 0px 1px 2px rgba(60, 64, 67, 0.3), 0px 1px 3px 1px rgba(60, 64, 67, 0.15);\n",
              "      fill: #174EA6;\n",
              "    }\n",
              "\n",
              "    [theme=dark] .colab-df-convert {\n",
              "      background-color: #3B4455;\n",
              "      fill: #D2E3FC;\n",
              "    }\n",
              "\n",
              "    [theme=dark] .colab-df-convert:hover {\n",
              "      background-color: #434B5C;\n",
              "      box-shadow: 0px 1px 3px 1px rgba(0, 0, 0, 0.15);\n",
              "      filter: drop-shadow(0px 1px 2px rgba(0, 0, 0, 0.3));\n",
              "      fill: #FFFFFF;\n",
              "    }\n",
              "  </style>\n",
              "\n",
              "      <script>\n",
              "        const buttonEl =\n",
              "          document.querySelector('#df-9340087c-cc0e-42c3-afae-9d7f35891b82 button.colab-df-convert');\n",
              "        buttonEl.style.display =\n",
              "          google.colab.kernel.accessAllowed ? 'block' : 'none';\n",
              "\n",
              "        async function convertToInteractive(key) {\n",
              "          const element = document.querySelector('#df-9340087c-cc0e-42c3-afae-9d7f35891b82');\n",
              "          const dataTable =\n",
              "            await google.colab.kernel.invokeFunction('convertToInteractive',\n",
              "                                                     [key], {});\n",
              "          if (!dataTable) return;\n",
              "\n",
              "          const docLinkHtml = 'Like what you see? Visit the ' +\n",
              "            '<a target=\"_blank\" href=https://colab.research.google.com/notebooks/data_table.ipynb>data table notebook</a>'\n",
              "            + ' to learn more about interactive tables.';\n",
              "          element.innerHTML = '';\n",
              "          dataTable['output_type'] = 'display_data';\n",
              "          await google.colab.output.renderOutput(dataTable, element);\n",
              "          const docLink = document.createElement('div');\n",
              "          docLink.innerHTML = docLinkHtml;\n",
              "          element.appendChild(docLink);\n",
              "        }\n",
              "      </script>\n",
              "    </div>\n",
              "  </div>\n",
              "  "
            ]
          },
          "metadata": {},
          "execution_count": 495
        }
      ],
      "source": [
        "percentual = pd.crosstab(dados['Sexo'],\n",
        "                         dados['Cor'],\n",
        "                         normalize = True) * 100\n",
        "percentual.rename(index = sexo, inplace = True)\n",
        "percentual.rename(columns = cor, inplace = True)\n",
        "percentual"
      ]
    },
    {
      "cell_type": "code",
      "execution_count": 496,
      "metadata": {
        "id": "_MHwBGcdp6dl",
        "colab": {
          "base_uri": "https://localhost:8080/",
          "height": 143
        },
        "outputId": "cf16c851-07d8-4c60-dec1-fed1f0c425a8"
      },
      "outputs": [
        {
          "output_type": "execute_result",
          "data": {
            "text/plain": [
              "Cor           Indígena       Branca        Preta      Amarela        Parda\n",
              "Sexo                                                                      \n",
              "Masculino  1081.710938  2925.744435  1603.861687  4758.251064  1659.577425\n",
              "Feminino   2464.386139  2109.866750  1134.596400  3027.341880  1176.758516"
            ],
            "text/html": [
              "\n",
              "  <div id=\"df-53dda144-b72f-4e6f-9b87-7021d251e6ea\">\n",
              "    <div class=\"colab-df-container\">\n",
              "      <div>\n",
              "<style scoped>\n",
              "    .dataframe tbody tr th:only-of-type {\n",
              "        vertical-align: middle;\n",
              "    }\n",
              "\n",
              "    .dataframe tbody tr th {\n",
              "        vertical-align: top;\n",
              "    }\n",
              "\n",
              "    .dataframe thead th {\n",
              "        text-align: right;\n",
              "    }\n",
              "</style>\n",
              "<table border=\"1\" class=\"dataframe\">\n",
              "  <thead>\n",
              "    <tr style=\"text-align: right;\">\n",
              "      <th>Cor</th>\n",
              "      <th>Indígena</th>\n",
              "      <th>Branca</th>\n",
              "      <th>Preta</th>\n",
              "      <th>Amarela</th>\n",
              "      <th>Parda</th>\n",
              "    </tr>\n",
              "    <tr>\n",
              "      <th>Sexo</th>\n",
              "      <th></th>\n",
              "      <th></th>\n",
              "      <th></th>\n",
              "      <th></th>\n",
              "      <th></th>\n",
              "    </tr>\n",
              "  </thead>\n",
              "  <tbody>\n",
              "    <tr>\n",
              "      <th>Masculino</th>\n",
              "      <td>1081.710938</td>\n",
              "      <td>2925.744435</td>\n",
              "      <td>1603.861687</td>\n",
              "      <td>4758.251064</td>\n",
              "      <td>1659.577425</td>\n",
              "    </tr>\n",
              "    <tr>\n",
              "      <th>Feminino</th>\n",
              "      <td>2464.386139</td>\n",
              "      <td>2109.866750</td>\n",
              "      <td>1134.596400</td>\n",
              "      <td>3027.341880</td>\n",
              "      <td>1176.758516</td>\n",
              "    </tr>\n",
              "  </tbody>\n",
              "</table>\n",
              "</div>\n",
              "      <button class=\"colab-df-convert\" onclick=\"convertToInteractive('df-53dda144-b72f-4e6f-9b87-7021d251e6ea')\"\n",
              "              title=\"Convert this dataframe to an interactive table.\"\n",
              "              style=\"display:none;\">\n",
              "        \n",
              "  <svg xmlns=\"http://www.w3.org/2000/svg\" height=\"24px\"viewBox=\"0 0 24 24\"\n",
              "       width=\"24px\">\n",
              "    <path d=\"M0 0h24v24H0V0z\" fill=\"none\"/>\n",
              "    <path d=\"M18.56 5.44l.94 2.06.94-2.06 2.06-.94-2.06-.94-.94-2.06-.94 2.06-2.06.94zm-11 1L8.5 8.5l.94-2.06 2.06-.94-2.06-.94L8.5 2.5l-.94 2.06-2.06.94zm10 10l.94 2.06.94-2.06 2.06-.94-2.06-.94-.94-2.06-.94 2.06-2.06.94z\"/><path d=\"M17.41 7.96l-1.37-1.37c-.4-.4-.92-.59-1.43-.59-.52 0-1.04.2-1.43.59L10.3 9.45l-7.72 7.72c-.78.78-.78 2.05 0 2.83L4 21.41c.39.39.9.59 1.41.59.51 0 1.02-.2 1.41-.59l7.78-7.78 2.81-2.81c.8-.78.8-2.07 0-2.86zM5.41 20L4 18.59l7.72-7.72 1.47 1.35L5.41 20z\"/>\n",
              "  </svg>\n",
              "      </button>\n",
              "      \n",
              "  <style>\n",
              "    .colab-df-container {\n",
              "      display:flex;\n",
              "      flex-wrap:wrap;\n",
              "      gap: 12px;\n",
              "    }\n",
              "\n",
              "    .colab-df-convert {\n",
              "      background-color: #E8F0FE;\n",
              "      border: none;\n",
              "      border-radius: 50%;\n",
              "      cursor: pointer;\n",
              "      display: none;\n",
              "      fill: #1967D2;\n",
              "      height: 32px;\n",
              "      padding: 0 0 0 0;\n",
              "      width: 32px;\n",
              "    }\n",
              "\n",
              "    .colab-df-convert:hover {\n",
              "      background-color: #E2EBFA;\n",
              "      box-shadow: 0px 1px 2px rgba(60, 64, 67, 0.3), 0px 1px 3px 1px rgba(60, 64, 67, 0.15);\n",
              "      fill: #174EA6;\n",
              "    }\n",
              "\n",
              "    [theme=dark] .colab-df-convert {\n",
              "      background-color: #3B4455;\n",
              "      fill: #D2E3FC;\n",
              "    }\n",
              "\n",
              "    [theme=dark] .colab-df-convert:hover {\n",
              "      background-color: #434B5C;\n",
              "      box-shadow: 0px 1px 3px 1px rgba(0, 0, 0, 0.15);\n",
              "      filter: drop-shadow(0px 1px 2px rgba(0, 0, 0, 0.3));\n",
              "      fill: #FFFFFF;\n",
              "    }\n",
              "  </style>\n",
              "\n",
              "      <script>\n",
              "        const buttonEl =\n",
              "          document.querySelector('#df-53dda144-b72f-4e6f-9b87-7021d251e6ea button.colab-df-convert');\n",
              "        buttonEl.style.display =\n",
              "          google.colab.kernel.accessAllowed ? 'block' : 'none';\n",
              "\n",
              "        async function convertToInteractive(key) {\n",
              "          const element = document.querySelector('#df-53dda144-b72f-4e6f-9b87-7021d251e6ea');\n",
              "          const dataTable =\n",
              "            await google.colab.kernel.invokeFunction('convertToInteractive',\n",
              "                                                     [key], {});\n",
              "          if (!dataTable) return;\n",
              "\n",
              "          const docLinkHtml = 'Like what you see? Visit the ' +\n",
              "            '<a target=\"_blank\" href=https://colab.research.google.com/notebooks/data_table.ipynb>data table notebook</a>'\n",
              "            + ' to learn more about interactive tables.';\n",
              "          element.innerHTML = '';\n",
              "          dataTable['output_type'] = 'display_data';\n",
              "          await google.colab.output.renderOutput(dataTable, element);\n",
              "          const docLink = document.createElement('div');\n",
              "          docLink.innerHTML = docLinkHtml;\n",
              "          element.appendChild(docLink);\n",
              "        }\n",
              "      </script>\n",
              "    </div>\n",
              "  </div>\n",
              "  "
            ]
          },
          "metadata": {},
          "execution_count": 496
        }
      ],
      "source": [
        "percentual = pd.crosstab(dados['Sexo'],\n",
        "                         dados['Cor'],\n",
        "                         aggfunc = 'mean',\n",
        "                         values = dados['Renda'])\n",
        "percentual.rename(index = sexo, inplace = True)\n",
        "percentual.rename(columns = cor, inplace = True)\n",
        "percentual"
      ]
    },
    {
      "cell_type": "markdown",
      "metadata": {
        "id": "eaXQUxnXjQLa"
      },
      "source": [
        "## <font color=green>2.2 Distribuição de frequências para variáveis quantitativas (classes personalizadas)</font>\n",
        "***"
      ]
    },
    {
      "cell_type": "markdown",
      "metadata": {
        "id": "wxsSD-VVjQLb"
      },
      "source": [
        "### Passo 1 - Especificar os limites de cada classe\n",
        "\n",
        "Utilizar a seguinte classificação:\n",
        "\n",
        "<b>A</b> ► Acima de 20 SM\n",
        "\n",
        "<b>B</b> ► De 10 a 20 SM\n",
        "\n",
        "<b>C</b> ► De 4 a 10 SM\n",
        "\n",
        "<b>D</b> ► De 2 a 4 SM\n",
        "\n",
        "<b>E</b> ► Até 2 SM\n",
        "\n",
        "onde <b>SM</b> é o valor do salário mínimo na época. Em nosso caso <b>R$ 788,00</b> (2015):\n",
        "\n",
        "<b>A</b> ► Acima de 15.760\n",
        "\n",
        "<b>B</b> ► De 7.880 a 15.760\n",
        "\n",
        "<b>C</b> ► De 3.152 a 7.880\n",
        "\n",
        "<b>D</b> ► De 1.576 a 3.152\n",
        "\n",
        "<b>E</b> ► Até 1.576\n"
      ]
    },
    {
      "cell_type": "code",
      "execution_count": 497,
      "metadata": {
        "id": "Z08790GUjQLc",
        "colab": {
          "base_uri": "https://localhost:8080/"
        },
        "outputId": "2846772d-f022-464d-d129-0c2d33b2b424"
      },
      "outputs": [
        {
          "output_type": "execute_result",
          "data": {
            "text/plain": [
              "0"
            ]
          },
          "metadata": {},
          "execution_count": 497
        }
      ],
      "source": [
        "dados['Renda'].min()"
      ]
    },
    {
      "cell_type": "code",
      "execution_count": 498,
      "metadata": {
        "id": "5q2V5-0FjQLe",
        "colab": {
          "base_uri": "https://localhost:8080/"
        },
        "outputId": "cd03682a-679c-4e61-f1b5-16cf2997b2dc"
      },
      "outputs": [
        {
          "output_type": "execute_result",
          "data": {
            "text/plain": [
              "200000"
            ]
          },
          "metadata": {},
          "execution_count": 498
        }
      ],
      "source": [
        "dados['Renda'].max()"
      ]
    },
    {
      "cell_type": "code",
      "execution_count": 499,
      "metadata": {
        "id": "Qt5F5w2UjQLg"
      },
      "outputs": [],
      "source": [
        "classes = [0, 1576, 3152, 7880, 15760, 200000]"
      ]
    },
    {
      "cell_type": "code",
      "execution_count": 500,
      "metadata": {
        "id": "DKPIGOLLjQLi"
      },
      "outputs": [],
      "source": [
        "labels = ['E', 'D', 'C', 'B', 'A']"
      ]
    },
    {
      "cell_type": "markdown",
      "metadata": {
        "id": "IQhlvrQUjQLk"
      },
      "source": [
        "### Passo 2 - Criar a tabela de frequências"
      ]
    },
    {
      "cell_type": "markdown",
      "metadata": {
        "id": "Uy3fH4IxX7Hc"
      },
      "source": [
        "https://pandas.pydata.org/pandas-docs/version/0.22/generated/pandas.cut.html"
      ]
    },
    {
      "cell_type": "code",
      "execution_count": 501,
      "metadata": {
        "id": "N-wZ_2UajQLm",
        "colab": {
          "base_uri": "https://localhost:8080/"
        },
        "outputId": "377e4095-0486-4c06-cfad-e2d04e0b4460"
      },
      "outputs": [
        {
          "output_type": "execute_result",
          "data": {
            "text/plain": [
              "E    49755\n",
              "D    16700\n",
              "C     7599\n",
              "B     2178\n",
              "A      608\n",
              "Name: Renda, dtype: int64"
            ]
          },
          "metadata": {},
          "execution_count": 501
        }
      ],
      "source": [
        "pd.value_counts(\n",
        "    pd.cut(x = dados['Renda'],\n",
        "           bins = classes,\n",
        "           labels = labels,\n",
        "           include_lowest = True)\n",
        ")"
      ]
    },
    {
      "cell_type": "code",
      "execution_count": 502,
      "metadata": {
        "id": "WrZ2m2GajQLo",
        "colab": {
          "base_uri": "https://localhost:8080/"
        },
        "outputId": "4ce8e713-7b78-4c0f-b3c1-3ce03ee9fd3e"
      },
      "outputs": [
        {
          "output_type": "execute_result",
          "data": {
            "text/plain": [
              "E    49755\n",
              "D    16700\n",
              "C     7599\n",
              "B     2178\n",
              "A      608\n",
              "Name: Renda, dtype: int64"
            ]
          },
          "metadata": {},
          "execution_count": 502
        }
      ],
      "source": [
        "# Usando uma variável p melhor entendimento\n",
        "frequencia = pd.value_counts(\n",
        "    pd.cut(x = dados['Renda'],\n",
        "           bins = classes,\n",
        "           labels = labels,\n",
        "           include_lowest = True)\n",
        ")\n",
        "\n",
        "frequencia"
      ]
    },
    {
      "cell_type": "code",
      "execution_count": 503,
      "metadata": {
        "id": "btKoxJDujQLp",
        "colab": {
          "base_uri": "https://localhost:8080/"
        },
        "outputId": "5bb5fcce-04a1-4352-b22c-d0dc2cecb7e0"
      },
      "outputs": [
        {
          "output_type": "execute_result",
          "data": {
            "text/plain": [
              "E    0.647514\n",
              "D    0.217335\n",
              "C    0.098894\n",
              "B    0.028345\n",
              "A    0.007913\n",
              "Name: Renda, dtype: float64"
            ]
          },
          "metadata": {},
          "execution_count": 503
        }
      ],
      "source": [
        "# Usando uma variável p melhor entendimento\n",
        "percentual = pd.value_counts(\n",
        "    pd.cut(x = dados['Renda'],\n",
        "           bins = classes,\n",
        "           labels = labels,\n",
        "           include_lowest = True),\n",
        "    normalize = True, # usado qd se tratar de percentual\n",
        ")\n",
        "\n",
        "percentual"
      ]
    },
    {
      "cell_type": "code",
      "execution_count": 504,
      "metadata": {
        "id": "uTMEJXUHjQLs",
        "colab": {
          "base_uri": "https://localhost:8080/",
          "height": 206
        },
        "outputId": "69314a6d-2df3-4d1b-9c5e-728928ba599d"
      },
      "outputs": [
        {
          "output_type": "execute_result",
          "data": {
            "text/plain": [
              "   Frequência  Porcentagem (%)\n",
              "A         608         0.007913\n",
              "B        2178         0.028345\n",
              "C        7599         0.098894\n",
              "D       16700         0.217335\n",
              "E       49755         0.647514"
            ],
            "text/html": [
              "\n",
              "  <div id=\"df-ad082831-3745-432f-9078-cb6caa69aae2\">\n",
              "    <div class=\"colab-df-container\">\n",
              "      <div>\n",
              "<style scoped>\n",
              "    .dataframe tbody tr th:only-of-type {\n",
              "        vertical-align: middle;\n",
              "    }\n",
              "\n",
              "    .dataframe tbody tr th {\n",
              "        vertical-align: top;\n",
              "    }\n",
              "\n",
              "    .dataframe thead th {\n",
              "        text-align: right;\n",
              "    }\n",
              "</style>\n",
              "<table border=\"1\" class=\"dataframe\">\n",
              "  <thead>\n",
              "    <tr style=\"text-align: right;\">\n",
              "      <th></th>\n",
              "      <th>Frequência</th>\n",
              "      <th>Porcentagem (%)</th>\n",
              "    </tr>\n",
              "  </thead>\n",
              "  <tbody>\n",
              "    <tr>\n",
              "      <th>A</th>\n",
              "      <td>608</td>\n",
              "      <td>0.007913</td>\n",
              "    </tr>\n",
              "    <tr>\n",
              "      <th>B</th>\n",
              "      <td>2178</td>\n",
              "      <td>0.028345</td>\n",
              "    </tr>\n",
              "    <tr>\n",
              "      <th>C</th>\n",
              "      <td>7599</td>\n",
              "      <td>0.098894</td>\n",
              "    </tr>\n",
              "    <tr>\n",
              "      <th>D</th>\n",
              "      <td>16700</td>\n",
              "      <td>0.217335</td>\n",
              "    </tr>\n",
              "    <tr>\n",
              "      <th>E</th>\n",
              "      <td>49755</td>\n",
              "      <td>0.647514</td>\n",
              "    </tr>\n",
              "  </tbody>\n",
              "</table>\n",
              "</div>\n",
              "      <button class=\"colab-df-convert\" onclick=\"convertToInteractive('df-ad082831-3745-432f-9078-cb6caa69aae2')\"\n",
              "              title=\"Convert this dataframe to an interactive table.\"\n",
              "              style=\"display:none;\">\n",
              "        \n",
              "  <svg xmlns=\"http://www.w3.org/2000/svg\" height=\"24px\"viewBox=\"0 0 24 24\"\n",
              "       width=\"24px\">\n",
              "    <path d=\"M0 0h24v24H0V0z\" fill=\"none\"/>\n",
              "    <path d=\"M18.56 5.44l.94 2.06.94-2.06 2.06-.94-2.06-.94-.94-2.06-.94 2.06-2.06.94zm-11 1L8.5 8.5l.94-2.06 2.06-.94-2.06-.94L8.5 2.5l-.94 2.06-2.06.94zm10 10l.94 2.06.94-2.06 2.06-.94-2.06-.94-.94-2.06-.94 2.06-2.06.94z\"/><path d=\"M17.41 7.96l-1.37-1.37c-.4-.4-.92-.59-1.43-.59-.52 0-1.04.2-1.43.59L10.3 9.45l-7.72 7.72c-.78.78-.78 2.05 0 2.83L4 21.41c.39.39.9.59 1.41.59.51 0 1.02-.2 1.41-.59l7.78-7.78 2.81-2.81c.8-.78.8-2.07 0-2.86zM5.41 20L4 18.59l7.72-7.72 1.47 1.35L5.41 20z\"/>\n",
              "  </svg>\n",
              "      </button>\n",
              "      \n",
              "  <style>\n",
              "    .colab-df-container {\n",
              "      display:flex;\n",
              "      flex-wrap:wrap;\n",
              "      gap: 12px;\n",
              "    }\n",
              "\n",
              "    .colab-df-convert {\n",
              "      background-color: #E8F0FE;\n",
              "      border: none;\n",
              "      border-radius: 50%;\n",
              "      cursor: pointer;\n",
              "      display: none;\n",
              "      fill: #1967D2;\n",
              "      height: 32px;\n",
              "      padding: 0 0 0 0;\n",
              "      width: 32px;\n",
              "    }\n",
              "\n",
              "    .colab-df-convert:hover {\n",
              "      background-color: #E2EBFA;\n",
              "      box-shadow: 0px 1px 2px rgba(60, 64, 67, 0.3), 0px 1px 3px 1px rgba(60, 64, 67, 0.15);\n",
              "      fill: #174EA6;\n",
              "    }\n",
              "\n",
              "    [theme=dark] .colab-df-convert {\n",
              "      background-color: #3B4455;\n",
              "      fill: #D2E3FC;\n",
              "    }\n",
              "\n",
              "    [theme=dark] .colab-df-convert:hover {\n",
              "      background-color: #434B5C;\n",
              "      box-shadow: 0px 1px 3px 1px rgba(0, 0, 0, 0.15);\n",
              "      filter: drop-shadow(0px 1px 2px rgba(0, 0, 0, 0.3));\n",
              "      fill: #FFFFFF;\n",
              "    }\n",
              "  </style>\n",
              "\n",
              "      <script>\n",
              "        const buttonEl =\n",
              "          document.querySelector('#df-ad082831-3745-432f-9078-cb6caa69aae2 button.colab-df-convert');\n",
              "        buttonEl.style.display =\n",
              "          google.colab.kernel.accessAllowed ? 'block' : 'none';\n",
              "\n",
              "        async function convertToInteractive(key) {\n",
              "          const element = document.querySelector('#df-ad082831-3745-432f-9078-cb6caa69aae2');\n",
              "          const dataTable =\n",
              "            await google.colab.kernel.invokeFunction('convertToInteractive',\n",
              "                                                     [key], {});\n",
              "          if (!dataTable) return;\n",
              "\n",
              "          const docLinkHtml = 'Like what you see? Visit the ' +\n",
              "            '<a target=\"_blank\" href=https://colab.research.google.com/notebooks/data_table.ipynb>data table notebook</a>'\n",
              "            + ' to learn more about interactive tables.';\n",
              "          element.innerHTML = '';\n",
              "          dataTable['output_type'] = 'display_data';\n",
              "          await google.colab.output.renderOutput(dataTable, element);\n",
              "          const docLink = document.createElement('div');\n",
              "          docLink.innerHTML = docLinkHtml;\n",
              "          element.appendChild(docLink);\n",
              "        }\n",
              "      </script>\n",
              "    </div>\n",
              "  </div>\n",
              "  "
            ]
          },
          "metadata": {},
          "execution_count": 504
        }
      ],
      "source": [
        "dist_freq_quantitativas_personalizadas = pd.DataFrame(\n",
        "    {'Frequência' : frequencia, 'Porcentagem (%)' : percentual}\n",
        ")\n",
        "\n",
        "dist_freq_quantitativas_personalizadas.sort_index(ascending = False)"
      ]
    },
    {
      "cell_type": "markdown",
      "metadata": {
        "id": "ViJYvvjujQLu"
      },
      "source": [
        "## <font color=green>2.3 Distribuição de frequências para variáveis quantitativas (classes de amplitude fixa)</font>\n",
        "***"
      ]
    },
    {
      "cell_type": "markdown",
      "metadata": {
        "id": "02ve2BVojQLv"
      },
      "source": [
        "### Importando bibliotecas\n",
        "\n",
        "http://www.numpy.org/"
      ]
    },
    {
      "cell_type": "markdown",
      "metadata": {
        "id": "s9UGNaMzjQLy"
      },
      "source": [
        "### Passo 1 - Difinindo o número de classes"
      ]
    },
    {
      "cell_type": "markdown",
      "metadata": {
        "id": "p268tvNHjQLy"
      },
      "source": [
        "#### Regra de Sturges\n",
        "\n",
        "# $$k = 1 + \\frac {10}{3}\\log_{10}n$$"
      ]
    },
    {
      "cell_type": "code",
      "execution_count": 505,
      "metadata": {
        "id": "hSIsHKuJjQLw",
        "colab": {
          "base_uri": "https://localhost:8080/"
        },
        "outputId": "c0233236-03ae-43ca-c86b-79b41799988e"
      },
      "outputs": [
        {
          "output_type": "execute_result",
          "data": {
            "text/plain": [
              "76840"
            ]
          },
          "metadata": {},
          "execution_count": 505
        }
      ],
      "source": [
        "n = dados.shape[0]\n",
        "n"
      ]
    },
    {
      "cell_type": "code",
      "source": [
        "k = 1 + 10/ 3 * np.log10(n)\n",
        "k"
      ],
      "metadata": {
        "id": "7P3b-GDkRMo-",
        "colab": {
          "base_uri": "https://localhost:8080/"
        },
        "outputId": "ecd9989e-3006-4fe9-ee23-ed68d486a8d4"
      },
      "execution_count": 506,
      "outputs": [
        {
          "output_type": "execute_result",
          "data": {
            "text/plain": [
              "17.285291187298853"
            ]
          },
          "metadata": {},
          "execution_count": 506
        }
      ]
    },
    {
      "cell_type": "code",
      "execution_count": 507,
      "metadata": {
        "id": "wgLH6gGqjQLz",
        "colab": {
          "base_uri": "https://localhost:8080/"
        },
        "outputId": "2e970d59-d209-4148-e826-f0e6bd2a3061"
      },
      "outputs": [
        {
          "output_type": "execute_result",
          "data": {
            "text/plain": [
              "17"
            ]
          },
          "metadata": {},
          "execution_count": 507
        }
      ],
      "source": [
        "k = int(k.round(0))\n",
        "k"
      ]
    },
    {
      "cell_type": "markdown",
      "metadata": {
        "id": "5eO-RhaljQL6"
      },
      "source": [
        "### Passo 2 - Criar a tabela de frequências"
      ]
    },
    {
      "cell_type": "code",
      "execution_count": 508,
      "metadata": {
        "id": "sVVA-jvDjQL7",
        "colab": {
          "base_uri": "https://localhost:8080/"
        },
        "outputId": "985bc645-8fbd-426a-d199-b68164c8d6d8"
      },
      "outputs": [
        {
          "output_type": "execute_result",
          "data": {
            "text/plain": [
              "(-200.001, 11764.706]       75594\n",
              "(11764.706, 23529.412]       1022\n",
              "(23529.412, 35294.118]        169\n",
              "(35294.118, 47058.824]         19\n",
              "(47058.824, 58823.529]         16\n",
              "(58823.529, 70588.235]          5\n",
              "(70588.235, 82352.941]          4\n",
              "(82352.941, 94117.647]          1\n",
              "(94117.647, 105882.353]         6\n",
              "(105882.353, 117647.059]        0\n",
              "(117647.059, 129411.765]        1\n",
              "(129411.765, 141176.471]        0\n",
              "(141176.471, 152941.176]        0\n",
              "(152941.176, 164705.882]        0\n",
              "(164705.882, 176470.588]        0\n",
              "(176470.588, 188235.294]        0\n",
              "(188235.294, 200000.0]          3\n",
              "Name: Renda, dtype: int64"
            ]
          },
          "metadata": {},
          "execution_count": 508
        }
      ],
      "source": [
        "frequencia = pd.value_counts(\n",
        "    pd.cut(\n",
        "        x= dados['Renda'],\n",
        "        bins = 17,\n",
        "        include_lowest = True\n",
        "    ),\n",
        "    sort = False\n",
        ")\n",
        "frequencia"
      ]
    },
    {
      "cell_type": "code",
      "execution_count": 509,
      "metadata": {
        "id": "-ylxSip1jQL9",
        "colab": {
          "base_uri": "https://localhost:8080/"
        },
        "outputId": "2826072f-51de-42f3-cb0d-31933affd0be"
      },
      "outputs": [
        {
          "output_type": "execute_result",
          "data": {
            "text/plain": [
              "(-200.001, 11764.706]       0.983784\n",
              "(11764.706, 23529.412]      0.013300\n",
              "(23529.412, 35294.118]      0.002199\n",
              "(35294.118, 47058.824]      0.000247\n",
              "(47058.824, 58823.529]      0.000208\n",
              "(58823.529, 70588.235]      0.000065\n",
              "(70588.235, 82352.941]      0.000052\n",
              "(82352.941, 94117.647]      0.000013\n",
              "(94117.647, 105882.353]     0.000078\n",
              "(105882.353, 117647.059]    0.000000\n",
              "(117647.059, 129411.765]    0.000013\n",
              "(129411.765, 141176.471]    0.000000\n",
              "(141176.471, 152941.176]    0.000000\n",
              "(152941.176, 164705.882]    0.000000\n",
              "(164705.882, 176470.588]    0.000000\n",
              "(176470.588, 188235.294]    0.000000\n",
              "(188235.294, 200000.0]      0.000039\n",
              "Name: Renda, dtype: float64"
            ]
          },
          "metadata": {},
          "execution_count": 509
        }
      ],
      "source": [
        "percentual = pd.value_counts(\n",
        "    pd.cut(\n",
        "        x= dados['Renda'],\n",
        "        bins = 17,\n",
        "        include_lowest = True\n",
        "    ),\n",
        "    sort = False,\n",
        "    normalize = True \n",
        ")\n",
        "percentual"
      ]
    },
    {
      "cell_type": "code",
      "execution_count": 510,
      "metadata": {
        "id": "n9kkJ0WTjQL_",
        "colab": {
          "base_uri": "https://localhost:8080/",
          "height": 582
        },
        "outputId": "4d7d13a2-a808-4fbb-c7fc-5ddf45f3b564"
      },
      "outputs": [
        {
          "output_type": "execute_result",
          "data": {
            "text/plain": [
              "                          Frequência  Porcentagem (%)\n",
              "(-200.001, 11764.706]          75594         0.983784\n",
              "(11764.706, 23529.412]          1022         0.013300\n",
              "(23529.412, 35294.118]           169         0.002199\n",
              "(35294.118, 47058.824]            19         0.000247\n",
              "(47058.824, 58823.529]            16         0.000208\n",
              "(58823.529, 70588.235]             5         0.000065\n",
              "(70588.235, 82352.941]             4         0.000052\n",
              "(82352.941, 94117.647]             1         0.000013\n",
              "(94117.647, 105882.353]            6         0.000078\n",
              "(105882.353, 117647.059]           0         0.000000\n",
              "(117647.059, 129411.765]           1         0.000013\n",
              "(129411.765, 141176.471]           0         0.000000\n",
              "(141176.471, 152941.176]           0         0.000000\n",
              "(152941.176, 164705.882]           0         0.000000\n",
              "(164705.882, 176470.588]           0         0.000000\n",
              "(176470.588, 188235.294]           0         0.000000\n",
              "(188235.294, 200000.0]             3         0.000039"
            ],
            "text/html": [
              "\n",
              "  <div id=\"df-5369a988-36e5-494a-bbfc-cc28277f72e4\">\n",
              "    <div class=\"colab-df-container\">\n",
              "      <div>\n",
              "<style scoped>\n",
              "    .dataframe tbody tr th:only-of-type {\n",
              "        vertical-align: middle;\n",
              "    }\n",
              "\n",
              "    .dataframe tbody tr th {\n",
              "        vertical-align: top;\n",
              "    }\n",
              "\n",
              "    .dataframe thead th {\n",
              "        text-align: right;\n",
              "    }\n",
              "</style>\n",
              "<table border=\"1\" class=\"dataframe\">\n",
              "  <thead>\n",
              "    <tr style=\"text-align: right;\">\n",
              "      <th></th>\n",
              "      <th>Frequência</th>\n",
              "      <th>Porcentagem (%)</th>\n",
              "    </tr>\n",
              "  </thead>\n",
              "  <tbody>\n",
              "    <tr>\n",
              "      <th>(-200.001, 11764.706]</th>\n",
              "      <td>75594</td>\n",
              "      <td>0.983784</td>\n",
              "    </tr>\n",
              "    <tr>\n",
              "      <th>(11764.706, 23529.412]</th>\n",
              "      <td>1022</td>\n",
              "      <td>0.013300</td>\n",
              "    </tr>\n",
              "    <tr>\n",
              "      <th>(23529.412, 35294.118]</th>\n",
              "      <td>169</td>\n",
              "      <td>0.002199</td>\n",
              "    </tr>\n",
              "    <tr>\n",
              "      <th>(35294.118, 47058.824]</th>\n",
              "      <td>19</td>\n",
              "      <td>0.000247</td>\n",
              "    </tr>\n",
              "    <tr>\n",
              "      <th>(47058.824, 58823.529]</th>\n",
              "      <td>16</td>\n",
              "      <td>0.000208</td>\n",
              "    </tr>\n",
              "    <tr>\n",
              "      <th>(58823.529, 70588.235]</th>\n",
              "      <td>5</td>\n",
              "      <td>0.000065</td>\n",
              "    </tr>\n",
              "    <tr>\n",
              "      <th>(70588.235, 82352.941]</th>\n",
              "      <td>4</td>\n",
              "      <td>0.000052</td>\n",
              "    </tr>\n",
              "    <tr>\n",
              "      <th>(82352.941, 94117.647]</th>\n",
              "      <td>1</td>\n",
              "      <td>0.000013</td>\n",
              "    </tr>\n",
              "    <tr>\n",
              "      <th>(94117.647, 105882.353]</th>\n",
              "      <td>6</td>\n",
              "      <td>0.000078</td>\n",
              "    </tr>\n",
              "    <tr>\n",
              "      <th>(105882.353, 117647.059]</th>\n",
              "      <td>0</td>\n",
              "      <td>0.000000</td>\n",
              "    </tr>\n",
              "    <tr>\n",
              "      <th>(117647.059, 129411.765]</th>\n",
              "      <td>1</td>\n",
              "      <td>0.000013</td>\n",
              "    </tr>\n",
              "    <tr>\n",
              "      <th>(129411.765, 141176.471]</th>\n",
              "      <td>0</td>\n",
              "      <td>0.000000</td>\n",
              "    </tr>\n",
              "    <tr>\n",
              "      <th>(141176.471, 152941.176]</th>\n",
              "      <td>0</td>\n",
              "      <td>0.000000</td>\n",
              "    </tr>\n",
              "    <tr>\n",
              "      <th>(152941.176, 164705.882]</th>\n",
              "      <td>0</td>\n",
              "      <td>0.000000</td>\n",
              "    </tr>\n",
              "    <tr>\n",
              "      <th>(164705.882, 176470.588]</th>\n",
              "      <td>0</td>\n",
              "      <td>0.000000</td>\n",
              "    </tr>\n",
              "    <tr>\n",
              "      <th>(176470.588, 188235.294]</th>\n",
              "      <td>0</td>\n",
              "      <td>0.000000</td>\n",
              "    </tr>\n",
              "    <tr>\n",
              "      <th>(188235.294, 200000.0]</th>\n",
              "      <td>3</td>\n",
              "      <td>0.000039</td>\n",
              "    </tr>\n",
              "  </tbody>\n",
              "</table>\n",
              "</div>\n",
              "      <button class=\"colab-df-convert\" onclick=\"convertToInteractive('df-5369a988-36e5-494a-bbfc-cc28277f72e4')\"\n",
              "              title=\"Convert this dataframe to an interactive table.\"\n",
              "              style=\"display:none;\">\n",
              "        \n",
              "  <svg xmlns=\"http://www.w3.org/2000/svg\" height=\"24px\"viewBox=\"0 0 24 24\"\n",
              "       width=\"24px\">\n",
              "    <path d=\"M0 0h24v24H0V0z\" fill=\"none\"/>\n",
              "    <path d=\"M18.56 5.44l.94 2.06.94-2.06 2.06-.94-2.06-.94-.94-2.06-.94 2.06-2.06.94zm-11 1L8.5 8.5l.94-2.06 2.06-.94-2.06-.94L8.5 2.5l-.94 2.06-2.06.94zm10 10l.94 2.06.94-2.06 2.06-.94-2.06-.94-.94-2.06-.94 2.06-2.06.94z\"/><path d=\"M17.41 7.96l-1.37-1.37c-.4-.4-.92-.59-1.43-.59-.52 0-1.04.2-1.43.59L10.3 9.45l-7.72 7.72c-.78.78-.78 2.05 0 2.83L4 21.41c.39.39.9.59 1.41.59.51 0 1.02-.2 1.41-.59l7.78-7.78 2.81-2.81c.8-.78.8-2.07 0-2.86zM5.41 20L4 18.59l7.72-7.72 1.47 1.35L5.41 20z\"/>\n",
              "  </svg>\n",
              "      </button>\n",
              "      \n",
              "  <style>\n",
              "    .colab-df-container {\n",
              "      display:flex;\n",
              "      flex-wrap:wrap;\n",
              "      gap: 12px;\n",
              "    }\n",
              "\n",
              "    .colab-df-convert {\n",
              "      background-color: #E8F0FE;\n",
              "      border: none;\n",
              "      border-radius: 50%;\n",
              "      cursor: pointer;\n",
              "      display: none;\n",
              "      fill: #1967D2;\n",
              "      height: 32px;\n",
              "      padding: 0 0 0 0;\n",
              "      width: 32px;\n",
              "    }\n",
              "\n",
              "    .colab-df-convert:hover {\n",
              "      background-color: #E2EBFA;\n",
              "      box-shadow: 0px 1px 2px rgba(60, 64, 67, 0.3), 0px 1px 3px 1px rgba(60, 64, 67, 0.15);\n",
              "      fill: #174EA6;\n",
              "    }\n",
              "\n",
              "    [theme=dark] .colab-df-convert {\n",
              "      background-color: #3B4455;\n",
              "      fill: #D2E3FC;\n",
              "    }\n",
              "\n",
              "    [theme=dark] .colab-df-convert:hover {\n",
              "      background-color: #434B5C;\n",
              "      box-shadow: 0px 1px 3px 1px rgba(0, 0, 0, 0.15);\n",
              "      filter: drop-shadow(0px 1px 2px rgba(0, 0, 0, 0.3));\n",
              "      fill: #FFFFFF;\n",
              "    }\n",
              "  </style>\n",
              "\n",
              "      <script>\n",
              "        const buttonEl =\n",
              "          document.querySelector('#df-5369a988-36e5-494a-bbfc-cc28277f72e4 button.colab-df-convert');\n",
              "        buttonEl.style.display =\n",
              "          google.colab.kernel.accessAllowed ? 'block' : 'none';\n",
              "\n",
              "        async function convertToInteractive(key) {\n",
              "          const element = document.querySelector('#df-5369a988-36e5-494a-bbfc-cc28277f72e4');\n",
              "          const dataTable =\n",
              "            await google.colab.kernel.invokeFunction('convertToInteractive',\n",
              "                                                     [key], {});\n",
              "          if (!dataTable) return;\n",
              "\n",
              "          const docLinkHtml = 'Like what you see? Visit the ' +\n",
              "            '<a target=\"_blank\" href=https://colab.research.google.com/notebooks/data_table.ipynb>data table notebook</a>'\n",
              "            + ' to learn more about interactive tables.';\n",
              "          element.innerHTML = '';\n",
              "          dataTable['output_type'] = 'display_data';\n",
              "          await google.colab.output.renderOutput(dataTable, element);\n",
              "          const docLink = document.createElement('div');\n",
              "          docLink.innerHTML = docLinkHtml;\n",
              "          element.appendChild(docLink);\n",
              "        }\n",
              "      </script>\n",
              "    </div>\n",
              "  </div>\n",
              "  "
            ]
          },
          "metadata": {},
          "execution_count": 510
        }
      ],
      "source": [
        "dist_freq_amplitude_fixa = pd.DataFrame(\n",
        "    {'Frequência' : frequencia, 'Porcentagem (%)' : percentual}\n",
        ")\n",
        "\n",
        "dist_freq_amplitude_fixa"
      ]
    },
    {
      "cell_type": "markdown",
      "metadata": {
        "id": "Js9iLwNkjQME"
      },
      "source": [
        "## <font color=green>2.4 Histograma</font>\n",
        "***\n",
        "\n",
        "O <b>HISTOGRAMA</b> é a representação gráfica de uma distribuição de frequências. É uma gráfico formado por um conjunto de retângulos colocados lado a lado, onde a área de cada retângulo é proporcional à frequência da classe que ele representa."
      ]
    },
    {
      "cell_type": "markdown",
      "metadata": {
        "id": "VzZEXDKX3PUH"
      },
      "source": [
        "### Importando a biblioteca\n",
        "\n",
        "https://seaborn.pydata.org/"
      ]
    },
    {
      "cell_type": "code",
      "source": [
        "grid = sns.displot(dados['Altura'],\n",
        "                 bins = 35,\n",
        "                 color = 'green',\n",
        "                 stat='density', \n",
        "                 kde = False,)\n",
        "ax = grid.ax\n",
        "ax.figure.set_size_inches(12,6)\n",
        "ax.set_title('Distribuição de Frequências - Altura', fontsize=18)\n",
        "ax.set_ylabel('Metros', fontsize=14)\n",
        "ax.set_xlabel('Densidade', fontsize=14)\n",
        "plt.show()"
      ],
      "metadata": {
        "colab": {
          "base_uri": "https://localhost:8080/",
          "height": 455
        },
        "id": "om2jOQ962DIw",
        "outputId": "ee2be343-f8aa-4a25-b080-53f7293959cf"
      },
      "execution_count": 511,
      "outputs": [
        {
          "output_type": "display_data",
          "data": {
            "text/plain": [
              "<Figure size 864x432 with 1 Axes>"
            ],
            "image/png": "[encoded data removed]"
          },
          "metadata": {
            "needs_background": "light"
          }
        }
      ]
    },
    {
      "cell_type": "code",
      "source": [
        "grid = sns.displot(dados['Altura'],\n",
        "                 bins = 25,\n",
        "                 color = 'green',\n",
        "                 stat='density', \n",
        "                 kde = True,)\n",
        "ax = grid.ax\n",
        "ax.figure.set_size_inches(12,6)\n",
        "ax.set_title('Distribuição de Frequências - Altura - KDE', fontsize = 18)\n",
        "ax.set_xlabel('Metros', fontsize = 14)\n",
        "ax.set_ylabel('Densidade', fontsize = 14)\n",
        "plt.show()"
      ],
      "metadata": {
        "colab": {
          "base_uri": "https://localhost:8080/",
          "height": 455
        },
        "id": "ILNPKKTr0pM3",
        "outputId": "07f54554-5047-445b-9f1b-5d646f1b70f1"
      },
      "execution_count": 512,
      "outputs": [
        {
          "output_type": "display_data",
          "data": {
            "text/plain": [
              "<Figure size 864x432 with 1 Axes>"
            ],
            "image/png": "[encoded data removed]"
          },
          "metadata": {
            "needs_background": "light"
          }
        }
      ]
    },
    {
      "cell_type": "code",
      "execution_count": 513,
      "metadata": {
        "id": "wiQPnuMojQMJ",
        "colab": {
          "base_uri": "https://localhost:8080/",
          "height": 374
        },
        "outputId": "1721a5e2-a019-4fc8-a9e8-2de7370d46fd"
      },
      "outputs": [
        {
          "output_type": "display_data",
          "data": {
            "text/plain": [
              "<Figure size 864x432 with 1 Axes>"
            ],
            "image/png": "[encoded data removed]"
          },
          "metadata": {
            "needs_background": "light"
          }
        }
      ],
      "source": [
        "dados['Altura'].hist(bins = 50,\n",
        "                     color = 'green',\n",
        "                     figsize = (12, 6))\n",
        "plt.show()"
      ]
    },
    {
      "cell_type": "code",
      "execution_count": 514,
      "metadata": {
        "id": "3fySBW7qjQMK",
        "colab": {
          "base_uri": "https://localhost:8080/",
          "height": 206
        },
        "outputId": "730ef971-ed40-4e9e-c2cf-0dfe38b877d3"
      },
      "outputs": [
        {
          "output_type": "execute_result",
          "data": {
            "text/plain": [
              "   Frequência  Porcentagem (%)\n",
              "E       49755         0.647514\n",
              "D       16700         0.217335\n",
              "C        7599         0.098894\n",
              "B        2178         0.028345\n",
              "A         608         0.007913"
            ],
            "text/html": [
              "\n",
              "  <div id=\"df-0d1b91dd-976d-4b3b-9335-dbc5ffd6bf52\">\n",
              "    <div class=\"colab-df-container\">\n",
              "      <div>\n",
              "<style scoped>\n",
              "    .dataframe tbody tr th:only-of-type {\n",
              "        vertical-align: middle;\n",
              "    }\n",
              "\n",
              "    .dataframe tbody tr th {\n",
              "        vertical-align: top;\n",
              "    }\n",
              "\n",
              "    .dataframe thead th {\n",
              "        text-align: right;\n",
              "    }\n",
              "</style>\n",
              "<table border=\"1\" class=\"dataframe\">\n",
              "  <thead>\n",
              "    <tr style=\"text-align: right;\">\n",
              "      <th></th>\n",
              "      <th>Frequência</th>\n",
              "      <th>Porcentagem (%)</th>\n",
              "    </tr>\n",
              "  </thead>\n",
              "  <tbody>\n",
              "    <tr>\n",
              "      <th>E</th>\n",
              "      <td>49755</td>\n",
              "      <td>0.647514</td>\n",
              "    </tr>\n",
              "    <tr>\n",
              "      <th>D</th>\n",
              "      <td>16700</td>\n",
              "      <td>0.217335</td>\n",
              "    </tr>\n",
              "    <tr>\n",
              "      <th>C</th>\n",
              "      <td>7599</td>\n",
              "      <td>0.098894</td>\n",
              "    </tr>\n",
              "    <tr>\n",
              "      <th>B</th>\n",
              "      <td>2178</td>\n",
              "      <td>0.028345</td>\n",
              "    </tr>\n",
              "    <tr>\n",
              "      <th>A</th>\n",
              "      <td>608</td>\n",
              "      <td>0.007913</td>\n",
              "    </tr>\n",
              "  </tbody>\n",
              "</table>\n",
              "</div>\n",
              "      <button class=\"colab-df-convert\" onclick=\"convertToInteractive('df-0d1b91dd-976d-4b3b-9335-dbc5ffd6bf52')\"\n",
              "              title=\"Convert this dataframe to an interactive table.\"\n",
              "              style=\"display:none;\">\n",
              "        \n",
              "  <svg xmlns=\"http://www.w3.org/2000/svg\" height=\"24px\"viewBox=\"0 0 24 24\"\n",
              "       width=\"24px\">\n",
              "    <path d=\"M0 0h24v24H0V0z\" fill=\"none\"/>\n",
              "    <path d=\"M18.56 5.44l.94 2.06.94-2.06 2.06-.94-2.06-.94-.94-2.06-.94 2.06-2.06.94zm-11 1L8.5 8.5l.94-2.06 2.06-.94-2.06-.94L8.5 2.5l-.94 2.06-2.06.94zm10 10l.94 2.06.94-2.06 2.06-.94-2.06-.94-.94-2.06-.94 2.06-2.06.94z\"/><path d=\"M17.41 7.96l-1.37-1.37c-.4-.4-.92-.59-1.43-.59-.52 0-1.04.2-1.43.59L10.3 9.45l-7.72 7.72c-.78.78-.78 2.05 0 2.83L4 21.41c.39.39.9.59 1.41.59.51 0 1.02-.2 1.41-.59l7.78-7.78 2.81-2.81c.8-.78.8-2.07 0-2.86zM5.41 20L4 18.59l7.72-7.72 1.47 1.35L5.41 20z\"/>\n",
              "  </svg>\n",
              "      </button>\n",
              "      \n",
              "  <style>\n",
              "    .colab-df-container {\n",
              "      display:flex;\n",
              "      flex-wrap:wrap;\n",
              "      gap: 12px;\n",
              "    }\n",
              "\n",
              "    .colab-df-convert {\n",
              "      background-color: #E8F0FE;\n",
              "      border: none;\n",
              "      border-radius: 50%;\n",
              "      cursor: pointer;\n",
              "      display: none;\n",
              "      fill: #1967D2;\n",
              "      height: 32px;\n",
              "      padding: 0 0 0 0;\n",
              "      width: 32px;\n",
              "    }\n",
              "\n",
              "    .colab-df-convert:hover {\n",
              "      background-color: #E2EBFA;\n",
              "      box-shadow: 0px 1px 2px rgba(60, 64, 67, 0.3), 0px 1px 3px 1px rgba(60, 64, 67, 0.15);\n",
              "      fill: #174EA6;\n",
              "    }\n",
              "\n",
              "    [theme=dark] .colab-df-convert {\n",
              "      background-color: #3B4455;\n",
              "      fill: #D2E3FC;\n",
              "    }\n",
              "\n",
              "    [theme=dark] .colab-df-convert:hover {\n",
              "      background-color: #434B5C;\n",
              "      box-shadow: 0px 1px 3px 1px rgba(0, 0, 0, 0.15);\n",
              "      filter: drop-shadow(0px 1px 2px rgba(0, 0, 0, 0.3));\n",
              "      fill: #FFFFFF;\n",
              "    }\n",
              "  </style>\n",
              "\n",
              "      <script>\n",
              "        const buttonEl =\n",
              "          document.querySelector('#df-0d1b91dd-976d-4b3b-9335-dbc5ffd6bf52 button.colab-df-convert');\n",
              "        buttonEl.style.display =\n",
              "          google.colab.kernel.accessAllowed ? 'block' : 'none';\n",
              "\n",
              "        async function convertToInteractive(key) {\n",
              "          const element = document.querySelector('#df-0d1b91dd-976d-4b3b-9335-dbc5ffd6bf52');\n",
              "          const dataTable =\n",
              "            await google.colab.kernel.invokeFunction('convertToInteractive',\n",
              "                                                     [key], {});\n",
              "          if (!dataTable) return;\n",
              "\n",
              "          const docLinkHtml = 'Like what you see? Visit the ' +\n",
              "            '<a target=\"_blank\" href=https://colab.research.google.com/notebooks/data_table.ipynb>data table notebook</a>'\n",
              "            + ' to learn more about interactive tables.';\n",
              "          element.innerHTML = '';\n",
              "          dataTable['output_type'] = 'display_data';\n",
              "          await google.colab.output.renderOutput(dataTable, element);\n",
              "          const docLink = document.createElement('div');\n",
              "          docLink.innerHTML = docLinkHtml;\n",
              "          element.appendChild(docLink);\n",
              "        }\n",
              "      </script>\n",
              "    </div>\n",
              "  </div>\n",
              "  "
            ]
          },
          "metadata": {},
          "execution_count": 514
        }
      ],
      "source": [
        "dist_freq_quantitativas_personalizadas"
      ]
    },
    {
      "cell_type": "code",
      "execution_count": 515,
      "metadata": {
        "id": "0HcLhLYtjQMM",
        "colab": {
          "base_uri": "https://localhost:8080/",
          "height": 374
        },
        "outputId": "2e536435-a79a-4653-c9c6-fffb8b680f5e"
      },
      "outputs": [
        {
          "output_type": "display_data",
          "data": {
            "text/plain": [
              "<Figure size 864x432 with 1 Axes>"
            ],
            "image/png": "[encoded data removed]"
          },
          "metadata": {
            "needs_background": "light"
          }
        }
      ],
      "source": [
        "dist_freq_quantitativas_personalizadas['Frequência'].plot.bar(width = 1,\n",
        "                                                              color = 'green',\n",
        "                                                              rot = 0,\n",
        "                                                              alpha = 0.2,\n",
        "                                                              figsize = (12, 6))\n",
        "plt.show()"
      ]
    },
    {
      "cell_type": "markdown",
      "metadata": {
        "id": "uIb17Es3jQMP"
      },
      "source": [
        "# <font color=green>3 MEDIDAS DE TENDÊNCIA CENTRAL</font>\n",
        "***"
      ]
    },
    {
      "cell_type": "markdown",
      "metadata": {
        "id": "Wrya4suEX7H-"
      },
      "source": [
        "## DataFrame de exemplo"
      ]
    },
    {
      "cell_type": "code",
      "execution_count": 516,
      "metadata": {
        "id": "jj7a21flX7H_",
        "colab": {
          "base_uri": "https://localhost:8080/",
          "height": 269
        },
        "outputId": "8b013d5d-dfc6-4b52-cf48-02e6ceab117a"
      },
      "outputs": [
        {
          "output_type": "execute_result",
          "data": {
            "text/plain": [
              "Matérias    Beltrano  Fulano  Sicrano\n",
              "Matemática      10.0       8      7.5\n",
              "Português        2.0      10      8.0\n",
              "Inglês           0.5       4      7.0\n",
              "Geografia        1.0       8      8.0\n",
              "História         3.0       6      8.0\n",
              "Física           9.5      10      8.5\n",
              "Química         10.0       8      7.0"
            ],
            "text/html": [
              "\n",
              "  <div id=\"df-59d27780-a4e0-4b6f-83e0-3fb3e494effd\">\n",
              "    <div class=\"colab-df-container\">\n",
              "      <div>\n",
              "<style scoped>\n",
              "    .dataframe tbody tr th:only-of-type {\n",
              "        vertical-align: middle;\n",
              "    }\n",
              "\n",
              "    .dataframe tbody tr th {\n",
              "        vertical-align: top;\n",
              "    }\n",
              "\n",
              "    .dataframe thead th {\n",
              "        text-align: right;\n",
              "    }\n",
              "</style>\n",
              "<table border=\"1\" class=\"dataframe\">\n",
              "  <thead>\n",
              "    <tr style=\"text-align: right;\">\n",
              "      <th>Matérias</th>\n",
              "      <th>Beltrano</th>\n",
              "      <th>Fulano</th>\n",
              "      <th>Sicrano</th>\n",
              "    </tr>\n",
              "  </thead>\n",
              "  <tbody>\n",
              "    <tr>\n",
              "      <th>Matemática</th>\n",
              "      <td>10.0</td>\n",
              "      <td>8</td>\n",
              "      <td>7.5</td>\n",
              "    </tr>\n",
              "    <tr>\n",
              "      <th>Português</th>\n",
              "      <td>2.0</td>\n",
              "      <td>10</td>\n",
              "      <td>8.0</td>\n",
              "    </tr>\n",
              "    <tr>\n",
              "      <th>Inglês</th>\n",
              "      <td>0.5</td>\n",
              "      <td>4</td>\n",
              "      <td>7.0</td>\n",
              "    </tr>\n",
              "    <tr>\n",
              "      <th>Geografia</th>\n",
              "      <td>1.0</td>\n",
              "      <td>8</td>\n",
              "      <td>8.0</td>\n",
              "    </tr>\n",
              "    <tr>\n",
              "      <th>História</th>\n",
              "      <td>3.0</td>\n",
              "      <td>6</td>\n",
              "      <td>8.0</td>\n",
              "    </tr>\n",
              "    <tr>\n",
              "      <th>Física</th>\n",
              "      <td>9.5</td>\n",
              "      <td>10</td>\n",
              "      <td>8.5</td>\n",
              "    </tr>\n",
              "    <tr>\n",
              "      <th>Química</th>\n",
              "      <td>10.0</td>\n",
              "      <td>8</td>\n",
              "      <td>7.0</td>\n",
              "    </tr>\n",
              "  </tbody>\n",
              "</table>\n",
              "</div>\n",
              "      <button class=\"colab-df-convert\" onclick=\"convertToInteractive('df-59d27780-a4e0-4b6f-83e0-3fb3e494effd')\"\n",
              "              title=\"Convert this dataframe to an interactive table.\"\n",
              "              style=\"display:none;\">\n",
              "        \n",
              "  <svg xmlns=\"http://www.w3.org/2000/svg\" height=\"24px\"viewBox=\"0 0 24 24\"\n",
              "       width=\"24px\">\n",
              "    <path d=\"M0 0h24v24H0V0z\" fill=\"none\"/>\n",
              "    <path d=\"M18.56 5.44l.94 2.06.94-2.06 2.06-.94-2.06-.94-.94-2.06-.94 2.06-2.06.94zm-11 1L8.5 8.5l.94-2.06 2.06-.94-2.06-.94L8.5 2.5l-.94 2.06-2.06.94zm10 10l.94 2.06.94-2.06 2.06-.94-2.06-.94-.94-2.06-.94 2.06-2.06.94z\"/><path d=\"M17.41 7.96l-1.37-1.37c-.4-.4-.92-.59-1.43-.59-.52 0-1.04.2-1.43.59L10.3 9.45l-7.72 7.72c-.78.78-.78 2.05 0 2.83L4 21.41c.39.39.9.59 1.41.59.51 0 1.02-.2 1.41-.59l7.78-7.78 2.81-2.81c.8-.78.8-2.07 0-2.86zM5.41 20L4 18.59l7.72-7.72 1.47 1.35L5.41 20z\"/>\n",
              "  </svg>\n",
              "      </button>\n",
              "      \n",
              "  <style>\n",
              "    .colab-df-container {\n",
              "      display:flex;\n",
              "      flex-wrap:wrap;\n",
              "      gap: 12px;\n",
              "    }\n",
              "\n",
              "    .colab-df-convert {\n",
              "      background-color: #E8F0FE;\n",
              "      border: none;\n",
              "      border-radius: 50%;\n",
              "      cursor: pointer;\n",
              "      display: none;\n",
              "      fill: #1967D2;\n",
              "      height: 32px;\n",
              "      padding: 0 0 0 0;\n",
              "      width: 32px;\n",
              "    }\n",
              "\n",
              "    .colab-df-convert:hover {\n",
              "      background-color: #E2EBFA;\n",
              "      box-shadow: 0px 1px 2px rgba(60, 64, 67, 0.3), 0px 1px 3px 1px rgba(60, 64, 67, 0.15);\n",
              "      fill: #174EA6;\n",
              "    }\n",
              "\n",
              "    [theme=dark] .colab-df-convert {\n",
              "      background-color: #3B4455;\n",
              "      fill: #D2E3FC;\n",
              "    }\n",
              "\n",
              "    [theme=dark] .colab-df-convert:hover {\n",
              "      background-color: #434B5C;\n",
              "      box-shadow: 0px 1px 3px 1px rgba(0, 0, 0, 0.15);\n",
              "      filter: drop-shadow(0px 1px 2px rgba(0, 0, 0, 0.3));\n",
              "      fill: #FFFFFF;\n",
              "    }\n",
              "  </style>\n",
              "\n",
              "      <script>\n",
              "        const buttonEl =\n",
              "          document.querySelector('#df-59d27780-a4e0-4b6f-83e0-3fb3e494effd button.colab-df-convert');\n",
              "        buttonEl.style.display =\n",
              "          google.colab.kernel.accessAllowed ? 'block' : 'none';\n",
              "\n",
              "        async function convertToInteractive(key) {\n",
              "          const element = document.querySelector('#df-59d27780-a4e0-4b6f-83e0-3fb3e494effd');\n",
              "          const dataTable =\n",
              "            await google.colab.kernel.invokeFunction('convertToInteractive',\n",
              "                                                     [key], {});\n",
              "          if (!dataTable) return;\n",
              "\n",
              "          const docLinkHtml = 'Like what you see? Visit the ' +\n",
              "            '<a target=\"_blank\" href=https://colab.research.google.com/notebooks/data_table.ipynb>data table notebook</a>'\n",
              "            + ' to learn more about interactive tables.';\n",
              "          element.innerHTML = '';\n",
              "          dataTable['output_type'] = 'display_data';\n",
              "          await google.colab.output.renderOutput(dataTable, element);\n",
              "          const docLink = document.createElement('div');\n",
              "          docLink.innerHTML = docLinkHtml;\n",
              "          element.appendChild(docLink);\n",
              "        }\n",
              "      </script>\n",
              "    </div>\n",
              "  </div>\n",
              "  "
            ]
          },
          "metadata": {},
          "execution_count": 516
        }
      ],
      "source": [
        "df = pd.DataFrame(data = {'Beltrano': [10, 2, 0.5, 1, 3, 9.5, 10],\n",
        "                          'Fulano': [8, 10, 4, 8, 6, 10, 8],\n",
        "                          'Sicrano': [7.5, 8, 7, 8, 8, 8.5, 7]},\n",
        "                 index = ['Matemática',\n",
        "                          'Português',\n",
        "                          'Inglês',\n",
        "                          'Geografia',\n",
        "                          'História',\n",
        "                          'Física',\n",
        "                          'Química'])\n",
        "df.rename_axis('Matérias', axis = 'columns', inplace = True)\n",
        "df"
      ]
    },
    {
      "cell_type": "markdown",
      "metadata": {
        "id": "kcHJFW-YjQMP"
      },
      "source": [
        "## <font color=green>3.1 Média aritmética</font>\n",
        "***\n",
        "\n",
        "É representada por $\\mu$ quando se refere à população e por $\\bar{X}$ quando se refere à amostra\n",
        "\n",
        "# $$\\mu = \\frac 1n\\sum_{i=1}^{n}X_i$$\n",
        "\n",
        "onde \n",
        "\n",
        "$n$ = número de observações (registros)\n",
        "\n",
        "$X_i$ = valor da i-ésima observação (registro)"
      ]
    },
    {
      "cell_type": "code",
      "execution_count": 517,
      "metadata": {
        "id": "QW4JPcBmX7IA",
        "colab": {
          "base_uri": "https://localhost:8080/"
        },
        "outputId": "fae046cd-4c0f-4e53-a65e-6b97d8c8466f"
      },
      "outputs": [
        {
          "output_type": "execute_result",
          "data": {
            "text/plain": [
              "7.714285714285714"
            ]
          },
          "metadata": {},
          "execution_count": 517
        }
      ],
      "source": [
        "(8 + 10 + 4 + 8 + 6 + 10 + 8) / 7"
      ]
    },
    {
      "cell_type": "code",
      "execution_count": 518,
      "metadata": {
        "id": "LuT8WNy5X7IB",
        "colab": {
          "base_uri": "https://localhost:8080/"
        },
        "outputId": "cc3504f8-2cf0-42fd-883a-07a7e4e5c13b"
      },
      "outputs": [
        {
          "output_type": "execute_result",
          "data": {
            "text/plain": [
              "7.714285714285714"
            ]
          },
          "metadata": {},
          "execution_count": 518
        }
      ],
      "source": [
        "df['Fulano'].mean()"
      ]
    },
    {
      "cell_type": "code",
      "execution_count": 519,
      "metadata": {
        "id": "BRMZcmMEjQMQ",
        "colab": {
          "base_uri": "https://localhost:8080/"
        },
        "outputId": "295530b2-5de5-4287-8230-7c2403b8bd7f"
      },
      "outputs": [
        {
          "output_type": "execute_result",
          "data": {
            "text/plain": [
              "2000.3831988547631"
            ]
          },
          "metadata": {},
          "execution_count": 519
        }
      ],
      "source": [
        "dados['Renda'].mean()"
      ]
    },
    {
      "cell_type": "code",
      "execution_count": 520,
      "metadata": {
        "id": "CGgJbsK0HBQc",
        "colab": {
          "base_uri": "https://localhost:8080/",
          "height": 206
        },
        "outputId": "07908c1a-56a7-482f-c703-b385205b4460"
      },
      "outputs": [
        {
          "output_type": "execute_result",
          "data": {
            "text/plain": [
              "   UF  Sexo  Idade  Cor  Anos de Estudo  Renda    Altura\n",
              "0  11     0     23    8              12    800  1.603808\n",
              "1  11     1     23    2              12   1150  1.739790\n",
              "2  11     1     35    8              15    880  1.760444\n",
              "3  11     0     46    2               6   3500  1.783158\n",
              "4  11     1     47    8               9    150  1.690631"
            ],
            "text/html": [
              "\n",
              "  <div id=\"df-6c45adda-83b9-43bf-b44b-0f863fb9ee6a\">\n",
              "    <div class=\"colab-df-container\">\n",
              "      <div>\n",
              "<style scoped>\n",
              "    .dataframe tbody tr th:only-of-type {\n",
              "        vertical-align: middle;\n",
              "    }\n",
              "\n",
              "    .dataframe tbody tr th {\n",
              "        vertical-align: top;\n",
              "    }\n",
              "\n",
              "    .dataframe thead th {\n",
              "        text-align: right;\n",
              "    }\n",
              "</style>\n",
              "<table border=\"1\" class=\"dataframe\">\n",
              "  <thead>\n",
              "    <tr style=\"text-align: right;\">\n",
              "      <th></th>\n",
              "      <th>UF</th>\n",
              "      <th>Sexo</th>\n",
              "      <th>Idade</th>\n",
              "      <th>Cor</th>\n",
              "      <th>Anos de Estudo</th>\n",
              "      <th>Renda</th>\n",
              "      <th>Altura</th>\n",
              "    </tr>\n",
              "  </thead>\n",
              "  <tbody>\n",
              "    <tr>\n",
              "      <th>0</th>\n",
              "      <td>11</td>\n",
              "      <td>0</td>\n",
              "      <td>23</td>\n",
              "      <td>8</td>\n",
              "      <td>12</td>\n",
              "      <td>800</td>\n",
              "      <td>1.603808</td>\n",
              "    </tr>\n",
              "    <tr>\n",
              "      <th>1</th>\n",
              "      <td>11</td>\n",
              "      <td>1</td>\n",
              "      <td>23</td>\n",
              "      <td>2</td>\n",
              "      <td>12</td>\n",
              "      <td>1150</td>\n",
              "      <td>1.739790</td>\n",
              "    </tr>\n",
              "    <tr>\n",
              "      <th>2</th>\n",
              "      <td>11</td>\n",
              "      <td>1</td>\n",
              "      <td>35</td>\n",
              "      <td>8</td>\n",
              "      <td>15</td>\n",
              "      <td>880</td>\n",
              "      <td>1.760444</td>\n",
              "    </tr>\n",
              "    <tr>\n",
              "      <th>3</th>\n",
              "      <td>11</td>\n",
              "      <td>0</td>\n",
              "      <td>46</td>\n",
              "      <td>2</td>\n",
              "      <td>6</td>\n",
              "      <td>3500</td>\n",
              "      <td>1.783158</td>\n",
              "    </tr>\n",
              "    <tr>\n",
              "      <th>4</th>\n",
              "      <td>11</td>\n",
              "      <td>1</td>\n",
              "      <td>47</td>\n",
              "      <td>8</td>\n",
              "      <td>9</td>\n",
              "      <td>150</td>\n",
              "      <td>1.690631</td>\n",
              "    </tr>\n",
              "  </tbody>\n",
              "</table>\n",
              "</div>\n",
              "      <button class=\"colab-df-convert\" onclick=\"convertToInteractive('df-6c45adda-83b9-43bf-b44b-0f863fb9ee6a')\"\n",
              "              title=\"Convert this dataframe to an interactive table.\"\n",
              "              style=\"display:none;\">\n",
              "        \n",
              "  <svg xmlns=\"http://www.w3.org/2000/svg\" height=\"24px\"viewBox=\"0 0 24 24\"\n",
              "       width=\"24px\">\n",
              "    <path d=\"M0 0h24v24H0V0z\" fill=\"none\"/>\n",
              "    <path d=\"M18.56 5.44l.94 2.06.94-2.06 2.06-.94-2.06-.94-.94-2.06-.94 2.06-2.06.94zm-11 1L8.5 8.5l.94-2.06 2.06-.94-2.06-.94L8.5 2.5l-.94 2.06-2.06.94zm10 10l.94 2.06.94-2.06 2.06-.94-2.06-.94-.94-2.06-.94 2.06-2.06.94z\"/><path d=\"M17.41 7.96l-1.37-1.37c-.4-.4-.92-.59-1.43-.59-.52 0-1.04.2-1.43.59L10.3 9.45l-7.72 7.72c-.78.78-.78 2.05 0 2.83L4 21.41c.39.39.9.59 1.41.59.51 0 1.02-.2 1.41-.59l7.78-7.78 2.81-2.81c.8-.78.8-2.07 0-2.86zM5.41 20L4 18.59l7.72-7.72 1.47 1.35L5.41 20z\"/>\n",
              "  </svg>\n",
              "      </button>\n",
              "      \n",
              "  <style>\n",
              "    .colab-df-container {\n",
              "      display:flex;\n",
              "      flex-wrap:wrap;\n",
              "      gap: 12px;\n",
              "    }\n",
              "\n",
              "    .colab-df-convert {\n",
              "      background-color: #E8F0FE;\n",
              "      border: none;\n",
              "      border-radius: 50%;\n",
              "      cursor: pointer;\n",
              "      display: none;\n",
              "      fill: #1967D2;\n",
              "      height: 32px;\n",
              "      padding: 0 0 0 0;\n",
              "      width: 32px;\n",
              "    }\n",
              "\n",
              "    .colab-df-convert:hover {\n",
              "      background-color: #E2EBFA;\n",
              "      box-shadow: 0px 1px 2px rgba(60, 64, 67, 0.3), 0px 1px 3px 1px rgba(60, 64, 67, 0.15);\n",
              "      fill: #174EA6;\n",
              "    }\n",
              "\n",
              "    [theme=dark] .colab-df-convert {\n",
              "      background-color: #3B4455;\n",
              "      fill: #D2E3FC;\n",
              "    }\n",
              "\n",
              "    [theme=dark] .colab-df-convert:hover {\n",
              "      background-color: #434B5C;\n",
              "      box-shadow: 0px 1px 3px 1px rgba(0, 0, 0, 0.15);\n",
              "      filter: drop-shadow(0px 1px 2px rgba(0, 0, 0, 0.3));\n",
              "      fill: #FFFFFF;\n",
              "    }\n",
              "  </style>\n",
              "\n",
              "      <script>\n",
              "        const buttonEl =\n",
              "          document.querySelector('#df-6c45adda-83b9-43bf-b44b-0f863fb9ee6a button.colab-df-convert');\n",
              "        buttonEl.style.display =\n",
              "          google.colab.kernel.accessAllowed ? 'block' : 'none';\n",
              "\n",
              "        async function convertToInteractive(key) {\n",
              "          const element = document.querySelector('#df-6c45adda-83b9-43bf-b44b-0f863fb9ee6a');\n",
              "          const dataTable =\n",
              "            await google.colab.kernel.invokeFunction('convertToInteractive',\n",
              "                                                     [key], {});\n",
              "          if (!dataTable) return;\n",
              "\n",
              "          const docLinkHtml = 'Like what you see? Visit the ' +\n",
              "            '<a target=\"_blank\" href=https://colab.research.google.com/notebooks/data_table.ipynb>data table notebook</a>'\n",
              "            + ' to learn more about interactive tables.';\n",
              "          element.innerHTML = '';\n",
              "          dataTable['output_type'] = 'display_data';\n",
              "          await google.colab.output.renderOutput(dataTable, element);\n",
              "          const docLink = document.createElement('div');\n",
              "          docLink.innerHTML = docLinkHtml;\n",
              "          element.appendChild(docLink);\n",
              "        }\n",
              "      </script>\n",
              "    </div>\n",
              "  </div>\n",
              "  "
            ]
          },
          "metadata": {},
          "execution_count": 520
        }
      ],
      "source": [
        "dados.head()"
      ]
    },
    {
      "cell_type": "code",
      "source": [
        "dados.groupby(['Sexo'])['Renda'].mean()"
      ],
      "metadata": {
        "colab": {
          "base_uri": "https://localhost:8080/"
        },
        "id": "QKLcrbtCDBz9",
        "outputId": "65ce1690-729e-4ca9-f9fa-1d43db3d3f44"
      },
      "execution_count": 521,
      "outputs": [
        {
          "output_type": "execute_result",
          "data": {
            "text/plain": [
              "Sexo\n",
              "0    2192.441596\n",
              "1    1566.847393\n",
              "Name: Renda, dtype: float64"
            ]
          },
          "metadata": {},
          "execution_count": 521
        }
      ]
    },
    {
      "cell_type": "markdown",
      "metadata": {
        "id": "9geu3UcKjQMS"
      },
      "source": [
        "## <font color=green>3.2 Mediana</font>\n",
        "***\n",
        "\n",
        "Para obtermos a mediana de uma conjunto de dados devemos proceder da seguinte maneira:\n",
        "1. Ordenar o conjunto de dados;\n",
        "2. Identificar o número de observações (registros) do conjunto de dados ($n$);\n",
        "3. Identicar o elemento mediano:\n",
        "\n",
        "> Quando $n$ for ímpar, a posição do elemento mediano será obtida da seguinte forma:\n",
        "\n",
        "\n",
        "# $$Elemento_{Md} = \\frac{n+1}2$$\n",
        "\n",
        "> Quando $n$ for par, a posição do elemento mediano será obtida da seguinte forma:\n",
        "\n",
        "\n",
        "# $$Elemento_{Md} = \\frac{n}2$$\n",
        "\n",
        "4. Obter a mediana:\n",
        "\n",
        "> Quando $n$ for ímpar:\n",
        "\n",
        "\n",
        "# $$Md = X_{Elemento_{Md}}$$\n",
        "\n",
        "> Quando $n$ for par:\n",
        "\n",
        "\n",
        "# $$Md = \\frac{X_{Elemento_{Md}} + X_{Elemento_{Md}+1}}2$$\n",
        "***"
      ]
    },
    {
      "cell_type": "markdown",
      "metadata": {
        "id": "e0IuYdJFjQMT"
      },
      "source": [
        "### Exemplo 1 - n ímpar\n",
        "\n",
        "<img src='https://caelum-online-public.s3.amazonaws.com/1177-estatistica-parte1/01/img002.png' width='40%' style=\"float:left\">"
      ]
    },
    {
      "cell_type": "code",
      "execution_count": 522,
      "metadata": {
        "id": "3dXjdRFlX7IH",
        "colab": {
          "base_uri": "https://localhost:8080/"
        },
        "outputId": "838b021b-05c1-4244-a4ce-ddb36327a1f7"
      },
      "outputs": [
        {
          "output_type": "execute_result",
          "data": {
            "text/plain": [
              "Matemática     8\n",
              "Português     10\n",
              "Inglês         4\n",
              "Geografia      8\n",
              "História       6\n",
              "Física        10\n",
              "Química        8\n",
              "Name: Fulano, dtype: int64"
            ]
          },
          "metadata": {},
          "execution_count": 522
        }
      ],
      "source": [
        "notas_fulano = df['Fulano']\n",
        "notas_fulano"
      ]
    },
    {
      "cell_type": "code",
      "execution_count": 523,
      "metadata": {
        "id": "cU91DJ-yjQMV",
        "colab": {
          "base_uri": "https://localhost:8080/"
        },
        "outputId": "e354be21-20f0-4ef5-e4d8-79e6e1888437"
      },
      "outputs": [
        {
          "output_type": "execute_result",
          "data": {
            "text/plain": [
              "Inglês         4\n",
              "História       6\n",
              "Matemática     8\n",
              "Geografia      8\n",
              "Química        8\n",
              "Português     10\n",
              "Física        10\n",
              "Name: Fulano, dtype: int64"
            ]
          },
          "metadata": {},
          "execution_count": 523
        }
      ],
      "source": [
        "notas_fulano = notas_fulano.sort_values()\n",
        "notas_fulano"
      ]
    },
    {
      "cell_type": "code",
      "execution_count": 524,
      "metadata": {
        "id": "z9bOnYKf1NOd",
        "colab": {
          "base_uri": "https://localhost:8080/",
          "height": 269
        },
        "outputId": "f902740e-c4b9-48ad-b0ec-211b5ed97f6d"
      },
      "outputs": [
        {
          "output_type": "execute_result",
          "data": {
            "text/plain": [
              "        index  Fulano\n",
              "0      Inglês       4\n",
              "1    História       6\n",
              "2  Matemática       8\n",
              "3   Geografia       8\n",
              "4     Química       8\n",
              "5   Português      10\n",
              "6      Física      10"
            ],
            "text/html": [
              "\n",
              "  <div id=\"df-4ee08692-6742-4651-bc55-8078478677a1\">\n",
              "    <div class=\"colab-df-container\">\n",
              "      <div>\n",
              "<style scoped>\n",
              "    .dataframe tbody tr th:only-of-type {\n",
              "        vertical-align: middle;\n",
              "    }\n",
              "\n",
              "    .dataframe tbody tr th {\n",
              "        vertical-align: top;\n",
              "    }\n",
              "\n",
              "    .dataframe thead th {\n",
              "        text-align: right;\n",
              "    }\n",
              "</style>\n",
              "<table border=\"1\" class=\"dataframe\">\n",
              "  <thead>\n",
              "    <tr style=\"text-align: right;\">\n",
              "      <th></th>\n",
              "      <th>index</th>\n",
              "      <th>Fulano</th>\n",
              "    </tr>\n",
              "  </thead>\n",
              "  <tbody>\n",
              "    <tr>\n",
              "      <th>0</th>\n",
              "      <td>Inglês</td>\n",
              "      <td>4</td>\n",
              "    </tr>\n",
              "    <tr>\n",
              "      <th>1</th>\n",
              "      <td>História</td>\n",
              "      <td>6</td>\n",
              "    </tr>\n",
              "    <tr>\n",
              "      <th>2</th>\n",
              "      <td>Matemática</td>\n",
              "      <td>8</td>\n",
              "    </tr>\n",
              "    <tr>\n",
              "      <th>3</th>\n",
              "      <td>Geografia</td>\n",
              "      <td>8</td>\n",
              "    </tr>\n",
              "    <tr>\n",
              "      <th>4</th>\n",
              "      <td>Química</td>\n",
              "      <td>8</td>\n",
              "    </tr>\n",
              "    <tr>\n",
              "      <th>5</th>\n",
              "      <td>Português</td>\n",
              "      <td>10</td>\n",
              "    </tr>\n",
              "    <tr>\n",
              "      <th>6</th>\n",
              "      <td>Física</td>\n",
              "      <td>10</td>\n",
              "    </tr>\n",
              "  </tbody>\n",
              "</table>\n",
              "</div>\n",
              "      <button class=\"colab-df-convert\" onclick=\"convertToInteractive('df-4ee08692-6742-4651-bc55-8078478677a1')\"\n",
              "              title=\"Convert this dataframe to an interactive table.\"\n",
              "              style=\"display:none;\">\n",
              "        \n",
              "  <svg xmlns=\"http://www.w3.org/2000/svg\" height=\"24px\"viewBox=\"0 0 24 24\"\n",
              "       width=\"24px\">\n",
              "    <path d=\"M0 0h24v24H0V0z\" fill=\"none\"/>\n",
              "    <path d=\"M18.56 5.44l.94 2.06.94-2.06 2.06-.94-2.06-.94-.94-2.06-.94 2.06-2.06.94zm-11 1L8.5 8.5l.94-2.06 2.06-.94-2.06-.94L8.5 2.5l-.94 2.06-2.06.94zm10 10l.94 2.06.94-2.06 2.06-.94-2.06-.94-.94-2.06-.94 2.06-2.06.94z\"/><path d=\"M17.41 7.96l-1.37-1.37c-.4-.4-.92-.59-1.43-.59-.52 0-1.04.2-1.43.59L10.3 9.45l-7.72 7.72c-.78.78-.78 2.05 0 2.83L4 21.41c.39.39.9.59 1.41.59.51 0 1.02-.2 1.41-.59l7.78-7.78 2.81-2.81c.8-.78.8-2.07 0-2.86zM5.41 20L4 18.59l7.72-7.72 1.47 1.35L5.41 20z\"/>\n",
              "  </svg>\n",
              "      </button>\n",
              "      \n",
              "  <style>\n",
              "    .colab-df-container {\n",
              "      display:flex;\n",
              "      flex-wrap:wrap;\n",
              "      gap: 12px;\n",
              "    }\n",
              "\n",
              "    .colab-df-convert {\n",
              "      background-color: #E8F0FE;\n",
              "      border: none;\n",
              "      border-radius: 50%;\n",
              "      cursor: pointer;\n",
              "      display: none;\n",
              "      fill: #1967D2;\n",
              "      height: 32px;\n",
              "      padding: 0 0 0 0;\n",
              "      width: 32px;\n",
              "    }\n",
              "\n",
              "    .colab-df-convert:hover {\n",
              "      background-color: #E2EBFA;\n",
              "      box-shadow: 0px 1px 2px rgba(60, 64, 67, 0.3), 0px 1px 3px 1px rgba(60, 64, 67, 0.15);\n",
              "      fill: #174EA6;\n",
              "    }\n",
              "\n",
              "    [theme=dark] .colab-df-convert {\n",
              "      background-color: #3B4455;\n",
              "      fill: #D2E3FC;\n",
              "    }\n",
              "\n",
              "    [theme=dark] .colab-df-convert:hover {\n",
              "      background-color: #434B5C;\n",
              "      box-shadow: 0px 1px 3px 1px rgba(0, 0, 0, 0.15);\n",
              "      filter: drop-shadow(0px 1px 2px rgba(0, 0, 0, 0.3));\n",
              "      fill: #FFFFFF;\n",
              "    }\n",
              "  </style>\n",
              "\n",
              "      <script>\n",
              "        const buttonEl =\n",
              "          document.querySelector('#df-4ee08692-6742-4651-bc55-8078478677a1 button.colab-df-convert');\n",
              "        buttonEl.style.display =\n",
              "          google.colab.kernel.accessAllowed ? 'block' : 'none';\n",
              "\n",
              "        async function convertToInteractive(key) {\n",
              "          const element = document.querySelector('#df-4ee08692-6742-4651-bc55-8078478677a1');\n",
              "          const dataTable =\n",
              "            await google.colab.kernel.invokeFunction('convertToInteractive',\n",
              "                                                     [key], {});\n",
              "          if (!dataTable) return;\n",
              "\n",
              "          const docLinkHtml = 'Like what you see? Visit the ' +\n",
              "            '<a target=\"_blank\" href=https://colab.research.google.com/notebooks/data_table.ipynb>data table notebook</a>'\n",
              "            + ' to learn more about interactive tables.';\n",
              "          element.innerHTML = '';\n",
              "          dataTable['output_type'] = 'display_data';\n",
              "          await google.colab.output.renderOutput(dataTable, element);\n",
              "          const docLink = document.createElement('div');\n",
              "          docLink.innerHTML = docLinkHtml;\n",
              "          element.appendChild(docLink);\n",
              "        }\n",
              "      </script>\n",
              "    </div>\n",
              "  </div>\n",
              "  "
            ]
          },
          "metadata": {},
          "execution_count": 524
        }
      ],
      "source": [
        "notas_fulano = notas_fulano.reset_index()\n",
        "notas_fulano"
      ]
    },
    {
      "cell_type": "code",
      "execution_count": 525,
      "metadata": {
        "id": "u3nfPEFjjQMW",
        "colab": {
          "base_uri": "https://localhost:8080/"
        },
        "outputId": "e997f6b9-e36c-49cd-fa7d-416933e10cf0"
      },
      "outputs": [
        {
          "output_type": "execute_result",
          "data": {
            "text/plain": [
              "7"
            ]
          },
          "metadata": {},
          "execution_count": 525
        }
      ],
      "source": [
        "n = notas_fulano.shape[0]\n",
        "n"
      ]
    },
    {
      "cell_type": "code",
      "execution_count": 526,
      "metadata": {
        "id": "trC12MHxjQMY",
        "colab": {
          "base_uri": "https://localhost:8080/"
        },
        "outputId": "f8aeaff9-b77f-4471-b091-a0a513dd117c"
      },
      "outputs": [
        {
          "output_type": "execute_result",
          "data": {
            "text/plain": [
              "4.0"
            ]
          },
          "metadata": {},
          "execution_count": 526
        }
      ],
      "source": [
        "elemento_md = (n + 1) / 2\n",
        "elemento_md"
      ]
    },
    {
      "cell_type": "code",
      "execution_count": 527,
      "metadata": {
        "id": "NKccffcLjQMZ",
        "colab": {
          "base_uri": "https://localhost:8080/"
        },
        "outputId": "a0735440-4cb0-47a0-b687-912bfb9beb0b"
      },
      "outputs": [
        {
          "output_type": "execute_result",
          "data": {
            "text/plain": [
              "index     Geografia\n",
              "Fulano            8\n",
              "Name: 3, dtype: object"
            ]
          },
          "metadata": {},
          "execution_count": 527
        }
      ],
      "source": [
        "notas_fulano.loc[elemento_md - 1]"
      ]
    },
    {
      "cell_type": "code",
      "execution_count": 528,
      "metadata": {
        "id": "ody5mfXLjQMb",
        "colab": {
          "base_uri": "https://localhost:8080/"
        },
        "outputId": "e441ec1b-7718-47bb-ffeb-ac90a10a0a06"
      },
      "outputs": [
        {
          "output_type": "stream",
          "name": "stderr",
          "text": [
            "/usr/local/lib/python3.7/dist-packages/ipykernel_launcher.py:1: FutureWarning: Dropping of nuisance columns in DataFrame reductions (with 'numeric_only=None') is deprecated; in a future version this will raise TypeError.  Select only valid columns before calling the reduction.\n",
            "  \"\"\"Entry point for launching an IPython kernel.\n"
          ]
        },
        {
          "output_type": "execute_result",
          "data": {
            "text/plain": [
              "Fulano    8.0\n",
              "dtype: float64"
            ]
          },
          "metadata": {},
          "execution_count": 528
        }
      ],
      "source": [
        "notas_fulano.median()"
      ]
    },
    {
      "cell_type": "markdown",
      "metadata": {
        "id": "hQHyjfLkjQMe"
      },
      "source": [
        "### Exemplo 2 - n par\n",
        "\n",
        "<img src='https://caelum-online-public.s3.amazonaws.com/1177-estatistica-parte1/01/img003.png' width='50%' style=\"float:left\">"
      ]
    },
    {
      "cell_type": "code",
      "execution_count": 529,
      "metadata": {
        "id": "Jkx1WZenjQMe",
        "colab": {
          "base_uri": "https://localhost:8080/"
        },
        "outputId": "a7627ba4-4261-4ec5-d70a-1d1a7217ebe9"
      },
      "outputs": [
        {
          "output_type": "execute_result",
          "data": {
            "text/plain": [
              "Matemática    10.0\n",
              "Inglês         0.5\n",
              "Física         9.5\n",
              "História       3.0\n",
              "Química       10.0\n",
              "Português      2.0\n",
              "Name: Beltrano, dtype: float64"
            ]
          },
          "metadata": {},
          "execution_count": 529
        }
      ],
      "source": [
        "notas_beltrano = df['Beltrano'].sample(6, random_state = 101)\n",
        "notas_beltrano"
      ]
    },
    {
      "cell_type": "code",
      "execution_count": 530,
      "metadata": {
        "id": "D1LUpvZkYsHq",
        "colab": {
          "base_uri": "https://localhost:8080/"
        },
        "outputId": "dc848aa2-0a19-42d3-9b52-4cb452ffc994"
      },
      "outputs": [
        {
          "output_type": "execute_result",
          "data": {
            "text/plain": [
              "6.25"
            ]
          },
          "metadata": {},
          "execution_count": 530
        }
      ],
      "source": [
        "notas_beltrano.median()"
      ]
    },
    {
      "cell_type": "markdown",
      "metadata": {
        "id": "nK27TxrkjQMl"
      },
      "source": [
        "### Obtendo a mediana em nosso dataset"
      ]
    },
    {
      "cell_type": "code",
      "execution_count": 531,
      "metadata": {
        "id": "dJznpnjUjQMl",
        "colab": {
          "base_uri": "https://localhost:8080/"
        },
        "outputId": "e1e9acfa-a650-4eea-9b27-51a666522c41"
      },
      "outputs": [
        {
          "output_type": "execute_result",
          "data": {
            "text/plain": [
              "1200.0"
            ]
          },
          "metadata": {},
          "execution_count": 531
        }
      ],
      "source": [
        "dados['Renda'].median()"
      ]
    },
    {
      "cell_type": "code",
      "execution_count": 532,
      "metadata": {
        "id": "W4a5PVYdjQMm",
        "colab": {
          "base_uri": "https://localhost:8080/"
        },
        "outputId": "2e596a81-ae62-4dac-8258-9c1bc735736a"
      },
      "outputs": [
        {
          "output_type": "execute_result",
          "data": {
            "text/plain": [
              "1200.0"
            ]
          },
          "metadata": {},
          "execution_count": 532
        }
      ],
      "source": [
        "# outra forma de obter a mediana\n",
        "dados['Renda'].quantile()"
      ]
    },
    {
      "cell_type": "code",
      "source": [
        "# '?' exibe ajuda\n",
        "# dados.Renda.quantile?"
      ],
      "metadata": {
        "id": "C2yaeTOQPZK5"
      },
      "execution_count": 533,
      "outputs": []
    },
    {
      "cell_type": "markdown",
      "metadata": {
        "id": "CmCu6BXQjQMo"
      },
      "source": [
        "## <font color=green>3.3 Moda</font>\n",
        "***\n",
        "\n",
        "Pode-se definir a moda como sendo o valor mais frequente de um conjunto de dados. A moda é bastante utilizada para dados qualitativos."
      ]
    },
    {
      "cell_type": "code",
      "execution_count": 534,
      "metadata": {
        "id": "BHibMzw8X7Id",
        "colab": {
          "base_uri": "https://localhost:8080/",
          "height": 81
        },
        "outputId": "251a0c0f-30aa-49d2-8471-2c21a124d364"
      },
      "outputs": [
        {
          "output_type": "execute_result",
          "data": {
            "text/plain": [
              "Matérias  Beltrano  Fulano  Sicrano\n",
              "0             10.0       8      8.0"
            ],
            "text/html": [
              "\n",
              "  <div id=\"df-75a83c7a-e148-48ba-9afa-eca2069997e9\">\n",
              "    <div class=\"colab-df-container\">\n",
              "      <div>\n",
              "<style scoped>\n",
              "    .dataframe tbody tr th:only-of-type {\n",
              "        vertical-align: middle;\n",
              "    }\n",
              "\n",
              "    .dataframe tbody tr th {\n",
              "        vertical-align: top;\n",
              "    }\n",
              "\n",
              "    .dataframe thead th {\n",
              "        text-align: right;\n",
              "    }\n",
              "</style>\n",
              "<table border=\"1\" class=\"dataframe\">\n",
              "  <thead>\n",
              "    <tr style=\"text-align: right;\">\n",
              "      <th>Matérias</th>\n",
              "      <th>Beltrano</th>\n",
              "      <th>Fulano</th>\n",
              "      <th>Sicrano</th>\n",
              "    </tr>\n",
              "  </thead>\n",
              "  <tbody>\n",
              "    <tr>\n",
              "      <th>0</th>\n",
              "      <td>10.0</td>\n",
              "      <td>8</td>\n",
              "      <td>8.0</td>\n",
              "    </tr>\n",
              "  </tbody>\n",
              "</table>\n",
              "</div>\n",
              "      <button class=\"colab-df-convert\" onclick=\"convertToInteractive('df-75a83c7a-e148-48ba-9afa-eca2069997e9')\"\n",
              "              title=\"Convert this dataframe to an interactive table.\"\n",
              "              style=\"display:none;\">\n",
              "        \n",
              "  <svg xmlns=\"http://www.w3.org/2000/svg\" height=\"24px\"viewBox=\"0 0 24 24\"\n",
              "       width=\"24px\">\n",
              "    <path d=\"M0 0h24v24H0V0z\" fill=\"none\"/>\n",
              "    <path d=\"M18.56 5.44l.94 2.06.94-2.06 2.06-.94-2.06-.94-.94-2.06-.94 2.06-2.06.94zm-11 1L8.5 8.5l.94-2.06 2.06-.94-2.06-.94L8.5 2.5l-.94 2.06-2.06.94zm10 10l.94 2.06.94-2.06 2.06-.94-2.06-.94-.94-2.06-.94 2.06-2.06.94z\"/><path d=\"M17.41 7.96l-1.37-1.37c-.4-.4-.92-.59-1.43-.59-.52 0-1.04.2-1.43.59L10.3 9.45l-7.72 7.72c-.78.78-.78 2.05 0 2.83L4 21.41c.39.39.9.59 1.41.59.51 0 1.02-.2 1.41-.59l7.78-7.78 2.81-2.81c.8-.78.8-2.07 0-2.86zM5.41 20L4 18.59l7.72-7.72 1.47 1.35L5.41 20z\"/>\n",
              "  </svg>\n",
              "      </button>\n",
              "      \n",
              "  <style>\n",
              "    .colab-df-container {\n",
              "      display:flex;\n",
              "      flex-wrap:wrap;\n",
              "      gap: 12px;\n",
              "    }\n",
              "\n",
              "    .colab-df-convert {\n",
              "      background-color: #E8F0FE;\n",
              "      border: none;\n",
              "      border-radius: 50%;\n",
              "      cursor: pointer;\n",
              "      display: none;\n",
              "      fill: #1967D2;\n",
              "      height: 32px;\n",
              "      padding: 0 0 0 0;\n",
              "      width: 32px;\n",
              "    }\n",
              "\n",
              "    .colab-df-convert:hover {\n",
              "      background-color: #E2EBFA;\n",
              "      box-shadow: 0px 1px 2px rgba(60, 64, 67, 0.3), 0px 1px 3px 1px rgba(60, 64, 67, 0.15);\n",
              "      fill: #174EA6;\n",
              "    }\n",
              "\n",
              "    [theme=dark] .colab-df-convert {\n",
              "      background-color: #3B4455;\n",
              "      fill: #D2E3FC;\n",
              "    }\n",
              "\n",
              "    [theme=dark] .colab-df-convert:hover {\n",
              "      background-color: #434B5C;\n",
              "      box-shadow: 0px 1px 3px 1px rgba(0, 0, 0, 0.15);\n",
              "      filter: drop-shadow(0px 1px 2px rgba(0, 0, 0, 0.3));\n",
              "      fill: #FFFFFF;\n",
              "    }\n",
              "  </style>\n",
              "\n",
              "      <script>\n",
              "        const buttonEl =\n",
              "          document.querySelector('#df-75a83c7a-e148-48ba-9afa-eca2069997e9 button.colab-df-convert');\n",
              "        buttonEl.style.display =\n",
              "          google.colab.kernel.accessAllowed ? 'block' : 'none';\n",
              "\n",
              "        async function convertToInteractive(key) {\n",
              "          const element = document.querySelector('#df-75a83c7a-e148-48ba-9afa-eca2069997e9');\n",
              "          const dataTable =\n",
              "            await google.colab.kernel.invokeFunction('convertToInteractive',\n",
              "                                                     [key], {});\n",
              "          if (!dataTable) return;\n",
              "\n",
              "          const docLinkHtml = 'Like what you see? Visit the ' +\n",
              "            '<a target=\"_blank\" href=https://colab.research.google.com/notebooks/data_table.ipynb>data table notebook</a>'\n",
              "            + ' to learn more about interactive tables.';\n",
              "          element.innerHTML = '';\n",
              "          dataTable['output_type'] = 'display_data';\n",
              "          await google.colab.output.renderOutput(dataTable, element);\n",
              "          const docLink = document.createElement('div');\n",
              "          docLink.innerHTML = docLinkHtml;\n",
              "          element.appendChild(docLink);\n",
              "        }\n",
              "      </script>\n",
              "    </div>\n",
              "  </div>\n",
              "  "
            ]
          },
          "metadata": {},
          "execution_count": 534
        }
      ],
      "source": [
        "df.mode()"
      ]
    },
    {
      "cell_type": "code",
      "execution_count": 535,
      "metadata": {
        "id": "xICDpQguX7Ik",
        "colab": {
          "base_uri": "https://localhost:8080/"
        },
        "outputId": "c7f65142-c6f0-478b-d82f-b26dbab03df7"
      },
      "outputs": [
        {
          "output_type": "execute_result",
          "data": {
            "text/plain": [
              "0    1\n",
              "1    2\n",
              "2    2\n",
              "3    3\n",
              "4    4\n",
              "5    4\n",
              "6    5\n",
              "7    6\n",
              "8    6\n",
              "dtype: int64"
            ]
          },
          "metadata": {},
          "execution_count": 535
        }
      ],
      "source": [
        "exemplo = pd.Series([1, 2, 2, 3, 4, 4, 5, 6, 6])\n",
        "exemplo"
      ]
    },
    {
      "cell_type": "code",
      "execution_count": 536,
      "metadata": {
        "id": "x9lIRFESX7Il",
        "colab": {
          "base_uri": "https://localhost:8080/"
        },
        "outputId": "65060cd5-9f83-4d1e-a454-2fd3cd3f9e55"
      },
      "outputs": [
        {
          "output_type": "execute_result",
          "data": {
            "text/plain": [
              "0    2\n",
              "1    4\n",
              "2    6\n",
              "dtype: int64"
            ]
          },
          "metadata": {},
          "execution_count": 536
        }
      ],
      "source": [
        "exemplo.mode()"
      ]
    },
    {
      "cell_type": "markdown",
      "metadata": {
        "id": "YwhBwz-JjQMr"
      },
      "source": [
        "### Obtendo a moda em nosso dataset"
      ]
    },
    {
      "cell_type": "code",
      "execution_count": 537,
      "metadata": {
        "id": "mC8vvYk-jQMr",
        "colab": {
          "base_uri": "https://localhost:8080/"
        },
        "outputId": "1f0ada1e-dcf0-424c-d8f6-f1c19ceccd72"
      },
      "outputs": [
        {
          "output_type": "execute_result",
          "data": {
            "text/plain": [
              "0    788\n",
              "dtype: int64"
            ]
          },
          "metadata": {},
          "execution_count": 537
        }
      ],
      "source": [
        "dados['Renda'].mode()"
      ]
    },
    {
      "cell_type": "code",
      "execution_count": 538,
      "metadata": {
        "id": "Sdosy_vSX7Iw",
        "colab": {
          "base_uri": "https://localhost:8080/"
        },
        "outputId": "aef8ff69-f0d8-43de-e7da-1a84de48847e"
      },
      "outputs": [
        {
          "output_type": "execute_result",
          "data": {
            "text/plain": [
              "0    1.568128\n",
              "1    1.671225\n",
              "2    1.681659\n",
              "3    1.692977\n",
              "4    1.708163\n",
              "5    1.708370\n",
              "6    1.753842\n",
              "7    1.779073\n",
              "8    1.796462\n",
              "dtype: float64"
            ]
          },
          "metadata": {},
          "execution_count": 538
        }
      ],
      "source": [
        "dados['Altura'].mode()"
      ]
    },
    {
      "cell_type": "markdown",
      "metadata": {
        "id": "_-0gjQWFjQMu"
      },
      "source": [
        "## <font color=green>3.4 Relação entre média, mediana e moda</font>\n",
        "***"
      ]
    },
    {
      "cell_type": "markdown",
      "metadata": {
        "id": "0S7pa_jLjQMu"
      },
      "source": [
        "<img src='https://caelum-online-public.s3.amazonaws.com/1177-estatistica-parte1/01/img004.png' width='80%'>"
      ]
    },
    {
      "cell_type": "markdown",
      "metadata": {
        "id": "b7ZchyFsjQMu"
      },
      "source": [
        "### Avaliando a variável RENDA"
      ]
    },
    {
      "cell_type": "code",
      "source": [
        "grid = sns.displot(dados.query('Renda < 20000')['Renda'],\n",
        "                 bins = 25,\n",
        "                 color = 'green',\n",
        "                 stat='density', \n",
        "                 kde = True,)\n",
        "ax = grid.ax\n",
        "ax.figure.set_size_inches(12,6)\n",
        "ax.set_title('Avaliando Variável Renda', fontsize=18)\n",
        "ax.set_ylabel('Densidade', fontsize=14)\n",
        "ax.set_xlabel('Valor', fontsize=14)\n",
        "plt.show()"
      ],
      "metadata": {
        "colab": {
          "base_uri": "https://localhost:8080/",
          "height": 455
        },
        "id": "gon7h2WLx5gF",
        "outputId": "e1169965-cf9f-47eb-9527-06cb7abca45e"
      },
      "execution_count": 539,
      "outputs": [
        {
          "output_type": "display_data",
          "data": {
            "text/plain": [
              "<Figure size 864x432 with 1 Axes>"
            ],
            "image/png": "[encoded data removed]"
          },
          "metadata": {
            "needs_background": "light"
          }
        }
      ]
    },
    {
      "cell_type": "code",
      "execution_count": 540,
      "metadata": {
        "id": "krws6f_SjQMw",
        "colab": {
          "base_uri": "https://localhost:8080/"
        },
        "outputId": "4763c67d-3776-4978-9d38-67693d105420"
      },
      "outputs": [
        {
          "output_type": "execute_result",
          "data": {
            "text/plain": [
              "788"
            ]
          },
          "metadata": {},
          "execution_count": 540
        }
      ],
      "source": [
        "Moda = dados['Renda'].mode()[0]\n",
        "Moda"
      ]
    },
    {
      "cell_type": "code",
      "execution_count": 541,
      "metadata": {
        "id": "_Y7KpB25jQMx",
        "colab": {
          "base_uri": "https://localhost:8080/"
        },
        "outputId": "ae3a6415-89d6-447a-9c3d-abb9bf6818a1"
      },
      "outputs": [
        {
          "output_type": "execute_result",
          "data": {
            "text/plain": [
              "1200.0"
            ]
          },
          "metadata": {},
          "execution_count": 541
        }
      ],
      "source": [
        "Mediana = dados['Renda'].median()\n",
        "Mediana"
      ]
    },
    {
      "cell_type": "code",
      "execution_count": 542,
      "metadata": {
        "id": "gQ0e56VajQMy",
        "colab": {
          "base_uri": "https://localhost:8080/"
        },
        "outputId": "44394c8d-34ad-47ee-91cf-0c96dc2a1bf1"
      },
      "outputs": [
        {
          "output_type": "execute_result",
          "data": {
            "text/plain": [
              "2000.3831988547631"
            ]
          },
          "metadata": {},
          "execution_count": 542
        }
      ],
      "source": [
        "Media = dados['Renda'].mean()\n",
        "Media"
      ]
    },
    {
      "cell_type": "code",
      "execution_count": 543,
      "metadata": {
        "id": "nX6lnCBujQM0",
        "colab": {
          "base_uri": "https://localhost:8080/"
        },
        "outputId": "db6dea4c-f091-4507-e1ac-4191483d5c83"
      },
      "outputs": [
        {
          "output_type": "execute_result",
          "data": {
            "text/plain": [
              "True"
            ]
          },
          "metadata": {},
          "execution_count": 543
        }
      ],
      "source": [
        "Moda < Mediana < Media"
      ]
    },
    {
      "cell_type": "markdown",
      "metadata": {
        "id": "FnLQAxSijQM1"
      },
      "source": [
        "***"
      ]
    },
    {
      "cell_type": "markdown",
      "metadata": {
        "id": "WazchssNjQM1"
      },
      "source": [
        "### Avaliando a variável ALTURA"
      ]
    },
    {
      "cell_type": "code",
      "source": [
        "grid = sns.displot(dados['Altura'],\n",
        "                   bins = 25,\n",
        "                   color = 'green',\n",
        "                   stat='density', \n",
        "                   kde = True,)\n",
        "ax = grid.ax\n",
        "ax.figure.set_size_inches(12,6)\n",
        "ax.set_title('Avaliando Variável Altura', fontsize=18)\n",
        "ax.set_ylabel('Densidade', fontsize=14)\n",
        "ax.set_xlabel('Metros', fontsize=14)\n",
        "plt.show()"
      ],
      "metadata": {
        "colab": {
          "base_uri": "https://localhost:8080/",
          "height": 455
        },
        "id": "Mzqs_5abwaJ1",
        "outputId": "47287e1f-0557-43be-b2ca-6d590e4868c0"
      },
      "execution_count": 544,
      "outputs": [
        {
          "output_type": "display_data",
          "data": {
            "text/plain": [
              "<Figure size 864x432 with 1 Axes>"
            ],
            "image/png": "[encoded data removed]"
          },
          "metadata": {
            "needs_background": "light"
          }
        }
      ]
    },
    {
      "cell_type": "code",
      "execution_count": 545,
      "metadata": {
        "id": "EkgerGuXjQM3",
        "colab": {
          "base_uri": "https://localhost:8080/"
        },
        "outputId": "647e2345-ca96-4854-d5c8-651c9e7c2e73"
      },
      "outputs": [
        {
          "output_type": "execute_result",
          "data": {
            "text/plain": [
              "0    1.568128\n",
              "1    1.671225\n",
              "2    1.681659\n",
              "3    1.692977\n",
              "4    1.708163\n",
              "5    1.708370\n",
              "6    1.753842\n",
              "7    1.779073\n",
              "8    1.796462\n",
              "dtype: float64"
            ]
          },
          "metadata": {},
          "execution_count": 545
        }
      ],
      "source": [
        "Moda2 = dados['Altura'].mode()\n",
        "Moda2"
      ]
    },
    {
      "cell_type": "code",
      "execution_count": 546,
      "metadata": {
        "id": "Jj6MFUXbjQM4",
        "colab": {
          "base_uri": "https://localhost:8080/"
        },
        "outputId": "34eafd2c-f94c-465e-97b0-c5163396d524"
      },
      "outputs": [
        {
          "output_type": "execute_result",
          "data": {
            "text/plain": [
              "1.6993247325"
            ]
          },
          "metadata": {},
          "execution_count": 546
        }
      ],
      "source": [
        "Mediana2 = dados['Altura'].median()\n",
        "Mediana2"
      ]
    },
    {
      "cell_type": "code",
      "execution_count": 547,
      "metadata": {
        "id": "84X-3AzvjQM5",
        "colab": {
          "base_uri": "https://localhost:8080/"
        },
        "outputId": "609ffc79-dd84-42fb-f080-f3b2899b8244"
      },
      "outputs": [
        {
          "output_type": "execute_result",
          "data": {
            "text/plain": [
              "1.6995124540575812"
            ]
          },
          "metadata": {},
          "execution_count": 547
        }
      ],
      "source": [
        "Media2 = dados['Altura'].mean()\n",
        "Media2"
      ]
    },
    {
      "cell_type": "markdown",
      "metadata": {
        "id": "PJIMB8i8jQM6"
      },
      "source": [
        "***"
      ]
    },
    {
      "cell_type": "markdown",
      "metadata": {
        "id": "eS4I2H7jjQM7"
      },
      "source": [
        "### Avaliando a variável ANOS DE ESTUDO"
      ]
    },
    {
      "cell_type": "code",
      "execution_count": 548,
      "metadata": {
        "id": "NPCcjXqPjQM8",
        "colab": {
          "base_uri": "https://localhost:8080/",
          "height": 453
        },
        "outputId": "aa0edef9-de41-4e5d-e556-220fde0e7224"
      },
      "outputs": [
        {
          "output_type": "display_data",
          "data": {
            "text/plain": [
              "<Figure size 864x432 with 1 Axes>"
            ],
            "image/png": "[encoded data removed]"
          },
          "metadata": {
            "needs_background": "light"
          }
        }
      ],
      "source": [
        "grid = sns.displot(dados['Anos de Estudo'],\n",
        "                 bins = 17,\n",
        "                 color = 'green',\n",
        "                 stat='density', \n",
        "                 kde = True,)\n",
        "ax = grid.ax\n",
        "ax.figure.set_size_inches(12,6)\n",
        "ax.set_title('Avaliando acumulo Anos de Estudo', fontsize=18)\n",
        "ax.set_ylabel('Acumulado', fontsize=14)\n",
        "ax.set_xlabel('Anos', fontsize=14)\n",
        "plt.show()"
      ]
    },
    {
      "cell_type": "code",
      "execution_count": 549,
      "metadata": {
        "id": "PjfvPYUajQM9",
        "colab": {
          "base_uri": "https://localhost:8080/"
        },
        "outputId": "d1ca60b9-a9a1-4abc-fe72-bec857c2f3c6"
      },
      "outputs": [
        {
          "output_type": "execute_result",
          "data": {
            "text/plain": [
              "12"
            ]
          },
          "metadata": {},
          "execution_count": 549
        }
      ],
      "source": [
        "Moda3 = dados['Anos de Estudo'].mode()[0]\n",
        "Moda3"
      ]
    },
    {
      "cell_type": "code",
      "execution_count": 550,
      "metadata": {
        "id": "VF_Bj8x2jQM-",
        "colab": {
          "base_uri": "https://localhost:8080/"
        },
        "outputId": "55249297-30ba-4198-8acb-04bf5fa824c5"
      },
      "outputs": [
        {
          "output_type": "execute_result",
          "data": {
            "text/plain": [
              "11.0"
            ]
          },
          "metadata": {},
          "execution_count": 550
        }
      ],
      "source": [
        "Mediana3 = dados['Anos de Estudo'].median()\n",
        "Mediana3"
      ]
    },
    {
      "cell_type": "code",
      "execution_count": 551,
      "metadata": {
        "id": "ohqUZ5RsjQNA",
        "colab": {
          "base_uri": "https://localhost:8080/"
        },
        "outputId": "bb48fee4-3c5e-41f3-db56-138900a9dbab"
      },
      "outputs": [
        {
          "output_type": "execute_result",
          "data": {
            "text/plain": [
              "9.469664237376367"
            ]
          },
          "metadata": {},
          "execution_count": 551
        }
      ],
      "source": [
        "Media3 = dados['Anos de Estudo'].mean()\n",
        "Media3"
      ]
    },
    {
      "cell_type": "code",
      "execution_count": 552,
      "metadata": {
        "id": "AwM8UvApjQNC",
        "colab": {
          "base_uri": "https://localhost:8080/"
        },
        "outputId": "77b0426e-0514-491a-d6d2-77fda10214ae"
      },
      "outputs": [
        {
          "output_type": "execute_result",
          "data": {
            "text/plain": [
              "True"
            ]
          },
          "metadata": {},
          "execution_count": 552
        }
      ],
      "source": [
        "Moda3 > Mediana3 > Media3"
      ]
    },
    {
      "cell_type": "markdown",
      "metadata": {
        "id": "vcaIo45UjQND"
      },
      "source": [
        "# <font color=green>4 MEDIDAS SEPARATRIZES</font>\n",
        "***"
      ]
    },
    {
      "cell_type": "markdown",
      "metadata": {
        "id": "f4XrApNxjQNE"
      },
      "source": [
        "## <font color=green>4.1 Quartis, decis e percentis</font>\n",
        "***\n",
        "\n",
        "Há uma série de medidas de posição semelhantes na sua concepção à mediana, embora não sejam medidas de tendência central. Como se sabe, a mediana divide a distribuição em duas partes iguais quanto ao número de elementos de cada parte. Já os quartis permitem dividir a distribuição em quatro partes iguais quanto ao número de elementos de cada uma; os decis em dez partes e os centis em cem partes iguais."
      ]
    },
    {
      "cell_type": "code",
      "execution_count": 553,
      "metadata": {
        "id": "VmbdUO-ujQNE",
        "colab": {
          "base_uri": "https://localhost:8080/"
        },
        "outputId": "e6ae86a4-fa55-4382-fb6d-9f61876d0e4b"
      },
      "outputs": [
        {
          "output_type": "execute_result",
          "data": {
            "text/plain": [
              "0.25     788.0\n",
              "0.50    1200.0\n",
              "0.75    2000.0\n",
              "Name: Renda, dtype: float64"
            ]
          },
          "metadata": {},
          "execution_count": 553
        }
      ],
      "source": [
        "dados['Renda'].quantile([0.25, 0.5, 0.75])"
      ]
    },
    {
      "cell_type": "code",
      "execution_count": 554,
      "metadata": {
        "id": "gyiJDAMbjQNF",
        "colab": {
          "base_uri": "https://localhost:8080/"
        },
        "outputId": "4b5dc90e-1b47-4a60-b52e-0d9d869471cb"
      },
      "outputs": [
        {
          "output_type": "execute_result",
          "data": {
            "text/plain": [
              "[0.1, 0.2, 0.3, 0.4, 0.5, 0.6, 0.7, 0.8, 0.9]"
            ]
          },
          "metadata": {},
          "execution_count": 554
        }
      ],
      "source": [
        "[i/10 for i in range(1, 10)]"
      ]
    },
    {
      "cell_type": "code",
      "execution_count": 555,
      "metadata": {
        "id": "EpRKboV5jQNG",
        "colab": {
          "base_uri": "https://localhost:8080/"
        },
        "outputId": "17046674-557c-4af5-b231-65d96b3326a0"
      },
      "outputs": [
        {
          "output_type": "execute_result",
          "data": {
            "text/plain": [
              "0.1     350.0\n",
              "0.2     788.0\n",
              "0.3     800.0\n",
              "0.4    1000.0\n",
              "0.5    1200.0\n",
              "0.6    1500.0\n",
              "0.7    1900.0\n",
              "0.8    2500.0\n",
              "0.9    4000.0\n",
              "Name: Renda, dtype: float64"
            ]
          },
          "metadata": {},
          "execution_count": 555
        }
      ],
      "source": [
        "dados['Renda'].quantile([i/10 for i in range(1, 10)])"
      ]
    },
    {
      "cell_type": "code",
      "execution_count": 556,
      "metadata": {
        "id": "LQW--GapjQNI",
        "scrolled": true,
        "colab": {
          "base_uri": "https://localhost:8080/"
        },
        "outputId": "08c98469-c738-4560-a82b-8a7e45bba41a"
      },
      "outputs": [
        {
          "output_type": "execute_result",
          "data": {
            "text/plain": [
              "0.01        0.0\n",
              "0.02        0.0\n",
              "0.03        0.0\n",
              "0.04       50.0\n",
              "0.05      100.0\n",
              "0.06      180.0\n",
              "0.07      200.0\n",
              "0.08      280.0\n",
              "0.09      300.0\n",
              "0.10      350.0\n",
              "0.11      400.0\n",
              "0.12      400.0\n",
              "0.13      480.0\n",
              "0.14      500.0\n",
              "0.15      500.0\n",
              "0.16      600.0\n",
              "0.17      600.0\n",
              "0.18      700.0\n",
              "0.19      700.0\n",
              "0.20      788.0\n",
              "0.21      788.0\n",
              "0.22      788.0\n",
              "0.23      788.0\n",
              "0.24      788.0\n",
              "0.25      788.0\n",
              "0.26      788.0\n",
              "0.27      788.0\n",
              "0.28      788.0\n",
              "0.29      789.0\n",
              "0.30      800.0\n",
              "0.31      800.0\n",
              "0.32      800.0\n",
              "0.33      840.0\n",
              "0.34      870.0\n",
              "0.35      900.0\n",
              "0.36      900.0\n",
              "0.37      920.0\n",
              "0.38      970.0\n",
              "0.39     1000.0\n",
              "0.40     1000.0\n",
              "0.41     1000.0\n",
              "0.42     1000.0\n",
              "0.43     1000.0\n",
              "0.44     1014.0\n",
              "0.45     1100.0\n",
              "0.46     1100.0\n",
              "0.47     1150.0\n",
              "0.48     1200.0\n",
              "0.49     1200.0\n",
              "0.50     1200.0\n",
              "0.51     1200.0\n",
              "0.52     1200.0\n",
              "0.53     1200.0\n",
              "0.54     1300.0\n",
              "0.55     1300.0\n",
              "0.56     1350.0\n",
              "0.57     1400.0\n",
              "0.58     1490.0\n",
              "0.59     1500.0\n",
              "0.60     1500.0\n",
              "0.61     1500.0\n",
              "0.62     1500.0\n",
              "0.63     1500.0\n",
              "0.64     1520.0\n",
              "0.65     1600.0\n",
              "0.66     1600.0\n",
              "0.67     1700.0\n",
              "0.68     1800.0\n",
              "0.69     1800.0\n",
              "0.70     1900.0\n",
              "0.71     2000.0\n",
              "0.72     2000.0\n",
              "0.73     2000.0\n",
              "0.74     2000.0\n",
              "0.75     2000.0\n",
              "0.76     2000.0\n",
              "0.77     2200.0\n",
              "0.78     2300.0\n",
              "0.79     2400.0\n",
              "0.80     2500.0\n",
              "0.81     2500.0\n",
              "0.82     2600.0\n",
              "0.83     3000.0\n",
              "0.84     3000.0\n",
              "0.85     3000.0\n",
              "0.86     3000.0\n",
              "0.87     3400.0\n",
              "0.88     3500.0\n",
              "0.89     4000.0\n",
              "0.90     4000.0\n",
              "0.91     4200.0\n",
              "0.92     5000.0\n",
              "0.93     5000.0\n",
              "0.94     5400.0\n",
              "0.95     6000.0\n",
              "0.96     7000.0\n",
              "0.97     8000.0\n",
              "0.98    10000.0\n",
              "0.99    15000.0\n",
              "Name: Renda, dtype: float64"
            ]
          },
          "metadata": {},
          "execution_count": 556
        }
      ],
      "source": [
        "dados['Renda'].quantile([i/100 for i in range(1, 100)])                 "
      ]
    },
    {
      "cell_type": "code",
      "source": [
        "grid = sns.displot(dados.query('Renda < 20000')['Renda'],\n",
        "                   color = 'green',\n",
        "                   stat='density', \n",
        "                   kde = True,\n",
        "                   cumulative=True,\n",
        "                   bins = 50)\n",
        "\n",
        "ax = grid.ax\n",
        "ax.figure.set_size_inches(14, 6)\n",
        "ax.set_title('Distribuição de Frequências Acumulada', fontsize=18)\n",
        "ax.set_ylabel('Acumulado', fontsize=14)\n",
        "ax.set_xlabel('Valor', fontsize=14)\n",
        "plt.show()"
      ],
      "metadata": {
        "colab": {
          "base_uri": "https://localhost:8080/",
          "height": 455
        },
        "id": "WlGyMYJ6taVq",
        "outputId": "df9883c7-183b-4e43-d4e4-8dec1a75aa77"
      },
      "execution_count": 557,
      "outputs": [
        {
          "output_type": "display_data",
          "data": {
            "text/plain": [
              "<Figure size 1008x432 with 1 Axes>"
            ],
            "image/png": "[encoded data removed]"
          },
          "metadata": {
            "needs_background": "light"
          }
        }
      ]
    },
    {
      "cell_type": "code",
      "execution_count": 558,
      "metadata": {
        "id": "GGHVrQA7jQNI",
        "colab": {
          "base_uri": "https://localhost:8080/"
        },
        "outputId": "fbc4bcee-a332-4fb8-f195-76a2e5043a99"
      },
      "outputs": [
        {
          "output_type": "execute_result",
          "data": {
            "text/plain": [
              "0.1    28.0\n",
              "0.2    33.0\n",
              "0.3    36.0\n",
              "0.4    40.0\n",
              "0.5    43.0\n",
              "0.6    47.0\n",
              "0.7    51.0\n",
              "0.8    55.0\n",
              "0.9    61.0\n",
              "Name: Idade, dtype: float64"
            ]
          },
          "metadata": {},
          "execution_count": 558
        }
      ],
      "source": [
        "dados['Idade'].quantile([i/10 for i in range(1, 10)])    "
      ]
    },
    {
      "cell_type": "code",
      "source": [
        "grid = sns.displot(dados['Idade'],\n",
        "                   color = 'green',\n",
        "                   stat='density', \n",
        "                   kde = True,\n",
        "                   cumulative=True,\n",
        "                   bins = 10)\n",
        "\n",
        "ax = grid.ax\n",
        "ax.figure.set_size_inches(14, 6)\n",
        "ax.set_title('Distribuição de Frequências Acumulada', fontsize=18)\n",
        "ax.set_ylabel('Acumulado', fontsize=14)\n",
        "ax.set_xlabel('Anos', fontsize=14)\n",
        "plt.show()"
      ],
      "metadata": {
        "colab": {
          "base_uri": "https://localhost:8080/",
          "height": 455
        },
        "id": "k9adP2XFrig8",
        "outputId": "4c85d8a5-b018-498b-cf95-d277fb3c5b63"
      },
      "execution_count": 559,
      "outputs": [
        {
          "output_type": "display_data",
          "data": {
            "text/plain": [
              "<Figure size 1008x432 with 1 Axes>"
            ],
            "image/png": "[encoded data removed]"
          },
          "metadata": {
            "needs_background": "light"
          }
        }
      ]
    },
    {
      "cell_type": "markdown",
      "metadata": {
        "id": "6gIeZO_CjQNJ"
      },
      "source": [
        "## <font color=green>4.2 Box-plot</font>\n",
        "***\n",
        "\n",
        "O box plot dá uma idéia da posição, dispersão, assimetria, caudas e dados discrepantes (outliers). A posição central é dada pela mediana e a dispersão por $IIQ$. As posições relativas de $Q1$, $Mediana$ e $Q3$ dão uma noção da simetria da distribuição. Os comprimentos das caudas são dados pelas linhas que vão do retângulo aos valores remotos e pelos valores atípicos."
      ]
    },
    {
      "cell_type": "markdown",
      "metadata": {
        "id": "VeiTE_gvjQNK"
      },
      "source": [
        "<img src='https://caelum-online-public.s3.amazonaws.com/1177-estatistica-parte1/01/img005.png' width='65%'>"
      ]
    },
    {
      "cell_type": "code",
      "execution_count": 560,
      "metadata": {
        "id": "pBY2EWkzjQNK",
        "colab": {
          "base_uri": "https://localhost:8080/",
          "height": 303
        },
        "outputId": "21868332-dada-43e1-e618-b9a638775331"
      },
      "outputs": [
        {
          "output_type": "display_data",
          "data": {
            "text/plain": [
              "<Figure size 864x288 with 1 Axes>"
            ],
            "image/png": "[encoded data removed]"
          },
          "metadata": {
            "needs_background": "light"
          }
        }
      ],
      "source": [
        "ax = sns.boxplot(x = 'Altura', data = dados, orient = 'h')\n",
        "ax.figure.set_size_inches(12, 4)\n",
        "ax.set_title('Altura', fontsize = 18)\n",
        "ax.set_xlabel('Metros', fontsize = 14)\n",
        "plt.show()"
      ]
    },
    {
      "cell_type": "code",
      "execution_count": 561,
      "metadata": {
        "id": "AEhX7-ggsuiY",
        "colab": {
          "base_uri": "https://localhost:8080/",
          "height": 303
        },
        "outputId": "b3488ffa-3a49-4c1d-f934-feed3333f3c5"
      },
      "outputs": [
        {
          "output_type": "display_data",
          "data": {
            "text/plain": [
              "<Figure size 864x288 with 1 Axes>"
            ],
            "image/png": "[encoded data removed]"
          },
          "metadata": {
            "needs_background": "light"
          }
        }
      ],
      "source": [
        "ax = sns.boxplot(x = 'Altura', y = 'Sexo', data = dados, orient = 'h')\n",
        "ax.figure.set_size_inches(12, 4)\n",
        "ax.set_title('Altura', fontsize = 18)\n",
        "ax.set_xlabel('Metros', fontsize = 14)\n",
        "plt.show()"
      ]
    },
    {
      "cell_type": "code",
      "execution_count": 562,
      "metadata": {
        "id": "2ZPrRov1suSF",
        "colab": {
          "base_uri": "https://localhost:8080/",
          "height": 303
        },
        "outputId": "7ead71f3-8ecb-490a-e93c-ccc320884956"
      },
      "outputs": [
        {
          "output_type": "display_data",
          "data": {
            "text/plain": [
              "<Figure size 864x288 with 1 Axes>"
            ],
            "image/png": "[encoded data removed]"
          },
          "metadata": {
            "needs_background": "light"
          }
        }
      ],
      "source": [
        "ax = sns.boxplot(x = 'Renda', data = dados.query('Renda < 10000'), orient = 'h')\n",
        "ax.figure.set_size_inches(12, 4)\n",
        "ax.set_title('Renda', fontsize = 18)\n",
        "ax.set_xlabel('R$ ', fontsize = 14)\n",
        "plt.show()"
      ]
    },
    {
      "cell_type": "code",
      "execution_count": 563,
      "metadata": {
        "id": "CSwlKUrrsuFi",
        "colab": {
          "base_uri": "https://localhost:8080/",
          "height": 303
        },
        "outputId": "1ceef368-80d7-40a7-de38-ac5d907cf7e8"
      },
      "outputs": [
        {
          "output_type": "display_data",
          "data": {
            "text/plain": [
              "<Figure size 864x288 with 1 Axes>"
            ],
            "image/png": "[encoded data removed]"
          },
          "metadata": {
            "needs_background": "light"
          }
        }
      ],
      "source": [
        "ax = sns.boxplot(x = 'Renda', y = 'Sexo', data = dados.query('Renda < 10000'), orient = 'h')\n",
        "ax.figure.set_size_inches(12, 4)\n",
        "ax.set_title('Renda', fontsize = 18)\n",
        "ax.set_xlabel('R$ ', fontsize = 14)\n",
        "plt.show()"
      ]
    },
    {
      "cell_type": "code",
      "execution_count": 564,
      "metadata": {
        "id": "IDrzBcJ_jQNL",
        "colab": {
          "base_uri": "https://localhost:8080/",
          "height": 303
        },
        "outputId": "2679b291-292c-4269-b72c-967f64ab945f"
      },
      "outputs": [
        {
          "output_type": "display_data",
          "data": {
            "text/plain": [
              "<Figure size 864x288 with 1 Axes>"
            ],
            "image/png": "[encoded data removed]"
          },
          "metadata": {
            "needs_background": "light"
          }
        }
      ],
      "source": [
        "ax = sns.boxplot(x = 'Anos de Estudo', data = dados, orient = 'h')\n",
        "ax.figure.set_size_inches(12, 4)\n",
        "ax.set_title('Anos de Estudo', fontsize = 18)\n",
        "ax.set_xlabel('Anos', fontsize = 14)\n",
        "plt.show()"
      ]
    },
    {
      "cell_type": "code",
      "execution_count": 565,
      "metadata": {
        "id": "V3I-2KsbjQNM",
        "colab": {
          "base_uri": "https://localhost:8080/",
          "height": 303
        },
        "outputId": "60ae92e1-f1c8-454e-fa4d-ba79c8818f5c"
      },
      "outputs": [
        {
          "output_type": "display_data",
          "data": {
            "text/plain": [
              "<Figure size 864x288 with 1 Axes>"
            ],
            "image/png": "[encoded data removed]"
          },
          "metadata": {
            "needs_background": "light"
          }
        }
      ],
      "source": [
        "ax = sns.boxplot(x = 'Anos de Estudo', y = 'Sexo', data = dados, orient = 'h')\n",
        "ax.figure.set_size_inches(12, 4)\n",
        "ax.set_title('Anos de Estudo', fontsize = 18)\n",
        "ax.set_xlabel('Anos', fontsize = 14)\n",
        "plt.show()"
      ]
    },
    {
      "cell_type": "markdown",
      "metadata": {
        "id": "amloMZwVjQNN"
      },
      "source": [
        "<img src='https://caelum-online-public.s3.amazonaws.com/1177-estatistica-parte1/01/img006.png' width='80%'>"
      ]
    },
    {
      "cell_type": "markdown",
      "metadata": {
        "id": "aJ6v_NI9jQNN"
      },
      "source": [
        "# <font color=green>5 MEDIDAS DE DISPERSÃO</font>\n",
        "***\n",
        "\n",
        "Embora as medidas de posição forneçam uma sumarização bastante importante dos dados, elas podem não ser suficientes para caracterizar conjuntos distintos, especialmente quando as observações de determinada distribuição apresentarem dados muito dispersos."
      ]
    },
    {
      "cell_type": "code",
      "execution_count": 566,
      "metadata": {
        "id": "0sL31blV7nz3",
        "colab": {
          "base_uri": "https://localhost:8080/",
          "height": 269
        },
        "outputId": "0d132a8f-c6cc-42f3-f31b-94c39bfa16ed"
      },
      "outputs": [
        {
          "output_type": "execute_result",
          "data": {
            "text/plain": [
              "Matérias    Beltrano  Fulano  Sicrano\n",
              "Matemática      10.0       8      7.5\n",
              "Português        2.0      10      8.0\n",
              "Inglês           0.5       4      7.0\n",
              "Geografia        1.0       8      8.0\n",
              "História         3.0       6      8.0\n",
              "Física           9.5      10      8.5\n",
              "Química         10.0       8      7.0"
            ],
            "text/html": [
              "\n",
              "  <div id=\"df-33e72a5f-7a8e-4d2b-bf9d-3dbc691b0431\">\n",
              "    <div class=\"colab-df-container\">\n",
              "      <div>\n",
              "<style scoped>\n",
              "    .dataframe tbody tr th:only-of-type {\n",
              "        vertical-align: middle;\n",
              "    }\n",
              "\n",
              "    .dataframe tbody tr th {\n",
              "        vertical-align: top;\n",
              "    }\n",
              "\n",
              "    .dataframe thead th {\n",
              "        text-align: right;\n",
              "    }\n",
              "</style>\n",
              "<table border=\"1\" class=\"dataframe\">\n",
              "  <thead>\n",
              "    <tr style=\"text-align: right;\">\n",
              "      <th>Matérias</th>\n",
              "      <th>Beltrano</th>\n",
              "      <th>Fulano</th>\n",
              "      <th>Sicrano</th>\n",
              "    </tr>\n",
              "  </thead>\n",
              "  <tbody>\n",
              "    <tr>\n",
              "      <th>Matemática</th>\n",
              "      <td>10.0</td>\n",
              "      <td>8</td>\n",
              "      <td>7.5</td>\n",
              "    </tr>\n",
              "    <tr>\n",
              "      <th>Português</th>\n",
              "      <td>2.0</td>\n",
              "      <td>10</td>\n",
              "      <td>8.0</td>\n",
              "    </tr>\n",
              "    <tr>\n",
              "      <th>Inglês</th>\n",
              "      <td>0.5</td>\n",
              "      <td>4</td>\n",
              "      <td>7.0</td>\n",
              "    </tr>\n",
              "    <tr>\n",
              "      <th>Geografia</th>\n",
              "      <td>1.0</td>\n",
              "      <td>8</td>\n",
              "      <td>8.0</td>\n",
              "    </tr>\n",
              "    <tr>\n",
              "      <th>História</th>\n",
              "      <td>3.0</td>\n",
              "      <td>6</td>\n",
              "      <td>8.0</td>\n",
              "    </tr>\n",
              "    <tr>\n",
              "      <th>Física</th>\n",
              "      <td>9.5</td>\n",
              "      <td>10</td>\n",
              "      <td>8.5</td>\n",
              "    </tr>\n",
              "    <tr>\n",
              "      <th>Química</th>\n",
              "      <td>10.0</td>\n",
              "      <td>8</td>\n",
              "      <td>7.0</td>\n",
              "    </tr>\n",
              "  </tbody>\n",
              "</table>\n",
              "</div>\n",
              "      <button class=\"colab-df-convert\" onclick=\"convertToInteractive('df-33e72a5f-7a8e-4d2b-bf9d-3dbc691b0431')\"\n",
              "              title=\"Convert this dataframe to an interactive table.\"\n",
              "              style=\"display:none;\">\n",
              "        \n",
              "  <svg xmlns=\"http://www.w3.org/2000/svg\" height=\"24px\"viewBox=\"0 0 24 24\"\n",
              "       width=\"24px\">\n",
              "    <path d=\"M0 0h24v24H0V0z\" fill=\"none\"/>\n",
              "    <path d=\"M18.56 5.44l.94 2.06.94-2.06 2.06-.94-2.06-.94-.94-2.06-.94 2.06-2.06.94zm-11 1L8.5 8.5l.94-2.06 2.06-.94-2.06-.94L8.5 2.5l-.94 2.06-2.06.94zm10 10l.94 2.06.94-2.06 2.06-.94-2.06-.94-.94-2.06-.94 2.06-2.06.94z\"/><path d=\"M17.41 7.96l-1.37-1.37c-.4-.4-.92-.59-1.43-.59-.52 0-1.04.2-1.43.59L10.3 9.45l-7.72 7.72c-.78.78-.78 2.05 0 2.83L4 21.41c.39.39.9.59 1.41.59.51 0 1.02-.2 1.41-.59l7.78-7.78 2.81-2.81c.8-.78.8-2.07 0-2.86zM5.41 20L4 18.59l7.72-7.72 1.47 1.35L5.41 20z\"/>\n",
              "  </svg>\n",
              "      </button>\n",
              "      \n",
              "  <style>\n",
              "    .colab-df-container {\n",
              "      display:flex;\n",
              "      flex-wrap:wrap;\n",
              "      gap: 12px;\n",
              "    }\n",
              "\n",
              "    .colab-df-convert {\n",
              "      background-color: #E8F0FE;\n",
              "      border: none;\n",
              "      border-radius: 50%;\n",
              "      cursor: pointer;\n",
              "      display: none;\n",
              "      fill: #1967D2;\n",
              "      height: 32px;\n",
              "      padding: 0 0 0 0;\n",
              "      width: 32px;\n",
              "    }\n",
              "\n",
              "    .colab-df-convert:hover {\n",
              "      background-color: #E2EBFA;\n",
              "      box-shadow: 0px 1px 2px rgba(60, 64, 67, 0.3), 0px 1px 3px 1px rgba(60, 64, 67, 0.15);\n",
              "      fill: #174EA6;\n",
              "    }\n",
              "\n",
              "    [theme=dark] .colab-df-convert {\n",
              "      background-color: #3B4455;\n",
              "      fill: #D2E3FC;\n",
              "    }\n",
              "\n",
              "    [theme=dark] .colab-df-convert:hover {\n",
              "      background-color: #434B5C;\n",
              "      box-shadow: 0px 1px 3px 1px rgba(0, 0, 0, 0.15);\n",
              "      filter: drop-shadow(0px 1px 2px rgba(0, 0, 0, 0.3));\n",
              "      fill: #FFFFFF;\n",
              "    }\n",
              "  </style>\n",
              "\n",
              "      <script>\n",
              "        const buttonEl =\n",
              "          document.querySelector('#df-33e72a5f-7a8e-4d2b-bf9d-3dbc691b0431 button.colab-df-convert');\n",
              "        buttonEl.style.display =\n",
              "          google.colab.kernel.accessAllowed ? 'block' : 'none';\n",
              "\n",
              "        async function convertToInteractive(key) {\n",
              "          const element = document.querySelector('#df-33e72a5f-7a8e-4d2b-bf9d-3dbc691b0431');\n",
              "          const dataTable =\n",
              "            await google.colab.kernel.invokeFunction('convertToInteractive',\n",
              "                                                     [key], {});\n",
              "          if (!dataTable) return;\n",
              "\n",
              "          const docLinkHtml = 'Like what you see? Visit the ' +\n",
              "            '<a target=\"_blank\" href=https://colab.research.google.com/notebooks/data_table.ipynb>data table notebook</a>'\n",
              "            + ' to learn more about interactive tables.';\n",
              "          element.innerHTML = '';\n",
              "          dataTable['output_type'] = 'display_data';\n",
              "          await google.colab.output.renderOutput(dataTable, element);\n",
              "          const docLink = document.createElement('div');\n",
              "          docLink.innerHTML = docLinkHtml;\n",
              "          element.appendChild(docLink);\n",
              "        }\n",
              "      </script>\n",
              "    </div>\n",
              "  </div>\n",
              "  "
            ]
          },
          "metadata": {},
          "execution_count": 566
        }
      ],
      "source": [
        "df"
      ]
    },
    {
      "cell_type": "code",
      "execution_count": 567,
      "metadata": {
        "id": "f3pAri4G7nc4",
        "colab": {
          "base_uri": "https://localhost:8080/"
        },
        "outputId": "f4dda2eb-2f1d-4d25-9aa5-d210d42ab198"
      },
      "outputs": [
        {
          "output_type": "execute_result",
          "data": {
            "text/plain": [
              "Matérias\n",
              "Beltrano    5.142857\n",
              "Fulano      7.714286\n",
              "Sicrano     7.714286\n",
              "dtype: float64"
            ]
          },
          "metadata": {},
          "execution_count": 567
        }
      ],
      "source": [
        "df.mean()"
      ]
    },
    {
      "cell_type": "code",
      "execution_count": 568,
      "metadata": {
        "id": "8_Q2tOTmjQNO",
        "colab": {
          "base_uri": "https://localhost:8080/"
        },
        "outputId": "4185bcfa-6815-42a7-a7e4-52e2e49c6674"
      },
      "outputs": [
        {
          "output_type": "execute_result",
          "data": {
            "text/plain": [
              "Matérias\n",
              "Beltrano    3.0\n",
              "Fulano      8.0\n",
              "Sicrano     8.0\n",
              "dtype: float64"
            ]
          },
          "metadata": {},
          "execution_count": 568
        }
      ],
      "source": [
        "df.median()"
      ]
    },
    {
      "cell_type": "markdown",
      "metadata": {
        "id": "D6xVxAQ7jQNO"
      },
      "source": [
        "## <font color=green>5.1 Desvio médio absoluto</font>\n",
        "***\n",
        "\n",
        "\n",
        "# $$DM = \\frac 1n\\sum_{i=1}^{n}|X_i-\\bar{X}|$$\n"
      ]
    },
    {
      "cell_type": "code",
      "execution_count": 569,
      "metadata": {
        "id": "RWo0AhBEjQNP",
        "colab": {
          "base_uri": "https://localhost:8080/",
          "height": 269
        },
        "outputId": "6b846287-6902-4c42-f26c-9a9c92b8f66a"
      },
      "outputs": [
        {
          "output_type": "execute_result",
          "data": {
            "text/plain": [
              "Matérias    Fulano\n",
              "Matemática       8\n",
              "Português       10\n",
              "Inglês           4\n",
              "Geografia        8\n",
              "História         6\n",
              "Física          10\n",
              "Química          8"
            ],
            "text/html": [
              "\n",
              "  <div id=\"df-4d2400f5-2d03-4a43-bc52-d31bd6f49c1a\">\n",
              "    <div class=\"colab-df-container\">\n",
              "      <div>\n",
              "<style scoped>\n",
              "    .dataframe tbody tr th:only-of-type {\n",
              "        vertical-align: middle;\n",
              "    }\n",
              "\n",
              "    .dataframe tbody tr th {\n",
              "        vertical-align: top;\n",
              "    }\n",
              "\n",
              "    .dataframe thead th {\n",
              "        text-align: right;\n",
              "    }\n",
              "</style>\n",
              "<table border=\"1\" class=\"dataframe\">\n",
              "  <thead>\n",
              "    <tr style=\"text-align: right;\">\n",
              "      <th>Matérias</th>\n",
              "      <th>Fulano</th>\n",
              "    </tr>\n",
              "  </thead>\n",
              "  <tbody>\n",
              "    <tr>\n",
              "      <th>Matemática</th>\n",
              "      <td>8</td>\n",
              "    </tr>\n",
              "    <tr>\n",
              "      <th>Português</th>\n",
              "      <td>10</td>\n",
              "    </tr>\n",
              "    <tr>\n",
              "      <th>Inglês</th>\n",
              "      <td>4</td>\n",
              "    </tr>\n",
              "    <tr>\n",
              "      <th>Geografia</th>\n",
              "      <td>8</td>\n",
              "    </tr>\n",
              "    <tr>\n",
              "      <th>História</th>\n",
              "      <td>6</td>\n",
              "    </tr>\n",
              "    <tr>\n",
              "      <th>Física</th>\n",
              "      <td>10</td>\n",
              "    </tr>\n",
              "    <tr>\n",
              "      <th>Química</th>\n",
              "      <td>8</td>\n",
              "    </tr>\n",
              "  </tbody>\n",
              "</table>\n",
              "</div>\n",
              "      <button class=\"colab-df-convert\" onclick=\"convertToInteractive('df-4d2400f5-2d03-4a43-bc52-d31bd6f49c1a')\"\n",
              "              title=\"Convert this dataframe to an interactive table.\"\n",
              "              style=\"display:none;\">\n",
              "        \n",
              "  <svg xmlns=\"http://www.w3.org/2000/svg\" height=\"24px\"viewBox=\"0 0 24 24\"\n",
              "       width=\"24px\">\n",
              "    <path d=\"M0 0h24v24H0V0z\" fill=\"none\"/>\n",
              "    <path d=\"M18.56 5.44l.94 2.06.94-2.06 2.06-.94-2.06-.94-.94-2.06-.94 2.06-2.06.94zm-11 1L8.5 8.5l.94-2.06 2.06-.94-2.06-.94L8.5 2.5l-.94 2.06-2.06.94zm10 10l.94 2.06.94-2.06 2.06-.94-2.06-.94-.94-2.06-.94 2.06-2.06.94z\"/><path d=\"M17.41 7.96l-1.37-1.37c-.4-.4-.92-.59-1.43-.59-.52 0-1.04.2-1.43.59L10.3 9.45l-7.72 7.72c-.78.78-.78 2.05 0 2.83L4 21.41c.39.39.9.59 1.41.59.51 0 1.02-.2 1.41-.59l7.78-7.78 2.81-2.81c.8-.78.8-2.07 0-2.86zM5.41 20L4 18.59l7.72-7.72 1.47 1.35L5.41 20z\"/>\n",
              "  </svg>\n",
              "      </button>\n",
              "      \n",
              "  <style>\n",
              "    .colab-df-container {\n",
              "      display:flex;\n",
              "      flex-wrap:wrap;\n",
              "      gap: 12px;\n",
              "    }\n",
              "\n",
              "    .colab-df-convert {\n",
              "      background-color: #E8F0FE;\n",
              "      border: none;\n",
              "      border-radius: 50%;\n",
              "      cursor: pointer;\n",
              "      display: none;\n",
              "      fill: #1967D2;\n",
              "      height: 32px;\n",
              "      padding: 0 0 0 0;\n",
              "      width: 32px;\n",
              "    }\n",
              "\n",
              "    .colab-df-convert:hover {\n",
              "      background-color: #E2EBFA;\n",
              "      box-shadow: 0px 1px 2px rgba(60, 64, 67, 0.3), 0px 1px 3px 1px rgba(60, 64, 67, 0.15);\n",
              "      fill: #174EA6;\n",
              "    }\n",
              "\n",
              "    [theme=dark] .colab-df-convert {\n",
              "      background-color: #3B4455;\n",
              "      fill: #D2E3FC;\n",
              "    }\n",
              "\n",
              "    [theme=dark] .colab-df-convert:hover {\n",
              "      background-color: #434B5C;\n",
              "      box-shadow: 0px 1px 3px 1px rgba(0, 0, 0, 0.15);\n",
              "      filter: drop-shadow(0px 1px 2px rgba(0, 0, 0, 0.3));\n",
              "      fill: #FFFFFF;\n",
              "    }\n",
              "  </style>\n",
              "\n",
              "      <script>\n",
              "        const buttonEl =\n",
              "          document.querySelector('#df-4d2400f5-2d03-4a43-bc52-d31bd6f49c1a button.colab-df-convert');\n",
              "        buttonEl.style.display =\n",
              "          google.colab.kernel.accessAllowed ? 'block' : 'none';\n",
              "\n",
              "        async function convertToInteractive(key) {\n",
              "          const element = document.querySelector('#df-4d2400f5-2d03-4a43-bc52-d31bd6f49c1a');\n",
              "          const dataTable =\n",
              "            await google.colab.kernel.invokeFunction('convertToInteractive',\n",
              "                                                     [key], {});\n",
              "          if (!dataTable) return;\n",
              "\n",
              "          const docLinkHtml = 'Like what you see? Visit the ' +\n",
              "            '<a target=\"_blank\" href=https://colab.research.google.com/notebooks/data_table.ipynb>data table notebook</a>'\n",
              "            + ' to learn more about interactive tables.';\n",
              "          element.innerHTML = '';\n",
              "          dataTable['output_type'] = 'display_data';\n",
              "          await google.colab.output.renderOutput(dataTable, element);\n",
              "          const docLink = document.createElement('div');\n",
              "          docLink.innerHTML = docLinkHtml;\n",
              "          element.appendChild(docLink);\n",
              "        }\n",
              "      </script>\n",
              "    </div>\n",
              "  </div>\n",
              "  "
            ]
          },
          "metadata": {},
          "execution_count": 569
        }
      ],
      "source": [
        "notas_fulano = df[['Fulano']]\n",
        "notas_fulano"
      ]
    },
    {
      "cell_type": "code",
      "execution_count": 570,
      "metadata": {
        "id": "OiWDTw0ljQNQ",
        "colab": {
          "base_uri": "https://localhost:8080/"
        },
        "outputId": "7993c643-88d9-4673-d88e-d55d6f57384a"
      },
      "outputs": [
        {
          "output_type": "execute_result",
          "data": {
            "text/plain": [
              "7.714285714285714"
            ]
          },
          "metadata": {},
          "execution_count": 570
        }
      ],
      "source": [
        "nota_media_fulano = notas_fulano.mean()[0]\n",
        "nota_media_fulano"
      ]
    },
    {
      "cell_type": "code",
      "execution_count": 571,
      "metadata": {
        "id": "qQbjktz5jQNR",
        "colab": {
          "base_uri": "https://localhost:8080/",
          "height": 269
        },
        "outputId": "79b4f9ab-bcfb-4efe-8271-4336012e7622"
      },
      "outputs": [
        {
          "output_type": "execute_result",
          "data": {
            "text/plain": [
              "Matérias    Fulano    Desvio\n",
              "Matemática       8  0.285714\n",
              "Português       10  2.285714\n",
              "Inglês           4 -3.714286\n",
              "Geografia        8  0.285714\n",
              "História         6 -1.714286\n",
              "Física          10  2.285714\n",
              "Química          8  0.285714"
            ],
            "text/html": [
              "\n",
              "  <div id=\"df-b5ff9292-6085-4535-8e3e-b1d1bae15326\">\n",
              "    <div class=\"colab-df-container\">\n",
              "      <div>\n",
              "<style scoped>\n",
              "    .dataframe tbody tr th:only-of-type {\n",
              "        vertical-align: middle;\n",
              "    }\n",
              "\n",
              "    .dataframe tbody tr th {\n",
              "        vertical-align: top;\n",
              "    }\n",
              "\n",
              "    .dataframe thead th {\n",
              "        text-align: right;\n",
              "    }\n",
              "</style>\n",
              "<table border=\"1\" class=\"dataframe\">\n",
              "  <thead>\n",
              "    <tr style=\"text-align: right;\">\n",
              "      <th>Matérias</th>\n",
              "      <th>Fulano</th>\n",
              "      <th>Desvio</th>\n",
              "    </tr>\n",
              "  </thead>\n",
              "  <tbody>\n",
              "    <tr>\n",
              "      <th>Matemática</th>\n",
              "      <td>8</td>\n",
              "      <td>0.285714</td>\n",
              "    </tr>\n",
              "    <tr>\n",
              "      <th>Português</th>\n",
              "      <td>10</td>\n",
              "      <td>2.285714</td>\n",
              "    </tr>\n",
              "    <tr>\n",
              "      <th>Inglês</th>\n",
              "      <td>4</td>\n",
              "      <td>-3.714286</td>\n",
              "    </tr>\n",
              "    <tr>\n",
              "      <th>Geografia</th>\n",
              "      <td>8</td>\n",
              "      <td>0.285714</td>\n",
              "    </tr>\n",
              "    <tr>\n",
              "      <th>História</th>\n",
              "      <td>6</td>\n",
              "      <td>-1.714286</td>\n",
              "    </tr>\n",
              "    <tr>\n",
              "      <th>Física</th>\n",
              "      <td>10</td>\n",
              "      <td>2.285714</td>\n",
              "    </tr>\n",
              "    <tr>\n",
              "      <th>Química</th>\n",
              "      <td>8</td>\n",
              "      <td>0.285714</td>\n",
              "    </tr>\n",
              "  </tbody>\n",
              "</table>\n",
              "</div>\n",
              "      <button class=\"colab-df-convert\" onclick=\"convertToInteractive('df-b5ff9292-6085-4535-8e3e-b1d1bae15326')\"\n",
              "              title=\"Convert this dataframe to an interactive table.\"\n",
              "              style=\"display:none;\">\n",
              "        \n",
              "  <svg xmlns=\"http://www.w3.org/2000/svg\" height=\"24px\"viewBox=\"0 0 24 24\"\n",
              "       width=\"24px\">\n",
              "    <path d=\"M0 0h24v24H0V0z\" fill=\"none\"/>\n",
              "    <path d=\"M18.56 5.44l.94 2.06.94-2.06 2.06-.94-2.06-.94-.94-2.06-.94 2.06-2.06.94zm-11 1L8.5 8.5l.94-2.06 2.06-.94-2.06-.94L8.5 2.5l-.94 2.06-2.06.94zm10 10l.94 2.06.94-2.06 2.06-.94-2.06-.94-.94-2.06-.94 2.06-2.06.94z\"/><path d=\"M17.41 7.96l-1.37-1.37c-.4-.4-.92-.59-1.43-.59-.52 0-1.04.2-1.43.59L10.3 9.45l-7.72 7.72c-.78.78-.78 2.05 0 2.83L4 21.41c.39.39.9.59 1.41.59.51 0 1.02-.2 1.41-.59l7.78-7.78 2.81-2.81c.8-.78.8-2.07 0-2.86zM5.41 20L4 18.59l7.72-7.72 1.47 1.35L5.41 20z\"/>\n",
              "  </svg>\n",
              "      </button>\n",
              "      \n",
              "  <style>\n",
              "    .colab-df-container {\n",
              "      display:flex;\n",
              "      flex-wrap:wrap;\n",
              "      gap: 12px;\n",
              "    }\n",
              "\n",
              "    .colab-df-convert {\n",
              "      background-color: #E8F0FE;\n",
              "      border: none;\n",
              "      border-radius: 50%;\n",
              "      cursor: pointer;\n",
              "      display: none;\n",
              "      fill: #1967D2;\n",
              "      height: 32px;\n",
              "      padding: 0 0 0 0;\n",
              "      width: 32px;\n",
              "    }\n",
              "\n",
              "    .colab-df-convert:hover {\n",
              "      background-color: #E2EBFA;\n",
              "      box-shadow: 0px 1px 2px rgba(60, 64, 67, 0.3), 0px 1px 3px 1px rgba(60, 64, 67, 0.15);\n",
              "      fill: #174EA6;\n",
              "    }\n",
              "\n",
              "    [theme=dark] .colab-df-convert {\n",
              "      background-color: #3B4455;\n",
              "      fill: #D2E3FC;\n",
              "    }\n",
              "\n",
              "    [theme=dark] .colab-df-convert:hover {\n",
              "      background-color: #434B5C;\n",
              "      box-shadow: 0px 1px 3px 1px rgba(0, 0, 0, 0.15);\n",
              "      filter: drop-shadow(0px 1px 2px rgba(0, 0, 0, 0.3));\n",
              "      fill: #FFFFFF;\n",
              "    }\n",
              "  </style>\n",
              "\n",
              "      <script>\n",
              "        const buttonEl =\n",
              "          document.querySelector('#df-b5ff9292-6085-4535-8e3e-b1d1bae15326 button.colab-df-convert');\n",
              "        buttonEl.style.display =\n",
              "          google.colab.kernel.accessAllowed ? 'block' : 'none';\n",
              "\n",
              "        async function convertToInteractive(key) {\n",
              "          const element = document.querySelector('#df-b5ff9292-6085-4535-8e3e-b1d1bae15326');\n",
              "          const dataTable =\n",
              "            await google.colab.kernel.invokeFunction('convertToInteractive',\n",
              "                                                     [key], {});\n",
              "          if (!dataTable) return;\n",
              "\n",
              "          const docLinkHtml = 'Like what you see? Visit the ' +\n",
              "            '<a target=\"_blank\" href=https://colab.research.google.com/notebooks/data_table.ipynb>data table notebook</a>'\n",
              "            + ' to learn more about interactive tables.';\n",
              "          element.innerHTML = '';\n",
              "          dataTable['output_type'] = 'display_data';\n",
              "          await google.colab.output.renderOutput(dataTable, element);\n",
              "          const docLink = document.createElement('div');\n",
              "          docLink.innerHTML = docLinkHtml;\n",
              "          element.appendChild(docLink);\n",
              "        }\n",
              "      </script>\n",
              "    </div>\n",
              "  </div>\n",
              "  "
            ]
          },
          "metadata": {},
          "execution_count": 571
        }
      ],
      "source": [
        "# pode desativar com segurança esse novo aviso com a seguinte atribuição.\n",
        "pd.options.mode.chained_assignment = None  # default='warn'\n",
        "\n",
        "notas_fulano['Desvio'] = notas_fulano['Fulano'] - nota_media_fulano\n",
        "notas_fulano"
      ]
    },
    {
      "cell_type": "code",
      "execution_count": 572,
      "metadata": {
        "id": "dtIDTt6djQNV",
        "colab": {
          "base_uri": "https://localhost:8080/"
        },
        "outputId": "cfd697b6-a53a-4080-b448-d4bb301410aa"
      },
      "outputs": [
        {
          "output_type": "execute_result",
          "data": {
            "text/plain": [
              "-8.881784197001252e-16"
            ]
          },
          "metadata": {},
          "execution_count": 572
        }
      ],
      "source": [
        "notas_fulano['Desvio'].sum()"
      ]
    },
    {
      "cell_type": "code",
      "execution_count": 573,
      "metadata": {
        "id": "m4buiQWF01xt",
        "colab": {
          "base_uri": "https://localhost:8080/",
          "height": 269
        },
        "outputId": "7ad71a7f-e57e-4dda-c683-1a8145430564"
      },
      "outputs": [
        {
          "output_type": "execute_result",
          "data": {
            "text/plain": [
              "Matérias    Fulano    Desvio  |Desvio|\n",
              "Matemática       8  0.285714  0.285714\n",
              "Português       10  2.285714  2.285714\n",
              "Inglês           4 -3.714286  3.714286\n",
              "Geografia        8  0.285714  0.285714\n",
              "História         6 -1.714286  1.714286\n",
              "Física          10  2.285714  2.285714\n",
              "Química          8  0.285714  0.285714"
            ],
            "text/html": [
              "\n",
              "  <div id=\"df-9954746b-6247-4010-a93d-ca24a5a398cc\">\n",
              "    <div class=\"colab-df-container\">\n",
              "      <div>\n",
              "<style scoped>\n",
              "    .dataframe tbody tr th:only-of-type {\n",
              "        vertical-align: middle;\n",
              "    }\n",
              "\n",
              "    .dataframe tbody tr th {\n",
              "        vertical-align: top;\n",
              "    }\n",
              "\n",
              "    .dataframe thead th {\n",
              "        text-align: right;\n",
              "    }\n",
              "</style>\n",
              "<table border=\"1\" class=\"dataframe\">\n",
              "  <thead>\n",
              "    <tr style=\"text-align: right;\">\n",
              "      <th>Matérias</th>\n",
              "      <th>Fulano</th>\n",
              "      <th>Desvio</th>\n",
              "      <th>|Desvio|</th>\n",
              "    </tr>\n",
              "  </thead>\n",
              "  <tbody>\n",
              "    <tr>\n",
              "      <th>Matemática</th>\n",
              "      <td>8</td>\n",
              "      <td>0.285714</td>\n",
              "      <td>0.285714</td>\n",
              "    </tr>\n",
              "    <tr>\n",
              "      <th>Português</th>\n",
              "      <td>10</td>\n",
              "      <td>2.285714</td>\n",
              "      <td>2.285714</td>\n",
              "    </tr>\n",
              "    <tr>\n",
              "      <th>Inglês</th>\n",
              "      <td>4</td>\n",
              "      <td>-3.714286</td>\n",
              "      <td>3.714286</td>\n",
              "    </tr>\n",
              "    <tr>\n",
              "      <th>Geografia</th>\n",
              "      <td>8</td>\n",
              "      <td>0.285714</td>\n",
              "      <td>0.285714</td>\n",
              "    </tr>\n",
              "    <tr>\n",
              "      <th>História</th>\n",
              "      <td>6</td>\n",
              "      <td>-1.714286</td>\n",
              "      <td>1.714286</td>\n",
              "    </tr>\n",
              "    <tr>\n",
              "      <th>Física</th>\n",
              "      <td>10</td>\n",
              "      <td>2.285714</td>\n",
              "      <td>2.285714</td>\n",
              "    </tr>\n",
              "    <tr>\n",
              "      <th>Química</th>\n",
              "      <td>8</td>\n",
              "      <td>0.285714</td>\n",
              "      <td>0.285714</td>\n",
              "    </tr>\n",
              "  </tbody>\n",
              "</table>\n",
              "</div>\n",
              "      <button class=\"colab-df-convert\" onclick=\"convertToInteractive('df-9954746b-6247-4010-a93d-ca24a5a398cc')\"\n",
              "              title=\"Convert this dataframe to an interactive table.\"\n",
              "              style=\"display:none;\">\n",
              "        \n",
              "  <svg xmlns=\"http://www.w3.org/2000/svg\" height=\"24px\"viewBox=\"0 0 24 24\"\n",
              "       width=\"24px\">\n",
              "    <path d=\"M0 0h24v24H0V0z\" fill=\"none\"/>\n",
              "    <path d=\"M18.56 5.44l.94 2.06.94-2.06 2.06-.94-2.06-.94-.94-2.06-.94 2.06-2.06.94zm-11 1L8.5 8.5l.94-2.06 2.06-.94-2.06-.94L8.5 2.5l-.94 2.06-2.06.94zm10 10l.94 2.06.94-2.06 2.06-.94-2.06-.94-.94-2.06-.94 2.06-2.06.94z\"/><path d=\"M17.41 7.96l-1.37-1.37c-.4-.4-.92-.59-1.43-.59-.52 0-1.04.2-1.43.59L10.3 9.45l-7.72 7.72c-.78.78-.78 2.05 0 2.83L4 21.41c.39.39.9.59 1.41.59.51 0 1.02-.2 1.41-.59l7.78-7.78 2.81-2.81c.8-.78.8-2.07 0-2.86zM5.41 20L4 18.59l7.72-7.72 1.47 1.35L5.41 20z\"/>\n",
              "  </svg>\n",
              "      </button>\n",
              "      \n",
              "  <style>\n",
              "    .colab-df-container {\n",
              "      display:flex;\n",
              "      flex-wrap:wrap;\n",
              "      gap: 12px;\n",
              "    }\n",
              "\n",
              "    .colab-df-convert {\n",
              "      background-color: #E8F0FE;\n",
              "      border: none;\n",
              "      border-radius: 50%;\n",
              "      cursor: pointer;\n",
              "      display: none;\n",
              "      fill: #1967D2;\n",
              "      height: 32px;\n",
              "      padding: 0 0 0 0;\n",
              "      width: 32px;\n",
              "    }\n",
              "\n",
              "    .colab-df-convert:hover {\n",
              "      background-color: #E2EBFA;\n",
              "      box-shadow: 0px 1px 2px rgba(60, 64, 67, 0.3), 0px 1px 3px 1px rgba(60, 64, 67, 0.15);\n",
              "      fill: #174EA6;\n",
              "    }\n",
              "\n",
              "    [theme=dark] .colab-df-convert {\n",
              "      background-color: #3B4455;\n",
              "      fill: #D2E3FC;\n",
              "    }\n",
              "\n",
              "    [theme=dark] .colab-df-convert:hover {\n",
              "      background-color: #434B5C;\n",
              "      box-shadow: 0px 1px 3px 1px rgba(0, 0, 0, 0.15);\n",
              "      filter: drop-shadow(0px 1px 2px rgba(0, 0, 0, 0.3));\n",
              "      fill: #FFFFFF;\n",
              "    }\n",
              "  </style>\n",
              "\n",
              "      <script>\n",
              "        const buttonEl =\n",
              "          document.querySelector('#df-9954746b-6247-4010-a93d-ca24a5a398cc button.colab-df-convert');\n",
              "        buttonEl.style.display =\n",
              "          google.colab.kernel.accessAllowed ? 'block' : 'none';\n",
              "\n",
              "        async function convertToInteractive(key) {\n",
              "          const element = document.querySelector('#df-9954746b-6247-4010-a93d-ca24a5a398cc');\n",
              "          const dataTable =\n",
              "            await google.colab.kernel.invokeFunction('convertToInteractive',\n",
              "                                                     [key], {});\n",
              "          if (!dataTable) return;\n",
              "\n",
              "          const docLinkHtml = 'Like what you see? Visit the ' +\n",
              "            '<a target=\"_blank\" href=https://colab.research.google.com/notebooks/data_table.ipynb>data table notebook</a>'\n",
              "            + ' to learn more about interactive tables.';\n",
              "          element.innerHTML = '';\n",
              "          dataTable['output_type'] = 'display_data';\n",
              "          await google.colab.output.renderOutput(dataTable, element);\n",
              "          const docLink = document.createElement('div');\n",
              "          docLink.innerHTML = docLinkHtml;\n",
              "          element.appendChild(docLink);\n",
              "        }\n",
              "      </script>\n",
              "    </div>\n",
              "  </div>\n",
              "  "
            ]
          },
          "metadata": {},
          "execution_count": 573
        }
      ],
      "source": [
        "notas_fulano['|Desvio|'] = notas_fulano['Desvio'].abs()\n",
        "notas_fulano"
      ]
    },
    {
      "cell_type": "code",
      "execution_count": 574,
      "metadata": {
        "id": "1PEJ_LUn01eV",
        "colab": {
          "base_uri": "https://localhost:8080/"
        },
        "outputId": "414299cf-7bd2-4c9a-e2af-ca5b49a8987c"
      },
      "outputs": [
        {
          "output_type": "execute_result",
          "data": {
            "text/plain": [
              "10.857142857142854"
            ]
          },
          "metadata": {},
          "execution_count": 574
        }
      ],
      "source": [
        "notas_fulano['|Desvio|'].sum()"
      ]
    },
    {
      "cell_type": "code",
      "source": [
        "ax = notas_fulano['Fulano'].plot(style = 'o')\n",
        "ax.set_title('Notas Fulano', fontsize = 18)\n",
        "ax.set_ylabel('Notas', fontsize = 12)\n",
        "ax.figure.set_size_inches(14, 6)\n",
        "ax.hlines(y = nota_media_fulano, xmin = 0, xmax = notas_fulano.shape[0] - 1, colors ='red')\n",
        "for i in range(notas_fulano.shape[0]):\n",
        "  ax.vlines(x = i, ymin = nota_media_fulano, ymax = notas_fulano['Fulano'][i], linestyles = 'dashed')\n",
        "plt.show()"
      ],
      "metadata": {
        "colab": {
          "base_uri": "https://localhost:8080/",
          "height": 395
        },
        "id": "J60LYi9CTZhz",
        "outputId": "34705039-6740-4e54-c738-95266ca0cd0a"
      },
      "execution_count": 575,
      "outputs": [
        {
          "output_type": "display_data",
          "data": {
            "text/plain": [
              "<Figure size 1008x432 with 1 Axes>"
            ],
            "image/png": "[encoded data removed]"
          },
          "metadata": {
            "needs_background": "light"
          }
        }
      ]
    },
    {
      "cell_type": "code",
      "source": [
        "notas_fulano['|Desvio|'].mean()"
      ],
      "metadata": {
        "colab": {
          "base_uri": "https://localhost:8080/"
        },
        "id": "ywJKcn84ZJgf",
        "outputId": "63c3b0cf-d0b9-4408-fab1-43bb61e900f0"
      },
      "execution_count": 576,
      "outputs": [
        {
          "output_type": "execute_result",
          "data": {
            "text/plain": [
              "1.5510204081632648"
            ]
          },
          "metadata": {},
          "execution_count": 576
        }
      ]
    },
    {
      "cell_type": "code",
      "source": [
        "# essa é a fórmula usada no pandas\n",
        "desvio_medio_absoluto = notas_fulano['Fulano'].mad()\n",
        "desvio_medio_absoluto"
      ],
      "metadata": {
        "colab": {
          "base_uri": "https://localhost:8080/"
        },
        "id": "0ef1JNhPZy5d",
        "outputId": "e88187d6-56e4-4884-e5da-7522e9e907c7"
      },
      "execution_count": 577,
      "outputs": [
        {
          "output_type": "execute_result",
          "data": {
            "text/plain": [
              "1.5510204081632648"
            ]
          },
          "metadata": {},
          "execution_count": 577
        }
      ]
    },
    {
      "cell_type": "code",
      "source": [
        "notas_sicrano = df[['Sicrano']]\n",
        "notas_sicrano"
      ],
      "metadata": {
        "colab": {
          "base_uri": "https://localhost:8080/",
          "height": 269
        },
        "id": "Tyjw_mNWV9FM",
        "outputId": "a207b151-664f-41e4-9fb9-fd5f56bd0bcc"
      },
      "execution_count": 578,
      "outputs": [
        {
          "output_type": "execute_result",
          "data": {
            "text/plain": [
              "Matérias    Sicrano\n",
              "Matemática      7.5\n",
              "Português       8.0\n",
              "Inglês          7.0\n",
              "Geografia       8.0\n",
              "História        8.0\n",
              "Física          8.5\n",
              "Química         7.0"
            ],
            "text/html": [
              "\n",
              "  <div id=\"df-a1777a8d-d708-4f1c-bd28-7dbae933f72a\">\n",
              "    <div class=\"colab-df-container\">\n",
              "      <div>\n",
              "<style scoped>\n",
              "    .dataframe tbody tr th:only-of-type {\n",
              "        vertical-align: middle;\n",
              "    }\n",
              "\n",
              "    .dataframe tbody tr th {\n",
              "        vertical-align: top;\n",
              "    }\n",
              "\n",
              "    .dataframe thead th {\n",
              "        text-align: right;\n",
              "    }\n",
              "</style>\n",
              "<table border=\"1\" class=\"dataframe\">\n",
              "  <thead>\n",
              "    <tr style=\"text-align: right;\">\n",
              "      <th>Matérias</th>\n",
              "      <th>Sicrano</th>\n",
              "    </tr>\n",
              "  </thead>\n",
              "  <tbody>\n",
              "    <tr>\n",
              "      <th>Matemática</th>\n",
              "      <td>7.5</td>\n",
              "    </tr>\n",
              "    <tr>\n",
              "      <th>Português</th>\n",
              "      <td>8.0</td>\n",
              "    </tr>\n",
              "    <tr>\n",
              "      <th>Inglês</th>\n",
              "      <td>7.0</td>\n",
              "    </tr>\n",
              "    <tr>\n",
              "      <th>Geografia</th>\n",
              "      <td>8.0</td>\n",
              "    </tr>\n",
              "    <tr>\n",
              "      <th>História</th>\n",
              "      <td>8.0</td>\n",
              "    </tr>\n",
              "    <tr>\n",
              "      <th>Física</th>\n",
              "      <td>8.5</td>\n",
              "    </tr>\n",
              "    <tr>\n",
              "      <th>Química</th>\n",
              "      <td>7.0</td>\n",
              "    </tr>\n",
              "  </tbody>\n",
              "</table>\n",
              "</div>\n",
              "      <button class=\"colab-df-convert\" onclick=\"convertToInteractive('df-a1777a8d-d708-4f1c-bd28-7dbae933f72a')\"\n",
              "              title=\"Convert this dataframe to an interactive table.\"\n",
              "              style=\"display:none;\">\n",
              "        \n",
              "  <svg xmlns=\"http://www.w3.org/2000/svg\" height=\"24px\"viewBox=\"0 0 24 24\"\n",
              "       width=\"24px\">\n",
              "    <path d=\"M0 0h24v24H0V0z\" fill=\"none\"/>\n",
              "    <path d=\"M18.56 5.44l.94 2.06.94-2.06 2.06-.94-2.06-.94-.94-2.06-.94 2.06-2.06.94zm-11 1L8.5 8.5l.94-2.06 2.06-.94-2.06-.94L8.5 2.5l-.94 2.06-2.06.94zm10 10l.94 2.06.94-2.06 2.06-.94-2.06-.94-.94-2.06-.94 2.06-2.06.94z\"/><path d=\"M17.41 7.96l-1.37-1.37c-.4-.4-.92-.59-1.43-.59-.52 0-1.04.2-1.43.59L10.3 9.45l-7.72 7.72c-.78.78-.78 2.05 0 2.83L4 21.41c.39.39.9.59 1.41.59.51 0 1.02-.2 1.41-.59l7.78-7.78 2.81-2.81c.8-.78.8-2.07 0-2.86zM5.41 20L4 18.59l7.72-7.72 1.47 1.35L5.41 20z\"/>\n",
              "  </svg>\n",
              "      </button>\n",
              "      \n",
              "  <style>\n",
              "    .colab-df-container {\n",
              "      display:flex;\n",
              "      flex-wrap:wrap;\n",
              "      gap: 12px;\n",
              "    }\n",
              "\n",
              "    .colab-df-convert {\n",
              "      background-color: #E8F0FE;\n",
              "      border: none;\n",
              "      border-radius: 50%;\n",
              "      cursor: pointer;\n",
              "      display: none;\n",
              "      fill: #1967D2;\n",
              "      height: 32px;\n",
              "      padding: 0 0 0 0;\n",
              "      width: 32px;\n",
              "    }\n",
              "\n",
              "    .colab-df-convert:hover {\n",
              "      background-color: #E2EBFA;\n",
              "      box-shadow: 0px 1px 2px rgba(60, 64, 67, 0.3), 0px 1px 3px 1px rgba(60, 64, 67, 0.15);\n",
              "      fill: #174EA6;\n",
              "    }\n",
              "\n",
              "    [theme=dark] .colab-df-convert {\n",
              "      background-color: #3B4455;\n",
              "      fill: #D2E3FC;\n",
              "    }\n",
              "\n",
              "    [theme=dark] .colab-df-convert:hover {\n",
              "      background-color: #434B5C;\n",
              "      box-shadow: 0px 1px 3px 1px rgba(0, 0, 0, 0.15);\n",
              "      filter: drop-shadow(0px 1px 2px rgba(0, 0, 0, 0.3));\n",
              "      fill: #FFFFFF;\n",
              "    }\n",
              "  </style>\n",
              "\n",
              "      <script>\n",
              "        const buttonEl =\n",
              "          document.querySelector('#df-a1777a8d-d708-4f1c-bd28-7dbae933f72a button.colab-df-convert');\n",
              "        buttonEl.style.display =\n",
              "          google.colab.kernel.accessAllowed ? 'block' : 'none';\n",
              "\n",
              "        async function convertToInteractive(key) {\n",
              "          const element = document.querySelector('#df-a1777a8d-d708-4f1c-bd28-7dbae933f72a');\n",
              "          const dataTable =\n",
              "            await google.colab.kernel.invokeFunction('convertToInteractive',\n",
              "                                                     [key], {});\n",
              "          if (!dataTable) return;\n",
              "\n",
              "          const docLinkHtml = 'Like what you see? Visit the ' +\n",
              "            '<a target=\"_blank\" href=https://colab.research.google.com/notebooks/data_table.ipynb>data table notebook</a>'\n",
              "            + ' to learn more about interactive tables.';\n",
              "          element.innerHTML = '';\n",
              "          dataTable['output_type'] = 'display_data';\n",
              "          await google.colab.output.renderOutput(dataTable, element);\n",
              "          const docLink = document.createElement('div');\n",
              "          docLink.innerHTML = docLinkHtml;\n",
              "          element.appendChild(docLink);\n",
              "        }\n",
              "      </script>\n",
              "    </div>\n",
              "  </div>\n",
              "  "
            ]
          },
          "metadata": {},
          "execution_count": 578
        }
      ]
    },
    {
      "cell_type": "code",
      "source": [
        "nota_media_sicrano = notas_sicrano.mean()[0]\n",
        "nota_media_fulano"
      ],
      "metadata": {
        "colab": {
          "base_uri": "https://localhost:8080/"
        },
        "id": "4R_v7wAAWoaG",
        "outputId": "b658bea3-3f89-4695-b75d-539c2bbf70b4"
      },
      "execution_count": 579,
      "outputs": [
        {
          "output_type": "execute_result",
          "data": {
            "text/plain": [
              "7.714285714285714"
            ]
          },
          "metadata": {},
          "execution_count": 579
        }
      ]
    },
    {
      "cell_type": "code",
      "source": [
        "notas_sicrano['Desvio'] = notas_sicrano['Sicrano'] - nota_media_sicrano\n",
        "notas_sicrano"
      ],
      "metadata": {
        "colab": {
          "base_uri": "https://localhost:8080/",
          "height": 269
        },
        "id": "3JD3Lr9tWXjp",
        "outputId": "0027efbe-24f2-4799-884c-22bb17b5424b"
      },
      "execution_count": 580,
      "outputs": [
        {
          "output_type": "execute_result",
          "data": {
            "text/plain": [
              "Matérias    Sicrano    Desvio\n",
              "Matemática      7.5 -0.214286\n",
              "Português       8.0  0.285714\n",
              "Inglês          7.0 -0.714286\n",
              "Geografia       8.0  0.285714\n",
              "História        8.0  0.285714\n",
              "Física          8.5  0.785714\n",
              "Química         7.0 -0.714286"
            ],
            "text/html": [
              "\n",
              "  <div id=\"df-b554c1ef-aa8a-4bc7-8617-cbd76e22caf7\">\n",
              "    <div class=\"colab-df-container\">\n",
              "      <div>\n",
              "<style scoped>\n",
              "    .dataframe tbody tr th:only-of-type {\n",
              "        vertical-align: middle;\n",
              "    }\n",
              "\n",
              "    .dataframe tbody tr th {\n",
              "        vertical-align: top;\n",
              "    }\n",
              "\n",
              "    .dataframe thead th {\n",
              "        text-align: right;\n",
              "    }\n",
              "</style>\n",
              "<table border=\"1\" class=\"dataframe\">\n",
              "  <thead>\n",
              "    <tr style=\"text-align: right;\">\n",
              "      <th>Matérias</th>\n",
              "      <th>Sicrano</th>\n",
              "      <th>Desvio</th>\n",
              "    </tr>\n",
              "  </thead>\n",
              "  <tbody>\n",
              "    <tr>\n",
              "      <th>Matemática</th>\n",
              "      <td>7.5</td>\n",
              "      <td>-0.214286</td>\n",
              "    </tr>\n",
              "    <tr>\n",
              "      <th>Português</th>\n",
              "      <td>8.0</td>\n",
              "      <td>0.285714</td>\n",
              "    </tr>\n",
              "    <tr>\n",
              "      <th>Inglês</th>\n",
              "      <td>7.0</td>\n",
              "      <td>-0.714286</td>\n",
              "    </tr>\n",
              "    <tr>\n",
              "      <th>Geografia</th>\n",
              "      <td>8.0</td>\n",
              "      <td>0.285714</td>\n",
              "    </tr>\n",
              "    <tr>\n",
              "      <th>História</th>\n",
              "      <td>8.0</td>\n",
              "      <td>0.285714</td>\n",
              "    </tr>\n",
              "    <tr>\n",
              "      <th>Física</th>\n",
              "      <td>8.5</td>\n",
              "      <td>0.785714</td>\n",
              "    </tr>\n",
              "    <tr>\n",
              "      <th>Química</th>\n",
              "      <td>7.0</td>\n",
              "      <td>-0.714286</td>\n",
              "    </tr>\n",
              "  </tbody>\n",
              "</table>\n",
              "</div>\n",
              "      <button class=\"colab-df-convert\" onclick=\"convertToInteractive('df-b554c1ef-aa8a-4bc7-8617-cbd76e22caf7')\"\n",
              "              title=\"Convert this dataframe to an interactive table.\"\n",
              "              style=\"display:none;\">\n",
              "        \n",
              "  <svg xmlns=\"http://www.w3.org/2000/svg\" height=\"24px\"viewBox=\"0 0 24 24\"\n",
              "       width=\"24px\">\n",
              "    <path d=\"M0 0h24v24H0V0z\" fill=\"none\"/>\n",
              "    <path d=\"M18.56 5.44l.94 2.06.94-2.06 2.06-.94-2.06-.94-.94-2.06-.94 2.06-2.06.94zm-11 1L8.5 8.5l.94-2.06 2.06-.94-2.06-.94L8.5 2.5l-.94 2.06-2.06.94zm10 10l.94 2.06.94-2.06 2.06-.94-2.06-.94-.94-2.06-.94 2.06-2.06.94z\"/><path d=\"M17.41 7.96l-1.37-1.37c-.4-.4-.92-.59-1.43-.59-.52 0-1.04.2-1.43.59L10.3 9.45l-7.72 7.72c-.78.78-.78 2.05 0 2.83L4 21.41c.39.39.9.59 1.41.59.51 0 1.02-.2 1.41-.59l7.78-7.78 2.81-2.81c.8-.78.8-2.07 0-2.86zM5.41 20L4 18.59l7.72-7.72 1.47 1.35L5.41 20z\"/>\n",
              "  </svg>\n",
              "      </button>\n",
              "      \n",
              "  <style>\n",
              "    .colab-df-container {\n",
              "      display:flex;\n",
              "      flex-wrap:wrap;\n",
              "      gap: 12px;\n",
              "    }\n",
              "\n",
              "    .colab-df-convert {\n",
              "      background-color: #E8F0FE;\n",
              "      border: none;\n",
              "      border-radius: 50%;\n",
              "      cursor: pointer;\n",
              "      display: none;\n",
              "      fill: #1967D2;\n",
              "      height: 32px;\n",
              "      padding: 0 0 0 0;\n",
              "      width: 32px;\n",
              "    }\n",
              "\n",
              "    .colab-df-convert:hover {\n",
              "      background-color: #E2EBFA;\n",
              "      box-shadow: 0px 1px 2px rgba(60, 64, 67, 0.3), 0px 1px 3px 1px rgba(60, 64, 67, 0.15);\n",
              "      fill: #174EA6;\n",
              "    }\n",
              "\n",
              "    [theme=dark] .colab-df-convert {\n",
              "      background-color: #3B4455;\n",
              "      fill: #D2E3FC;\n",
              "    }\n",
              "\n",
              "    [theme=dark] .colab-df-convert:hover {\n",
              "      background-color: #434B5C;\n",
              "      box-shadow: 0px 1px 3px 1px rgba(0, 0, 0, 0.15);\n",
              "      filter: drop-shadow(0px 1px 2px rgba(0, 0, 0, 0.3));\n",
              "      fill: #FFFFFF;\n",
              "    }\n",
              "  </style>\n",
              "\n",
              "      <script>\n",
              "        const buttonEl =\n",
              "          document.querySelector('#df-b554c1ef-aa8a-4bc7-8617-cbd76e22caf7 button.colab-df-convert');\n",
              "        buttonEl.style.display =\n",
              "          google.colab.kernel.accessAllowed ? 'block' : 'none';\n",
              "\n",
              "        async function convertToInteractive(key) {\n",
              "          const element = document.querySelector('#df-b554c1ef-aa8a-4bc7-8617-cbd76e22caf7');\n",
              "          const dataTable =\n",
              "            await google.colab.kernel.invokeFunction('convertToInteractive',\n",
              "                                                     [key], {});\n",
              "          if (!dataTable) return;\n",
              "\n",
              "          const docLinkHtml = 'Like what you see? Visit the ' +\n",
              "            '<a target=\"_blank\" href=https://colab.research.google.com/notebooks/data_table.ipynb>data table notebook</a>'\n",
              "            + ' to learn more about interactive tables.';\n",
              "          element.innerHTML = '';\n",
              "          dataTable['output_type'] = 'display_data';\n",
              "          await google.colab.output.renderOutput(dataTable, element);\n",
              "          const docLink = document.createElement('div');\n",
              "          docLink.innerHTML = docLinkHtml;\n",
              "          element.appendChild(docLink);\n",
              "        }\n",
              "      </script>\n",
              "    </div>\n",
              "  </div>\n",
              "  "
            ]
          },
          "metadata": {},
          "execution_count": 580
        }
      ]
    },
    {
      "cell_type": "code",
      "source": [
        "notas_sicrano['|Desvio|'] = notas_sicrano['Desvio'].abs()\n",
        "notas_sicrano"
      ],
      "metadata": {
        "colab": {
          "base_uri": "https://localhost:8080/",
          "height": 269
        },
        "id": "2ZmkhDxzXFSv",
        "outputId": "edbfec19-6c52-4078-dc8a-05838eb8f06e"
      },
      "execution_count": 581,
      "outputs": [
        {
          "output_type": "execute_result",
          "data": {
            "text/plain": [
              "Matérias    Sicrano    Desvio  |Desvio|\n",
              "Matemática      7.5 -0.214286  0.214286\n",
              "Português       8.0  0.285714  0.285714\n",
              "Inglês          7.0 -0.714286  0.714286\n",
              "Geografia       8.0  0.285714  0.285714\n",
              "História        8.0  0.285714  0.285714\n",
              "Física          8.5  0.785714  0.785714\n",
              "Química         7.0 -0.714286  0.714286"
            ],
            "text/html": [
              "\n",
              "  <div id=\"df-fb7a8f13-fc23-4810-a44f-4a1d3e64d999\">\n",
              "    <div class=\"colab-df-container\">\n",
              "      <div>\n",
              "<style scoped>\n",
              "    .dataframe tbody tr th:only-of-type {\n",
              "        vertical-align: middle;\n",
              "    }\n",
              "\n",
              "    .dataframe tbody tr th {\n",
              "        vertical-align: top;\n",
              "    }\n",
              "\n",
              "    .dataframe thead th {\n",
              "        text-align: right;\n",
              "    }\n",
              "</style>\n",
              "<table border=\"1\" class=\"dataframe\">\n",
              "  <thead>\n",
              "    <tr style=\"text-align: right;\">\n",
              "      <th>Matérias</th>\n",
              "      <th>Sicrano</th>\n",
              "      <th>Desvio</th>\n",
              "      <th>|Desvio|</th>\n",
              "    </tr>\n",
              "  </thead>\n",
              "  <tbody>\n",
              "    <tr>\n",
              "      <th>Matemática</th>\n",
              "      <td>7.5</td>\n",
              "      <td>-0.214286</td>\n",
              "      <td>0.214286</td>\n",
              "    </tr>\n",
              "    <tr>\n",
              "      <th>Português</th>\n",
              "      <td>8.0</td>\n",
              "      <td>0.285714</td>\n",
              "      <td>0.285714</td>\n",
              "    </tr>\n",
              "    <tr>\n",
              "      <th>Inglês</th>\n",
              "      <td>7.0</td>\n",
              "      <td>-0.714286</td>\n",
              "      <td>0.714286</td>\n",
              "    </tr>\n",
              "    <tr>\n",
              "      <th>Geografia</th>\n",
              "      <td>8.0</td>\n",
              "      <td>0.285714</td>\n",
              "      <td>0.285714</td>\n",
              "    </tr>\n",
              "    <tr>\n",
              "      <th>História</th>\n",
              "      <td>8.0</td>\n",
              "      <td>0.285714</td>\n",
              "      <td>0.285714</td>\n",
              "    </tr>\n",
              "    <tr>\n",
              "      <th>Física</th>\n",
              "      <td>8.5</td>\n",
              "      <td>0.785714</td>\n",
              "      <td>0.785714</td>\n",
              "    </tr>\n",
              "    <tr>\n",
              "      <th>Química</th>\n",
              "      <td>7.0</td>\n",
              "      <td>-0.714286</td>\n",
              "      <td>0.714286</td>\n",
              "    </tr>\n",
              "  </tbody>\n",
              "</table>\n",
              "</div>\n",
              "      <button class=\"colab-df-convert\" onclick=\"convertToInteractive('df-fb7a8f13-fc23-4810-a44f-4a1d3e64d999')\"\n",
              "              title=\"Convert this dataframe to an interactive table.\"\n",
              "              style=\"display:none;\">\n",
              "        \n",
              "  <svg xmlns=\"http://www.w3.org/2000/svg\" height=\"24px\"viewBox=\"0 0 24 24\"\n",
              "       width=\"24px\">\n",
              "    <path d=\"M0 0h24v24H0V0z\" fill=\"none\"/>\n",
              "    <path d=\"M18.56 5.44l.94 2.06.94-2.06 2.06-.94-2.06-.94-.94-2.06-.94 2.06-2.06.94zm-11 1L8.5 8.5l.94-2.06 2.06-.94-2.06-.94L8.5 2.5l-.94 2.06-2.06.94zm10 10l.94 2.06.94-2.06 2.06-.94-2.06-.94-.94-2.06-.94 2.06-2.06.94z\"/><path d=\"M17.41 7.96l-1.37-1.37c-.4-.4-.92-.59-1.43-.59-.52 0-1.04.2-1.43.59L10.3 9.45l-7.72 7.72c-.78.78-.78 2.05 0 2.83L4 21.41c.39.39.9.59 1.41.59.51 0 1.02-.2 1.41-.59l7.78-7.78 2.81-2.81c.8-.78.8-2.07 0-2.86zM5.41 20L4 18.59l7.72-7.72 1.47 1.35L5.41 20z\"/>\n",
              "  </svg>\n",
              "      </button>\n",
              "      \n",
              "  <style>\n",
              "    .colab-df-container {\n",
              "      display:flex;\n",
              "      flex-wrap:wrap;\n",
              "      gap: 12px;\n",
              "    }\n",
              "\n",
              "    .colab-df-convert {\n",
              "      background-color: #E8F0FE;\n",
              "      border: none;\n",
              "      border-radius: 50%;\n",
              "      cursor: pointer;\n",
              "      display: none;\n",
              "      fill: #1967D2;\n",
              "      height: 32px;\n",
              "      padding: 0 0 0 0;\n",
              "      width: 32px;\n",
              "    }\n",
              "\n",
              "    .colab-df-convert:hover {\n",
              "      background-color: #E2EBFA;\n",
              "      box-shadow: 0px 1px 2px rgba(60, 64, 67, 0.3), 0px 1px 3px 1px rgba(60, 64, 67, 0.15);\n",
              "      fill: #174EA6;\n",
              "    }\n",
              "\n",
              "    [theme=dark] .colab-df-convert {\n",
              "      background-color: #3B4455;\n",
              "      fill: #D2E3FC;\n",
              "    }\n",
              "\n",
              "    [theme=dark] .colab-df-convert:hover {\n",
              "      background-color: #434B5C;\n",
              "      box-shadow: 0px 1px 3px 1px rgba(0, 0, 0, 0.15);\n",
              "      filter: drop-shadow(0px 1px 2px rgba(0, 0, 0, 0.3));\n",
              "      fill: #FFFFFF;\n",
              "    }\n",
              "  </style>\n",
              "\n",
              "      <script>\n",
              "        const buttonEl =\n",
              "          document.querySelector('#df-fb7a8f13-fc23-4810-a44f-4a1d3e64d999 button.colab-df-convert');\n",
              "        buttonEl.style.display =\n",
              "          google.colab.kernel.accessAllowed ? 'block' : 'none';\n",
              "\n",
              "        async function convertToInteractive(key) {\n",
              "          const element = document.querySelector('#df-fb7a8f13-fc23-4810-a44f-4a1d3e64d999');\n",
              "          const dataTable =\n",
              "            await google.colab.kernel.invokeFunction('convertToInteractive',\n",
              "                                                     [key], {});\n",
              "          if (!dataTable) return;\n",
              "\n",
              "          const docLinkHtml = 'Like what you see? Visit the ' +\n",
              "            '<a target=\"_blank\" href=https://colab.research.google.com/notebooks/data_table.ipynb>data table notebook</a>'\n",
              "            + ' to learn more about interactive tables.';\n",
              "          element.innerHTML = '';\n",
              "          dataTable['output_type'] = 'display_data';\n",
              "          await google.colab.output.renderOutput(dataTable, element);\n",
              "          const docLink = document.createElement('div');\n",
              "          docLink.innerHTML = docLinkHtml;\n",
              "          element.appendChild(docLink);\n",
              "        }\n",
              "      </script>\n",
              "    </div>\n",
              "  </div>\n",
              "  "
            ]
          },
          "metadata": {},
          "execution_count": 581
        }
      ]
    },
    {
      "cell_type": "code",
      "source": [
        "ax = notas_sicrano['Sicrano'].plot(style = 'o')\n",
        "ax.set_title('Notas Sicrano', fontsize = 18)\n",
        "ax.set_ylabel('Notas', fontsize = 12)\n",
        "ax.figure.set_size_inches(14, 6)\n",
        "ax.hlines(y = nota_media_sicrano, xmin = 0, xmax = notas_sicrano.shape[0] - 1, colors ='red')\n",
        "for i in range(notas_sicrano.shape[0]):\n",
        "  ax.vlines(x = i, ymin = nota_media_sicrano, ymax = notas_sicrano['Sicrano'][i], linestyles = 'dashed')\n",
        "plt.show()"
      ],
      "metadata": {
        "colab": {
          "base_uri": "https://localhost:8080/",
          "height": 395
        },
        "id": "OwupYLnbVl8m",
        "outputId": "e5e4a2ec-ff2d-449c-ebf2-2c547f202951"
      },
      "execution_count": 582,
      "outputs": [
        {
          "output_type": "display_data",
          "data": {
            "text/plain": [
              "<Figure size 1008x432 with 1 Axes>"
            ],
            "image/png": "[encoded data removed]"
          },
          "metadata": {
            "needs_background": "light"
          }
        }
      ]
    },
    {
      "cell_type": "code",
      "source": [
        "notas_sicrano['|Desvio|'].mean()"
      ],
      "metadata": {
        "colab": {
          "base_uri": "https://localhost:8080/"
        },
        "id": "0QmwzmuuZUEp",
        "outputId": "81f7c910-0c72-42d3-c96a-46d4c02e46e1"
      },
      "execution_count": 583,
      "outputs": [
        {
          "output_type": "execute_result",
          "data": {
            "text/plain": [
              "0.4693877551020408"
            ]
          },
          "metadata": {},
          "execution_count": 583
        }
      ]
    },
    {
      "cell_type": "code",
      "source": [
        "# essa é a fórmula usada no pandas\n",
        "desvio_medio_absoluto2 = notas_sicrano['Sicrano'].mad()\n",
        "desvio_medio_absoluto2"
      ],
      "metadata": {
        "colab": {
          "base_uri": "https://localhost:8080/"
        },
        "id": "BQT_rRILaIex",
        "outputId": "d64d336f-40ee-4ab6-cf73-2220d72426b2"
      },
      "execution_count": 584,
      "outputs": [
        {
          "output_type": "execute_result",
          "data": {
            "text/plain": [
              "0.4693877551020408"
            ]
          },
          "metadata": {},
          "execution_count": 584
        }
      ]
    },
    {
      "cell_type": "code",
      "source": [
        "notas_beltrano = df[['Beltrano']]\n",
        "notas_beltrano"
      ],
      "metadata": {
        "colab": {
          "base_uri": "https://localhost:8080/",
          "height": 269
        },
        "id": "L-fK6dr6XheZ",
        "outputId": "c3885567-8258-47d7-be99-301dd43f407e"
      },
      "execution_count": 585,
      "outputs": [
        {
          "output_type": "execute_result",
          "data": {
            "text/plain": [
              "Matérias    Beltrano\n",
              "Matemática      10.0\n",
              "Português        2.0\n",
              "Inglês           0.5\n",
              "Geografia        1.0\n",
              "História         3.0\n",
              "Física           9.5\n",
              "Química         10.0"
            ],
            "text/html": [
              "\n",
              "  <div id=\"df-916c7cc2-9caa-420e-acb2-c83740364eb5\">\n",
              "    <div class=\"colab-df-container\">\n",
              "      <div>\n",
              "<style scoped>\n",
              "    .dataframe tbody tr th:only-of-type {\n",
              "        vertical-align: middle;\n",
              "    }\n",
              "\n",
              "    .dataframe tbody tr th {\n",
              "        vertical-align: top;\n",
              "    }\n",
              "\n",
              "    .dataframe thead th {\n",
              "        text-align: right;\n",
              "    }\n",
              "</style>\n",
              "<table border=\"1\" class=\"dataframe\">\n",
              "  <thead>\n",
              "    <tr style=\"text-align: right;\">\n",
              "      <th>Matérias</th>\n",
              "      <th>Beltrano</th>\n",
              "    </tr>\n",
              "  </thead>\n",
              "  <tbody>\n",
              "    <tr>\n",
              "      <th>Matemática</th>\n",
              "      <td>10.0</td>\n",
              "    </tr>\n",
              "    <tr>\n",
              "      <th>Português</th>\n",
              "      <td>2.0</td>\n",
              "    </tr>\n",
              "    <tr>\n",
              "      <th>Inglês</th>\n",
              "      <td>0.5</td>\n",
              "    </tr>\n",
              "    <tr>\n",
              "      <th>Geografia</th>\n",
              "      <td>1.0</td>\n",
              "    </tr>\n",
              "    <tr>\n",
              "      <th>História</th>\n",
              "      <td>3.0</td>\n",
              "    </tr>\n",
              "    <tr>\n",
              "      <th>Física</th>\n",
              "      <td>9.5</td>\n",
              "    </tr>\n",
              "    <tr>\n",
              "      <th>Química</th>\n",
              "      <td>10.0</td>\n",
              "    </tr>\n",
              "  </tbody>\n",
              "</table>\n",
              "</div>\n",
              "      <button class=\"colab-df-convert\" onclick=\"convertToInteractive('df-916c7cc2-9caa-420e-acb2-c83740364eb5')\"\n",
              "              title=\"Convert this dataframe to an interactive table.\"\n",
              "              style=\"display:none;\">\n",
              "        \n",
              "  <svg xmlns=\"http://www.w3.org/2000/svg\" height=\"24px\"viewBox=\"0 0 24 24\"\n",
              "       width=\"24px\">\n",
              "    <path d=\"M0 0h24v24H0V0z\" fill=\"none\"/>\n",
              "    <path d=\"M18.56 5.44l.94 2.06.94-2.06 2.06-.94-2.06-.94-.94-2.06-.94 2.06-2.06.94zm-11 1L8.5 8.5l.94-2.06 2.06-.94-2.06-.94L8.5 2.5l-.94 2.06-2.06.94zm10 10l.94 2.06.94-2.06 2.06-.94-2.06-.94-.94-2.06-.94 2.06-2.06.94z\"/><path d=\"M17.41 7.96l-1.37-1.37c-.4-.4-.92-.59-1.43-.59-.52 0-1.04.2-1.43.59L10.3 9.45l-7.72 7.72c-.78.78-.78 2.05 0 2.83L4 21.41c.39.39.9.59 1.41.59.51 0 1.02-.2 1.41-.59l7.78-7.78 2.81-2.81c.8-.78.8-2.07 0-2.86zM5.41 20L4 18.59l7.72-7.72 1.47 1.35L5.41 20z\"/>\n",
              "  </svg>\n",
              "      </button>\n",
              "      \n",
              "  <style>\n",
              "    .colab-df-container {\n",
              "      display:flex;\n",
              "      flex-wrap:wrap;\n",
              "      gap: 12px;\n",
              "    }\n",
              "\n",
              "    .colab-df-convert {\n",
              "      background-color: #E8F0FE;\n",
              "      border: none;\n",
              "      border-radius: 50%;\n",
              "      cursor: pointer;\n",
              "      display: none;\n",
              "      fill: #1967D2;\n",
              "      height: 32px;\n",
              "      padding: 0 0 0 0;\n",
              "      width: 32px;\n",
              "    }\n",
              "\n",
              "    .colab-df-convert:hover {\n",
              "      background-color: #E2EBFA;\n",
              "      box-shadow: 0px 1px 2px rgba(60, 64, 67, 0.3), 0px 1px 3px 1px rgba(60, 64, 67, 0.15);\n",
              "      fill: #174EA6;\n",
              "    }\n",
              "\n",
              "    [theme=dark] .colab-df-convert {\n",
              "      background-color: #3B4455;\n",
              "      fill: #D2E3FC;\n",
              "    }\n",
              "\n",
              "    [theme=dark] .colab-df-convert:hover {\n",
              "      background-color: #434B5C;\n",
              "      box-shadow: 0px 1px 3px 1px rgba(0, 0, 0, 0.15);\n",
              "      filter: drop-shadow(0px 1px 2px rgba(0, 0, 0, 0.3));\n",
              "      fill: #FFFFFF;\n",
              "    }\n",
              "  </style>\n",
              "\n",
              "      <script>\n",
              "        const buttonEl =\n",
              "          document.querySelector('#df-916c7cc2-9caa-420e-acb2-c83740364eb5 button.colab-df-convert');\n",
              "        buttonEl.style.display =\n",
              "          google.colab.kernel.accessAllowed ? 'block' : 'none';\n",
              "\n",
              "        async function convertToInteractive(key) {\n",
              "          const element = document.querySelector('#df-916c7cc2-9caa-420e-acb2-c83740364eb5');\n",
              "          const dataTable =\n",
              "            await google.colab.kernel.invokeFunction('convertToInteractive',\n",
              "                                                     [key], {});\n",
              "          if (!dataTable) return;\n",
              "\n",
              "          const docLinkHtml = 'Like what you see? Visit the ' +\n",
              "            '<a target=\"_blank\" href=https://colab.research.google.com/notebooks/data_table.ipynb>data table notebook</a>'\n",
              "            + ' to learn more about interactive tables.';\n",
              "          element.innerHTML = '';\n",
              "          dataTable['output_type'] = 'display_data';\n",
              "          await google.colab.output.renderOutput(dataTable, element);\n",
              "          const docLink = document.createElement('div');\n",
              "          docLink.innerHTML = docLinkHtml;\n",
              "          element.appendChild(docLink);\n",
              "        }\n",
              "      </script>\n",
              "    </div>\n",
              "  </div>\n",
              "  "
            ]
          },
          "metadata": {},
          "execution_count": 585
        }
      ]
    },
    {
      "cell_type": "code",
      "source": [
        "nota_media_beltrano = notas_beltrano.mean()[0]\n",
        "nota_media_beltrano"
      ],
      "metadata": {
        "colab": {
          "base_uri": "https://localhost:8080/"
        },
        "id": "9cRYE_9fXhPf",
        "outputId": "de3cde21-33fb-4980-ed00-fc3736144784"
      },
      "execution_count": 586,
      "outputs": [
        {
          "output_type": "execute_result",
          "data": {
            "text/plain": [
              "5.142857142857143"
            ]
          },
          "metadata": {},
          "execution_count": 586
        }
      ]
    },
    {
      "cell_type": "code",
      "source": [
        "notas_beltrano['Desvio'] = notas_beltrano['Beltrano'] - nota_media_beltrano\n",
        "notas_beltrano"
      ],
      "metadata": {
        "colab": {
          "base_uri": "https://localhost:8080/",
          "height": 269
        },
        "id": "JvVpf4ejXg6n",
        "outputId": "8590ad12-53ab-4aae-f2fc-827a0e91cfe2"
      },
      "execution_count": 587,
      "outputs": [
        {
          "output_type": "execute_result",
          "data": {
            "text/plain": [
              "Matérias    Beltrano    Desvio\n",
              "Matemática      10.0  4.857143\n",
              "Português        2.0 -3.142857\n",
              "Inglês           0.5 -4.642857\n",
              "Geografia        1.0 -4.142857\n",
              "História         3.0 -2.142857\n",
              "Física           9.5  4.357143\n",
              "Química         10.0  4.857143"
            ],
            "text/html": [
              "\n",
              "  <div id=\"df-77eb8bb7-1cab-4d3e-bca5-e04f73b40774\">\n",
              "    <div class=\"colab-df-container\">\n",
              "      <div>\n",
              "<style scoped>\n",
              "    .dataframe tbody tr th:only-of-type {\n",
              "        vertical-align: middle;\n",
              "    }\n",
              "\n",
              "    .dataframe tbody tr th {\n",
              "        vertical-align: top;\n",
              "    }\n",
              "\n",
              "    .dataframe thead th {\n",
              "        text-align: right;\n",
              "    }\n",
              "</style>\n",
              "<table border=\"1\" class=\"dataframe\">\n",
              "  <thead>\n",
              "    <tr style=\"text-align: right;\">\n",
              "      <th>Matérias</th>\n",
              "      <th>Beltrano</th>\n",
              "      <th>Desvio</th>\n",
              "    </tr>\n",
              "  </thead>\n",
              "  <tbody>\n",
              "    <tr>\n",
              "      <th>Matemática</th>\n",
              "      <td>10.0</td>\n",
              "      <td>4.857143</td>\n",
              "    </tr>\n",
              "    <tr>\n",
              "      <th>Português</th>\n",
              "      <td>2.0</td>\n",
              "      <td>-3.142857</td>\n",
              "    </tr>\n",
              "    <tr>\n",
              "      <th>Inglês</th>\n",
              "      <td>0.5</td>\n",
              "      <td>-4.642857</td>\n",
              "    </tr>\n",
              "    <tr>\n",
              "      <th>Geografia</th>\n",
              "      <td>1.0</td>\n",
              "      <td>-4.142857</td>\n",
              "    </tr>\n",
              "    <tr>\n",
              "      <th>História</th>\n",
              "      <td>3.0</td>\n",
              "      <td>-2.142857</td>\n",
              "    </tr>\n",
              "    <tr>\n",
              "      <th>Física</th>\n",
              "      <td>9.5</td>\n",
              "      <td>4.357143</td>\n",
              "    </tr>\n",
              "    <tr>\n",
              "      <th>Química</th>\n",
              "      <td>10.0</td>\n",
              "      <td>4.857143</td>\n",
              "    </tr>\n",
              "  </tbody>\n",
              "</table>\n",
              "</div>\n",
              "      <button class=\"colab-df-convert\" onclick=\"convertToInteractive('df-77eb8bb7-1cab-4d3e-bca5-e04f73b40774')\"\n",
              "              title=\"Convert this dataframe to an interactive table.\"\n",
              "              style=\"display:none;\">\n",
              "        \n",
              "  <svg xmlns=\"http://www.w3.org/2000/svg\" height=\"24px\"viewBox=\"0 0 24 24\"\n",
              "       width=\"24px\">\n",
              "    <path d=\"M0 0h24v24H0V0z\" fill=\"none\"/>\n",
              "    <path d=\"M18.56 5.44l.94 2.06.94-2.06 2.06-.94-2.06-.94-.94-2.06-.94 2.06-2.06.94zm-11 1L8.5 8.5l.94-2.06 2.06-.94-2.06-.94L8.5 2.5l-.94 2.06-2.06.94zm10 10l.94 2.06.94-2.06 2.06-.94-2.06-.94-.94-2.06-.94 2.06-2.06.94z\"/><path d=\"M17.41 7.96l-1.37-1.37c-.4-.4-.92-.59-1.43-.59-.52 0-1.04.2-1.43.59L10.3 9.45l-7.72 7.72c-.78.78-.78 2.05 0 2.83L4 21.41c.39.39.9.59 1.41.59.51 0 1.02-.2 1.41-.59l7.78-7.78 2.81-2.81c.8-.78.8-2.07 0-2.86zM5.41 20L4 18.59l7.72-7.72 1.47 1.35L5.41 20z\"/>\n",
              "  </svg>\n",
              "      </button>\n",
              "      \n",
              "  <style>\n",
              "    .colab-df-container {\n",
              "      display:flex;\n",
              "      flex-wrap:wrap;\n",
              "      gap: 12px;\n",
              "    }\n",
              "\n",
              "    .colab-df-convert {\n",
              "      background-color: #E8F0FE;\n",
              "      border: none;\n",
              "      border-radius: 50%;\n",
              "      cursor: pointer;\n",
              "      display: none;\n",
              "      fill: #1967D2;\n",
              "      height: 32px;\n",
              "      padding: 0 0 0 0;\n",
              "      width: 32px;\n",
              "    }\n",
              "\n",
              "    .colab-df-convert:hover {\n",
              "      background-color: #E2EBFA;\n",
              "      box-shadow: 0px 1px 2px rgba(60, 64, 67, 0.3), 0px 1px 3px 1px rgba(60, 64, 67, 0.15);\n",
              "      fill: #174EA6;\n",
              "    }\n",
              "\n",
              "    [theme=dark] .colab-df-convert {\n",
              "      background-color: #3B4455;\n",
              "      fill: #D2E3FC;\n",
              "    }\n",
              "\n",
              "    [theme=dark] .colab-df-convert:hover {\n",
              "      background-color: #434B5C;\n",
              "      box-shadow: 0px 1px 3px 1px rgba(0, 0, 0, 0.15);\n",
              "      filter: drop-shadow(0px 1px 2px rgba(0, 0, 0, 0.3));\n",
              "      fill: #FFFFFF;\n",
              "    }\n",
              "  </style>\n",
              "\n",
              "      <script>\n",
              "        const buttonEl =\n",
              "          document.querySelector('#df-77eb8bb7-1cab-4d3e-bca5-e04f73b40774 button.colab-df-convert');\n",
              "        buttonEl.style.display =\n",
              "          google.colab.kernel.accessAllowed ? 'block' : 'none';\n",
              "\n",
              "        async function convertToInteractive(key) {\n",
              "          const element = document.querySelector('#df-77eb8bb7-1cab-4d3e-bca5-e04f73b40774');\n",
              "          const dataTable =\n",
              "            await google.colab.kernel.invokeFunction('convertToInteractive',\n",
              "                                                     [key], {});\n",
              "          if (!dataTable) return;\n",
              "\n",
              "          const docLinkHtml = 'Like what you see? Visit the ' +\n",
              "            '<a target=\"_blank\" href=https://colab.research.google.com/notebooks/data_table.ipynb>data table notebook</a>'\n",
              "            + ' to learn more about interactive tables.';\n",
              "          element.innerHTML = '';\n",
              "          dataTable['output_type'] = 'display_data';\n",
              "          await google.colab.output.renderOutput(dataTable, element);\n",
              "          const docLink = document.createElement('div');\n",
              "          docLink.innerHTML = docLinkHtml;\n",
              "          element.appendChild(docLink);\n",
              "        }\n",
              "      </script>\n",
              "    </div>\n",
              "  </div>\n",
              "  "
            ]
          },
          "metadata": {},
          "execution_count": 587
        }
      ]
    },
    {
      "cell_type": "code",
      "source": [
        "notas_beltrano['|Desvio|'] = notas_beltrano['Desvio'].abs()\n",
        "notas_beltrano"
      ],
      "metadata": {
        "colab": {
          "base_uri": "https://localhost:8080/",
          "height": 269
        },
        "id": "x5rJERjhXgpG",
        "outputId": "512da5a6-8459-4082-8780-5ab2c604f0b7"
      },
      "execution_count": 588,
      "outputs": [
        {
          "output_type": "execute_result",
          "data": {
            "text/plain": [
              "Matérias    Beltrano    Desvio  |Desvio|\n",
              "Matemática      10.0  4.857143  4.857143\n",
              "Português        2.0 -3.142857  3.142857\n",
              "Inglês           0.5 -4.642857  4.642857\n",
              "Geografia        1.0 -4.142857  4.142857\n",
              "História         3.0 -2.142857  2.142857\n",
              "Física           9.5  4.357143  4.357143\n",
              "Química         10.0  4.857143  4.857143"
            ],
            "text/html": [
              "\n",
              "  <div id=\"df-36616a98-b70b-4088-b2dd-2c875dcb67a2\">\n",
              "    <div class=\"colab-df-container\">\n",
              "      <div>\n",
              "<style scoped>\n",
              "    .dataframe tbody tr th:only-of-type {\n",
              "        vertical-align: middle;\n",
              "    }\n",
              "\n",
              "    .dataframe tbody tr th {\n",
              "        vertical-align: top;\n",
              "    }\n",
              "\n",
              "    .dataframe thead th {\n",
              "        text-align: right;\n",
              "    }\n",
              "</style>\n",
              "<table border=\"1\" class=\"dataframe\">\n",
              "  <thead>\n",
              "    <tr style=\"text-align: right;\">\n",
              "      <th>Matérias</th>\n",
              "      <th>Beltrano</th>\n",
              "      <th>Desvio</th>\n",
              "      <th>|Desvio|</th>\n",
              "    </tr>\n",
              "  </thead>\n",
              "  <tbody>\n",
              "    <tr>\n",
              "      <th>Matemática</th>\n",
              "      <td>10.0</td>\n",
              "      <td>4.857143</td>\n",
              "      <td>4.857143</td>\n",
              "    </tr>\n",
              "    <tr>\n",
              "      <th>Português</th>\n",
              "      <td>2.0</td>\n",
              "      <td>-3.142857</td>\n",
              "      <td>3.142857</td>\n",
              "    </tr>\n",
              "    <tr>\n",
              "      <th>Inglês</th>\n",
              "      <td>0.5</td>\n",
              "      <td>-4.642857</td>\n",
              "      <td>4.642857</td>\n",
              "    </tr>\n",
              "    <tr>\n",
              "      <th>Geografia</th>\n",
              "      <td>1.0</td>\n",
              "      <td>-4.142857</td>\n",
              "      <td>4.142857</td>\n",
              "    </tr>\n",
              "    <tr>\n",
              "      <th>História</th>\n",
              "      <td>3.0</td>\n",
              "      <td>-2.142857</td>\n",
              "      <td>2.142857</td>\n",
              "    </tr>\n",
              "    <tr>\n",
              "      <th>Física</th>\n",
              "      <td>9.5</td>\n",
              "      <td>4.357143</td>\n",
              "      <td>4.357143</td>\n",
              "    </tr>\n",
              "    <tr>\n",
              "      <th>Química</th>\n",
              "      <td>10.0</td>\n",
              "      <td>4.857143</td>\n",
              "      <td>4.857143</td>\n",
              "    </tr>\n",
              "  </tbody>\n",
              "</table>\n",
              "</div>\n",
              "      <button class=\"colab-df-convert\" onclick=\"convertToInteractive('df-36616a98-b70b-4088-b2dd-2c875dcb67a2')\"\n",
              "              title=\"Convert this dataframe to an interactive table.\"\n",
              "              style=\"display:none;\">\n",
              "        \n",
              "  <svg xmlns=\"http://www.w3.org/2000/svg\" height=\"24px\"viewBox=\"0 0 24 24\"\n",
              "       width=\"24px\">\n",
              "    <path d=\"M0 0h24v24H0V0z\" fill=\"none\"/>\n",
              "    <path d=\"M18.56 5.44l.94 2.06.94-2.06 2.06-.94-2.06-.94-.94-2.06-.94 2.06-2.06.94zm-11 1L8.5 8.5l.94-2.06 2.06-.94-2.06-.94L8.5 2.5l-.94 2.06-2.06.94zm10 10l.94 2.06.94-2.06 2.06-.94-2.06-.94-.94-2.06-.94 2.06-2.06.94z\"/><path d=\"M17.41 7.96l-1.37-1.37c-.4-.4-.92-.59-1.43-.59-.52 0-1.04.2-1.43.59L10.3 9.45l-7.72 7.72c-.78.78-.78 2.05 0 2.83L4 21.41c.39.39.9.59 1.41.59.51 0 1.02-.2 1.41-.59l7.78-7.78 2.81-2.81c.8-.78.8-2.07 0-2.86zM5.41 20L4 18.59l7.72-7.72 1.47 1.35L5.41 20z\"/>\n",
              "  </svg>\n",
              "      </button>\n",
              "      \n",
              "  <style>\n",
              "    .colab-df-container {\n",
              "      display:flex;\n",
              "      flex-wrap:wrap;\n",
              "      gap: 12px;\n",
              "    }\n",
              "\n",
              "    .colab-df-convert {\n",
              "      background-color: #E8F0FE;\n",
              "      border: none;\n",
              "      border-radius: 50%;\n",
              "      cursor: pointer;\n",
              "      display: none;\n",
              "      fill: #1967D2;\n",
              "      height: 32px;\n",
              "      padding: 0 0 0 0;\n",
              "      width: 32px;\n",
              "    }\n",
              "\n",
              "    .colab-df-convert:hover {\n",
              "      background-color: #E2EBFA;\n",
              "      box-shadow: 0px 1px 2px rgba(60, 64, 67, 0.3), 0px 1px 3px 1px rgba(60, 64, 67, 0.15);\n",
              "      fill: #174EA6;\n",
              "    }\n",
              "\n",
              "    [theme=dark] .colab-df-convert {\n",
              "      background-color: #3B4455;\n",
              "      fill: #D2E3FC;\n",
              "    }\n",
              "\n",
              "    [theme=dark] .colab-df-convert:hover {\n",
              "      background-color: #434B5C;\n",
              "      box-shadow: 0px 1px 3px 1px rgba(0, 0, 0, 0.15);\n",
              "      filter: drop-shadow(0px 1px 2px rgba(0, 0, 0, 0.3));\n",
              "      fill: #FFFFFF;\n",
              "    }\n",
              "  </style>\n",
              "\n",
              "      <script>\n",
              "        const buttonEl =\n",
              "          document.querySelector('#df-36616a98-b70b-4088-b2dd-2c875dcb67a2 button.colab-df-convert');\n",
              "        buttonEl.style.display =\n",
              "          google.colab.kernel.accessAllowed ? 'block' : 'none';\n",
              "\n",
              "        async function convertToInteractive(key) {\n",
              "          const element = document.querySelector('#df-36616a98-b70b-4088-b2dd-2c875dcb67a2');\n",
              "          const dataTable =\n",
              "            await google.colab.kernel.invokeFunction('convertToInteractive',\n",
              "                                                     [key], {});\n",
              "          if (!dataTable) return;\n",
              "\n",
              "          const docLinkHtml = 'Like what you see? Visit the ' +\n",
              "            '<a target=\"_blank\" href=https://colab.research.google.com/notebooks/data_table.ipynb>data table notebook</a>'\n",
              "            + ' to learn more about interactive tables.';\n",
              "          element.innerHTML = '';\n",
              "          dataTable['output_type'] = 'display_data';\n",
              "          await google.colab.output.renderOutput(dataTable, element);\n",
              "          const docLink = document.createElement('div');\n",
              "          docLink.innerHTML = docLinkHtml;\n",
              "          element.appendChild(docLink);\n",
              "        }\n",
              "      </script>\n",
              "    </div>\n",
              "  </div>\n",
              "  "
            ]
          },
          "metadata": {},
          "execution_count": 588
        }
      ]
    },
    {
      "cell_type": "code",
      "source": [
        "ax = notas_beltrano['Beltrano'].plot(style = 'o')\n",
        "ax.set_title('Notas Beltrano', fontsize = 18)\n",
        "ax.set_ylabel('Notas', fontsize = 12)\n",
        "ax.figure.set_size_inches(14, 6)\n",
        "ax.hlines(y = nota_media_beltrano, xmin = 0, xmax = notas_beltrano.shape[0] - 1, colors ='red')\n",
        "for i in range(notas_beltrano.shape[0]):\n",
        "  ax.vlines(x = i, ymin = nota_media_beltrano, ymax = notas_beltrano['Beltrano'][i], linestyles = 'dashed')\n",
        "plt.show()"
      ],
      "metadata": {
        "colab": {
          "base_uri": "https://localhost:8080/",
          "height": 395
        },
        "id": "f8kx0vDyXgAh",
        "outputId": "58c3121d-3286-4e1e-d8e1-80a17aaf1130"
      },
      "execution_count": 589,
      "outputs": [
        {
          "output_type": "display_data",
          "data": {
            "text/plain": [
              "<Figure size 1008x432 with 1 Axes>"
            ],
            "image/png": "[encoded data removed]"
          },
          "metadata": {
            "needs_background": "light"
          }
        }
      ]
    },
    {
      "cell_type": "code",
      "source": [
        "notas_beltrano['|Desvio|'].mean()"
      ],
      "metadata": {
        "colab": {
          "base_uri": "https://localhost:8080/"
        },
        "id": "S8uH81WWZfyK",
        "outputId": "d20630fb-8ae9-4055-dd5a-4ca565efe166"
      },
      "execution_count": 590,
      "outputs": [
        {
          "output_type": "execute_result",
          "data": {
            "text/plain": [
              "4.020408163265306"
            ]
          },
          "metadata": {},
          "execution_count": 590
        }
      ]
    },
    {
      "cell_type": "code",
      "source": [
        "# essa é a fórmula usada no pandas\n",
        "desvio_medio_absoluto3 = notas_beltrano['Beltrano'].mad()\n",
        "desvio_medio_absoluto3"
      ],
      "metadata": {
        "colab": {
          "base_uri": "https://localhost:8080/"
        },
        "id": "ItHgjp1waVeQ",
        "outputId": "5f567a4b-908c-4e9f-8c04-1f7f5eb4fb56"
      },
      "execution_count": 591,
      "outputs": [
        {
          "output_type": "execute_result",
          "data": {
            "text/plain": [
              "4.020408163265306"
            ]
          },
          "metadata": {},
          "execution_count": 591
        }
      ]
    },
    {
      "cell_type": "markdown",
      "metadata": {
        "id": "jSKfnKwEjQNW"
      },
      "source": [
        "## <font color=green>5.2 Variância</font>\n",
        "***"
      ]
    },
    {
      "cell_type": "markdown",
      "metadata": {
        "id": "tHD3yNqzjQNW"
      },
      "source": [
        "### Variância\n",
        "\n",
        "A variância é construída a partir das diferenças entre cada observação e a média dos dados, ou seja, o desvio em torno da média. No cálculo da variância, os desvios em torno da média são elevados ao quadrado."
      ]
    },
    {
      "cell_type": "markdown",
      "metadata": {
        "id": "WrCn9hw0jQNX"
      },
      "source": [
        "### Variância populacional\n",
        "\n",
        "# $$\\sigma^2 = \\frac 1n\\sum_{i=1}^{n}(X_i-\\mu)^2$$"
      ]
    },
    {
      "cell_type": "markdown",
      "metadata": {
        "id": "jV5mQT_djQNX"
      },
      "source": [
        "### Variância amostral\n",
        "\n",
        "# $$S^2 = \\frac 1{n-1}\\sum_{i=1}^{n}(X_i-\\bar{X})^2$$"
      ]
    },
    {
      "cell_type": "code",
      "execution_count": 592,
      "metadata": {
        "id": "4tlbCQeujQNZ",
        "colab": {
          "base_uri": "https://localhost:8080/",
          "height": 269
        },
        "outputId": "4fed441d-f169-40be-e172-d4cc1bc5fb44"
      },
      "outputs": [
        {
          "output_type": "execute_result",
          "data": {
            "text/plain": [
              "Matérias    Fulano    Desvio  |Desvio|  (Desvio)^2\n",
              "Matemática       8  0.285714  0.285714    0.081633\n",
              "Português       10  2.285714  2.285714    5.224490\n",
              "Inglês           4 -3.714286  3.714286   13.795918\n",
              "Geografia        8  0.285714  0.285714    0.081633\n",
              "História         6 -1.714286  1.714286    2.938776\n",
              "Física          10  2.285714  2.285714    5.224490\n",
              "Química          8  0.285714  0.285714    0.081633"
            ],
            "text/html": [
              "\n",
              "  <div id=\"df-a23c4229-c9b9-4e1b-bf86-56a949389bfd\">\n",
              "    <div class=\"colab-df-container\">\n",
              "      <div>\n",
              "<style scoped>\n",
              "    .dataframe tbody tr th:only-of-type {\n",
              "        vertical-align: middle;\n",
              "    }\n",
              "\n",
              "    .dataframe tbody tr th {\n",
              "        vertical-align: top;\n",
              "    }\n",
              "\n",
              "    .dataframe thead th {\n",
              "        text-align: right;\n",
              "    }\n",
              "</style>\n",
              "<table border=\"1\" class=\"dataframe\">\n",
              "  <thead>\n",
              "    <tr style=\"text-align: right;\">\n",
              "      <th>Matérias</th>\n",
              "      <th>Fulano</th>\n",
              "      <th>Desvio</th>\n",
              "      <th>|Desvio|</th>\n",
              "      <th>(Desvio)^2</th>\n",
              "    </tr>\n",
              "  </thead>\n",
              "  <tbody>\n",
              "    <tr>\n",
              "      <th>Matemática</th>\n",
              "      <td>8</td>\n",
              "      <td>0.285714</td>\n",
              "      <td>0.285714</td>\n",
              "      <td>0.081633</td>\n",
              "    </tr>\n",
              "    <tr>\n",
              "      <th>Português</th>\n",
              "      <td>10</td>\n",
              "      <td>2.285714</td>\n",
              "      <td>2.285714</td>\n",
              "      <td>5.224490</td>\n",
              "    </tr>\n",
              "    <tr>\n",
              "      <th>Inglês</th>\n",
              "      <td>4</td>\n",
              "      <td>-3.714286</td>\n",
              "      <td>3.714286</td>\n",
              "      <td>13.795918</td>\n",
              "    </tr>\n",
              "    <tr>\n",
              "      <th>Geografia</th>\n",
              "      <td>8</td>\n",
              "      <td>0.285714</td>\n",
              "      <td>0.285714</td>\n",
              "      <td>0.081633</td>\n",
              "    </tr>\n",
              "    <tr>\n",
              "      <th>História</th>\n",
              "      <td>6</td>\n",
              "      <td>-1.714286</td>\n",
              "      <td>1.714286</td>\n",
              "      <td>2.938776</td>\n",
              "    </tr>\n",
              "    <tr>\n",
              "      <th>Física</th>\n",
              "      <td>10</td>\n",
              "      <td>2.285714</td>\n",
              "      <td>2.285714</td>\n",
              "      <td>5.224490</td>\n",
              "    </tr>\n",
              "    <tr>\n",
              "      <th>Química</th>\n",
              "      <td>8</td>\n",
              "      <td>0.285714</td>\n",
              "      <td>0.285714</td>\n",
              "      <td>0.081633</td>\n",
              "    </tr>\n",
              "  </tbody>\n",
              "</table>\n",
              "</div>\n",
              "      <button class=\"colab-df-convert\" onclick=\"convertToInteractive('df-a23c4229-c9b9-4e1b-bf86-56a949389bfd')\"\n",
              "              title=\"Convert this dataframe to an interactive table.\"\n",
              "              style=\"display:none;\">\n",
              "        \n",
              "  <svg xmlns=\"http://www.w3.org/2000/svg\" height=\"24px\"viewBox=\"0 0 24 24\"\n",
              "       width=\"24px\">\n",
              "    <path d=\"M0 0h24v24H0V0z\" fill=\"none\"/>\n",
              "    <path d=\"M18.56 5.44l.94 2.06.94-2.06 2.06-.94-2.06-.94-.94-2.06-.94 2.06-2.06.94zm-11 1L8.5 8.5l.94-2.06 2.06-.94-2.06-.94L8.5 2.5l-.94 2.06-2.06.94zm10 10l.94 2.06.94-2.06 2.06-.94-2.06-.94-.94-2.06-.94 2.06-2.06.94z\"/><path d=\"M17.41 7.96l-1.37-1.37c-.4-.4-.92-.59-1.43-.59-.52 0-1.04.2-1.43.59L10.3 9.45l-7.72 7.72c-.78.78-.78 2.05 0 2.83L4 21.41c.39.39.9.59 1.41.59.51 0 1.02-.2 1.41-.59l7.78-7.78 2.81-2.81c.8-.78.8-2.07 0-2.86zM5.41 20L4 18.59l7.72-7.72 1.47 1.35L5.41 20z\"/>\n",
              "  </svg>\n",
              "      </button>\n",
              "      \n",
              "  <style>\n",
              "    .colab-df-container {\n",
              "      display:flex;\n",
              "      flex-wrap:wrap;\n",
              "      gap: 12px;\n",
              "    }\n",
              "\n",
              "    .colab-df-convert {\n",
              "      background-color: #E8F0FE;\n",
              "      border: none;\n",
              "      border-radius: 50%;\n",
              "      cursor: pointer;\n",
              "      display: none;\n",
              "      fill: #1967D2;\n",
              "      height: 32px;\n",
              "      padding: 0 0 0 0;\n",
              "      width: 32px;\n",
              "    }\n",
              "\n",
              "    .colab-df-convert:hover {\n",
              "      background-color: #E2EBFA;\n",
              "      box-shadow: 0px 1px 2px rgba(60, 64, 67, 0.3), 0px 1px 3px 1px rgba(60, 64, 67, 0.15);\n",
              "      fill: #174EA6;\n",
              "    }\n",
              "\n",
              "    [theme=dark] .colab-df-convert {\n",
              "      background-color: #3B4455;\n",
              "      fill: #D2E3FC;\n",
              "    }\n",
              "\n",
              "    [theme=dark] .colab-df-convert:hover {\n",
              "      background-color: #434B5C;\n",
              "      box-shadow: 0px 1px 3px 1px rgba(0, 0, 0, 0.15);\n",
              "      filter: drop-shadow(0px 1px 2px rgba(0, 0, 0, 0.3));\n",
              "      fill: #FFFFFF;\n",
              "    }\n",
              "  </style>\n",
              "\n",
              "      <script>\n",
              "        const buttonEl =\n",
              "          document.querySelector('#df-a23c4229-c9b9-4e1b-bf86-56a949389bfd button.colab-df-convert');\n",
              "        buttonEl.style.display =\n",
              "          google.colab.kernel.accessAllowed ? 'block' : 'none';\n",
              "\n",
              "        async function convertToInteractive(key) {\n",
              "          const element = document.querySelector('#df-a23c4229-c9b9-4e1b-bf86-56a949389bfd');\n",
              "          const dataTable =\n",
              "            await google.colab.kernel.invokeFunction('convertToInteractive',\n",
              "                                                     [key], {});\n",
              "          if (!dataTable) return;\n",
              "\n",
              "          const docLinkHtml = 'Like what you see? Visit the ' +\n",
              "            '<a target=\"_blank\" href=https://colab.research.google.com/notebooks/data_table.ipynb>data table notebook</a>'\n",
              "            + ' to learn more about interactive tables.';\n",
              "          element.innerHTML = '';\n",
              "          dataTable['output_type'] = 'display_data';\n",
              "          await google.colab.output.renderOutput(dataTable, element);\n",
              "          const docLink = document.createElement('div');\n",
              "          docLink.innerHTML = docLinkHtml;\n",
              "          element.appendChild(docLink);\n",
              "        }\n",
              "      </script>\n",
              "    </div>\n",
              "  </div>\n",
              "  "
            ]
          },
          "metadata": {},
          "execution_count": 592
        }
      ],
      "source": [
        "notas_fulano['(Desvio)^2'] = notas_fulano['Desvio'].pow(2)\n",
        "notas_fulano"
      ]
    },
    {
      "cell_type": "code",
      "execution_count": 593,
      "metadata": {
        "id": "oCcAfoIOjQNa",
        "colab": {
          "base_uri": "https://localhost:8080/"
        },
        "outputId": "a40fdda1-b423-4f74-d72f-f636497f9f39"
      },
      "outputs": [
        {
          "output_type": "execute_result",
          "data": {
            "text/plain": [
              "4.57142857142857"
            ]
          },
          "metadata": {},
          "execution_count": 593
        }
      ],
      "source": [
        "valor_variancia_notas_fulano = notas_fulano['(Desvio)^2'].sum() / (len(notas_fulano) - 1)\n",
        "valor_variancia_notas_fulano"
      ]
    },
    {
      "cell_type": "code",
      "source": [
        "# forma usando pandas(mais simples)\n",
        "valor_variancia_notas_fulano = notas_fulano['Fulano'].var()\n",
        "valor_variancia_notas_fulano"
      ],
      "metadata": {
        "colab": {
          "base_uri": "https://localhost:8080/"
        },
        "id": "hCErsoc3hZ97",
        "outputId": "18b24ce0-7e11-4a57-d18d-39f0c41c3726"
      },
      "execution_count": 594,
      "outputs": [
        {
          "output_type": "execute_result",
          "data": {
            "text/plain": [
              "4.57142857142857"
            ]
          },
          "metadata": {},
          "execution_count": 594
        }
      ]
    },
    {
      "cell_type": "code",
      "source": [
        "notas_sicrano['(Desvio)^2'] = notas_sicrano['Desvio'].pow(2)\n",
        "notas_sicrano"
      ],
      "metadata": {
        "colab": {
          "base_uri": "https://localhost:8080/",
          "height": 269
        },
        "id": "4Fw4Blr0g9t1",
        "outputId": "7bf3759e-7cdd-4d84-fc35-76da26aeefe9"
      },
      "execution_count": 595,
      "outputs": [
        {
          "output_type": "execute_result",
          "data": {
            "text/plain": [
              "Matérias    Sicrano    Desvio  |Desvio|  (Desvio)^2\n",
              "Matemática      7.5 -0.214286  0.214286    0.045918\n",
              "Português       8.0  0.285714  0.285714    0.081633\n",
              "Inglês          7.0 -0.714286  0.714286    0.510204\n",
              "Geografia       8.0  0.285714  0.285714    0.081633\n",
              "História        8.0  0.285714  0.285714    0.081633\n",
              "Física          8.5  0.785714  0.785714    0.617347\n",
              "Química         7.0 -0.714286  0.714286    0.510204"
            ],
            "text/html": [
              "\n",
              "  <div id=\"df-67905e9b-5512-4c7b-b892-04aa57b97009\">\n",
              "    <div class=\"colab-df-container\">\n",
              "      <div>\n",
              "<style scoped>\n",
              "    .dataframe tbody tr th:only-of-type {\n",
              "        vertical-align: middle;\n",
              "    }\n",
              "\n",
              "    .dataframe tbody tr th {\n",
              "        vertical-align: top;\n",
              "    }\n",
              "\n",
              "    .dataframe thead th {\n",
              "        text-align: right;\n",
              "    }\n",
              "</style>\n",
              "<table border=\"1\" class=\"dataframe\">\n",
              "  <thead>\n",
              "    <tr style=\"text-align: right;\">\n",
              "      <th>Matérias</th>\n",
              "      <th>Sicrano</th>\n",
              "      <th>Desvio</th>\n",
              "      <th>|Desvio|</th>\n",
              "      <th>(Desvio)^2</th>\n",
              "    </tr>\n",
              "  </thead>\n",
              "  <tbody>\n",
              "    <tr>\n",
              "      <th>Matemática</th>\n",
              "      <td>7.5</td>\n",
              "      <td>-0.214286</td>\n",
              "      <td>0.214286</td>\n",
              "      <td>0.045918</td>\n",
              "    </tr>\n",
              "    <tr>\n",
              "      <th>Português</th>\n",
              "      <td>8.0</td>\n",
              "      <td>0.285714</td>\n",
              "      <td>0.285714</td>\n",
              "      <td>0.081633</td>\n",
              "    </tr>\n",
              "    <tr>\n",
              "      <th>Inglês</th>\n",
              "      <td>7.0</td>\n",
              "      <td>-0.714286</td>\n",
              "      <td>0.714286</td>\n",
              "      <td>0.510204</td>\n",
              "    </tr>\n",
              "    <tr>\n",
              "      <th>Geografia</th>\n",
              "      <td>8.0</td>\n",
              "      <td>0.285714</td>\n",
              "      <td>0.285714</td>\n",
              "      <td>0.081633</td>\n",
              "    </tr>\n",
              "    <tr>\n",
              "      <th>História</th>\n",
              "      <td>8.0</td>\n",
              "      <td>0.285714</td>\n",
              "      <td>0.285714</td>\n",
              "      <td>0.081633</td>\n",
              "    </tr>\n",
              "    <tr>\n",
              "      <th>Física</th>\n",
              "      <td>8.5</td>\n",
              "      <td>0.785714</td>\n",
              "      <td>0.785714</td>\n",
              "      <td>0.617347</td>\n",
              "    </tr>\n",
              "    <tr>\n",
              "      <th>Química</th>\n",
              "      <td>7.0</td>\n",
              "      <td>-0.714286</td>\n",
              "      <td>0.714286</td>\n",
              "      <td>0.510204</td>\n",
              "    </tr>\n",
              "  </tbody>\n",
              "</table>\n",
              "</div>\n",
              "      <button class=\"colab-df-convert\" onclick=\"convertToInteractive('df-67905e9b-5512-4c7b-b892-04aa57b97009')\"\n",
              "              title=\"Convert this dataframe to an interactive table.\"\n",
              "              style=\"display:none;\">\n",
              "        \n",
              "  <svg xmlns=\"http://www.w3.org/2000/svg\" height=\"24px\"viewBox=\"0 0 24 24\"\n",
              "       width=\"24px\">\n",
              "    <path d=\"M0 0h24v24H0V0z\" fill=\"none\"/>\n",
              "    <path d=\"M18.56 5.44l.94 2.06.94-2.06 2.06-.94-2.06-.94-.94-2.06-.94 2.06-2.06.94zm-11 1L8.5 8.5l.94-2.06 2.06-.94-2.06-.94L8.5 2.5l-.94 2.06-2.06.94zm10 10l.94 2.06.94-2.06 2.06-.94-2.06-.94-.94-2.06-.94 2.06-2.06.94z\"/><path d=\"M17.41 7.96l-1.37-1.37c-.4-.4-.92-.59-1.43-.59-.52 0-1.04.2-1.43.59L10.3 9.45l-7.72 7.72c-.78.78-.78 2.05 0 2.83L4 21.41c.39.39.9.59 1.41.59.51 0 1.02-.2 1.41-.59l7.78-7.78 2.81-2.81c.8-.78.8-2.07 0-2.86zM5.41 20L4 18.59l7.72-7.72 1.47 1.35L5.41 20z\"/>\n",
              "  </svg>\n",
              "      </button>\n",
              "      \n",
              "  <style>\n",
              "    .colab-df-container {\n",
              "      display:flex;\n",
              "      flex-wrap:wrap;\n",
              "      gap: 12px;\n",
              "    }\n",
              "\n",
              "    .colab-df-convert {\n",
              "      background-color: #E8F0FE;\n",
              "      border: none;\n",
              "      border-radius: 50%;\n",
              "      cursor: pointer;\n",
              "      display: none;\n",
              "      fill: #1967D2;\n",
              "      height: 32px;\n",
              "      padding: 0 0 0 0;\n",
              "      width: 32px;\n",
              "    }\n",
              "\n",
              "    .colab-df-convert:hover {\n",
              "      background-color: #E2EBFA;\n",
              "      box-shadow: 0px 1px 2px rgba(60, 64, 67, 0.3), 0px 1px 3px 1px rgba(60, 64, 67, 0.15);\n",
              "      fill: #174EA6;\n",
              "    }\n",
              "\n",
              "    [theme=dark] .colab-df-convert {\n",
              "      background-color: #3B4455;\n",
              "      fill: #D2E3FC;\n",
              "    }\n",
              "\n",
              "    [theme=dark] .colab-df-convert:hover {\n",
              "      background-color: #434B5C;\n",
              "      box-shadow: 0px 1px 3px 1px rgba(0, 0, 0, 0.15);\n",
              "      filter: drop-shadow(0px 1px 2px rgba(0, 0, 0, 0.3));\n",
              "      fill: #FFFFFF;\n",
              "    }\n",
              "  </style>\n",
              "\n",
              "      <script>\n",
              "        const buttonEl =\n",
              "          document.querySelector('#df-67905e9b-5512-4c7b-b892-04aa57b97009 button.colab-df-convert');\n",
              "        buttonEl.style.display =\n",
              "          google.colab.kernel.accessAllowed ? 'block' : 'none';\n",
              "\n",
              "        async function convertToInteractive(key) {\n",
              "          const element = document.querySelector('#df-67905e9b-5512-4c7b-b892-04aa57b97009');\n",
              "          const dataTable =\n",
              "            await google.colab.kernel.invokeFunction('convertToInteractive',\n",
              "                                                     [key], {});\n",
              "          if (!dataTable) return;\n",
              "\n",
              "          const docLinkHtml = 'Like what you see? Visit the ' +\n",
              "            '<a target=\"_blank\" href=https://colab.research.google.com/notebooks/data_table.ipynb>data table notebook</a>'\n",
              "            + ' to learn more about interactive tables.';\n",
              "          element.innerHTML = '';\n",
              "          dataTable['output_type'] = 'display_data';\n",
              "          await google.colab.output.renderOutput(dataTable, element);\n",
              "          const docLink = document.createElement('div');\n",
              "          docLink.innerHTML = docLinkHtml;\n",
              "          element.appendChild(docLink);\n",
              "        }\n",
              "      </script>\n",
              "    </div>\n",
              "  </div>\n",
              "  "
            ]
          },
          "metadata": {},
          "execution_count": 595
        }
      ]
    },
    {
      "cell_type": "code",
      "execution_count": 596,
      "metadata": {
        "id": "EyrfPHLtjQNb",
        "colab": {
          "base_uri": "https://localhost:8080/"
        },
        "outputId": "c4fc4acc-e412-4166-cdf6-228ce8b765b5"
      },
      "outputs": [
        {
          "output_type": "execute_result",
          "data": {
            "text/plain": [
              "0.32142857142857145"
            ]
          },
          "metadata": {},
          "execution_count": 596
        }
      ],
      "source": [
        "valor_variancia_notas_sicrano = notas_sicrano['(Desvio)^2'].sum() / (len(notas_sicrano) - 1)\n",
        "valor_variancia_notas_sicrano"
      ]
    },
    {
      "cell_type": "code",
      "source": [
        "# forma usando pandas(mais simples)\n",
        "valor_variancia_notas_sicrano = notas_sicrano['Sicrano'].var()\n",
        "valor_variancia_notas_sicrano"
      ],
      "metadata": {
        "colab": {
          "base_uri": "https://localhost:8080/"
        },
        "id": "3JSZOBpIhyTf",
        "outputId": "64b1b153-ec3c-459b-a068-22c1379762b2"
      },
      "execution_count": 597,
      "outputs": [
        {
          "output_type": "execute_result",
          "data": {
            "text/plain": [
              "0.32142857142857145"
            ]
          },
          "metadata": {},
          "execution_count": 597
        }
      ]
    },
    {
      "cell_type": "markdown",
      "metadata": {
        "id": "wQl_CsytjQNg"
      },
      "source": [
        "## <font color=green>5.3 Desvio padrão</font>\n",
        "***\n",
        "\n",
        "Uma das restrições da variância é o fato de fornecer medidas em quadrados das unidades originais - a variância de medidas de comprimento, por exemplo, é em unidades de área. Logo, o fato de as unidades serem diferentes dificulta a comparação da dispersão com as variáveis que a definem. Um modo de eliminar essa dificuldade é considerar sua raiz quadrada."
      ]
    },
    {
      "cell_type": "markdown",
      "metadata": {
        "id": "X9w1Iqt3jQNg"
      },
      "source": [
        "### Desvio padrão populacional\n",
        "\n",
        "# $$\\sigma = \\sqrt{\\frac 1n\\sum_{i=1}^{n}(X_i-\\mu)^2} \\Longrightarrow \\sigma = \\sqrt{\\sigma^2}$$"
      ]
    },
    {
      "cell_type": "markdown",
      "metadata": {
        "id": "D3J4MvMpjQNg"
      },
      "source": [
        "### Desvio padrão amostral\n",
        "\n",
        "# $$S = \\sqrt{\\frac 1{n-1}\\sum_{i=1}^{n}(X_i-\\bar{X})^2} \\Longrightarrow S = \\sqrt{S^2}$$"
      ]
    },
    {
      "cell_type": "code",
      "execution_count": 598,
      "metadata": {
        "id": "2di6iLFaSPda",
        "colab": {
          "base_uri": "https://localhost:8080/"
        },
        "outputId": "6761b5d9-2373-4943-9e54-f24552a5068a"
      },
      "outputs": [
        {
          "output_type": "execute_result",
          "data": {
            "text/plain": [
              "2.1380899352993947"
            ]
          },
          "metadata": {},
          "execution_count": 598
        }
      ],
      "source": [
        "np.sqrt(valor_variancia_notas_fulano)"
      ]
    },
    {
      "cell_type": "code",
      "execution_count": 599,
      "metadata": {
        "id": "BMTx9yKHSPON",
        "colab": {
          "base_uri": "https://localhost:8080/"
        },
        "outputId": "434d4055-68c2-4249-a8ff-1bbf51160f1d"
      },
      "outputs": [
        {
          "output_type": "execute_result",
          "data": {
            "text/plain": [
              "2.1380899352993947"
            ]
          },
          "metadata": {},
          "execution_count": 599
        }
      ],
      "source": [
        "desvio_padrao_fulano = notas_fulano['Fulano'].std()\n",
        "desvio_padrao_fulano"
      ]
    },
    {
      "cell_type": "code",
      "execution_count": 600,
      "metadata": {
        "id": "_PeQtqbdjQNh",
        "colab": {
          "base_uri": "https://localhost:8080/",
          "height": 269
        },
        "outputId": "4f6b714f-3a6a-4b16-bad6-8bcd11d3071f"
      },
      "outputs": [
        {
          "output_type": "execute_result",
          "data": {
            "text/plain": [
              "Matérias    Beltrano  Fulano  Sicrano\n",
              "Matemática      10.0       8      7.5\n",
              "Português        2.0      10      8.0\n",
              "Inglês           0.5       4      7.0\n",
              "Geografia        1.0       8      8.0\n",
              "História         3.0       6      8.0\n",
              "Física           9.5      10      8.5\n",
              "Química         10.0       8      7.0"
            ],
            "text/html": [
              "\n",
              "  <div id=\"df-2fdeabb1-348e-4adc-b5a0-c8257c8e4e86\">\n",
              "    <div class=\"colab-df-container\">\n",
              "      <div>\n",
              "<style scoped>\n",
              "    .dataframe tbody tr th:only-of-type {\n",
              "        vertical-align: middle;\n",
              "    }\n",
              "\n",
              "    .dataframe tbody tr th {\n",
              "        vertical-align: top;\n",
              "    }\n",
              "\n",
              "    .dataframe thead th {\n",
              "        text-align: right;\n",
              "    }\n",
              "</style>\n",
              "<table border=\"1\" class=\"dataframe\">\n",
              "  <thead>\n",
              "    <tr style=\"text-align: right;\">\n",
              "      <th>Matérias</th>\n",
              "      <th>Beltrano</th>\n",
              "      <th>Fulano</th>\n",
              "      <th>Sicrano</th>\n",
              "    </tr>\n",
              "  </thead>\n",
              "  <tbody>\n",
              "    <tr>\n",
              "      <th>Matemática</th>\n",
              "      <td>10.0</td>\n",
              "      <td>8</td>\n",
              "      <td>7.5</td>\n",
              "    </tr>\n",
              "    <tr>\n",
              "      <th>Português</th>\n",
              "      <td>2.0</td>\n",
              "      <td>10</td>\n",
              "      <td>8.0</td>\n",
              "    </tr>\n",
              "    <tr>\n",
              "      <th>Inglês</th>\n",
              "      <td>0.5</td>\n",
              "      <td>4</td>\n",
              "      <td>7.0</td>\n",
              "    </tr>\n",
              "    <tr>\n",
              "      <th>Geografia</th>\n",
              "      <td>1.0</td>\n",
              "      <td>8</td>\n",
              "      <td>8.0</td>\n",
              "    </tr>\n",
              "    <tr>\n",
              "      <th>História</th>\n",
              "      <td>3.0</td>\n",
              "      <td>6</td>\n",
              "      <td>8.0</td>\n",
              "    </tr>\n",
              "    <tr>\n",
              "      <th>Física</th>\n",
              "      <td>9.5</td>\n",
              "      <td>10</td>\n",
              "      <td>8.5</td>\n",
              "    </tr>\n",
              "    <tr>\n",
              "      <th>Química</th>\n",
              "      <td>10.0</td>\n",
              "      <td>8</td>\n",
              "      <td>7.0</td>\n",
              "    </tr>\n",
              "  </tbody>\n",
              "</table>\n",
              "</div>\n",
              "      <button class=\"colab-df-convert\" onclick=\"convertToInteractive('df-2fdeabb1-348e-4adc-b5a0-c8257c8e4e86')\"\n",
              "              title=\"Convert this dataframe to an interactive table.\"\n",
              "              style=\"display:none;\">\n",
              "        \n",
              "  <svg xmlns=\"http://www.w3.org/2000/svg\" height=\"24px\"viewBox=\"0 0 24 24\"\n",
              "       width=\"24px\">\n",
              "    <path d=\"M0 0h24v24H0V0z\" fill=\"none\"/>\n",
              "    <path d=\"M18.56 5.44l.94 2.06.94-2.06 2.06-.94-2.06-.94-.94-2.06-.94 2.06-2.06.94zm-11 1L8.5 8.5l.94-2.06 2.06-.94-2.06-.94L8.5 2.5l-.94 2.06-2.06.94zm10 10l.94 2.06.94-2.06 2.06-.94-2.06-.94-.94-2.06-.94 2.06-2.06.94z\"/><path d=\"M17.41 7.96l-1.37-1.37c-.4-.4-.92-.59-1.43-.59-.52 0-1.04.2-1.43.59L10.3 9.45l-7.72 7.72c-.78.78-.78 2.05 0 2.83L4 21.41c.39.39.9.59 1.41.59.51 0 1.02-.2 1.41-.59l7.78-7.78 2.81-2.81c.8-.78.8-2.07 0-2.86zM5.41 20L4 18.59l7.72-7.72 1.47 1.35L5.41 20z\"/>\n",
              "  </svg>\n",
              "      </button>\n",
              "      \n",
              "  <style>\n",
              "    .colab-df-container {\n",
              "      display:flex;\n",
              "      flex-wrap:wrap;\n",
              "      gap: 12px;\n",
              "    }\n",
              "\n",
              "    .colab-df-convert {\n",
              "      background-color: #E8F0FE;\n",
              "      border: none;\n",
              "      border-radius: 50%;\n",
              "      cursor: pointer;\n",
              "      display: none;\n",
              "      fill: #1967D2;\n",
              "      height: 32px;\n",
              "      padding: 0 0 0 0;\n",
              "      width: 32px;\n",
              "    }\n",
              "\n",
              "    .colab-df-convert:hover {\n",
              "      background-color: #E2EBFA;\n",
              "      box-shadow: 0px 1px 2px rgba(60, 64, 67, 0.3), 0px 1px 3px 1px rgba(60, 64, 67, 0.15);\n",
              "      fill: #174EA6;\n",
              "    }\n",
              "\n",
              "    [theme=dark] .colab-df-convert {\n",
              "      background-color: #3B4455;\n",
              "      fill: #D2E3FC;\n",
              "    }\n",
              "\n",
              "    [theme=dark] .colab-df-convert:hover {\n",
              "      background-color: #434B5C;\n",
              "      box-shadow: 0px 1px 3px 1px rgba(0, 0, 0, 0.15);\n",
              "      filter: drop-shadow(0px 1px 2px rgba(0, 0, 0, 0.3));\n",
              "      fill: #FFFFFF;\n",
              "    }\n",
              "  </style>\n",
              "\n",
              "      <script>\n",
              "        const buttonEl =\n",
              "          document.querySelector('#df-2fdeabb1-348e-4adc-b5a0-c8257c8e4e86 button.colab-df-convert');\n",
              "        buttonEl.style.display =\n",
              "          google.colab.kernel.accessAllowed ? 'block' : 'none';\n",
              "\n",
              "        async function convertToInteractive(key) {\n",
              "          const element = document.querySelector('#df-2fdeabb1-348e-4adc-b5a0-c8257c8e4e86');\n",
              "          const dataTable =\n",
              "            await google.colab.kernel.invokeFunction('convertToInteractive',\n",
              "                                                     [key], {});\n",
              "          if (!dataTable) return;\n",
              "\n",
              "          const docLinkHtml = 'Like what you see? Visit the ' +\n",
              "            '<a target=\"_blank\" href=https://colab.research.google.com/notebooks/data_table.ipynb>data table notebook</a>'\n",
              "            + ' to learn more about interactive tables.';\n",
              "          element.innerHTML = '';\n",
              "          dataTable['output_type'] = 'display_data';\n",
              "          await google.colab.output.renderOutput(dataTable, element);\n",
              "          const docLink = document.createElement('div');\n",
              "          docLink.innerHTML = docLinkHtml;\n",
              "          element.appendChild(docLink);\n",
              "        }\n",
              "      </script>\n",
              "    </div>\n",
              "  </div>\n",
              "  "
            ]
          },
          "metadata": {},
          "execution_count": 600
        }
      ],
      "source": [
        "df"
      ]
    },
    {
      "cell_type": "code",
      "execution_count": 601,
      "metadata": {
        "id": "5LYOKy25jQNi",
        "colab": {
          "base_uri": "https://localhost:8080/"
        },
        "outputId": "607b5116-7839-4896-d7cf-ba8fe007246c"
      },
      "outputs": [
        {
          "output_type": "execute_result",
          "data": {
            "text/plain": [
              "Matérias\n",
              "Beltrano    5.142857\n",
              "Fulano      7.714286\n",
              "Sicrano     7.714286\n",
              "dtype: float64"
            ]
          },
          "metadata": {},
          "execution_count": 601
        }
      ],
      "source": [
        "df.mean()"
      ]
    },
    {
      "cell_type": "code",
      "execution_count": 602,
      "metadata": {
        "id": "FfcyfSkFjQNj",
        "colab": {
          "base_uri": "https://localhost:8080/"
        },
        "outputId": "7b311329-3234-4433-d2c5-a1a9f3163e01"
      },
      "outputs": [
        {
          "output_type": "execute_result",
          "data": {
            "text/plain": [
              "Matérias\n",
              "Beltrano    3.0\n",
              "Fulano      8.0\n",
              "Sicrano     8.0\n",
              "dtype: float64"
            ]
          },
          "metadata": {},
          "execution_count": 602
        }
      ],
      "source": [
        "df.median()"
      ]
    },
    {
      "cell_type": "code",
      "execution_count": 603,
      "metadata": {
        "id": "G8vorygCjQNk",
        "colab": {
          "base_uri": "https://localhost:8080/",
          "height": 81
        },
        "outputId": "a5ababfa-ec35-49c5-a5cd-a39648c38016"
      },
      "outputs": [
        {
          "output_type": "execute_result",
          "data": {
            "text/plain": [
              "Matérias  Beltrano  Fulano  Sicrano\n",
              "0             10.0       8      8.0"
            ],
            "text/html": [
              "\n",
              "  <div id=\"df-1d0dc7e1-e449-4845-9981-63e9e2ae7dbb\">\n",
              "    <div class=\"colab-df-container\">\n",
              "      <div>\n",
              "<style scoped>\n",
              "    .dataframe tbody tr th:only-of-type {\n",
              "        vertical-align: middle;\n",
              "    }\n",
              "\n",
              "    .dataframe tbody tr th {\n",
              "        vertical-align: top;\n",
              "    }\n",
              "\n",
              "    .dataframe thead th {\n",
              "        text-align: right;\n",
              "    }\n",
              "</style>\n",
              "<table border=\"1\" class=\"dataframe\">\n",
              "  <thead>\n",
              "    <tr style=\"text-align: right;\">\n",
              "      <th>Matérias</th>\n",
              "      <th>Beltrano</th>\n",
              "      <th>Fulano</th>\n",
              "      <th>Sicrano</th>\n",
              "    </tr>\n",
              "  </thead>\n",
              "  <tbody>\n",
              "    <tr>\n",
              "      <th>0</th>\n",
              "      <td>10.0</td>\n",
              "      <td>8</td>\n",
              "      <td>8.0</td>\n",
              "    </tr>\n",
              "  </tbody>\n",
              "</table>\n",
              "</div>\n",
              "      <button class=\"colab-df-convert\" onclick=\"convertToInteractive('df-1d0dc7e1-e449-4845-9981-63e9e2ae7dbb')\"\n",
              "              title=\"Convert this dataframe to an interactive table.\"\n",
              "              style=\"display:none;\">\n",
              "        \n",
              "  <svg xmlns=\"http://www.w3.org/2000/svg\" height=\"24px\"viewBox=\"0 0 24 24\"\n",
              "       width=\"24px\">\n",
              "    <path d=\"M0 0h24v24H0V0z\" fill=\"none\"/>\n",
              "    <path d=\"M18.56 5.44l.94 2.06.94-2.06 2.06-.94-2.06-.94-.94-2.06-.94 2.06-2.06.94zm-11 1L8.5 8.5l.94-2.06 2.06-.94-2.06-.94L8.5 2.5l-.94 2.06-2.06.94zm10 10l.94 2.06.94-2.06 2.06-.94-2.06-.94-.94-2.06-.94 2.06-2.06.94z\"/><path d=\"M17.41 7.96l-1.37-1.37c-.4-.4-.92-.59-1.43-.59-.52 0-1.04.2-1.43.59L10.3 9.45l-7.72 7.72c-.78.78-.78 2.05 0 2.83L4 21.41c.39.39.9.59 1.41.59.51 0 1.02-.2 1.41-.59l7.78-7.78 2.81-2.81c.8-.78.8-2.07 0-2.86zM5.41 20L4 18.59l7.72-7.72 1.47 1.35L5.41 20z\"/>\n",
              "  </svg>\n",
              "      </button>\n",
              "      \n",
              "  <style>\n",
              "    .colab-df-container {\n",
              "      display:flex;\n",
              "      flex-wrap:wrap;\n",
              "      gap: 12px;\n",
              "    }\n",
              "\n",
              "    .colab-df-convert {\n",
              "      background-color: #E8F0FE;\n",
              "      border: none;\n",
              "      border-radius: 50%;\n",
              "      cursor: pointer;\n",
              "      display: none;\n",
              "      fill: #1967D2;\n",
              "      height: 32px;\n",
              "      padding: 0 0 0 0;\n",
              "      width: 32px;\n",
              "    }\n",
              "\n",
              "    .colab-df-convert:hover {\n",
              "      background-color: #E2EBFA;\n",
              "      box-shadow: 0px 1px 2px rgba(60, 64, 67, 0.3), 0px 1px 3px 1px rgba(60, 64, 67, 0.15);\n",
              "      fill: #174EA6;\n",
              "    }\n",
              "\n",
              "    [theme=dark] .colab-df-convert {\n",
              "      background-color: #3B4455;\n",
              "      fill: #D2E3FC;\n",
              "    }\n",
              "\n",
              "    [theme=dark] .colab-df-convert:hover {\n",
              "      background-color: #434B5C;\n",
              "      box-shadow: 0px 1px 3px 1px rgba(0, 0, 0, 0.15);\n",
              "      filter: drop-shadow(0px 1px 2px rgba(0, 0, 0, 0.3));\n",
              "      fill: #FFFFFF;\n",
              "    }\n",
              "  </style>\n",
              "\n",
              "      <script>\n",
              "        const buttonEl =\n",
              "          document.querySelector('#df-1d0dc7e1-e449-4845-9981-63e9e2ae7dbb button.colab-df-convert');\n",
              "        buttonEl.style.display =\n",
              "          google.colab.kernel.accessAllowed ? 'block' : 'none';\n",
              "\n",
              "        async function convertToInteractive(key) {\n",
              "          const element = document.querySelector('#df-1d0dc7e1-e449-4845-9981-63e9e2ae7dbb');\n",
              "          const dataTable =\n",
              "            await google.colab.kernel.invokeFunction('convertToInteractive',\n",
              "                                                     [key], {});\n",
              "          if (!dataTable) return;\n",
              "\n",
              "          const docLinkHtml = 'Like what you see? Visit the ' +\n",
              "            '<a target=\"_blank\" href=https://colab.research.google.com/notebooks/data_table.ipynb>data table notebook</a>'\n",
              "            + ' to learn more about interactive tables.';\n",
              "          element.innerHTML = '';\n",
              "          dataTable['output_type'] = 'display_data';\n",
              "          await google.colab.output.renderOutput(dataTable, element);\n",
              "          const docLink = document.createElement('div');\n",
              "          docLink.innerHTML = docLinkHtml;\n",
              "          element.appendChild(docLink);\n",
              "        }\n",
              "      </script>\n",
              "    </div>\n",
              "  </div>\n",
              "  "
            ]
          },
          "metadata": {},
          "execution_count": 603
        }
      ],
      "source": [
        "df.mode()"
      ]
    },
    {
      "cell_type": "code",
      "execution_count": 604,
      "metadata": {
        "id": "01op3BEvjQNl",
        "colab": {
          "base_uri": "https://localhost:8080/"
        },
        "outputId": "ab7f1ead-fe38-4b17-bbc3-37a6415b70c2"
      },
      "outputs": [
        {
          "output_type": "execute_result",
          "data": {
            "text/plain": [
              "Matérias\n",
              "Beltrano    4.460141\n",
              "Fulano      2.138090\n",
              "Sicrano     0.566947\n",
              "dtype: float64"
            ]
          },
          "metadata": {},
          "execution_count": 604
        }
      ],
      "source": [
        "df.std()"
      ]
    },
    {
      "cell_type": "code",
      "execution_count": 604,
      "metadata": {
        "id": "aiUvZluhUx-0"
      },
      "outputs": [],
      "source": [
        ""
      ]
    },
    {
      "cell_type": "markdown",
      "source": [
        "# <font color = 'cyan'> EXERCÍCIOS </font>"
      ],
      "metadata": {
        "id": "E0Ro1LL19Nb2"
      }
    },
    {
      "cell_type": "markdown",
      "source": [
        "### 03 - Criando uma tabela de frequências\n",
        "\n",
        "Veja o seguinte dataset:"
      ],
      "metadata": {
        "id": "HjeAiEpl9jYT"
      }
    },
    {
      "cell_type": "code",
      "source": [
        "dados2 = pd.DataFrame({'Profissão': [1, 2, 3, 1, 2, 2, 2, 3, 3, 2, 1, 3]})"
      ],
      "metadata": {
        "id": "S1OVSVhF9fjN"
      },
      "execution_count": 605,
      "outputs": []
    },
    {
      "cell_type": "markdown",
      "source": [
        "Onde a numeração representa as seguintes profissões:\n",
        "\n",
        "1 para Estatístico\n",
        "\n",
        "2 para Cientista de Dados\n",
        "\n",
        "3 para Programador Python\n",
        "\n",
        "Dada a seguinte distribuição de frequências:\n",
        "\n",
        "![image.png](data:image/png;base64,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)\n",
        "\n",
        "\n",
        "Dentre as alternativas abaixo, qual a correta para se obter a distribuição acima?"
      ],
      "metadata": {
        "id": "mFnq4xPl-FKN"
      }
    },
    {
      "cell_type": "code",
      "source": [
        "# Resposta\n",
        "frequencia2 = dados2['Profissão'].value_counts()\n",
        "percentual2 = dados2['Profissão'].value_counts(normalize = True) * 100\n",
        "dist_freq_qualitativas2 = pd.DataFrame({'Frequência': frequencia, 'Porcentagem (%)': percentual})\n",
        "dist_freq_qualitativas2.rename(index = {1: 'Estatístico', 2: 'Cientista de Dados', 3: 'Programador Python'}, inplace = True)\n",
        "dist_freq_qualitativas2.rename_axis('Profissão', axis= 'columns', inplace = True)\n",
        "dist_freq_qualitativas2"
      ],
      "metadata": {
        "id": "SbvCaxCI-WxD",
        "colab": {
          "base_uri": "https://localhost:8080/",
          "height": 582
        },
        "outputId": "73e6aab6-16ce-48a8-d0ef-d4a41cdd5767"
      },
      "execution_count": 606,
      "outputs": [
        {
          "output_type": "execute_result",
          "data": {
            "text/plain": [
              "Profissão                 Frequência  Porcentagem (%)\n",
              "(-200.001, 11764.706]          75594         0.983784\n",
              "(11764.706, 23529.412]          1022         0.013300\n",
              "(23529.412, 35294.118]           169         0.002199\n",
              "(35294.118, 47058.824]            19         0.000247\n",
              "(47058.824, 58823.529]            16         0.000208\n",
              "(58823.529, 70588.235]             5         0.000065\n",
              "(70588.235, 82352.941]             4         0.000052\n",
              "(82352.941, 94117.647]             1         0.000013\n",
              "(94117.647, 105882.353]            6         0.000078\n",
              "(105882.353, 117647.059]           0         0.000000\n",
              "(117647.059, 129411.765]           1         0.000013\n",
              "(129411.765, 141176.471]           0         0.000000\n",
              "(141176.471, 152941.176]           0         0.000000\n",
              "(152941.176, 164705.882]           0         0.000000\n",
              "(164705.882, 176470.588]           0         0.000000\n",
              "(176470.588, 188235.294]           0         0.000000\n",
              "(188235.294, 200000.0]             3         0.000039"
            ],
            "text/html": [
              "\n",
              "  <div id=\"df-1a62e3cb-ff9a-4014-9593-41a7989b2003\">\n",
              "    <div class=\"colab-df-container\">\n",
              "      <div>\n",
              "<style scoped>\n",
              "    .dataframe tbody tr th:only-of-type {\n",
              "        vertical-align: middle;\n",
              "    }\n",
              "\n",
              "    .dataframe tbody tr th {\n",
              "        vertical-align: top;\n",
              "    }\n",
              "\n",
              "    .dataframe thead th {\n",
              "        text-align: right;\n",
              "    }\n",
              "</style>\n",
              "<table border=\"1\" class=\"dataframe\">\n",
              "  <thead>\n",
              "    <tr style=\"text-align: right;\">\n",
              "      <th>Profissão</th>\n",
              "      <th>Frequência</th>\n",
              "      <th>Porcentagem (%)</th>\n",
              "    </tr>\n",
              "  </thead>\n",
              "  <tbody>\n",
              "    <tr>\n",
              "      <th>(-200.001, 11764.706]</th>\n",
              "      <td>75594</td>\n",
              "      <td>0.983784</td>\n",
              "    </tr>\n",
              "    <tr>\n",
              "      <th>(11764.706, 23529.412]</th>\n",
              "      <td>1022</td>\n",
              "      <td>0.013300</td>\n",
              "    </tr>\n",
              "    <tr>\n",
              "      <th>(23529.412, 35294.118]</th>\n",
              "      <td>169</td>\n",
              "      <td>0.002199</td>\n",
              "    </tr>\n",
              "    <tr>\n",
              "      <th>(35294.118, 47058.824]</th>\n",
              "      <td>19</td>\n",
              "      <td>0.000247</td>\n",
              "    </tr>\n",
              "    <tr>\n",
              "      <th>(47058.824, 58823.529]</th>\n",
              "      <td>16</td>\n",
              "      <td>0.000208</td>\n",
              "    </tr>\n",
              "    <tr>\n",
              "      <th>(58823.529, 70588.235]</th>\n",
              "      <td>5</td>\n",
              "      <td>0.000065</td>\n",
              "    </tr>\n",
              "    <tr>\n",
              "      <th>(70588.235, 82352.941]</th>\n",
              "      <td>4</td>\n",
              "      <td>0.000052</td>\n",
              "    </tr>\n",
              "    <tr>\n",
              "      <th>(82352.941, 94117.647]</th>\n",
              "      <td>1</td>\n",
              "      <td>0.000013</td>\n",
              "    </tr>\n",
              "    <tr>\n",
              "      <th>(94117.647, 105882.353]</th>\n",
              "      <td>6</td>\n",
              "      <td>0.000078</td>\n",
              "    </tr>\n",
              "    <tr>\n",
              "      <th>(105882.353, 117647.059]</th>\n",
              "      <td>0</td>\n",
              "      <td>0.000000</td>\n",
              "    </tr>\n",
              "    <tr>\n",
              "      <th>(117647.059, 129411.765]</th>\n",
              "      <td>1</td>\n",
              "      <td>0.000013</td>\n",
              "    </tr>\n",
              "    <tr>\n",
              "      <th>(129411.765, 141176.471]</th>\n",
              "      <td>0</td>\n",
              "      <td>0.000000</td>\n",
              "    </tr>\n",
              "    <tr>\n",
              "      <th>(141176.471, 152941.176]</th>\n",
              "      <td>0</td>\n",
              "      <td>0.000000</td>\n",
              "    </tr>\n",
              "    <tr>\n",
              "      <th>(152941.176, 164705.882]</th>\n",
              "      <td>0</td>\n",
              "      <td>0.000000</td>\n",
              "    </tr>\n",
              "    <tr>\n",
              "      <th>(164705.882, 176470.588]</th>\n",
              "      <td>0</td>\n",
              "      <td>0.000000</td>\n",
              "    </tr>\n",
              "    <tr>\n",
              "      <th>(176470.588, 188235.294]</th>\n",
              "      <td>0</td>\n",
              "      <td>0.000000</td>\n",
              "    </tr>\n",
              "    <tr>\n",
              "      <th>(188235.294, 200000.0]</th>\n",
              "      <td>3</td>\n",
              "      <td>0.000039</td>\n",
              "    </tr>\n",
              "  </tbody>\n",
              "</table>\n",
              "</div>\n",
              "      <button class=\"colab-df-convert\" onclick=\"convertToInteractive('df-1a62e3cb-ff9a-4014-9593-41a7989b2003')\"\n",
              "              title=\"Convert this dataframe to an interactive table.\"\n",
              "              style=\"display:none;\">\n",
              "        \n",
              "  <svg xmlns=\"http://www.w3.org/2000/svg\" height=\"24px\"viewBox=\"0 0 24 24\"\n",
              "       width=\"24px\">\n",
              "    <path d=\"M0 0h24v24H0V0z\" fill=\"none\"/>\n",
              "    <path d=\"M18.56 5.44l.94 2.06.94-2.06 2.06-.94-2.06-.94-.94-2.06-.94 2.06-2.06.94zm-11 1L8.5 8.5l.94-2.06 2.06-.94-2.06-.94L8.5 2.5l-.94 2.06-2.06.94zm10 10l.94 2.06.94-2.06 2.06-.94-2.06-.94-.94-2.06-.94 2.06-2.06.94z\"/><path d=\"M17.41 7.96l-1.37-1.37c-.4-.4-.92-.59-1.43-.59-.52 0-1.04.2-1.43.59L10.3 9.45l-7.72 7.72c-.78.78-.78 2.05 0 2.83L4 21.41c.39.39.9.59 1.41.59.51 0 1.02-.2 1.41-.59l7.78-7.78 2.81-2.81c.8-.78.8-2.07 0-2.86zM5.41 20L4 18.59l7.72-7.72 1.47 1.35L5.41 20z\"/>\n",
              "  </svg>\n",
              "      </button>\n",
              "      \n",
              "  <style>\n",
              "    .colab-df-container {\n",
              "      display:flex;\n",
              "      flex-wrap:wrap;\n",
              "      gap: 12px;\n",
              "    }\n",
              "\n",
              "    .colab-df-convert {\n",
              "      background-color: #E8F0FE;\n",
              "      border: none;\n",
              "      border-radius: 50%;\n",
              "      cursor: pointer;\n",
              "      display: none;\n",
              "      fill: #1967D2;\n",
              "      height: 32px;\n",
              "      padding: 0 0 0 0;\n",
              "      width: 32px;\n",
              "    }\n",
              "\n",
              "    .colab-df-convert:hover {\n",
              "      background-color: #E2EBFA;\n",
              "      box-shadow: 0px 1px 2px rgba(60, 64, 67, 0.3), 0px 1px 3px 1px rgba(60, 64, 67, 0.15);\n",
              "      fill: #174EA6;\n",
              "    }\n",
              "\n",
              "    [theme=dark] .colab-df-convert {\n",
              "      background-color: #3B4455;\n",
              "      fill: #D2E3FC;\n",
              "    }\n",
              "\n",
              "    [theme=dark] .colab-df-convert:hover {\n",
              "      background-color: #434B5C;\n",
              "      box-shadow: 0px 1px 3px 1px rgba(0, 0, 0, 0.15);\n",
              "      filter: drop-shadow(0px 1px 2px rgba(0, 0, 0, 0.3));\n",
              "      fill: #FFFFFF;\n",
              "    }\n",
              "  </style>\n",
              "\n",
              "      <script>\n",
              "        const buttonEl =\n",
              "          document.querySelector('#df-1a62e3cb-ff9a-4014-9593-41a7989b2003 button.colab-df-convert');\n",
              "        buttonEl.style.display =\n",
              "          google.colab.kernel.accessAllowed ? 'block' : 'none';\n",
              "\n",
              "        async function convertToInteractive(key) {\n",
              "          const element = document.querySelector('#df-1a62e3cb-ff9a-4014-9593-41a7989b2003');\n",
              "          const dataTable =\n",
              "            await google.colab.kernel.invokeFunction('convertToInteractive',\n",
              "                                                     [key], {});\n",
              "          if (!dataTable) return;\n",
              "\n",
              "          const docLinkHtml = 'Like what you see? Visit the ' +\n",
              "            '<a target=\"_blank\" href=https://colab.research.google.com/notebooks/data_table.ipynb>data table notebook</a>'\n",
              "            + ' to learn more about interactive tables.';\n",
              "          element.innerHTML = '';\n",
              "          dataTable['output_type'] = 'display_data';\n",
              "          await google.colab.output.renderOutput(dataTable, element);\n",
              "          const docLink = document.createElement('div');\n",
              "          docLink.innerHTML = docLinkHtml;\n",
              "          element.appendChild(docLink);\n",
              "        }\n",
              "      </script>\n",
              "    </div>\n",
              "  </div>\n",
              "  "
            ]
          },
          "metadata": {},
          "execution_count": 606
        }
      ]
    },
    {
      "cell_type": "markdown",
      "source": [
        "---"
      ],
      "metadata": {
        "id": "li7UBa2XCLef"
      }
    },
    {
      "cell_type": "markdown",
      "source": [
        "### 05 - Técnicas de análise\n",
        "\n",
        "Dada a seguinte afirmação:\n",
        "\n",
        "O primeiro passo em um trabalho de análise é o conhecimento do comportamento das variáveis envolvidas no estudo. Utilizando técnicas estatísticas, como as análises das XXXXXXXXXXXX e XXXXXXXXXXXX, podemos avaliar melhor a forma como os fenômenos em estudo se distribuem.\n",
        "\n",
        "Das alternativas abaixo, quais palavras completam a afirmação acima, respectivamente?"
      ],
      "metadata": {
        "id": "mkXxijqo-zaw"
      }
    },
    {
      "cell_type": "markdown",
      "source": [
        "<font color = 'green'># Resposta</font>\n",
        "\n",
        "A) Distribuições de frequências e Histogramas\n",
        "\n",
        "\n",
        "Alternativa correta! É exatamente sobre isso que essa aula trata, entender como os dados em estudo se distribuem.\n",
        "\n",
        "B) Estimativas e Previsões\n",
        "\n",
        "\n",
        "Alternativa errada! As estimativas e previsões são obtidas após uma série de considerações sobre a distribuição dos dados.\n",
        "\n",
        "C) Variáveis quantitativas e Variáveis qualitativas\n",
        "\n",
        "\n",
        "Alternativa errada! Não são técnicas estatísticas de análise e sim tipos de variáveis.\n",
        "\n",
        "D) Regressões e testes de Hipóteses\n",
        "\n",
        "\n",
        "Alternativa errada! Estas técnicas são aplicadas depois que fazemos uma análise prévia sobre como os dados se comportam.\n"
      ],
      "metadata": {
        "id": "T98bMdcz-4c1"
      }
    },
    {
      "cell_type": "markdown",
      "source": [
        "---"
      ],
      "metadata": {
        "id": "fznd9_M8CQT9"
      }
    },
    {
      "cell_type": "markdown",
      "source": [
        "### 07 - Distribuições de frequência com variáveis quantitativas\n",
        "PRÓXIMA ATIVIDADE\n",
        "\n",
        "Quando construímos distribuições de frequências com variáveis quantitativas, precisamos, na maior parte dos casos, definir as classes em que desejamos agrupar os nossos dados. O pandas nos oferece a função cut() para realizar esta tarefa.\n",
        "\n",
        "Analise o seguinte código:"
      ],
      "metadata": {
        "id": "Pbkw1ylfBdxc"
      }
    },
    {
      "cell_type": "code",
      "source": [
        "classes = [dados.Altura.min(), 1.65, 1.75, dados.Altura.max()]\n",
        "labels = ['1 - Baixa', '2 - Média', '3 - Alta']\n",
        "\n",
        "frequencia = pd.value_counts(\n",
        "    pd.cut(\n",
        "        x = dados.Altura,\n",
        "        bins = classes,\n",
        "        labels = labels,\n",
        "        include_lowest = True\n",
        "    )\n",
        ")\n",
        "\n",
        "percentual = pd.value_counts(\n",
        "    pd.cut(\n",
        "        x = dados.Altura,\n",
        "        bins = classes,\n",
        "        labels = labels,\n",
        "        include_lowest = True\n",
        "    ), normalize = True\n",
        ") * 100\n",
        "\n",
        "dist_freq_altura = pd.DataFrame(\n",
        "    {'Frequência': frequencia, 'Porcentagem (%)': percentual}\n",
        ")\n",
        "\n",
        "dist_freq_altura.rename_axis('Estaturas', axis= 'columns', inplace = True)\n",
        "\n",
        "dist_freq_altura.sort_index(ascending = True, inplace = True)\n",
        "\n",
        "dist_freq_altura"
      ],
      "metadata": {
        "id": "eK5ODxWLBnc1",
        "colab": {
          "base_uri": "https://localhost:8080/",
          "height": 143
        },
        "outputId": "dfc5e549-501d-46ef-af14-b1d614ec341a"
      },
      "execution_count": 607,
      "outputs": [
        {
          "output_type": "execute_result",
          "data": {
            "text/plain": [
              "Estaturas  Frequência  Porcentagem (%)\n",
              "1 - Baixa       20529        26.716554\n",
              "2 - Média       36162        47.061426\n",
              "3 - Alta        20149        26.222020"
            ],
            "text/html": [
              "\n",
              "  <div id=\"df-5d98d060-911c-4ed6-9973-25a85b7db04b\">\n",
              "    <div class=\"colab-df-container\">\n",
              "      <div>\n",
              "<style scoped>\n",
              "    .dataframe tbody tr th:only-of-type {\n",
              "        vertical-align: middle;\n",
              "    }\n",
              "\n",
              "    .dataframe tbody tr th {\n",
              "        vertical-align: top;\n",
              "    }\n",
              "\n",
              "    .dataframe thead th {\n",
              "        text-align: right;\n",
              "    }\n",
              "</style>\n",
              "<table border=\"1\" class=\"dataframe\">\n",
              "  <thead>\n",
              "    <tr style=\"text-align: right;\">\n",
              "      <th>Estaturas</th>\n",
              "      <th>Frequência</th>\n",
              "      <th>Porcentagem (%)</th>\n",
              "    </tr>\n",
              "  </thead>\n",
              "  <tbody>\n",
              "    <tr>\n",
              "      <th>1 - Baixa</th>\n",
              "      <td>20529</td>\n",
              "      <td>26.716554</td>\n",
              "    </tr>\n",
              "    <tr>\n",
              "      <th>2 - Média</th>\n",
              "      <td>36162</td>\n",
              "      <td>47.061426</td>\n",
              "    </tr>\n",
              "    <tr>\n",
              "      <th>3 - Alta</th>\n",
              "      <td>20149</td>\n",
              "      <td>26.222020</td>\n",
              "    </tr>\n",
              "  </tbody>\n",
              "</table>\n",
              "</div>\n",
              "      <button class=\"colab-df-convert\" onclick=\"convertToInteractive('df-5d98d060-911c-4ed6-9973-25a85b7db04b')\"\n",
              "              title=\"Convert this dataframe to an interactive table.\"\n",
              "              style=\"display:none;\">\n",
              "        \n",
              "  <svg xmlns=\"http://www.w3.org/2000/svg\" height=\"24px\"viewBox=\"0 0 24 24\"\n",
              "       width=\"24px\">\n",
              "    <path d=\"M0 0h24v24H0V0z\" fill=\"none\"/>\n",
              "    <path d=\"M18.56 5.44l.94 2.06.94-2.06 2.06-.94-2.06-.94-.94-2.06-.94 2.06-2.06.94zm-11 1L8.5 8.5l.94-2.06 2.06-.94-2.06-.94L8.5 2.5l-.94 2.06-2.06.94zm10 10l.94 2.06.94-2.06 2.06-.94-2.06-.94-.94-2.06-.94 2.06-2.06.94z\"/><path d=\"M17.41 7.96l-1.37-1.37c-.4-.4-.92-.59-1.43-.59-.52 0-1.04.2-1.43.59L10.3 9.45l-7.72 7.72c-.78.78-.78 2.05 0 2.83L4 21.41c.39.39.9.59 1.41.59.51 0 1.02-.2 1.41-.59l7.78-7.78 2.81-2.81c.8-.78.8-2.07 0-2.86zM5.41 20L4 18.59l7.72-7.72 1.47 1.35L5.41 20z\"/>\n",
              "  </svg>\n",
              "      </button>\n",
              "      \n",
              "  <style>\n",
              "    .colab-df-container {\n",
              "      display:flex;\n",
              "      flex-wrap:wrap;\n",
              "      gap: 12px;\n",
              "    }\n",
              "\n",
              "    .colab-df-convert {\n",
              "      background-color: #E8F0FE;\n",
              "      border: none;\n",
              "      border-radius: 50%;\n",
              "      cursor: pointer;\n",
              "      display: none;\n",
              "      fill: #1967D2;\n",
              "      height: 32px;\n",
              "      padding: 0 0 0 0;\n",
              "      width: 32px;\n",
              "    }\n",
              "\n",
              "    .colab-df-convert:hover {\n",
              "      background-color: #E2EBFA;\n",
              "      box-shadow: 0px 1px 2px rgba(60, 64, 67, 0.3), 0px 1px 3px 1px rgba(60, 64, 67, 0.15);\n",
              "      fill: #174EA6;\n",
              "    }\n",
              "\n",
              "    [theme=dark] .colab-df-convert {\n",
              "      background-color: #3B4455;\n",
              "      fill: #D2E3FC;\n",
              "    }\n",
              "\n",
              "    [theme=dark] .colab-df-convert:hover {\n",
              "      background-color: #434B5C;\n",
              "      box-shadow: 0px 1px 3px 1px rgba(0, 0, 0, 0.15);\n",
              "      filter: drop-shadow(0px 1px 2px rgba(0, 0, 0, 0.3));\n",
              "      fill: #FFFFFF;\n",
              "    }\n",
              "  </style>\n",
              "\n",
              "      <script>\n",
              "        const buttonEl =\n",
              "          document.querySelector('#df-5d98d060-911c-4ed6-9973-25a85b7db04b button.colab-df-convert');\n",
              "        buttonEl.style.display =\n",
              "          google.colab.kernel.accessAllowed ? 'block' : 'none';\n",
              "\n",
              "        async function convertToInteractive(key) {\n",
              "          const element = document.querySelector('#df-5d98d060-911c-4ed6-9973-25a85b7db04b');\n",
              "          const dataTable =\n",
              "            await google.colab.kernel.invokeFunction('convertToInteractive',\n",
              "                                                     [key], {});\n",
              "          if (!dataTable) return;\n",
              "\n",
              "          const docLinkHtml = 'Like what you see? Visit the ' +\n",
              "            '<a target=\"_blank\" href=https://colab.research.google.com/notebooks/data_table.ipynb>data table notebook</a>'\n",
              "            + ' to learn more about interactive tables.';\n",
              "          element.innerHTML = '';\n",
              "          dataTable['output_type'] = 'display_data';\n",
              "          await google.colab.output.renderOutput(dataTable, element);\n",
              "          const docLink = document.createElement('div');\n",
              "          docLink.innerHTML = docLinkHtml;\n",
              "          element.appendChild(docLink);\n",
              "        }\n",
              "      </script>\n",
              "    </div>\n",
              "  </div>\n",
              "  "
            ]
          },
          "metadata": {},
          "execution_count": 607
        }
      ]
    },
    {
      "cell_type": "markdown",
      "source": [
        "A)\n",
        "\n",
        "Estaturas\tFrequência\tPorcentagem (%)\n",
        "1 - Baixa\t20529\t26.716554\n",
        "2 - Média\t36162\t47.061426\n",
        "3 - Alta\t20149\t26.222020\n",
        "\n",
        "Alternativa correta! Esse é o resultado do código acima. Para esta classificação, utilizamos valores bem próximos do 1º e 3º quartis (ainda vamos estudar estas medidas). Observe que temos quase 25% das pessoas com classificação baixa, 25% com classificação alta e 50% com classificação média.\n",
        "\n",
        "B) \n",
        "\n",
        "Estaturas\tFrequência\tPorcentagem (%)\n",
        "1 - Baixa\t20529\t0.267166\n",
        "2 - Média\t36162\t0.470614\n",
        "3 - Alta\t20149\t0.262220\n",
        "\n",
        "Alternativa errada! Nessa alternativa, foi esquecido de multiplicar a Series percentual por 100.\n",
        "\n",
        "C)\n",
        "\n",
        "Estaturas\tFrequência\tPorcentagem (%)\n",
        "1 - Baixa\t20149\t26.222020\n",
        "2 - Média\t36162\t47.061426\n",
        "3 - Alta\t20529\t26.716554\n",
        "\n",
        "Alternativa errada! Nessa alternativa, a lista labels foi criada de forma errada:\n",
        "\n",
        "labels = ['3 - Alta', '2 - Média', '1 - Baixa']\n",
        "\n",
        "D)\n",
        "\n",
        "Estaturas\tFrequência\tPorcentagem (%)\n",
        "1 - Baixa\t20528\t26.715600\n",
        "2 - Média\t36162\t47.062039\n",
        "3 - Alta\t20149\t26.222361\n",
        "\n",
        "Alternativa errada! Aqui, o parâmetro include_lowest = True foi esquecido."
      ],
      "metadata": {
        "id": "7VcM18rcQOFE"
      }
    },
    {
      "cell_type": "markdown",
      "source": [
        "### 09 - Sobre distribuições de frequências\n",
        "PRÓXIMA ATIVIDADE\n",
        "\n",
        "Avalie as afirmativas abaixo:\n",
        "\n",
        "1) A regra de Sturges é um método para definição do número de classes, baseado no total de observações de uma variável;\n",
        "\n",
        "2) A fórmula da regra de Sturges é:\n",
        "\n",
        "3) O parâmetro bins, da função cut(), pode receber o total de classes que desejamos em nossa distribuição de frequências. Neste caso, todas as classes terão a mesma amplitude.\n",
        "\n",
        "Quais estão corretas?\n",
        "\n",
        "Selecione uma alternativa"
      ],
      "metadata": {
        "id": "kyfZzhIjW81D"
      }
    },
    {
      "cell_type": "markdown",
      "source": [
        "<font color = 'green'># Resposta </font>\n",
        "\n",
        "A) As afirmativas 1 e 3 estão corretas\n",
        "\n",
        "Alternativa errada! A fórmula da regra de Sturges está correta. Com esta fórmula, podemos definir um número ótimo de classes, baseado no total de observações da nossa variável.\n",
        "\n",
        "B) As afirmativas 1 e 2 estão corretas\n",
        "\n",
        "Alternativa errada! Lembre-se que no nosso último vídeo, configuramos o parâmetro bins somente com o total de classes que obtivemos da regra de Sturges.\n",
        "\n",
        "C) Todas as afirmativas estão corretas\n",
        "\n",
        "Alternativa correta! Lembre-se que, ao utilizar o método visto no nosso último vídeo, estamos construindo classes de mesma amplitude, ou seja, as classes têm o mesmo tamanho.\n",
        "\n",
        "D) As afirmativas 2 e 3 estão corretas\n",
        "\n",
        "Alternativa errada! Realmente, a regra de Struges depende somente do número de observações da variável que estamos analisando."
      ],
      "metadata": {
        "id": "4TcUKjgnXE14"
      }
    },
    {
      "cell_type": "markdown",
      "source": [
        "### 11 - Forma gráfica de uma distribuição de frequências\n",
        "\n",
        "Das alternativas abaixo, assinale aquela que representa corretamente o que é um histograma.\n",
        "\n",
        "Selecione uma alternativa"
      ],
      "metadata": {
        "id": "XR34Prx8e_10"
      }
    },
    {
      "cell_type": "markdown",
      "source": [
        "<font color = 'green'> Resposta </font>\n",
        "\n",
        "A) O histograma é a representação gráfica da dispersão entre duas variáveis analisadas\n",
        "\n",
        "Alternativa errada! Este gráfico é conhecido como gráfico de dispersão e será objeto do nosso estudo nos próximos treinamentos.\n",
        "\n",
        "B) O histograma é a representação tabular de uma distribuição de frequências. É uma tabela formada por um conjunto de classes e suas respectivas frequências\n",
        "\n",
        "Alternativa errada! O histograma é uma representação gráfica e não tabular.\n",
        "\n",
        "C) O histograma é a representação gráfica de uma distribuição de frequências. É um gráfico formado por um conjunto de retângulos, colocados lado a lado, onde a área de cada retângulo é igual para todas as classes\n",
        "\n",
        "Alternativa errada! A área de cada retângulo é proporcional à frequência da classe que ele representa.\n",
        "\n",
        "D) O histograma é a representação gráfica de uma distribuição de frequências. É um gráfico formado por um conjunto de retângulos, colocados lado a lado, onde a área de cada retângulo é proporcional à frequência da classe que ele representa\n",
        "\n",
        "Alternativa correta! Com o histograma, podemos ter uma melhor ideia de como os dados se distribuem."
      ],
      "metadata": {
        "id": "-FpbSDWcmFJS"
      }
    },
    {
      "cell_type": "markdown",
      "source": [
        "### 03 - Calculando a média de uma variável\n",
        "\n",
        "Utilizando um notebook do Colab e tendo o conjunto de dados abaixo:"
      ],
      "metadata": {
        "id": "6KNGxJRCJY1g"
      }
    },
    {
      "cell_type": "code",
      "source": [
        "dataset = pd.DataFrame({\n",
        "    'Sexo': ['H', 'M', 'M', 'M', 'M', 'H', 'H', 'H', 'M', 'M'],\n",
        "    'Idade': [53, 72, 54, 27, 30, 40, 58, 32, 44, 51]\n",
        "})"
      ],
      "metadata": {
        "id": "0k2JPEZfJkwl"
      },
      "execution_count": 608,
      "outputs": []
    },
    {
      "cell_type": "markdown",
      "source": [
        "Obtenha a média aritmética do data frame.\n",
        "\n",
        "Observação: Na variável Sexo, 'H' representa os homens e 'M' as mulheres."
      ],
      "metadata": {
        "id": "Z6aX1F9tJoPi"
      }
    },
    {
      "cell_type": "code",
      "source": [
        "dataset.mean()"
      ],
      "metadata": {
        "colab": {
          "base_uri": "https://localhost:8080/"
        },
        "id": "AcIelhyIJsSt",
        "outputId": "b493b5a5-f0d4-4fb0-879e-86b82fd83489"
      },
      "execution_count": 609,
      "outputs": [
        {
          "output_type": "stream",
          "name": "stderr",
          "text": [
            "/usr/local/lib/python3.7/dist-packages/ipykernel_launcher.py:1: FutureWarning: Dropping of nuisance columns in DataFrame reductions (with 'numeric_only=None') is deprecated; in a future version this will raise TypeError.  Select only valid columns before calling the reduction.\n",
            "  \"\"\"Entry point for launching an IPython kernel.\n"
          ]
        },
        {
          "output_type": "execute_result",
          "data": {
            "text/plain": [
              "Idade    46.1\n",
              "dtype: float64"
            ]
          },
          "metadata": {},
          "execution_count": 609
        }
      ]
    },
    {
      "cell_type": "markdown",
      "source": [
        "### 04 - Média por categoria\n",
        "\n",
        "\n",
        "Considerando o mesmo dataset do exercício anterior:"
      ],
      "metadata": {
        "id": "sqdVSXchK6J8"
      }
    },
    {
      "cell_type": "code",
      "source": [
        "dataset = pd.DataFrame({\n",
        "    'Sexo': ['H', 'M', 'M', 'M', 'M', 'H', 'H', 'H', 'M', 'M'],\n",
        "    'Idade': [53, 72, 54, 27, 30, 40, 58, 32, 44, 51]\n",
        "})"
      ],
      "metadata": {
        "id": "zvMtFN9QK9DI"
      },
      "execution_count": 610,
      "outputs": []
    },
    {
      "cell_type": "markdown",
      "source": [
        "Obtenha a idade média dos homens.\n",
        "\n",
        "Observação: Na variável Sexo, 'H' representa os homens e 'M' as mulheres."
      ],
      "metadata": {
        "id": "5yIAiDFwLI1n"
      }
    },
    {
      "cell_type": "code",
      "source": [
        "# Resposta\n",
        "\n",
        "'''Alternativa correta! Existem várias formas de se chegar a este resultado com \n",
        "o pandas. Abaixo, segue uma sugestão:'''\n",
        "\n",
        "dataset.groupby(['Sexo']).mean().loc['H']"
      ],
      "metadata": {
        "colab": {
          "base_uri": "https://localhost:8080/"
        },
        "id": "lrLxI3BYLLfr",
        "outputId": "620ef8f8-baaa-4ed0-e829-3069890c6731"
      },
      "execution_count": 611,
      "outputs": [
        {
          "output_type": "execute_result",
          "data": {
            "text/plain": [
              "Idade    45.75\n",
              "Name: H, dtype: float64"
            ]
          },
          "metadata": {},
          "execution_count": 611
        }
      ]
    },
    {
      "cell_type": "markdown",
      "source": [
        "### 06 - Sobre a mediana\n",
        "\n",
        "Avalie as afirmativas abaixo:\n",
        "\n",
        "1) Quando n for ímpar, a posição do elemento mediano será obtida da seguinte forma:\n",
        "\n",
        "![image.png](data:image/png;base64,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)\n",
        "\n",
        "\n",
        "2) Quando n for par, a posição do elemento mediano será obtida da seguinte forma:\n",
        "\n",
        "![image.png](data:image/png;base64,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)\n",
        "\n",
        "3) Para obtermos a mediana de um conjunto de dados, não é necessário ordenar este conjunto.\n",
        "\n",
        "Quais estão corretas?"
      ],
      "metadata": {
        "id": "YxNydeM_QZBU"
      }
    },
    {
      "cell_type": "markdown",
      "source": [
        "As afirmativas 1 e 2 estão corretas\n",
        "\n",
        "\n",
        "Alternativa correta! Lembrando que a mediana é obtida para os dois casos da seguinte forma:\n",
        "\n",
        "Quando n for ímpar:\n",
        "\n",
        "![image.png](data:image/png;base64,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)\n",
        "\n",
        "Quando n for par:\n",
        "\n",
        "![image.png](data:image/png;base64,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)"
      ],
      "metadata": {
        "id": "_7ofeuFBQgCZ"
      }
    },
    {
      "cell_type": "markdown",
      "source": [
        "### 08 - Informação mais frequente\n",
        "\n",
        "Considere o seguinte conjunto de pedidos de um restaurante em um aplicativo de delivery, no período de uma hora:\n",
        "\n",
        "![image.png](data:image/png;base64,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)\n"
      ],
      "metadata": {
        "id": "5iV13WIPT-6I"
      }
    },
    {
      "cell_type": "code",
      "source": [
        "df_pedidos = pd.DataFrame({'Pedidos' :\n",
        "                          ['Big Mac', 'Quarteirão', 'Big Mac', 'Big Mac', 'Cheeseburguer', 'Big Mac', 'Quarteirão',\n",
        "                          'Quarteirão', 'Mc Fish', 'Quarteirão', 'Cheeseburguer']})\n",
        "df_pedidos"
      ],
      "metadata": {
        "colab": {
          "base_uri": "https://localhost:8080/",
          "height": 394
        },
        "id": "flLpmOxFUHlJ",
        "outputId": "1f3aca2d-1a58-48d4-9933-18463f353435"
      },
      "execution_count": 612,
      "outputs": [
        {
          "output_type": "execute_result",
          "data": {
            "text/plain": [
              "          Pedidos\n",
              "0         Big Mac\n",
              "1      Quarteirão\n",
              "2         Big Mac\n",
              "3         Big Mac\n",
              "4   Cheeseburguer\n",
              "5         Big Mac\n",
              "6      Quarteirão\n",
              "7      Quarteirão\n",
              "8         Mc Fish\n",
              "9      Quarteirão\n",
              "10  Cheeseburguer"
            ],
            "text/html": [
              "\n",
              "  <div id=\"df-ae4c991a-c4b3-4157-91bf-9f531c3af349\">\n",
              "    <div class=\"colab-df-container\">\n",
              "      <div>\n",
              "<style scoped>\n",
              "    .dataframe tbody tr th:only-of-type {\n",
              "        vertical-align: middle;\n",
              "    }\n",
              "\n",
              "    .dataframe tbody tr th {\n",
              "        vertical-align: top;\n",
              "    }\n",
              "\n",
              "    .dataframe thead th {\n",
              "        text-align: right;\n",
              "    }\n",
              "</style>\n",
              "<table border=\"1\" class=\"dataframe\">\n",
              "  <thead>\n",
              "    <tr style=\"text-align: right;\">\n",
              "      <th></th>\n",
              "      <th>Pedidos</th>\n",
              "    </tr>\n",
              "  </thead>\n",
              "  <tbody>\n",
              "    <tr>\n",
              "      <th>0</th>\n",
              "      <td>Big Mac</td>\n",
              "    </tr>\n",
              "    <tr>\n",
              "      <th>1</th>\n",
              "      <td>Quarteirão</td>\n",
              "    </tr>\n",
              "    <tr>\n",
              "      <th>2</th>\n",
              "      <td>Big Mac</td>\n",
              "    </tr>\n",
              "    <tr>\n",
              "      <th>3</th>\n",
              "      <td>Big Mac</td>\n",
              "    </tr>\n",
              "    <tr>\n",
              "      <th>4</th>\n",
              "      <td>Cheeseburguer</td>\n",
              "    </tr>\n",
              "    <tr>\n",
              "      <th>5</th>\n",
              "      <td>Big Mac</td>\n",
              "    </tr>\n",
              "    <tr>\n",
              "      <th>6</th>\n",
              "      <td>Quarteirão</td>\n",
              "    </tr>\n",
              "    <tr>\n",
              "      <th>7</th>\n",
              "      <td>Quarteirão</td>\n",
              "    </tr>\n",
              "    <tr>\n",
              "      <th>8</th>\n",
              "      <td>Mc Fish</td>\n",
              "    </tr>\n",
              "    <tr>\n",
              "      <th>9</th>\n",
              "      <td>Quarteirão</td>\n",
              "    </tr>\n",
              "    <tr>\n",
              "      <th>10</th>\n",
              "      <td>Cheeseburguer</td>\n",
              "    </tr>\n",
              "  </tbody>\n",
              "</table>\n",
              "</div>\n",
              "      <button class=\"colab-df-convert\" onclick=\"convertToInteractive('df-ae4c991a-c4b3-4157-91bf-9f531c3af349')\"\n",
              "              title=\"Convert this dataframe to an interactive table.\"\n",
              "              style=\"display:none;\">\n",
              "        \n",
              "  <svg xmlns=\"http://www.w3.org/2000/svg\" height=\"24px\"viewBox=\"0 0 24 24\"\n",
              "       width=\"24px\">\n",
              "    <path d=\"M0 0h24v24H0V0z\" fill=\"none\"/>\n",
              "    <path d=\"M18.56 5.44l.94 2.06.94-2.06 2.06-.94-2.06-.94-.94-2.06-.94 2.06-2.06.94zm-11 1L8.5 8.5l.94-2.06 2.06-.94-2.06-.94L8.5 2.5l-.94 2.06-2.06.94zm10 10l.94 2.06.94-2.06 2.06-.94-2.06-.94-.94-2.06-.94 2.06-2.06.94z\"/><path d=\"M17.41 7.96l-1.37-1.37c-.4-.4-.92-.59-1.43-.59-.52 0-1.04.2-1.43.59L10.3 9.45l-7.72 7.72c-.78.78-.78 2.05 0 2.83L4 21.41c.39.39.9.59 1.41.59.51 0 1.02-.2 1.41-.59l7.78-7.78 2.81-2.81c.8-.78.8-2.07 0-2.86zM5.41 20L4 18.59l7.72-7.72 1.47 1.35L5.41 20z\"/>\n",
              "  </svg>\n",
              "      </button>\n",
              "      \n",
              "  <style>\n",
              "    .colab-df-container {\n",
              "      display:flex;\n",
              "      flex-wrap:wrap;\n",
              "      gap: 12px;\n",
              "    }\n",
              "\n",
              "    .colab-df-convert {\n",
              "      background-color: #E8F0FE;\n",
              "      border: none;\n",
              "      border-radius: 50%;\n",
              "      cursor: pointer;\n",
              "      display: none;\n",
              "      fill: #1967D2;\n",
              "      height: 32px;\n",
              "      padding: 0 0 0 0;\n",
              "      width: 32px;\n",
              "    }\n",
              "\n",
              "    .colab-df-convert:hover {\n",
              "      background-color: #E2EBFA;\n",
              "      box-shadow: 0px 1px 2px rgba(60, 64, 67, 0.3), 0px 1px 3px 1px rgba(60, 64, 67, 0.15);\n",
              "      fill: #174EA6;\n",
              "    }\n",
              "\n",
              "    [theme=dark] .colab-df-convert {\n",
              "      background-color: #3B4455;\n",
              "      fill: #D2E3FC;\n",
              "    }\n",
              "\n",
              "    [theme=dark] .colab-df-convert:hover {\n",
              "      background-color: #434B5C;\n",
              "      box-shadow: 0px 1px 3px 1px rgba(0, 0, 0, 0.15);\n",
              "      filter: drop-shadow(0px 1px 2px rgba(0, 0, 0, 0.3));\n",
              "      fill: #FFFFFF;\n",
              "    }\n",
              "  </style>\n",
              "\n",
              "      <script>\n",
              "        const buttonEl =\n",
              "          document.querySelector('#df-ae4c991a-c4b3-4157-91bf-9f531c3af349 button.colab-df-convert');\n",
              "        buttonEl.style.display =\n",
              "          google.colab.kernel.accessAllowed ? 'block' : 'none';\n",
              "\n",
              "        async function convertToInteractive(key) {\n",
              "          const element = document.querySelector('#df-ae4c991a-c4b3-4157-91bf-9f531c3af349');\n",
              "          const dataTable =\n",
              "            await google.colab.kernel.invokeFunction('convertToInteractive',\n",
              "                                                     [key], {});\n",
              "          if (!dataTable) return;\n",
              "\n",
              "          const docLinkHtml = 'Like what you see? Visit the ' +\n",
              "            '<a target=\"_blank\" href=https://colab.research.google.com/notebooks/data_table.ipynb>data table notebook</a>'\n",
              "            + ' to learn more about interactive tables.';\n",
              "          element.innerHTML = '';\n",
              "          dataTable['output_type'] = 'display_data';\n",
              "          await google.colab.output.renderOutput(dataTable, element);\n",
              "          const docLink = document.createElement('div');\n",
              "          docLink.innerHTML = docLinkHtml;\n",
              "          element.appendChild(docLink);\n",
              "        }\n",
              "      </script>\n",
              "    </div>\n",
              "  </div>\n",
              "  "
            ]
          },
          "metadata": {},
          "execution_count": 612
        }
      ]
    },
    {
      "cell_type": "code",
      "source": [
        "# Resposta\n",
        "''' Big Mac e Quarteirão\n",
        "Alternativa correta! Trata-se de uma variável bimodal.'''\n",
        "\n",
        "df_pedidos.mode()"
      ],
      "metadata": {
        "colab": {
          "base_uri": "https://localhost:8080/",
          "height": 112
        },
        "id": "fwhuNYdgXJf8",
        "outputId": "4e03df90-6bbd-403a-c1bb-2eb39cba5291"
      },
      "execution_count": 613,
      "outputs": [
        {
          "output_type": "execute_result",
          "data": {
            "text/plain": [
              "      Pedidos\n",
              "0     Big Mac\n",
              "1  Quarteirão"
            ],
            "text/html": [
              "\n",
              "  <div id=\"df-64bcab56-8be2-474c-a9d1-01f475c99004\">\n",
              "    <div class=\"colab-df-container\">\n",
              "      <div>\n",
              "<style scoped>\n",
              "    .dataframe tbody tr th:only-of-type {\n",
              "        vertical-align: middle;\n",
              "    }\n",
              "\n",
              "    .dataframe tbody tr th {\n",
              "        vertical-align: top;\n",
              "    }\n",
              "\n",
              "    .dataframe thead th {\n",
              "        text-align: right;\n",
              "    }\n",
              "</style>\n",
              "<table border=\"1\" class=\"dataframe\">\n",
              "  <thead>\n",
              "    <tr style=\"text-align: right;\">\n",
              "      <th></th>\n",
              "      <th>Pedidos</th>\n",
              "    </tr>\n",
              "  </thead>\n",
              "  <tbody>\n",
              "    <tr>\n",
              "      <th>0</th>\n",
              "      <td>Big Mac</td>\n",
              "    </tr>\n",
              "    <tr>\n",
              "      <th>1</th>\n",
              "      <td>Quarteirão</td>\n",
              "    </tr>\n",
              "  </tbody>\n",
              "</table>\n",
              "</div>\n",
              "      <button class=\"colab-df-convert\" onclick=\"convertToInteractive('df-64bcab56-8be2-474c-a9d1-01f475c99004')\"\n",
              "              title=\"Convert this dataframe to an interactive table.\"\n",
              "              style=\"display:none;\">\n",
              "        \n",
              "  <svg xmlns=\"http://www.w3.org/2000/svg\" height=\"24px\"viewBox=\"0 0 24 24\"\n",
              "       width=\"24px\">\n",
              "    <path d=\"M0 0h24v24H0V0z\" fill=\"none\"/>\n",
              "    <path d=\"M18.56 5.44l.94 2.06.94-2.06 2.06-.94-2.06-.94-.94-2.06-.94 2.06-2.06.94zm-11 1L8.5 8.5l.94-2.06 2.06-.94-2.06-.94L8.5 2.5l-.94 2.06-2.06.94zm10 10l.94 2.06.94-2.06 2.06-.94-2.06-.94-.94-2.06-.94 2.06-2.06.94z\"/><path d=\"M17.41 7.96l-1.37-1.37c-.4-.4-.92-.59-1.43-.59-.52 0-1.04.2-1.43.59L10.3 9.45l-7.72 7.72c-.78.78-.78 2.05 0 2.83L4 21.41c.39.39.9.59 1.41.59.51 0 1.02-.2 1.41-.59l7.78-7.78 2.81-2.81c.8-.78.8-2.07 0-2.86zM5.41 20L4 18.59l7.72-7.72 1.47 1.35L5.41 20z\"/>\n",
              "  </svg>\n",
              "      </button>\n",
              "      \n",
              "  <style>\n",
              "    .colab-df-container {\n",
              "      display:flex;\n",
              "      flex-wrap:wrap;\n",
              "      gap: 12px;\n",
              "    }\n",
              "\n",
              "    .colab-df-convert {\n",
              "      background-color: #E8F0FE;\n",
              "      border: none;\n",
              "      border-radius: 50%;\n",
              "      cursor: pointer;\n",
              "      display: none;\n",
              "      fill: #1967D2;\n",
              "      height: 32px;\n",
              "      padding: 0 0 0 0;\n",
              "      width: 32px;\n",
              "    }\n",
              "\n",
              "    .colab-df-convert:hover {\n",
              "      background-color: #E2EBFA;\n",
              "      box-shadow: 0px 1px 2px rgba(60, 64, 67, 0.3), 0px 1px 3px 1px rgba(60, 64, 67, 0.15);\n",
              "      fill: #174EA6;\n",
              "    }\n",
              "\n",
              "    [theme=dark] .colab-df-convert {\n",
              "      background-color: #3B4455;\n",
              "      fill: #D2E3FC;\n",
              "    }\n",
              "\n",
              "    [theme=dark] .colab-df-convert:hover {\n",
              "      background-color: #434B5C;\n",
              "      box-shadow: 0px 1px 3px 1px rgba(0, 0, 0, 0.15);\n",
              "      filter: drop-shadow(0px 1px 2px rgba(0, 0, 0, 0.3));\n",
              "      fill: #FFFFFF;\n",
              "    }\n",
              "  </style>\n",
              "\n",
              "      <script>\n",
              "        const buttonEl =\n",
              "          document.querySelector('#df-64bcab56-8be2-474c-a9d1-01f475c99004 button.colab-df-convert');\n",
              "        buttonEl.style.display =\n",
              "          google.colab.kernel.accessAllowed ? 'block' : 'none';\n",
              "\n",
              "        async function convertToInteractive(key) {\n",
              "          const element = document.querySelector('#df-64bcab56-8be2-474c-a9d1-01f475c99004');\n",
              "          const dataTable =\n",
              "            await google.colab.kernel.invokeFunction('convertToInteractive',\n",
              "                                                     [key], {});\n",
              "          if (!dataTable) return;\n",
              "\n",
              "          const docLinkHtml = 'Like what you see? Visit the ' +\n",
              "            '<a target=\"_blank\" href=https://colab.research.google.com/notebooks/data_table.ipynb>data table notebook</a>'\n",
              "            + ' to learn more about interactive tables.';\n",
              "          element.innerHTML = '';\n",
              "          dataTable['output_type'] = 'display_data';\n",
              "          await google.colab.output.renderOutput(dataTable, element);\n",
              "          const docLink = document.createElement('div');\n",
              "          docLink.innerHTML = docLinkHtml;\n",
              "          element.appendChild(docLink);\n",
              "        }\n",
              "      </script>\n",
              "    </div>\n",
              "  </div>\n",
              "  "
            ]
          },
          "metadata": {},
          "execution_count": 613
        }
      ]
    },
    {
      "cell_type": "markdown",
      "source": [
        "### 10 - Média, mediana e moda\n",
        "\n",
        "Avalie as afirmativas abaixo:\n",
        "\n",
        "1) A relação MODA < MEDIANA < MÉDIA indica que a distribuição é assimétrica à direita\n",
        "\n",
        "2) A relação MODA = MEDIANA = MÉDIA indica que a distribuição é simétrica\n",
        "\n",
        "3) A relação MODA < MEDIANA < MÉDIA indica que a distribuição é assimétrica à esquerda\n",
        "\n",
        "Quais estão corretas?"
      ],
      "metadata": {
        "id": "ouNogRgwp6g9"
      }
    },
    {
      "cell_type": "markdown",
      "source": [
        "<font color = 'green'># Resposta</font>\n",
        "\n",
        "As afirmativas 1 e 2 estão corretas\n",
        "\n",
        "Alternativa correta! A relação MODA < MEDIANA < MÉDIA indica que a distribuição é assimétrica à direita."
      ],
      "metadata": {
        "id": "1qajke7nqRuQ"
      }
    },
    {
      "cell_type": "markdown",
      "source": [
        "### 03 - Medidas separatrizes\n",
        "\n",
        "\n",
        "Seguindo o que aprendemos sobre as medidas separatrizes (quartis, decis e percentis) assinale as opções abaixo que criam uma Series com os decis para a variável Renda, do nosso dataset de aula.\n",
        "\n",
        "Selecione 2 alternativas"
      ],
      "metadata": {
        "id": "pbCiaWVtBGCt"
      }
    },
    {
      "cell_type": "code",
      "source": [
        "# A) Alternativa errada! Com este código, obtemos os quartis e não os decis.\n",
        "\n",
        "print(dados.Renda.quantile([0.25, 0.5, 0.75]))\n",
        "\n",
        "#B) Alternativa correta! \n",
        "'''Utilizando o recurso do Python conhecido como list \n",
        "comprehension é possível construir e passar os decis para o método quantile().'''\n",
        "\n",
        "print(dados.Renda.quantile([i / 10 for i in range(1, 10)]))\n",
        "\n",
        "#C) Alternativa correta! Podemos passar cada percentual em que queremos dividir a nossa variável.\n",
        "\n",
        "print(dados.Renda.quantile([0.1, 0.2, 0.3, 0.4, 0.5, 0.6, 0.7, 0.8, 0.9]))\n",
        "\n",
        "#D) Alternativa errada! Com este código, obtemos os centis e não os decis.\n",
        "\n",
        "print(dados.Renda.quantile([i / 100 for i in range(1, 100)]))"
      ],
      "metadata": {
        "colab": {
          "base_uri": "https://localhost:8080/"
        },
        "id": "TEd_5zmzBqgZ",
        "outputId": "78075cb4-7dd5-48d9-8b7b-508216379999"
      },
      "execution_count": 614,
      "outputs": [
        {
          "output_type": "stream",
          "name": "stdout",
          "text": [
            "0.25     788.0\n",
            "0.50    1200.0\n",
            "0.75    2000.0\n",
            "Name: Renda, dtype: float64\n",
            "0.1     350.0\n",
            "0.2     788.0\n",
            "0.3     800.0\n",
            "0.4    1000.0\n",
            "0.5    1200.0\n",
            "0.6    1500.0\n",
            "0.7    1900.0\n",
            "0.8    2500.0\n",
            "0.9    4000.0\n",
            "Name: Renda, dtype: float64\n",
            "0.1     350.0\n",
            "0.2     788.0\n",
            "0.3     800.0\n",
            "0.4    1000.0\n",
            "0.5    1200.0\n",
            "0.6    1500.0\n",
            "0.7    1900.0\n",
            "0.8    2500.0\n",
            "0.9    4000.0\n",
            "Name: Renda, dtype: float64\n",
            "0.01        0.0\n",
            "0.02        0.0\n",
            "0.03        0.0\n",
            "0.04       50.0\n",
            "0.05      100.0\n",
            "0.06      180.0\n",
            "0.07      200.0\n",
            "0.08      280.0\n",
            "0.09      300.0\n",
            "0.10      350.0\n",
            "0.11      400.0\n",
            "0.12      400.0\n",
            "0.13      480.0\n",
            "0.14      500.0\n",
            "0.15      500.0\n",
            "0.16      600.0\n",
            "0.17      600.0\n",
            "0.18      700.0\n",
            "0.19      700.0\n",
            "0.20      788.0\n",
            "0.21      788.0\n",
            "0.22      788.0\n",
            "0.23      788.0\n",
            "0.24      788.0\n",
            "0.25      788.0\n",
            "0.26      788.0\n",
            "0.27      788.0\n",
            "0.28      788.0\n",
            "0.29      789.0\n",
            "0.30      800.0\n",
            "0.31      800.0\n",
            "0.32      800.0\n",
            "0.33      840.0\n",
            "0.34      870.0\n",
            "0.35      900.0\n",
            "0.36      900.0\n",
            "0.37      920.0\n",
            "0.38      970.0\n",
            "0.39     1000.0\n",
            "0.40     1000.0\n",
            "0.41     1000.0\n",
            "0.42     1000.0\n",
            "0.43     1000.0\n",
            "0.44     1014.0\n",
            "0.45     1100.0\n",
            "0.46     1100.0\n",
            "0.47     1150.0\n",
            "0.48     1200.0\n",
            "0.49     1200.0\n",
            "0.50     1200.0\n",
            "0.51     1200.0\n",
            "0.52     1200.0\n",
            "0.53     1200.0\n",
            "0.54     1300.0\n",
            "0.55     1300.0\n",
            "0.56     1350.0\n",
            "0.57     1400.0\n",
            "0.58     1490.0\n",
            "0.59     1500.0\n",
            "0.60     1500.0\n",
            "0.61     1500.0\n",
            "0.62     1500.0\n",
            "0.63     1500.0\n",
            "0.64     1520.0\n",
            "0.65     1600.0\n",
            "0.66     1600.0\n",
            "0.67     1700.0\n",
            "0.68     1800.0\n",
            "0.69     1800.0\n",
            "0.70     1900.0\n",
            "0.71     2000.0\n",
            "0.72     2000.0\n",
            "0.73     2000.0\n",
            "0.74     2000.0\n",
            "0.75     2000.0\n",
            "0.76     2000.0\n",
            "0.77     2200.0\n",
            "0.78     2300.0\n",
            "0.79     2400.0\n",
            "0.80     2500.0\n",
            "0.81     2500.0\n",
            "0.82     2600.0\n",
            "0.83     3000.0\n",
            "0.84     3000.0\n",
            "0.85     3000.0\n",
            "0.86     3000.0\n",
            "0.87     3400.0\n",
            "0.88     3500.0\n",
            "0.89     4000.0\n",
            "0.90     4000.0\n",
            "0.91     4200.0\n",
            "0.92     5000.0\n",
            "0.93     5000.0\n",
            "0.94     5400.0\n",
            "0.95     6000.0\n",
            "0.96     7000.0\n",
            "0.97     8000.0\n",
            "0.98    10000.0\n",
            "0.99    15000.0\n",
            "Name: Renda, dtype: float64\n"
          ]
        }
      ]
    },
    {
      "cell_type": "markdown",
      "source": [
        "### 05 - Analisando um boxplot\n",
        "\n",
        "Considere o seguinte código e o resultado que ele produz:"
      ],
      "metadata": {
        "id": "eHXlHz0SJVRF"
      }
    },
    {
      "cell_type": "code",
      "source": [
        "ax_exercicio = sns.boxplot(x = 'Renda', y = 'UF', data = dados.query('(UF==35 or UF==29) and Renda < 10000'), orient = 'h')\n",
        "\n",
        "ax_exercicio.figure.set_size_inches(12, 6)\n",
        "ax_exercicio.set_title('Renda (R$) - Bahia X São Paulo', fontsize=18)\n",
        "ax_exercicio.set_xlabel('R$', fontsize=14)\n",
        "plt.show()"
      ],
      "metadata": {
        "colab": {
          "base_uri": "https://localhost:8080/",
          "height": 412
        },
        "id": "z326eZtMJdbT",
        "outputId": "5a4dfd8f-e8c7-4fe7-f950-62c9eeb3fa66"
      },
      "execution_count": 615,
      "outputs": [
        {
          "output_type": "display_data",
          "data": {
            "text/plain": [
              "<Figure size 864x432 with 1 Axes>"
            ],
            "image/png": "[encoded data removed]"
          },
          "metadata": {
            "needs_background": "light"
          }
        }
      ]
    },
    {
      "cell_type": "markdown",
      "source": [
        "Observe que o código de UF igual a 29 representa o estado da Bahia e o de número 35 o estado de São Paulo. Note também que estamos considerando somente as pessoas com rendimento de até R$ 10.000,00.\n",
        "\n",
        "Com as informações acima, avalie as alternativas abaixo e indique qual é verdadeira.\n",
        "\n",
        "Selecione uma alternativa"
      ],
      "metadata": {
        "id": "RtiP_wdcJ3q6"
      }
    },
    {
      "cell_type": "markdown",
      "source": [
        "<font color = 'green'># Resposta</font>\n",
        "\n",
        "A) A mediana nos dois estados é igual\n",
        "\n",
        "Alternativa errada! A mediana, representada pela linha do meio no boxplot, mostra que este valor é bem superior no estado de São Paulo.\n",
        "\n",
        "B) É possível notar que os chefes de domicílio em São Paulo têm uma renda maior que os da Bahia, também notamos uma maior dispersão nos dados de São Paulo\n",
        "\n",
        "Alternativa correta! Em nosso projeto, vamos fazer análises deste tipo.\n",
        "\n",
        "C) Avaliando somente o boxplot, não podemos chegar a nenhuma conclusão\n",
        "\n",
        "Alternativa errada! Existe uma diferente bastante visível na distribuição da renda entre os dois estados.\n",
        "\n",
        "D) \n",
        "Os chefes de domicílio na Bahia são bem mais remunerados que os de São Paulo\n",
        "\n",
        "Alternativa errada! O gráfico indica justamente o contrário."
      ],
      "metadata": {
        "id": "VZVUZWdoKACe"
      }
    },
    {
      "cell_type": "markdown",
      "source": [
        "### 03 - Dispersão dos dados\n",
        "\n",
        "Assinale a opção que apresenta o método do pandas que retorna o desvio médio absoluto de um conjunto de dados."
      ],
      "metadata": {
        "id": "gGe1G_FnbLYJ"
      }
    },
    {
      "cell_type": "markdown",
      "source": [
        "<font color = 'green'># Resposta</font>\n",
        "\n",
        "\n",
        "A) .std()\n",
        "\n",
        "Alternativa errada! Como veremos em nosso último vídeo desta aula, o método .std() nos retorna o desvio padrão dos dados.\n",
        "\n",
        "B) .var()\n",
        "\n",
        "Alternativa errada! Como veremos no próximo vídeo, o método .var() nos retorna a variância dos dados.\n",
        "\n",
        "C) .mad()\n",
        "\n",
        "Alternativa correta! Como vimos em nossa última aula.\n",
        "\n",
        "D) .dma()\n",
        "\n",
        "Alternativa errada! Este método não existe no pacote pandas. Tente utilizando a sigla em inglês (Mean Absolute Deviation)."
      ],
      "metadata": {
        "id": "f_ZNfsrQbRB1"
      }
    },
    {
      "cell_type": "markdown",
      "source": [
        "### 04 - Comparando variáveis com mesma média e mediana\n",
        "\n",
        "Utilizando o DataFrame de exemplo que trabalhamos em nossas aulas:"
      ],
      "metadata": {
        "id": "vjFp5PE9b3m6"
      }
    },
    {
      "cell_type": "code",
      "source": [
        "df_alunos = pd.DataFrame(data = {'Fulano': [8, 10, 4, 8, 6, 10, 8],\n",
        "                          'Sicrano': [7.5, 8, 7, 8, 8, 8.5, 7]}, \n",
        "                  index = ['Matemática', \n",
        "                           'Português', \n",
        "                           'Inglês', \n",
        "                           'Geografia', \n",
        "                           'História', \n",
        "                           'Física', \n",
        "                           'Química'])\n",
        "df_alunos.rename_axis('Matérias', axis = 'columns', inplace = True)\n",
        "df_alunos"
      ],
      "metadata": {
        "colab": {
          "base_uri": "https://localhost:8080/",
          "height": 269
        },
        "id": "Zw1BGwQ-cJsy",
        "outputId": "702c0b52-f7b1-463e-d2f9-8612a5502811"
      },
      "execution_count": 616,
      "outputs": [
        {
          "output_type": "execute_result",
          "data": {
            "text/plain": [
              "Matérias    Fulano  Sicrano\n",
              "Matemática       8      7.5\n",
              "Português       10      8.0\n",
              "Inglês           4      7.0\n",
              "Geografia        8      8.0\n",
              "História         6      8.0\n",
              "Física          10      8.5\n",
              "Química          8      7.0"
            ],
            "text/html": [
              "\n",
              "  <div id=\"df-ad950504-5bec-4212-9ff9-cc9c6d7589ef\">\n",
              "    <div class=\"colab-df-container\">\n",
              "      <div>\n",
              "<style scoped>\n",
              "    .dataframe tbody tr th:only-of-type {\n",
              "        vertical-align: middle;\n",
              "    }\n",
              "\n",
              "    .dataframe tbody tr th {\n",
              "        vertical-align: top;\n",
              "    }\n",
              "\n",
              "    .dataframe thead th {\n",
              "        text-align: right;\n",
              "    }\n",
              "</style>\n",
              "<table border=\"1\" class=\"dataframe\">\n",
              "  <thead>\n",
              "    <tr style=\"text-align: right;\">\n",
              "      <th>Matérias</th>\n",
              "      <th>Fulano</th>\n",
              "      <th>Sicrano</th>\n",
              "    </tr>\n",
              "  </thead>\n",
              "  <tbody>\n",
              "    <tr>\n",
              "      <th>Matemática</th>\n",
              "      <td>8</td>\n",
              "      <td>7.5</td>\n",
              "    </tr>\n",
              "    <tr>\n",
              "      <th>Português</th>\n",
              "      <td>10</td>\n",
              "      <td>8.0</td>\n",
              "    </tr>\n",
              "    <tr>\n",
              "      <th>Inglês</th>\n",
              "      <td>4</td>\n",
              "      <td>7.0</td>\n",
              "    </tr>\n",
              "    <tr>\n",
              "      <th>Geografia</th>\n",
              "      <td>8</td>\n",
              "      <td>8.0</td>\n",
              "    </tr>\n",
              "    <tr>\n",
              "      <th>História</th>\n",
              "      <td>6</td>\n",
              "      <td>8.0</td>\n",
              "    </tr>\n",
              "    <tr>\n",
              "      <th>Física</th>\n",
              "      <td>10</td>\n",
              "      <td>8.5</td>\n",
              "    </tr>\n",
              "    <tr>\n",
              "      <th>Química</th>\n",
              "      <td>8</td>\n",
              "      <td>7.0</td>\n",
              "    </tr>\n",
              "  </tbody>\n",
              "</table>\n",
              "</div>\n",
              "      <button class=\"colab-df-convert\" onclick=\"convertToInteractive('df-ad950504-5bec-4212-9ff9-cc9c6d7589ef')\"\n",
              "              title=\"Convert this dataframe to an interactive table.\"\n",
              "              style=\"display:none;\">\n",
              "        \n",
              "  <svg xmlns=\"http://www.w3.org/2000/svg\" height=\"24px\"viewBox=\"0 0 24 24\"\n",
              "       width=\"24px\">\n",
              "    <path d=\"M0 0h24v24H0V0z\" fill=\"none\"/>\n",
              "    <path d=\"M18.56 5.44l.94 2.06.94-2.06 2.06-.94-2.06-.94-.94-2.06-.94 2.06-2.06.94zm-11 1L8.5 8.5l.94-2.06 2.06-.94-2.06-.94L8.5 2.5l-.94 2.06-2.06.94zm10 10l.94 2.06.94-2.06 2.06-.94-2.06-.94-.94-2.06-.94 2.06-2.06.94z\"/><path d=\"M17.41 7.96l-1.37-1.37c-.4-.4-.92-.59-1.43-.59-.52 0-1.04.2-1.43.59L10.3 9.45l-7.72 7.72c-.78.78-.78 2.05 0 2.83L4 21.41c.39.39.9.59 1.41.59.51 0 1.02-.2 1.41-.59l7.78-7.78 2.81-2.81c.8-.78.8-2.07 0-2.86zM5.41 20L4 18.59l7.72-7.72 1.47 1.35L5.41 20z\"/>\n",
              "  </svg>\n",
              "      </button>\n",
              "      \n",
              "  <style>\n",
              "    .colab-df-container {\n",
              "      display:flex;\n",
              "      flex-wrap:wrap;\n",
              "      gap: 12px;\n",
              "    }\n",
              "\n",
              "    .colab-df-convert {\n",
              "      background-color: #E8F0FE;\n",
              "      border: none;\n",
              "      border-radius: 50%;\n",
              "      cursor: pointer;\n",
              "      display: none;\n",
              "      fill: #1967D2;\n",
              "      height: 32px;\n",
              "      padding: 0 0 0 0;\n",
              "      width: 32px;\n",
              "    }\n",
              "\n",
              "    .colab-df-convert:hover {\n",
              "      background-color: #E2EBFA;\n",
              "      box-shadow: 0px 1px 2px rgba(60, 64, 67, 0.3), 0px 1px 3px 1px rgba(60, 64, 67, 0.15);\n",
              "      fill: #174EA6;\n",
              "    }\n",
              "\n",
              "    [theme=dark] .colab-df-convert {\n",
              "      background-color: #3B4455;\n",
              "      fill: #D2E3FC;\n",
              "    }\n",
              "\n",
              "    [theme=dark] .colab-df-convert:hover {\n",
              "      background-color: #434B5C;\n",
              "      box-shadow: 0px 1px 3px 1px rgba(0, 0, 0, 0.15);\n",
              "      filter: drop-shadow(0px 1px 2px rgba(0, 0, 0, 0.3));\n",
              "      fill: #FFFFFF;\n",
              "    }\n",
              "  </style>\n",
              "\n",
              "      <script>\n",
              "        const buttonEl =\n",
              "          document.querySelector('#df-ad950504-5bec-4212-9ff9-cc9c6d7589ef button.colab-df-convert');\n",
              "        buttonEl.style.display =\n",
              "          google.colab.kernel.accessAllowed ? 'block' : 'none';\n",
              "\n",
              "        async function convertToInteractive(key) {\n",
              "          const element = document.querySelector('#df-ad950504-5bec-4212-9ff9-cc9c6d7589ef');\n",
              "          const dataTable =\n",
              "            await google.colab.kernel.invokeFunction('convertToInteractive',\n",
              "                                                     [key], {});\n",
              "          if (!dataTable) return;\n",
              "\n",
              "          const docLinkHtml = 'Like what you see? Visit the ' +\n",
              "            '<a target=\"_blank\" href=https://colab.research.google.com/notebooks/data_table.ipynb>data table notebook</a>'\n",
              "            + ' to learn more about interactive tables.';\n",
              "          element.innerHTML = '';\n",
              "          dataTable['output_type'] = 'display_data';\n",
              "          await google.colab.output.renderOutput(dataTable, element);\n",
              "          const docLink = document.createElement('div');\n",
              "          docLink.innerHTML = docLinkHtml;\n",
              "          element.appendChild(docLink);\n",
              "        }\n",
              "      </script>\n",
              "    </div>\n",
              "  </div>\n",
              "  "
            ]
          },
          "metadata": {},
          "execution_count": 616
        }
      ]
    },
    {
      "cell_type": "markdown",
      "source": [
        "O DataFrame acima só considera as notas de Fulano e Sicrano que apresentaram medidas de tendência central idênticas.\n",
        "\n",
        "Indique a opção que mostra o aluno que possui a maior dispersão em suas notas e o valor do desvio médio absoluto deste aluno, respectivamente."
      ],
      "metadata": {
        "id": "gPBJzS40ceNL"
      }
    },
    {
      "cell_type": "code",
      "source": [
        "#Resposta\n",
        "print('O aluno com maior dispersão é Fulano. Seu desvio médio absoluto foi de 1,551020')\n",
        "print(f\"Aluno Fulano {notas_fulano['Fulano'].mad()}\")\n",
        "print(f\"Aluno Sicrano {notas_sicrano['Sicrano'].mad()}\")\n"
      ],
      "metadata": {
        "colab": {
          "base_uri": "https://localhost:8080/"
        },
        "id": "MqMrrAcORWtq",
        "outputId": "6747ec30-8da5-408d-eaf0-8b728fb00ff2"
      },
      "execution_count": 617,
      "outputs": [
        {
          "output_type": "stream",
          "name": "stdout",
          "text": [
            "O aluno com maior dispersão é Fulano. Seu desvio médio absoluto foi de 1,551020\n",
            "Aluno Fulano 1.5510204081632648\n",
            "Aluno Sicrano 0.4693877551020408\n"
          ]
        }
      ]
    },
    {
      "cell_type": "markdown",
      "source": [
        "###06 - Utilizando a variância\n",
        "\n",
        "Sobre a variância, marque abaixo as alternativas corretas."
      ],
      "metadata": {
        "id": "qAsnpMgxccEa"
      }
    },
    {
      "cell_type": "markdown",
      "source": [
        "<font color = 'green'>Resposta</font>\n",
        "\n",
        "A) variância amostral é obtida com a seguinte fórmula:\n",
        "\n",
        "![image.png](data:image/png;base64,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)\n",
        "\n",
        "\n",
        "Alternativa correta! Lembre-se que quando calculamos a variância amostral, precisamos dividir o somatório por n-1.\n",
        "\n",
        "B) O resultado da variância de uma variável tem sua unidade de medida também elevada ao quadrado\n",
        "\n",
        "Alternativa correta! Esse problema é solucionado com a utilização do desvio padrão, como veremos no próximo vídeo.\n",
        "\n",
        "C) A variância amostral é obtida com a seguinte fórmula:\n",
        "\n",
        "![image.png](data:image/png;base64,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)\n",
        "\n",
        "Alternativa errada! Quando calculamos a variância amostral precisamos utilizar o fator de correção de Bessel (1 / (n-1)).\n",
        "\n",
        "D) A variância populacional é obtida com a seguinte fórmula:\n",
        "\n",
        "![image.png](data:image/png;base64,iVBORw0KGgoAAAANSUhEUgAAANMAAABJCAYAAACn+hP8AAAS3ElEQVR4nO2dyXPbyNnGH2wEQAAkAS7iIkrU2Jo4HleSqpnDXPLX55BjKnHiGVuWLMlcxQ0kwQX7d3B1f6IljQUJlGgJvyofTNNEE42nu9+VTBiGIRISEu4N+9gDSEh4KiRiSkiIiURMCQkxkYgpISEm+McewHMhDEOEYQiGYcAwDADA930EQQCGYcDzyVR87yQzuGGCIIBt2xiNRpjNZmBZFtVqFaZpIgxD+L4Py7KgaRry+TxUVX3sISfckURMG8ZxHLTbbQCAaZqwLAuO40CWZYiiCNd1MRgMMB6PIQhCIqbvmMRm2jDL5RKfPn2CqqpQFAWWZeHk5AT5fB67u7soFAoQRRHD4RDz+fyxh5twD56lmIit8hDxao7jIMsyUqkUfN9HGIY4ODiAJEkAvhwDHccBx3Fg2Wc5HU+GZ3HMC4IAnudhsVhgOByi0+nAMAxUq1XkcrmNXjudTuPPf/4zWJbFarUCz/PY29tDKpUCALiui9lsBlVVqcASvk+exVLoOA7G4zF6vR6m0yk+f/6MwWAA27Y3fm2e52EYBhaLBWzbhiiK0DQNLMvC932sVivM53MYhgGO47BYLDY+poTN8CzERHal5XIJURTpMe8hGY/H1PFAjnOLxQKz2Qy+76NQKMD3fYzH4wcdV0J8PItjnqqqSKfTcF0X8/n8UWI6k8kEYRiueeuGwyEGgwGy2SxUVcVgMMBqtUKtVnvw8SXcn2exMwEAy7LgOG4taPqQEBEbhkFfC8MQHMchnU7DNE2wLItsNvvgY0uIh2exM20Duq5DkiTk83n6Wi6Xg+u6mEwmCIKA7qAJ3yeJmB6I3d1dSJK0dszL5XJIpVIQBAGKokDTtMSjdwtIOCEuB5IkSRAE4d6hiURMD8TOzs6V1xiGgaIoODg4eIQRfb/Yto1er4fz8/NYPq/RaKBQKNz7VJCIKUba7TaOj4/h+34sn5dKpVCpVG4ttsFgQG2zSqXyZIPADMOA4zgaq7svxJb+mvF4jPfv3+PXX3+91efELibTNDGZTLBYLOD7PvL5PHK5HGRZjvtSWwdJaDVNE5qmoVgs3tqhMJ/PsVqtsFgsYFkWbNsGx3EAgFqtdqsHZzabYTQaQRRFlMvlG9/nui5GoxF115MwAcdxKBaLMAwDqVQKtm2j2+1Sm45hGIiiCMMwUCqVbvW9NoEgCNB1HYIgAPjiyBmPx+h2u/A8b+37aJqGSqUCURRh2zYuLi4wnU7hui7N1ndd99psmOVyic+fPz+8mIIgwHK5hGVZmM/nmM/nWC6XmM1m2NnZQaVSefKCUhQFhUIBo9EIvu8jnU6jVqt98/gQBMHafZtMJnRRmk6nGI/HKBQKVFw34XkebNv+preS2ByLxYKKBQCq1SoymQx9GMMwxHA4xOfPn+H7PnRdRzabhaZpEe5K/HAcB1VVqf1JvKKWZWE0GmE6nSIMQ2QyGeRyOZRKJciyjOVyCcdx0Ov14Lou/QxRFK/dxUlQ/bbEJibXddFsNiHLMur1OkRRxGg0wj//+U+YpgmGYbbKNthEXl6xWATP8+j1ejBNE/1+H/l8HoZhfPMBVxRlbWz9fh//+9//YFkWms0mcrncN8V0W0RRRL1eR6VSge/76Pf78H0fh4eH2NnZodcRRRGyLNNF8M2bN8jlcnRH2BYYhkGpVIKmafj48SOm0yl834emaXj58iWNK5LvfXJyAkmS8MMPP2Bvby+2uGNsh2rbtvH777/j7du36Ha7EAQBhUIBmqZhsVig0+nEdak7cXk1Jrl6q9UKnufFdg2GYaCqKn7++Wdks1kMBgMcHx/DsqxIdhTDMDAMA3/5y1+wv78P0zQ3krFB4l6FQgFBEKDZbNJdKgxDTCYTuK6LSqWCX3/9Fbqub3URoyiKePHiBXK5HDzPozsUYbFY4LfffkO9XsebN2+wu7sb6/eJTUwcxyGXy0FRFAiCQM+jDMPA8zy4rhvXpSITBAEuLi7w4cMHNJtNKIqCIAjQ6XTw/v17TCaT2JwGgiCgXC6j0WhAlmX0ej28ffs2cnkFz/P0iKLrOoDN7aa1Wg0Mw6DValEBjcdjHB0dIZ1OY39/H5lMhs7ntsKyLNLpNAzDgCRJmM1maLVasG0b/X4fnz59ortYPp+PzYFBuJUswzC8cWVkWRYMwyCVSuHg4ABhGCKbzSIMQziOA8dxIEnSxrOzvwXDMBAEAYIgIJ1O00yIuD1exEjf29vDcrnE6ekpPn36hHw+D57nI7lfOY5DNpvdaFm7qqrQdR2yLGM6nWI0GkGSJPT7fbAsC13XkclkNnLtTVEsFjEcDtHtdqn7nCQaE7twE0fVP5whx3Hgui79cx3pdBqiKEIQBOzt7dHXbdvGYDCA67rI5/Oo1+vX/v8gCOifqBAxfMuWYFkWOzs718Z6NkWxWMR8Psd0OkWz2cTJyQkEQcD+/n4k2+eyzbIJyGpeKBTQarXQ7/fheR7m8zl++eWX77Lyt1gsYjAYoNPpoNPpwHVd5HI5FItFVKvVjV33RjE5joOPHz+i2WzCNE3qcvx6JX/x4gUODg7WXKVhGMKyLPznP/+BruvY29u7dmcKw5CuhnepMhUEAYZh0EyCbaNcLsPzPAyHQ1xcXCCdTkNV1Ud1K1+Hqqp4+fIlBoMB+v0+JEnCzz//DFVVv8tYlSzLNHnYNE2USiWUSiVUKpWNXvdaMZmmibOzM3Q6HaiqinK5DJ7ncXZ2huFwCF3X0Wg0IAjCta7S8XiMfr+ParWKYrEIXddvnBTHcegKHpVUKkXtn21EFEUUi0X89NNPODo6Qq/XgyRJMAxjqwx5QRCQyWSQSqVoDIbYvbeBuPZ///137O7uIp/PQxTFDY/6ZshRO51OYzweY7VaIQiCjd/zK5++XC7R7XZxenqKUqmEer1OYxwMw2CxWEBRFOzt7UFV1Ss3nAQDOY5Do9GAqqpwHAez2eza+IQsyzAM405HGZ7noSjKtcem6XQK0zQjOT6IXVWtVmNxQxPv3suXL2FZFtrtNj5//oxcLodGo/GoDxwhDEMsFgv0ej0ai5nP57i4uIjk7SJOi52dnSvPBImfRV30WJZFPp+PPBez2QyLxQIcx0EQBPr3TXPlTg2HQ/R6PXieh1evXiGbzdKqUOIadV0Xq9Vq7TxNHA5nZ2cIw5CWGliWRb1lX4uJYRhomraRIKBpmtQtfVtIOUSxWIwtpsNxHDKZDPb39+lC9d///hflcnkrxESyNtrtNgqFAlzXhWVZODs7oyeSb8EwDCRJQr1ep9kTl5lMJmi1WpE9psSjGWUuPM9Dv9/HbDaDLMtQVRWWZWE6nWK1Wm00kfjKnep2uzBNE/l8HpIk3frM7DgOTk9P0W63Yds2Wq0W/b+yLP9hessmSKVS0DQt0kSwLAtJkjbi/q3X65jNZphMJjS+RZpSxknUei0y3z/99BM0TaM7TLfbvfXDTxJ2//SnP137vARBANd1I8faGIaJFA7wPA+maWI6nULXdRweHuLdu3f4+PEj+v0+ms0mXr58eevPi8qamFzXxWKxQBiG0HV97UEMgoB650gpweVJC8MQtm3TxiCX/y2fz6NQKFy5OHFAmKaJ5XIZffA8T123X7s6Sf1Q1AlkWXYjbtPLZfOvXr2i7vm4IZ1jb8Px8TE8z6Nxl8v307IsdDodVKvVP3TnL5dLmKaJxWIBwzCgquqV+0cysqPGyaLMhW3bdAcsFAo0jvTixQt0u13MZjNcXFw8nJhIZgDwZTe5PNmu66Lb7UIUReRyuSvbJc/zKJVKMAzjyk1Lp9M3HuVs28Z0OsVsNos8+FQqBUmSaKD4MqIobsUxCviS43V6ekpL0g8ODh51bKvVCq1WC+PxmCa2kvEUCgWUSiWYponz83NomnajmMhiSHr+WZaFg4ODK3MhSdJGj1er1Qr9fh+DwQCqqsIwDDpmkmjdbrcxGo0wmUygqmpsx/jLrImJZVnwPA+O49aMRcdx6PZZLpdRKBSurKo8z9/pKEe6mN7FBcvz/I1JitsCib63221ks1k0Go1HSxQlycj9fh9HR0c0ZHH5Qc9msygUCvjw4QN6vR729vZuTLIlQXnbtunO+5D9K8IwxGq1Qq/Xw2AwQBAEqNVqa9+HBL4HgwEsy0Kr1UKj0dhIRfOamIiLlJQCkEaNw+EQHz58AM/zaDQasdk/DMNA13WaLvMUmUwm+Mc//oFyuYxarXbtcTdO/shmsm0bJycn+PTpE4Av1b9fZzeIokh3+vl8DtM0MZ/Pr7wvCAJMJhNomobxeAzTNLG/v/+gSbCe5+H8/Bzv3r2Druv429/+duVEBYCaHoPBAEdHR9jZ2dm8mADg4OAAqVQK7XYb//rXv+iqn81m8fr1a+Ryua3Oz7oOksUtCAJ++OEHdLtdrFYrmtlRKpVonCVO2u02Tk9PafZysViM/BmkjIVka3/r3l9nMy0WC5ydnVEHCHF8tNtt6lEFvhzlz8/PcX5+jnQ6DVmWMRwO8f79exQKBdTrderdI6lGpA4LAPb399ey3zcF2e2bzSZmsxkN2ZycnODNmzf0PjmOg1arhW63iyAI6Pf87bffsLu7S+uc4uKKmDRNQ7VaXZs4klNWLBa/KyGR8mYSS5nP5/B9H5IkQRRFhGFIm1GSeFpcDIdDtNttzOdz/Pjjj7SneBSCIMB0OkWr1YKmaXcWO8/zdLEgeZMMwyCbza65vlmWhaqqqNVqNFuAOAEURbky94IgUOeDKIprhXmb5HIKlK7r9PuQnoRknCzLQlEU1Go17Ozs0PeR1+O2m66IiWVZ5HK5R09MjYPlconj42Pqsh2NRlgul/jrX/8KXdcxm83QbrfR6XSorXBfiFfz9PQUs9kM+XweL168iDxxnudhNBqh0+nQsoi7kkqlbmXLcBwXOYeReHgNw8BwOISiKBtP7SJpZJfbpl0HcYo9VPrW9lruMRCGIXXlA18M5kwms+a+JR7MuFZUx3HQ7XbRbrehaRpevXp1ayGR32si7b/evXuH8/NzZDKZrXWyLJdLpFIplMvlyLGkp8b2JIhtAE3T8Msvv0CSJNi2jVQqhdevX1Nxua6L6XQaW9N84ln697//jWq1it3dXQiC8M0HjOxmJOm33+9jPB7Dsiya0rVNuXyXyWazmM/nsG37WbQm+CO2c4ZigqSjkLbDoijSYDN5gC3Lon0a7puRMB6PcXx8jPF4DJZlYVnWrY88pPKX9NGwbRssy0KW5UgpNQ9t0+7u7sJxHJp0vG0l7fchajbJkxYT8MUGHA6HsG17zW1KmuZ7ngdd1+H7PkzTvJebPgxD2mYL+P84TBQu1y+R49NtBakoCnzfRyqVejBRfctu+Z6RJAm7u7u3fv+TFxMA2kPhcrB0OByi3+9DURRkMhlcXFzAtu17ialSqcRq7EatBK5UKiiXy4/WT/2pkc/n8fe///3W738WYiKNGS8LZblcwvM8GIZBe9TdJZDn+z583wfP8zSD5LFIRBQvpNnlbXnyYgrDEIIgQNO0Nde3YRhwHAfT6RSWZdHfnI3CaDRCq9WCaZp4/fr1WlP+TbFcLmnxZaPRSH41Y4t48mICvnREVRRlTSy5XI6WXMiyjEwmE3lnIrU/8/k81pZhXxMEAUzThG3bmM1mGAwG6PV6kTrGJmyeJy8mhmGuTbsXBAH5fP5eu4miKKjX69fmuMWJ7/u4uLjAbDajHV5t297acv3nypMX0ya5/HtKmwyqCoKAw8NDhGGIdruNt2/fRvYSJmyeREx3IAxDjEYjuK5L67s2DTGEiaMjYftIxBQR3/cxGAxo++DlcglZliGK4ponzfM8WJYVuZEHSSq9rpSAkHjstpNETBEgWROtVgv1ep02kCHN3y+7xR3HoY6CKCiKQput3OSW3USb5IT7k4gpAqvVCqPRCDzPf7NJyF3bL9+lXilhO0jEFAHS3LBcLmM4HNJ+Aul0+souIooiarVa5IJA0uvtpl0pCcxuL4mYInC5X8Xp6Snto35dBSyJYW2ikUgipu0kEVMEOI6DLMuwbZumKBWLRViWBUVR1mwmz/Nok5Eo8DwPSZI21gosYXMkYoqI53no9XpYLBa0j/q7d+9weHi4lkE9nU5xdHSEs7OzSJ+vaRr29/dxeHj4pMoZngOJmCLi+z6azSY9xpHfrvraKZDNZvHmzRv8+OOPkT6f/Ir4TQmzf/RbWQmPSyKmiJBm/KvVilbHlsvlKxWmHMddyQe8K0EQYDweYzqd0lKRMAzRbDaxXC6pOz0J5j4uiZgiQor/eJ6nlbk7Ozsb7VgahiGtxGVZFqVSCZ7ngWVZrFar5Di4JTBhErS4E77vIwxDsCyb7AgJABIxJSTERrKkJiTERCKmhISYSMSUkBATiZgSEmIiEVNCQkwkYkpIiIlETAkJMZGIKSEhJhIxJSTERCKmhISYSMSUkBATiZgSEmLi/wDTtz3cSQT+tgAAAABJRU5ErkJggg==)\n",
        "\n",
        "Alternativa errada! Essa é a fórmula do desvio médio absoluto."
      ],
      "metadata": {
        "id": "1Mv9bTY6jADd"
      }
    },
    {
      "cell_type": "markdown",
      "source": [
        "### 08- Sobre o desvio padrão\n",
        "\n",
        "Avalie as afirmativas abaixo:\n",
        "\n",
        "1) O desvio padrão é igual a raiz quadrada da variância\n",
        "\n",
        "2) O desvio padrão é uma medida de dispersão que está na mesma unidade de medida da variável que o originou\n",
        "\n",
        "3) O desvio padrão populacional é obtido a partir da seguinte fórmula:\n",
        "\n",
        "![image.png](data:image/png;base64,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)\n",
        "\n",
        "Quais estão corretas?"
      ],
      "metadata": {
        "id": "veZ4gmWbVHFG"
      }
    },
    {
      "cell_type": "markdown",
      "source": [
        "<font color = 'green'># Resposta</font>\n",
        "\n",
        "As afirmativas 1 e 2 estão corretas\n",
        "\n",
        "\n",
        "Alternativa correta! Na afirmativa 3, o correto seria:\n",
        "\n",
        "![image.png](data:image/png;base64,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)\n",
        "\n"
      ],
      "metadata": {
        "id": "VfBk1oqXVViO"
      }
    },
    {
      "cell_type": "markdown",
      "source": [
        "### 09 - Calculando o desvio padrão #1\n",
        "\n",
        "\n",
        "Considere o dataset abaixo:"
      ],
      "metadata": {
        "id": "dEytx5h3ac3G"
      }
    },
    {
      "cell_type": "code",
      "source": [
        "dataset = pd.DataFrame({\n",
        "    'Sexo': ['H', 'M', 'M', 'M', 'M', 'H', 'H', 'H', 'M', 'M'],\n",
        "    'Idade': [53, 72, 54, 27, 30, 40, 58, 32, 44, 51]\n",
        "})\n",
        "dataset"
      ],
      "metadata": {
        "colab": {
          "base_uri": "https://localhost:8080/",
          "height": 363
        },
        "id": "d5-K30fVaoOK",
        "outputId": "d040b6fa-620c-43b0-ce37-e1818b0712de"
      },
      "execution_count": 618,
      "outputs": [
        {
          "output_type": "execute_result",
          "data": {
            "text/plain": [
              "  Sexo  Idade\n",
              "0    H     53\n",
              "1    M     72\n",
              "2    M     54\n",
              "3    M     27\n",
              "4    M     30\n",
              "5    H     40\n",
              "6    H     58\n",
              "7    H     32\n",
              "8    M     44\n",
              "9    M     51"
            ],
            "text/html": [
              "\n",
              "  <div id=\"df-ee7a1116-165d-4007-a65f-7d36a1c5af36\">\n",
              "    <div class=\"colab-df-container\">\n",
              "      <div>\n",
              "<style scoped>\n",
              "    .dataframe tbody tr th:only-of-type {\n",
              "        vertical-align: middle;\n",
              "    }\n",
              "\n",
              "    .dataframe tbody tr th {\n",
              "        vertical-align: top;\n",
              "    }\n",
              "\n",
              "    .dataframe thead th {\n",
              "        text-align: right;\n",
              "    }\n",
              "</style>\n",
              "<table border=\"1\" class=\"dataframe\">\n",
              "  <thead>\n",
              "    <tr style=\"text-align: right;\">\n",
              "      <th></th>\n",
              "      <th>Sexo</th>\n",
              "      <th>Idade</th>\n",
              "    </tr>\n",
              "  </thead>\n",
              "  <tbody>\n",
              "    <tr>\n",
              "      <th>0</th>\n",
              "      <td>H</td>\n",
              "      <td>53</td>\n",
              "    </tr>\n",
              "    <tr>\n",
              "      <th>1</th>\n",
              "      <td>M</td>\n",
              "      <td>72</td>\n",
              "    </tr>\n",
              "    <tr>\n",
              "      <th>2</th>\n",
              "      <td>M</td>\n",
              "      <td>54</td>\n",
              "    </tr>\n",
              "    <tr>\n",
              "      <th>3</th>\n",
              "      <td>M</td>\n",
              "      <td>27</td>\n",
              "    </tr>\n",
              "    <tr>\n",
              "      <th>4</th>\n",
              "      <td>M</td>\n",
              "      <td>30</td>\n",
              "    </tr>\n",
              "    <tr>\n",
              "      <th>5</th>\n",
              "      <td>H</td>\n",
              "      <td>40</td>\n",
              "    </tr>\n",
              "    <tr>\n",
              "      <th>6</th>\n",
              "      <td>H</td>\n",
              "      <td>58</td>\n",
              "    </tr>\n",
              "    <tr>\n",
              "      <th>7</th>\n",
              "      <td>H</td>\n",
              "      <td>32</td>\n",
              "    </tr>\n",
              "    <tr>\n",
              "      <th>8</th>\n",
              "      <td>M</td>\n",
              "      <td>44</td>\n",
              "    </tr>\n",
              "    <tr>\n",
              "      <th>9</th>\n",
              "      <td>M</td>\n",
              "      <td>51</td>\n",
              "    </tr>\n",
              "  </tbody>\n",
              "</table>\n",
              "</div>\n",
              "      <button class=\"colab-df-convert\" onclick=\"convertToInteractive('df-ee7a1116-165d-4007-a65f-7d36a1c5af36')\"\n",
              "              title=\"Convert this dataframe to an interactive table.\"\n",
              "              style=\"display:none;\">\n",
              "        \n",
              "  <svg xmlns=\"http://www.w3.org/2000/svg\" height=\"24px\"viewBox=\"0 0 24 24\"\n",
              "       width=\"24px\">\n",
              "    <path d=\"M0 0h24v24H0V0z\" fill=\"none\"/>\n",
              "    <path d=\"M18.56 5.44l.94 2.06.94-2.06 2.06-.94-2.06-.94-.94-2.06-.94 2.06-2.06.94zm-11 1L8.5 8.5l.94-2.06 2.06-.94-2.06-.94L8.5 2.5l-.94 2.06-2.06.94zm10 10l.94 2.06.94-2.06 2.06-.94-2.06-.94-.94-2.06-.94 2.06-2.06.94z\"/><path d=\"M17.41 7.96l-1.37-1.37c-.4-.4-.92-.59-1.43-.59-.52 0-1.04.2-1.43.59L10.3 9.45l-7.72 7.72c-.78.78-.78 2.05 0 2.83L4 21.41c.39.39.9.59 1.41.59.51 0 1.02-.2 1.41-.59l7.78-7.78 2.81-2.81c.8-.78.8-2.07 0-2.86zM5.41 20L4 18.59l7.72-7.72 1.47 1.35L5.41 20z\"/>\n",
              "  </svg>\n",
              "      </button>\n",
              "      \n",
              "  <style>\n",
              "    .colab-df-container {\n",
              "      display:flex;\n",
              "      flex-wrap:wrap;\n",
              "      gap: 12px;\n",
              "    }\n",
              "\n",
              "    .colab-df-convert {\n",
              "      background-color: #E8F0FE;\n",
              "      border: none;\n",
              "      border-radius: 50%;\n",
              "      cursor: pointer;\n",
              "      display: none;\n",
              "      fill: #1967D2;\n",
              "      height: 32px;\n",
              "      padding: 0 0 0 0;\n",
              "      width: 32px;\n",
              "    }\n",
              "\n",
              "    .colab-df-convert:hover {\n",
              "      background-color: #E2EBFA;\n",
              "      box-shadow: 0px 1px 2px rgba(60, 64, 67, 0.3), 0px 1px 3px 1px rgba(60, 64, 67, 0.15);\n",
              "      fill: #174EA6;\n",
              "    }\n",
              "\n",
              "    [theme=dark] .colab-df-convert {\n",
              "      background-color: #3B4455;\n",
              "      fill: #D2E3FC;\n",
              "    }\n",
              "\n",
              "    [theme=dark] .colab-df-convert:hover {\n",
              "      background-color: #434B5C;\n",
              "      box-shadow: 0px 1px 3px 1px rgba(0, 0, 0, 0.15);\n",
              "      filter: drop-shadow(0px 1px 2px rgba(0, 0, 0, 0.3));\n",
              "      fill: #FFFFFF;\n",
              "    }\n",
              "  </style>\n",
              "\n",
              "      <script>\n",
              "        const buttonEl =\n",
              "          document.querySelector('#df-ee7a1116-165d-4007-a65f-7d36a1c5af36 button.colab-df-convert');\n",
              "        buttonEl.style.display =\n",
              "          google.colab.kernel.accessAllowed ? 'block' : 'none';\n",
              "\n",
              "        async function convertToInteractive(key) {\n",
              "          const element = document.querySelector('#df-ee7a1116-165d-4007-a65f-7d36a1c5af36');\n",
              "          const dataTable =\n",
              "            await google.colab.kernel.invokeFunction('convertToInteractive',\n",
              "                                                     [key], {});\n",
              "          if (!dataTable) return;\n",
              "\n",
              "          const docLinkHtml = 'Like what you see? Visit the ' +\n",
              "            '<a target=\"_blank\" href=https://colab.research.google.com/notebooks/data_table.ipynb>data table notebook</a>'\n",
              "            + ' to learn more about interactive tables.';\n",
              "          element.innerHTML = '';\n",
              "          dataTable['output_type'] = 'display_data';\n",
              "          await google.colab.output.renderOutput(dataTable, element);\n",
              "          const docLink = document.createElement('div');\n",
              "          docLink.innerHTML = docLinkHtml;\n",
              "          element.appendChild(docLink);\n",
              "        }\n",
              "      </script>\n",
              "    </div>\n",
              "  </div>\n",
              "  "
            ]
          },
          "metadata": {},
          "execution_count": 618
        }
      ]
    },
    {
      "cell_type": "markdown",
      "source": [
        "Observação: Na variável Sexo, 'H' representa os homens e 'M' as mulheres.\n",
        "\n",
        "Assinale a alternativa que apresenta o valor do desvio padrão da variável Idade.\n",
        "\n",
        "Selecione uma alternativa"
      ],
      "metadata": {
        "id": "d2LJWAuFa-0B"
      }
    },
    {
      "cell_type": "code",
      "source": [
        "#Resposta \n",
        "'''C) Alternativa correta! A forma mais simples de obtermos este valor \n",
        "é com a linha de código abaixo:'''\n",
        "\n",
        "# forma mais rápida >> dataset.std()\n",
        "# melhor forma abaixo \n",
        "dataset.loc[:, 'Idade'].std()"
      ],
      "metadata": {
        "colab": {
          "base_uri": "https://localhost:8080/"
        },
        "id": "wMvKqJRobEcf",
        "outputId": "36503de0-f413-4c8f-8afc-5f69ce02e4d7"
      },
      "execution_count": 619,
      "outputs": [
        {
          "output_type": "execute_result",
          "data": {
            "text/plain": [
              "14.184890239656813"
            ]
          },
          "metadata": {},
          "execution_count": 619
        }
      ]
    },
    {
      "cell_type": "markdown",
      "source": [
        "### Calculando o desvio padrão #2\n",
        "\n",
        "Considere o mesmo dataset do problema anterior.\n",
        "\n",
        "Observação: Na variável Sexo, 'H' representa os homens e 'M' as mulheres.\n",
        "\n",
        "Assinale a alternativa que apresenta o valor do desvio padrão da variável Idade somente para as mulheres.\n",
        "\n",
        "Selecione uma alternativa"
      ],
      "metadata": {
        "id": "efhY3RRkcsif"
      }
    },
    {
      "cell_type": "code",
      "source": [
        "# Resposta\n",
        "dataset.groupby(['Sexo']).std().loc['M']"
      ],
      "metadata": {
        "colab": {
          "base_uri": "https://localhost:8080/"
        },
        "id": "PwPytCrsdpA8",
        "outputId": "adc7c0de-1bb7-413e-ec0e-294b34d00307"
      },
      "execution_count": 620,
      "outputs": [
        {
          "output_type": "execute_result",
          "data": {
            "text/plain": [
              "Idade    16.64532\n",
              "Name: M, dtype: float64"
            ]
          },
          "metadata": {},
          "execution_count": 620
        }
      ]
    },
    {
      "cell_type": "markdown",
      "source": [
        "---"
      ],
      "metadata": {
        "id": "QWDWcq2Wm3G6"
      }
    },
    {
      "cell_type": "markdown",
      "source": [
        "## <font color = 'yellow'>Aula 01 - O que aprendemos?</font>\n",
        "\n",
        "Nesta aula, aprendemos:\n",
        "\n",
        "* A identificar a versão de uma biblioteca do Python.\n",
        "* A ler um `dataset` no formato CSV e criar um `DataFrame pandas`, com o conteúdo deste dataset.\n",
        "* A identificar e classificar as variáveis de um dataset como `quantitativas ou qualitativas.`\n",
        "* Que as `variáveis qualitativas` se dividem em `ordinais e nominais.`\n",
        "* Que as `variáveis quantitativas` se dividem em `discretas e contínuas.`"
      ],
      "metadata": {
        "id": "wTALwy-gnt1b"
      }
    },
    {
      "cell_type": "markdown",
      "source": [
        "## <font color = 'yellow'>Aula 02 - O que aprendemos?</font>\n",
        "\n",
        "Nesta aula, aprendemos:\n",
        "\n",
        "* A criar distribuições de frequências (tabelas de frequências) com a função `value_counts() do pandas.`\n",
        "* A criar distribuições de frequências, com o cruzamento de duas variáveis, utilizando a função `crosstab() do pandas.`\n",
        "* A criar distribuições de frequências, com classes personalizadas, utilizando as funções `value_counts() e cut() conjuntamente.`\n",
        "* A utilizar a `regra de Sturges` para obter um número de classes ótimo para determinado tamanho de amostra.\n",
        "* A plotar o `histograma`, que é a representação gráfica de uma distribuição de frequências."
      ],
      "metadata": {
        "id": "hnIv3CzKnHi1"
      }
    },
    {
      "cell_type": "markdown",
      "source": [
        "## <font color = 'yellow'> Aula 03 -  O que aprendemos?</font>\n",
        "\n",
        "\n",
        "Nesta aula, aprendemos:\n",
        "\n",
        "* A calcular as principais medidas de tendência central: `média aritmética, mediana e moda.`\n",
        "* A identificar características importantes de uma distribuição, como a `presença de assimetria e sua direção` a partir da relação entre as medidas de tendência central."
      ],
      "metadata": {
        "id": "OIL0Hjdyq-h9"
      }
    },
    {
      "cell_type": "markdown",
      "source": [
        "## <font color = 'yellow'>Aula 04 - O que aprendemos?</font>\n",
        "\n",
        "Nesta aula, aprendemos:\n",
        "\n",
        "* A obter os `quartis, decis e percentis` de uma distribuição\n",
        "Também conhecidas como medidas separatrizes, pois dividem uma distribuição em partes iguais.\n",
        "* A construir e interpretar um `boxplot`, com a utilização dos `quartis.`"
      ],
      "metadata": {
        "id": "Jg5LM8mSrZ96"
      }
    },
    {
      "cell_type": "markdown",
      "source": [
        "## <font color = 'yellow'>Aula 05 - O que aprendemos?</font>\n",
        "\n",
        "Nesta aula, aprendemos:\n",
        "\n",
        "* A obter três medidas de dispersão importantes. `O desvio médio absoluto, a variância e o desvio padrão.`\n",
        "* Que, embora as medidas de posição forneçam uma sumarização bastante importante dos dados, elas `podem não ser suficientes` para caracterizar conjuntos distintos, especialmente quando as observações de determinada distribuição apresentarem `dados muito dispersos`\n",
        "Por isso, para complementar nossas análises e poder caracterizar melhor o conjunto de dados, utilizamos as `medidas de dispersão.`"
      ],
      "metadata": {
        "id": "mp4eo6pTeoJb"
      }
    }
  ],
  "metadata": {
    "colab": {
      "name": "Curso_de_Estatística_Parte_1.ipynb",
      "provenance": [],
      "collapsed_sections": [],
      "toc_visible": true,
      "include_colab_link": true
    },
    "kernelspec": {
      "display_name": "Python 3",
      "language": "python",
      "name": "python3"
    },
    "language_info": {
      "codemirror_mode": {
        "name": "ipython",
        "version": 3
      },
      "file_extension": ".py",
      "mimetype": "text/x-python",
      "name": "python",
      "nbconvert_exporter": "python",
      "pygments_lexer": "ipython3",
      "version": "3.6.5"
    }
  },
  "nbformat": 4,
  "nbformat_minor": 0
}